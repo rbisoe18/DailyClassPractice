{
 "cells": [
  {
   "cell_type": "code",
   "execution_count": 1,
   "metadata": {},
   "outputs": [
    {
     "name": "stdout",
     "output_type": "stream",
     "text": [
      "Valid Name\n"
     ]
    }
   ],
   "source": [
    "import logging\n",
    "\n",
    "logging.basicConfig(filename = 'demo.log',level = logging.DEBUG)\n",
    "\n",
    "def namecheck(name):\n",
    "    if len(name) < 2:\n",
    "        logging.debug(\"Check for name length\")\n",
    "        return \"Invalid Name\"\n",
    "    elif name.isspace():\n",
    "        logging.debug(\"Check for name space\")\n",
    "        return \"Invalid Name\"\n",
    "    elif name.isalpha():\n",
    "        logging.debug(\"Check for name is alphabet\")\n",
    "        return \"Valid Name\"\n",
    "    elif name.replace(' ','').isalpha():\n",
    "        logging.debug(\"Check for full name\")\n",
    "        return \"Valid Name\"\n",
    "    else:\n",
    "        logging.debug(\"Failed all Checks\")\n",
    "        return \"Invalid name\"\n",
    "\n",
    "result = namecheck('rajat bisoe')\n",
    "print(result)"
   ]
  },
  {
   "cell_type": "code",
   "execution_count": 2,
   "metadata": {},
   "outputs": [
    {
     "name": "stdout",
     "output_type": "stream",
     "text": [
      "Valid Name\n"
     ]
    }
   ],
   "source": [
    "import logging\n",
    "\n",
    "logging.basicConfig(filename = 'demo1.log',level = logging.INFO)\n",
    "\n",
    "def namecheck(name):\n",
    "    if len(name) < 2:\n",
    "        logging.debug(\"Check for name length\")\n",
    "        return \"Invalid Name\"\n",
    "    elif name.isspace():\n",
    "        logging.debug(\"Check for name space\")\n",
    "        return \"Invalid Name\"\n",
    "    elif name.isalpha():\n",
    "        logging.debug(\"Check for name is alphabet\")\n",
    "        return \"Valid Name\"\n",
    "    elif name.replace(' ','').isalpha():\n",
    "        logging.debug(\"Check for full name\")\n",
    "        return \"Valid Name\"\n",
    "    else:\n",
    "        logging.debug(\"Failed all Checks\")\n",
    "        return \"Invalid name\"\n",
    "\n",
    "result = namecheck('rajat bisoe')\n",
    "print(result)"
   ]
  },
  {
   "attachments": {},
   "cell_type": "markdown",
   "metadata": {},
   "source": [
    "### Different Levels"
   ]
  },
  {
   "cell_type": "code",
   "execution_count": 3,
   "metadata": {},
   "outputs": [
    {
     "name": "stdout",
     "output_type": "stream",
     "text": [
      "Valid Name\n"
     ]
    }
   ],
   "source": [
    "import logging\n",
    "\n",
    "logging.basicConfig(filename = 'demo22.log',level = logging.INFO,format = '%(asctime)s - %(levelname)s - %(message)s')\n",
    "\n",
    "def namecheck(name):\n",
    "    if len(name) < 2:\n",
    "        logging.debug(\"Check for name length\")\n",
    "        return \"Invalid Name\"\n",
    "    elif name.isspace():\n",
    "        logging.debug(\"Check for name space\")\n",
    "        return \"Invalid Name\"\n",
    "    elif name.isalpha():\n",
    "        logging.debug(\"Check for name is alphabet\")\n",
    "        return \"Valid Name\"\n",
    "    elif name.replace(' ','').isalpha():\n",
    "        logging.debug(\"Check for full name\")\n",
    "        return \"Valid Name\"\n",
    "    else:\n",
    "        logging.debug(\"Failed all Checks\")\n",
    "        return \"Invalid name\"\n",
    "\n",
    "result = namecheck('rajat')\n",
    "print(result)"
   ]
  },
  {
   "cell_type": "code",
   "execution_count": 4,
   "metadata": {},
   "outputs": [],
   "source": [
    "import os"
   ]
  },
  {
   "cell_type": "code",
   "execution_count": 5,
   "metadata": {},
   "outputs": [
    {
     "data": {
      "text/plain": [
       "'d:\\\\Pycharm\\\\myproject\\\\DailyClassPractice'"
      ]
     },
     "execution_count": 5,
     "metadata": {},
     "output_type": "execute_result"
    }
   ],
   "source": [
    "pwd()"
   ]
  },
  {
   "attachments": {},
   "cell_type": "markdown",
   "metadata": {},
   "source": [
    "1. create logger in your code.\n",
    "2. create a function which can take any number of inputs as an arguments and will return sum\n",
    "3. capture user input in log file.\n",
    "4. Read a log file from python code and show it in a console"
   ]
  },
  {
   "cell_type": "code",
   "execution_count": 8,
   "metadata": {},
   "outputs": [],
   "source": [
    "import logging\n",
    "logging.basicConfig(filename = 'demo32.log',level = logging.INFO,format = '%(asctime)s - %(levelname)s - %(message)s')\n",
    "\n",
    "def sumall(l):\n",
    "    logging.debug('checking for name is alphabet')\n",
    "    return sum(l)\n"
   ]
  },
  {
   "cell_type": "code",
   "execution_count": 9,
   "metadata": {},
   "outputs": [
    {
     "data": {
      "text/plain": [
       "14"
      ]
     },
     "execution_count": 9,
     "metadata": {},
     "output_type": "execute_result"
    }
   ],
   "source": [
    "sumall([1,2,3,4,4])"
   ]
  },
  {
   "attachments": {},
   "cell_type": "markdown",
   "metadata": {},
   "source": [
    "-----"
   ]
  },
  {
   "cell_type": "code",
   "execution_count": 18,
   "metadata": {},
   "outputs": [
    {
     "name": "stdout",
     "output_type": "stream",
     "text": [
      "b is greater than a\n"
     ]
    }
   ],
   "source": [
    "import logging \n",
    "logging.basicConfig(filename = 'use_log.log',level = logging.INFO,format = '%(asctime)s - %(levelname)s - %(message)s')\n",
    "\n",
    "a = 2\n",
    "b = 3\n",
    "\n",
    "if a > b:\n",
    "    logging.debug('Checking a is greater than b or not')\n",
    "    print(\"a is greater than b\")\n",
    "else:\n",
    "    logging.debug('Checking b is greater than a or not')\n",
    "    print(\"b is greater than a\")"
   ]
  },
  {
   "attachments": {},
   "cell_type": "markdown",
   "metadata": {},
   "source": [
    "-----"
   ]
  },
  {
   "cell_type": "code",
   "execution_count": 12,
   "metadata": {},
   "outputs": [
    {
     "data": {
      "text/plain": [
       "28"
      ]
     },
     "execution_count": 12,
     "metadata": {},
     "output_type": "execute_result"
    }
   ],
   "source": [
    "import logging \n",
    "logging.basicConfig(filename = 'summ.log',level = logging.INFO,format = '%(asctime)s - %(levelname)s - %(message)s')\n",
    "\n",
    "def summ():\n",
    "    a = int(input(\"Enter a:\"))\n",
    "    b = int(input(\"Enter b:\"))\n",
    "\n",
    "    c = a+b\n",
    "\n",
    "    logging.debug('sum is:')\n",
    "    return c\n",
    "\n",
    "summ()"
   ]
  },
  {
   "attachments": {},
   "cell_type": "markdown",
   "metadata": {},
   "source": [
    "----"
   ]
  },
  {
   "cell_type": "code",
   "execution_count": 21,
   "metadata": {},
   "outputs": [
    {
     "data": {
      "text/plain": [
       "15"
      ]
     },
     "execution_count": 21,
     "metadata": {},
     "output_type": "execute_result"
    }
   ],
   "source": [
    "import logging \n",
    "logging.basicConfig(filename = 'sum2.log',level = logging.INFO,format = '%(asctime)s - %(levelname)s - %(message)s')\n",
    "\n",
    "def summm(*args):\n",
    "    num = 0\n",
    "    for i in args:\n",
    "        num = num + i\n",
    "        logging.debug(num)\n",
    "    return num\n",
    "\n",
    "summm(1,2,3,4,5)"
   ]
  },
  {
   "cell_type": "code",
   "execution_count": 20,
   "metadata": {},
   "outputs": [
    {
     "data": {
      "text/plain": [
       "10"
      ]
     },
     "execution_count": 20,
     "metadata": {},
     "output_type": "execute_result"
    }
   ],
   "source": [
    "import logging \n",
    "logging.basicConfig(filename = 'ex.log',level = logging.INFO,format = '%(asctime)s - %(levelname)s - %(message)s')\n",
    "\n",
    "def test(*args):\n",
    "    s = 0\n",
    "    for i in args:\n",
    "        try:\n",
    "            if type(i) == int:\n",
    "                s = s + i\n",
    "                logging.debug(s)\n",
    "        except Exception as e:\n",
    "            logging.debug(e)\n",
    "    return s\n",
    "test(1,2,3,4)\n"
   ]
  },
  {
   "cell_type": "code",
   "execution_count": null,
   "metadata": {},
   "outputs": [],
   "source": []
  }
 ],
 "metadata": {
  "kernelspec": {
   "display_name": "Python 3",
   "language": "python",
   "name": "python3"
  },
  "language_info": {
   "codemirror_mode": {
    "name": "ipython",
    "version": 3
   },
   "file_extension": ".py",
   "mimetype": "text/x-python",
   "name": "python",
   "nbconvert_exporter": "python",
   "pygments_lexer": "ipython3",
   "version": "3.11.1"
  },
  "orig_nbformat": 4,
  "vscode": {
   "interpreter": {
    "hash": "8e5c125784d45a8dea42e807f07f9302b86f571c035b8eb88ba7ceb058367caf"
   }
  }
 },
 "nbformat": 4,
 "nbformat_minor": 2
}
