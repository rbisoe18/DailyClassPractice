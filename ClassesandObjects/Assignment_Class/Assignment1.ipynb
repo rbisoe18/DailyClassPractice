{
 "cells": [
  {
   "cell_type": "code",
   "execution_count": null,
   "metadata": {},
   "outputs": [],
   "source": [
    "1. Write a class called BankAccount that has the following:\n",
    "        • A field called name that stores the name of the account holder.\n",
    "        • A field called amount that stores the amount of money in the account.\n",
    "        • A field called interest_rate that stores the account’s interest rate (as a percentage).\n",
    "        • A constructor that just sets the values of the three fields above.\n",
    "        • A method called apply_interest() that takes no arguments and applies the interest to the\n",
    "        account. It should just modify the amount field and not return anything. For instance, if the\n",
    "        account has $1000 in it and the interest rate is 3%, then the amount variable should be changed\n",
    "        to $1030 ($1000 + 3% interest).\n",
    "        Then test the class, by creating a new BankAccount object for a user named Juan De Hattatime who\n",
    "        has $1000 at 3% interest. Then do the following:\n",
    "        • Use the apply_interest() method to apply the interest to the account.\n",
    "        • Print out how much money is now in the account after applying the interest.\n",
    "        • Change the account’s interest rate to 2%.\n",
    "        • Use the apply_interest() method to apply the interest to the account again.\n",
    "        • Print out how much money is now in the account after applying the interest again."
   ]
  },
  {
   "cell_type": "code",
   "execution_count": 3,
   "metadata": {},
   "outputs": [
    {
     "name": "stdout",
     "output_type": "stream",
     "text": [
      "New amount after applying interest: 1030.0\n",
      "New amount after applying interest again: 1050.6\n"
     ]
    }
   ],
   "source": [
    "class BankAccount:\n",
    "    def __init__(self, name, amount, interest_rate):\n",
    "        self.name = name\n",
    "        self.amount = amount\n",
    "        self.interest_rate = interest_rate\n",
    "    \n",
    "    def apply_interest(self):\n",
    "        interest = self.amount * (self.interest_rate / 100)\n",
    "        self.amount += interest\n",
    "\n",
    "juan_account = BankAccount(\"Juan De Hattatime\", 1000, 3)\n",
    "\n",
    "juan_account.apply_interest()\n",
    "print(\"New amount after applying interest:\", juan_account.amount)\n",
    "\n",
    "juan_account.interest_rate = 2\n",
    "\n",
    "juan_account.apply_interest()\n",
    "print(\"New amount after applying interest again:\", juan_account.amount)\n",
    "\n"
   ]
  },
  {
   "cell_type": "code",
   "execution_count": null,
   "metadata": {},
   "outputs": [],
   "source": [
    "2. Write a class called Item that represents an item for sale. It should have the following:\n",
    "      • Fields representing the name and price of the item\n",
    "      • A constructor that sets those fields,\n",
    "      • A __str__() method that returns a string containing the item name and price, with the price\n",
    "      formatted to exactly 2 decimal places\n",
    "      Test the class by creating a new item object and printing it out"
   ]
  },
  {
   "cell_type": "code",
   "execution_count": 11,
   "metadata": {},
   "outputs": [
    {
     "name": "stdout",
     "output_type": "stream",
     "text": [
      "Item: Sugar and price is: 120.234\n"
     ]
    }
   ],
   "source": [
    "class Item:\n",
    "\n",
    "    def __init__(self,name,price_of_item):\n",
    "        self.name = name\n",
    "        self.price_of_item = price_of_item\n",
    "\n",
    "    def __str__(self):\n",
    "        return f\"Item: {self.name} and price is: {self.price_of_item}\"\n",
    "    \n",
    "item1 = Item(\"Sugar\",120.234)\n",
    "print(item1)"
   ]
  },
  {
   "cell_type": "code",
   "execution_count": null,
   "metadata": {},
   "outputs": [],
   "source": [
    "3. Write a class called ShoppingCart that might be used in an online store. It should have the following:\n",
    "      • A list of Item objects that represents the items in the shopping cart\n",
    "      • A constructor that creates an empty list of items (the constructor should take no arguments ex\u0002cept self)\n",
    "      • A method called add() that takes a name and a price and adds an Item object with that name\n",
    "      and price to the shopping cart\n",
    "      • A method called total() that takes no arguments and returns the total cost of the items in the\n",
    "      cart\n",
    "      34\n",
    "      • A method called remove_items() that takes an item name (a string) and removes any Item\n",
    "      objects with that name from the shopping cart. It shouldn’t return anything.\n",
    "      • A __str__() method that returns a string containing info on all the items in the shopping cart\n",
    "      Then test out the shopping cart as follows: (1) create a shopping cart; (2) add several items to it; (3)\n",
    "      print the cart’s total cost (using the total() method); (4) remove one of the items types; (5) print out\n",
    "      the cart"
   ]
  },
  {
   "cell_type": "code",
   "execution_count": 25,
   "metadata": {},
   "outputs": [
    {
     "name": "stdout",
     "output_type": "stream",
     "text": [
      "Item: T-shirt and price is: 19.99\n",
      "Item: Jeans and price is: 49.99\n",
      "Item: Shoes and price is: 79.99\n"
     ]
    }
   ],
   "source": [
    "class ShoppingCart:\n",
    "    def __init__(self):\n",
    "        self.items = []\n",
    "        \n",
    "    def add(self, name, price):\n",
    "        item = Item(name, price)\n",
    "        self.items.append(item)\n",
    "        \n",
    "    def total(self):\n",
    "        return sum(item.price for item in self.items)\n",
    "    \n",
    "    def remove_items(self, name):\n",
    "        self.items = [item for item in self.items if item.name != name]\n",
    "        \n",
    "    def __str__(self):\n",
    "        item_strings = [str(item) for item in self.items]\n",
    "        return \"\\n\".join(item_strings)\n",
    "\n",
    "cart = ShoppingCart()\n",
    "cart.add(\"T-shirt\", 19.99)\n",
    "cart.add(\"Jeans\", 49.99)\n",
    "cart.add(\"Shoes\", 79.99)\n",
    "# print(f\"Total cost: ${cart.total()}\")\n",
    "# cart.remove_items(\"Jeans\")\n",
    "# print(\"Items in cart:\")\n",
    "print(cart)\n",
    "\n"
   ]
  },
  {
   "cell_type": "code",
   "execution_count": null,
   "metadata": {},
   "outputs": [],
   "source": [
    "4. Write a class called RestaurantCheck. It should have the following:\n",
    "      • Fields called check_number, sales_tax_percent, subtotal, table_number, and server_name\n",
    "      representing an identification for the check, the bill without tax added, the sales tax percentage,\n",
    "      the table number, and the name of the server.\n",
    "      • A constructor that sets the values of all four fields\n",
    "      • A method called calculate_total that takes no arguments (besides self) and returns the total\n",
    "      bill including sales tax.\n",
    "      • A method called print_check that writes to a file called check###.txt, where ### is the check\n",
    "      number and writes information about the check to that file, formatted like below:\n",
    "      Check Number: 443\n",
    "      Sales tax: 6.0%\n",
    "      Subtotal: $23.14\n",
    "      Total: $24.53\n",
    "      Table Number: 17\n",
    "      Server: Sonic the Hedgehog\n",
    "      Test the class by creating a RestaurantCheck object and calling the print_check() method"
   ]
  },
  {
   "cell_type": "code",
   "execution_count": 29,
   "metadata": {},
   "outputs": [
    {
     "name": "stdout",
     "output_type": "stream",
     "text": [
      "Check 443 has been printed to file check443.txt\n"
     ]
    }
   ],
   "source": [
    "class RestaurantCheck:\n",
    "\n",
    "    def __init__(self,check_number,sales_tax_percent,subtotal,table_number,server_name):\n",
    "        self.check_number = check_number\n",
    "        self.sales_tax_percent = sales_tax_percent\n",
    "        self.subtotal = subtotal\n",
    "        self.table_number = table_number\n",
    "        self.server_name = server_name\n",
    "\n",
    "    def calculate_total(self):\n",
    "        total = self.subtotal + self.subtotal * (self.sales_tax_percent /100 )\n",
    "        return total\n",
    "    \n",
    "    def print_check(self):\n",
    "        total = self.calculate_total()\n",
    "        filename = f\"check{self.check_number}.txt\"\n",
    "\n",
    "        with open(filename, \"w\") as f:\n",
    "            f.write(f\"Check Number: {self.check_number}\\n\")\n",
    "            f.write(f\"Sales tax: {self.sales_tax_percent}%\\n\")\n",
    "            f.write(f\"Subtotal: ${self.subtotal:.2f}\\n\")\n",
    "            f.write(f\"Total: ${total}\\n\")\n",
    "            f.write(f\"Table Number: {self.table_number}\\n\")\n",
    "            f.write(f\"Server: {self.server_name}\\n\")\n",
    "        print(f\"Check {self.check_number} has been printed to file {filename}\")\n",
    "\n",
    "rc = RestaurantCheck(443, 6, 23.14, 17, \"Sonic the Hedgehog\")\n",
    "rc.print_check()\n"
   ]
  },
  {
   "cell_type": "code",
   "execution_count": null,
   "metadata": {},
   "outputs": [],
   "source": [
    "5. Write a class called Ticket that has the following:\n",
    "      • A field cost for the price of the ticket and a string field time for the start time of the event\n",
    "      (assume times are in 24-hour format, like '18:35')\n",
    "      • A constructor that sets those variables\n",
    "      • A __str__() method that returns a string of the form Ticket(<cost>, <time>), where\n",
    "      <cost> and <time> are replaced with the values of the cost and time fields.\n",
    "      • A method called is_evening_time() that returns True or False, depending on whether the\n",
    "      time falls in the range from 18:00 to 23:59.\n",
    "      • A method called bulk_discount() that takes an integer n and returns the discount for buying n\n",
    "      tickets. There should be a 10% discount for buying 5 to 9 tickets, and a 20% discount for buying\n",
    "      10 or more. Otherwise, there is no discount. Return these percentages as integers.\n",
    "      Test the class by creating a Ticket item, printing it, calling the is_evening_time() method, and\n",
    "      calling the bulk_discount() method"
   ]
  },
  {
   "cell_type": "code",
   "execution_count": 30,
   "metadata": {},
   "outputs": [
    {
     "name": "stdout",
     "output_type": "stream",
     "text": [
      "Ticket(15.5, 19:30)\n",
      "Is it evening time? True\n",
      "Bulk discount for 7 tickets: 10\n"
     ]
    }
   ],
   "source": [
    "class Ticket:\n",
    "    def __init__(self, cost, time):\n",
    "        self.cost = cost\n",
    "        self.time = time\n",
    "        \n",
    "    def __str__(self):\n",
    "        return f\"Ticket({self.cost}, {self.time})\"\n",
    "    \n",
    "    def is_evening_time(self):\n",
    "        hour = int(self.time[:2])\n",
    "        if hour >= 18 and hour <= 23:\n",
    "            return True\n",
    "        else:\n",
    "            return False\n",
    "    \n",
    "    def bulk_discount(self, n):\n",
    "        if n >= 5 and n <= 9:\n",
    "            return 10\n",
    "        elif n >= 10:\n",
    "            return 20\n",
    "        else:\n",
    "            return 0\n",
    "\n",
    "t = Ticket(15.50, '19:30')\n",
    "print(t)\n",
    "print(\"Is it evening time?\", t.is_evening_time())\n",
    "print(\"Bulk discount for 7 tickets:\", t.bulk_discount(7))\n",
    "\n"
   ]
  }
 ],
 "metadata": {
  "kernelspec": {
   "display_name": "Python 3",
   "language": "python",
   "name": "python3"
  },
  "language_info": {
   "codemirror_mode": {
    "name": "ipython",
    "version": 3
   },
   "file_extension": ".py",
   "mimetype": "text/x-python",
   "name": "python",
   "nbconvert_exporter": "python",
   "pygments_lexer": "ipython3",
   "version": "3.11.1"
  },
  "orig_nbformat": 4
 },
 "nbformat": 4,
 "nbformat_minor": 2
}
