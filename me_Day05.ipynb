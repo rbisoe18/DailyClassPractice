{
  "cells": [
    {
      "cell_type": "markdown",
      "metadata": {
        "id": "wLrK7c1T64jk"
      },
      "source": [
        "# AGENDA\n",
        "1. Operators\n",
        "  - Arithmatic\n",
        "2. String methods\n",
        "3. Control flow statements\n"
      ]
    },
    {
      "cell_type": "markdown",
      "metadata": {
        "id": "2mjEBjNvJXh7"
      },
      "source": [
        "### **Arithmatic Operators**\n",
        "\n",
        "|Operation|Meaning|\n",
        "|:-:|:-:|\n",
        "| **+** |addition|\n",
        "| **-** |subtraction|\n",
        "| **\\*** |multiplication|\n",
        "| **/** |true division|\n",
        "| **//** |integer division|\n",
        "| **%** |the modulo operator|\n",
        "\n",
        "\n",
        "Here `+`, `-`, `*`, `/` are regular arithmatic operators. Lets look at the `//` and `%` operators\n",
        "\n",
        "Usecase or examples - \n",
        "    \n",
        "```python\n",
        "var_a = 5\n",
        "var_b = 25\n",
        "integer_division = var_b // var_a\n",
        "print(f\"integer division: {var_b}/{var_a}={integer_division}\")\n",
        "```\n",
        "\n",
        "OUTPUT: integer division: 25/5=5\n",
        "\n",
        "```python\n",
        "var_a = 3\n",
        "var_b = 25\n",
        "integer_division = var_b // var_a\n",
        "print(f\"integer division: {var_b}/{var_a}={integer_division}\")\n",
        "```\n",
        "\n",
        "OUTPUT: integer division: 25/3=8\n",
        "\n",
        "```python\n",
        "var_a = 5\n",
        "var_b = 25\n",
        "remainder = var_b % var_a\n",
        "print(f\"remainder: {var_b}/{var_a} is {remainder}\")\n",
        "```\n",
        "\n",
        "OUTPUT: remainder: 25/5 is 0\n",
        "\n",
        "```python\n",
        "var_a = 3\n",
        "var_b = 25\n",
        "remainder = var_b % var_a\n",
        "print(f\"remainder: {var_b}/{var_a} is {remainder}\")\n",
        "```\n",
        "\n",
        "OUTPUT: remainder: 25/3 is 1\n",
        "\n"
      ]
    },
    {
      "cell_type": "code",
      "execution_count": null,
      "metadata": {
        "colab": {
          "base_uri": "https://localhost:8080/"
        },
        "id": "E3Aj0f42Jics",
        "outputId": "7af073c6-d3a5-4de6-80b8-faa7267f63e1"
      },
      "outputs": [
        {
          "data": {
            "text/plain": [
              "45"
            ]
          },
          "execution_count": 1,
          "metadata": {},
          "output_type": "execute_result"
        }
      ],
      "source": [
        "A=22\n",
        "B=23\n",
        "\n",
        "A+B"
      ]
    },
    {
      "cell_type": "code",
      "execution_count": null,
      "metadata": {
        "colab": {
          "base_uri": "https://localhost:8080/"
        },
        "id": "NU0Cia0vJorb",
        "outputId": "2d46e867-e1c8-426a-f67b-3e5a38fbf199"
      },
      "outputs": [
        {
          "data": {
            "text/plain": [
              "-1"
            ]
          },
          "execution_count": 2,
          "metadata": {},
          "output_type": "execute_result"
        }
      ],
      "source": [
        "A-B"
      ]
    },
    {
      "cell_type": "code",
      "execution_count": null,
      "metadata": {
        "colab": {
          "base_uri": "https://localhost:8080/"
        },
        "id": "st1v0CCoJzJj",
        "outputId": "78da1d59-914d-4fda-c847-44d0a976bd1d"
      },
      "outputs": [
        {
          "data": {
            "text/plain": [
              "0.9565217391304348"
            ]
          },
          "execution_count": 3,
          "metadata": {},
          "output_type": "execute_result"
        }
      ],
      "source": [
        "A/B # True Division"
      ]
    },
    {
      "cell_type": "code",
      "execution_count": 3,
      "metadata": {
        "colab": {
          "base_uri": "https://localhost:8080/"
        },
        "id": "3BsbPJOEJ5Hf",
        "outputId": "e414d591-560f-475c-9bb7-870992e84fd6"
      },
      "outputs": [
        {
          "data": {
            "text/plain": [
              "2"
            ]
          },
          "execution_count": 3,
          "metadata": {},
          "output_type": "execute_result"
        }
      ],
      "source": [
        "a = 5\n",
        "b = 2\n",
        "\n",
        "# A//B #Integer Division | Gives Quotent\n",
        "a//b"
      ]
    },
    {
      "cell_type": "code",
      "execution_count": 4,
      "metadata": {
        "colab": {
          "base_uri": "https://localhost:8080/"
        },
        "id": "GZqE9_EyKFqH",
        "outputId": "c1fdf6cd-a33f-4733-8a1f-9b8d65f70254"
      },
      "outputs": [
        {
          "data": {
            "text/plain": [
              "2"
            ]
          },
          "execution_count": 4,
          "metadata": {},
          "output_type": "execute_result"
        }
      ],
      "source": [
        "A=5\n",
        "B=2\n",
        "\n",
        "A//B # Provides quotent"
      ]
    },
    {
      "cell_type": "code",
      "execution_count": null,
      "metadata": {
        "colab": {
          "base_uri": "https://localhost:8080/"
        },
        "id": "MkYahUdLMANJ",
        "outputId": "7626d63e-f16e-4ecb-c2ed-ad3b23675d84"
      },
      "outputs": [
        {
          "data": {
            "text/plain": [
              "1"
            ]
          },
          "execution_count": 7,
          "metadata": {},
          "output_type": "execute_result"
        }
      ],
      "source": [
        "A%B  # Modulo | It provides reminder"
      ]
    },
    {
      "cell_type": "code",
      "execution_count": null,
      "metadata": {
        "colab": {
          "base_uri": "https://localhost:8080/"
        },
        "id": "PvnQphTrJU0v",
        "outputId": "394e7c65-7f58-4d23-86f3-22debe46043f"
      },
      "outputs": [
        {
          "data": {
            "text/plain": [
              "0"
            ]
          },
          "execution_count": 8,
          "metadata": {},
          "output_type": "execute_result"
        }
      ],
      "source": [
        "A=4\n",
        "B=2\n",
        "\n",
        "A%B"
      ]
    },
    {
      "cell_type": "code",
      "execution_count": null,
      "metadata": {
        "colab": {
          "base_uri": "https://localhost:8080/"
        },
        "id": "xK2gVr0rM6SA",
        "outputId": "c00e783f-f2f7-4606-ce5a-e9026dfd32e1"
      },
      "outputs": [
        {
          "name": "stdout",
          "output_type": "stream",
          "text": [
            "A is not divisible by B\n"
          ]
        }
      ],
      "source": [
        "A=55\n",
        "B=2\n",
        "\n",
        "if A % B == 0:\n",
        "  print(\"A is divisible by B\")\n",
        "else:\n",
        "  print(\"A is not divisible by B\")"
      ]
    },
    {
      "cell_type": "code",
      "execution_count": null,
      "metadata": {
        "colab": {
          "base_uri": "https://localhost:8080/"
        },
        "id": "OV9lonPHNKL5",
        "outputId": "7c8ad19b-2bcc-4f66-99ea-bc5b28e917b6"
      },
      "outputs": [
        {
          "name": "stdout",
          "output_type": "stream",
          "text": [
            "A is divisible by B\n"
          ]
        }
      ],
      "source": [
        "A=54\n",
        "B=2\n",
        "\n",
        "if A % B == 0:\n",
        "  print(\"A is divisible by B\")\n",
        "else:\n",
        "  print(\"A is not divisible by B\")"
      ]
    },
    {
      "cell_type": "code",
      "execution_count": null,
      "metadata": {
        "colab": {
          "base_uri": "https://localhost:8080/"
        },
        "id": "MIaPDlBONTFE",
        "outputId": "cf9cdab5-0f1c-4577-cb1e-23e163c7d632"
      },
      "outputs": [
        {
          "name": "stdout",
          "output_type": "stream",
          "text": [
            "A is divisible by B\n"
          ]
        }
      ],
      "source": [
        "A=54\n",
        "B=3\n",
        "\n",
        "if A % B == 0:\n",
        "  print(\"A is divisible by B\")\n",
        "else:\n",
        "  print(\"A is not divisible by B\")"
      ]
    },
    {
      "cell_type": "code",
      "execution_count": null,
      "metadata": {
        "colab": {
          "base_uri": "https://localhost:8080/"
        },
        "id": "uaEp65aiNZpm",
        "outputId": "e517c480-e616-4aec-80c1-e8aa555d225d"
      },
      "outputs": [
        {
          "name": "stdout",
          "output_type": "stream",
          "text": [
            "A is not divisible by B\n"
          ]
        }
      ],
      "source": [
        "A=55\n",
        "B=3\n",
        "\n",
        "if A % B == 0:\n",
        "  print(\"A is divisible by B\")\n",
        "else:\n",
        "  print(\"A is not divisible by B\")"
      ]
    },
    {
      "cell_type": "code",
      "execution_count": null,
      "metadata": {
        "colab": {
          "base_uri": "https://localhost:8080/"
        },
        "id": "6bZqI9e5JUcv",
        "outputId": "97e83cfd-5ba5-4263-fde3-a3a1ace6e34f"
      },
      "outputs": [
        {
          "data": {
            "text/plain": [
              "2.0"
            ]
          },
          "execution_count": 14,
          "metadata": {},
          "output_type": "execute_result"
        }
      ],
      "source": [
        "# finding Roots\n",
        "\n",
        "A=4\n",
        "\n",
        "A**(1/2)"
      ]
    },
    {
      "cell_type": "markdown",
      "metadata": {
        "id": "lICSzBPTN4U1"
      },
      "source": [
        "### String Method"
      ]
    },
    {
      "cell_type": "markdown",
      "metadata": {
        "id": "LpR09LqWOFWO"
      },
      "source": [
        "if N characters or elements are there in a string then\n",
        "\n",
        "the index range will vary from 0 to N-1\n",
        "for example is \"Sunny\" N = 5\n",
        "index value is ranging from 0 to 4\n",
        "\n",
        "to index in reverse order the index  ranges from -1 to -N"
      ]
    },
    {
      "cell_type": "code",
      "execution_count": null,
      "metadata": {
        "colab": {
          "base_uri": "https://localhost:8080/",
          "height": 35
        },
        "id": "ZeFBN2JcNhEm",
        "outputId": "b814d053-632d-4e27-ba19-4adadbc7a573"
      },
      "outputs": [
        {
          "data": {
            "application/vnd.google.colaboratory.intrinsic+json": {
              "type": "string"
            },
            "text/plain": [
              "'s'"
            ]
          },
          "execution_count": 15,
          "metadata": {},
          "output_type": "execute_result"
        }
      ],
      "source": [
        "# String Indexing\n",
        "#     01234\n",
        "#    -5-4-3-2-1\n",
        "name=\"sunny\"\n",
        "\n",
        "name[0]"
      ]
    },
    {
      "cell_type": "code",
      "execution_count": null,
      "metadata": {
        "colab": {
          "base_uri": "https://localhost:8080/",
          "height": 35
        },
        "id": "XfjZ8Y6YO0DZ",
        "outputId": "26e17b21-5e67-4241-9f07-751a0a70b25d"
      },
      "outputs": [
        {
          "data": {
            "application/vnd.google.colaboratory.intrinsic+json": {
              "type": "string"
            },
            "text/plain": [
              "'y'"
            ]
          },
          "execution_count": 16,
          "metadata": {},
          "output_type": "execute_result"
        }
      ],
      "source": [
        "name[4]"
      ]
    },
    {
      "cell_type": "code",
      "execution_count": null,
      "metadata": {
        "colab": {
          "base_uri": "https://localhost:8080/",
          "height": 35
        },
        "id": "XleUls7DO2h3",
        "outputId": "3db9e73e-fb20-4763-bdf9-1d6c4ee4bc9e"
      },
      "outputs": [
        {
          "data": {
            "application/vnd.google.colaboratory.intrinsic+json": {
              "type": "string"
            },
            "text/plain": [
              "'y'"
            ]
          },
          "execution_count": 18,
          "metadata": {},
          "output_type": "execute_result"
        }
      ],
      "source": [
        "name[-1]"
      ]
    },
    {
      "cell_type": "code",
      "execution_count": null,
      "metadata": {
        "colab": {
          "base_uri": "https://localhost:8080/",
          "height": 35
        },
        "id": "Ac7ysAMJN9dX",
        "outputId": "ecf8293d-aeec-4a7f-9d6c-41e0e3b2d72f"
      },
      "outputs": [
        {
          "data": {
            "application/vnd.google.colaboratory.intrinsic+json": {
              "type": "string"
            },
            "text/plain": [
              "'s'"
            ]
          },
          "execution_count": 19,
          "metadata": {},
          "output_type": "execute_result"
        }
      ],
      "source": [
        "name[-0]"
      ]
    },
    {
      "cell_type": "code",
      "execution_count": null,
      "metadata": {
        "colab": {
          "base_uri": "https://localhost:8080/",
          "height": 165
        },
        "id": "QrcRwej3PHUD",
        "outputId": "77299f41-1ce7-419e-a224-a3b2f81db27b"
      },
      "outputs": [
        {
          "ename": "IndexError",
          "evalue": "ignored",
          "output_type": "error",
          "traceback": [
            "\u001b[0;31m---------------------------------------------------------------------------\u001b[0m",
            "\u001b[0;31mIndexError\u001b[0m                                Traceback (most recent call last)",
            "\u001b[0;32m<ipython-input-20-94fccd0ebc6d>\u001b[0m in \u001b[0;36m<module>\u001b[0;34m\u001b[0m\n\u001b[0;32m----> 1\u001b[0;31m \u001b[0mname\u001b[0m\u001b[0;34m[\u001b[0m\u001b[0;36m5\u001b[0m\u001b[0;34m]\u001b[0m\u001b[0;34m\u001b[0m\u001b[0;34m\u001b[0m\u001b[0m\n\u001b[0m",
            "\u001b[0;31mIndexError\u001b[0m: string index out of range"
          ]
        }
      ],
      "source": [
        "name[5]"
      ]
    },
    {
      "cell_type": "code",
      "execution_count": null,
      "metadata": {
        "colab": {
          "base_uri": "https://localhost:8080/",
          "height": 35
        },
        "id": "sFlYDkB4QSn4",
        "outputId": "f1b7340f-666c-4d5f-d3f2-55ae48649cde"
      },
      "outputs": [
        {
          "data": {
            "application/vnd.google.colaboratory.intrinsic+json": {
              "type": "string"
            },
            "text/plain": [
              "'s'"
            ]
          },
          "execution_count": 21,
          "metadata": {},
          "output_type": "execute_result"
        }
      ],
      "source": [
        "name[-5]"
      ]
    },
    {
      "cell_type": "code",
      "execution_count": null,
      "metadata": {
        "colab": {
          "base_uri": "https://localhost:8080/",
          "height": 35
        },
        "id": "TY8Q6s5OQVTf",
        "outputId": "fa355152-53ad-4385-b40e-72651324d898"
      },
      "outputs": [
        {
          "data": {
            "application/vnd.google.colaboratory.intrinsic+json": {
              "type": "string"
            },
            "text/plain": [
              "'unny'"
            ]
          },
          "execution_count": 22,
          "metadata": {},
          "output_type": "execute_result"
        }
      ],
      "source": [
        "#     01234\n",
        "#    -5-4-3-2-1\n",
        "name=\"sunny\"\n",
        "\n",
        "name[1:] # [starting: ending]"
      ]
    },
    {
      "cell_type": "code",
      "execution_count": null,
      "metadata": {
        "colab": {
          "base_uri": "https://localhost:8080/",
          "height": 35
        },
        "id": "fmNBZ7IjQVqw",
        "outputId": "a330cb6f-a56b-4a42-e7b6-177dd6580dd8"
      },
      "outputs": [
        {
          "data": {
            "application/vnd.google.colaboratory.intrinsic+json": {
              "type": "string"
            },
            "text/plain": [
              "'un'"
            ]
          },
          "execution_count": 23,
          "metadata": {},
          "output_type": "execute_result"
        }
      ],
      "source": [
        "name[1:3] # This means that ending is excluded"
      ]
    },
    {
      "cell_type": "code",
      "execution_count": null,
      "metadata": {
        "colab": {
          "base_uri": "https://localhost:8080/",
          "height": 35
        },
        "id": "krNXKnHPRBu-",
        "outputId": "c0d7ca1c-393d-41b1-9db1-de36bfefab02"
      },
      "outputs": [
        {
          "data": {
            "application/vnd.google.colaboratory.intrinsic+json": {
              "type": "string"
            },
            "text/plain": [
              "'unn'"
            ]
          },
          "execution_count": 24,
          "metadata": {},
          "output_type": "execute_result"
        }
      ],
      "source": [
        "name[1:4] "
      ]
    },
    {
      "cell_type": "code",
      "execution_count": null,
      "metadata": {
        "colab": {
          "base_uri": "https://localhost:8080/",
          "height": 35
        },
        "id": "c-B5crDiRG3W",
        "outputId": "68e7186e-7c68-4417-f7bc-371a00eead43"
      },
      "outputs": [
        {
          "data": {
            "application/vnd.google.colaboratory.intrinsic+json": {
              "type": "string"
            },
            "text/plain": [
              "'unny'"
            ]
          },
          "execution_count": 25,
          "metadata": {},
          "output_type": "execute_result"
        }
      ],
      "source": [
        "name[1:5] # 5 is not included"
      ]
    },
    {
      "cell_type": "code",
      "execution_count": null,
      "metadata": {
        "colab": {
          "base_uri": "https://localhost:8080/",
          "height": 35
        },
        "id": "o8_ipvdcRL5s",
        "outputId": "86887c54-16bd-44fe-9dbe-07a0c287c2d7"
      },
      "outputs": [
        {
          "data": {
            "application/vnd.google.colaboratory.intrinsic+json": {
              "type": "string"
            },
            "text/plain": [
              "'unn'"
            ]
          },
          "execution_count": 26,
          "metadata": {},
          "output_type": "execute_result"
        }
      ],
      "source": [
        "name[-4:-1]"
      ]
    },
    {
      "cell_type": "code",
      "execution_count": null,
      "metadata": {
        "id": "s939j0ylRUHc"
      },
      "outputs": [],
      "source": [
        "date=\"08/10/2022\""
      ]
    },
    {
      "cell_type": "code",
      "execution_count": null,
      "metadata": {
        "colab": {
          "base_uri": "https://localhost:8080/"
        },
        "id": "Tt5RDMnS51pY",
        "outputId": "64699b83-e759-433f-ba7b-0948711ebd88"
      },
      "outputs": [
        {
          "name": "stdout",
          "output_type": "stream",
          "text": [
            "it's 08th of month:10 of 2022 year\n"
          ]
        }
      ],
      "source": [
        "# index 0123456789\n",
        "date=  \"08/10/2022\"\n",
        "\n",
        "# today's date, Month and year\n",
        "\n",
        "todays_date=date[0:2]\n",
        "month=date[3:5]\n",
        "year=date[6:]\n",
        "\n",
        "print(f\"it's {todays_date}th of month:{month} of {year} year\")"
      ]
    },
    {
      "cell_type": "code",
      "execution_count": null,
      "metadata": {
        "colab": {
          "base_uri": "https://localhost:8080/"
        },
        "id": "qRZ5vrU1IDsI",
        "outputId": "15631e7f-6d4e-42b7-f36c-228c6de54b51"
      },
      "outputs": [
        {
          "name": "stdout",
          "output_type": "stream",
          "text": [
            "Enter the DOB in the format DD/MM/YYYY :18/05/1998\n",
            "it's 18 of month:05 of year:1998\n",
            "The user was born in the month of 05 in the year: 1998 on date: 18\n"
          ]
        }
      ],
      "source": [
        "# index 0123456789\n",
        "#                                       0123456789\n",
        "data=input(\"Enter the DOB in the format DD/MM/YYYY :\") # date=  \"18/05/1998\"\n",
        "\n",
        "date = data[0:2]\n",
        "month = data[3:5]\n",
        "year = data[6:]\n",
        "\n",
        "# print(f\"it's {date} of month:{month} of year:{year}\")\n",
        "print(f\"The user was born in the month of {month} in the year: {year} on date: {date}\")"
      ]
    },
    {
      "cell_type": "code",
      "execution_count": null,
      "metadata": {
        "colab": {
          "base_uri": "https://localhost:8080/"
        },
        "id": "sTRSSBZfTzjN",
        "outputId": "8ce1f919-457c-4555-927f-b315b7a18575"
      },
      "outputs": [
        {
          "name": "stdout",
          "output_type": "stream",
          "text": [
            "Enter the DOB in the format DD/MMM/YYYY :18/May/1998\n",
            "The user was born in the month of May in the year: 1998 on date: 18\n"
          ]
        }
      ],
      "source": [
        "# index 0123456789\n",
        "#                                       012345678910\n",
        "data=input(\"Enter the DOB in the format DD/MMM/YYYY :\") # date=  \"18/05/1998\"\n",
        "\n",
        "date = data[0:2]\n",
        "month = data[3:6]\n",
        "year = data[7:]\n",
        "\n",
        "\n",
        "print(f\"The user was born in the month of {month} in the year: {year} on date: {date}\")"
      ]
    },
    {
      "cell_type": "code",
      "execution_count": null,
      "metadata": {
        "colab": {
          "base_uri": "https://localhost:8080/",
          "height": 35
        },
        "id": "_Dx8GQqjYFUi",
        "outputId": "78212d07-68ae-4a08-d575-ceb16730dbf7"
      },
      "outputs": [
        {
          "data": {
            "application/vnd.google.colaboratory.intrinsic+json": {
              "type": "string"
            },
            "text/plain": [
              "'sny'"
            ]
          },
          "execution_count": 40,
          "metadata": {},
          "output_type": "execute_result"
        }
      ],
      "source": [
        "name= \"sunny\" # s_n_y\n",
        "\n",
        "name[0:5:2] # start: ending: step"
      ]
    },
    {
      "cell_type": "code",
      "execution_count": null,
      "metadata": {
        "colab": {
          "base_uri": "https://localhost:8080/",
          "height": 35
        },
        "id": "FvHw4ehvYVwT",
        "outputId": "ecd6150a-631f-4e1a-ade1-15db4ce36bdb"
      },
      "outputs": [
        {
          "data": {
            "application/vnd.google.colaboratory.intrinsic+json": {
              "type": "string"
            },
            "text/plain": [
              "'sny'"
            ]
          },
          "execution_count": 41,
          "metadata": {},
          "output_type": "execute_result"
        }
      ],
      "source": [
        "name[0::2] # start: ending: step"
      ]
    },
    {
      "cell_type": "code",
      "execution_count": null,
      "metadata": {
        "colab": {
          "base_uri": "https://localhost:8080/",
          "height": 35
        },
        "id": "7r3TP_0RYbWs",
        "outputId": "7e0e26ac-cc5d-467e-c664-420c3d374b3d"
      },
      "outputs": [
        {
          "data": {
            "application/vnd.google.colaboratory.intrinsic+json": {
              "type": "string"
            },
            "text/plain": [
              "'sn'"
            ]
          },
          "execution_count": 43,
          "metadata": {},
          "output_type": "execute_result"
        }
      ],
      "source": [
        "# step is 3 -> S__n_\n",
        "name[0:5:3] # start: ending: step"
      ]
    },
    {
      "cell_type": "code",
      "execution_count": null,
      "metadata": {
        "colab": {
          "base_uri": "https://localhost:8080/",
          "height": 35
        },
        "id": "y5jJTEeiY4M7",
        "outputId": "aef58b27-2b5e-4b9d-9fa9-03562f391b25"
      },
      "outputs": [
        {
          "data": {
            "application/vnd.google.colaboratory.intrinsic+json": {
              "type": "string"
            },
            "text/plain": [
              "'SnyBaenCada'"
            ]
          },
          "execution_count": 44,
          "metadata": {},
          "output_type": "execute_result"
        }
      ],
      "source": [
        "name = \"Sunny Bhaveen Chandra\"\n",
        "\n",
        "name[0::2]"
      ]
    },
    {
      "cell_type": "code",
      "execution_count": null,
      "metadata": {
        "colab": {
          "base_uri": "https://localhost:8080/",
          "height": 35
        },
        "id": "vIR8coWFZM4t",
        "outputId": "317d6b7e-4d50-4676-e84e-29103f772140"
      },
      "outputs": [
        {
          "data": {
            "application/vnd.google.colaboratory.intrinsic+json": {
              "type": "string"
            },
            "text/plain": [
              "'SnBvnhd'"
            ]
          },
          "execution_count": 46,
          "metadata": {},
          "output_type": "execute_result"
        }
      ],
      "source": [
        "name = \"Sunny Bhaveen Chandra\"\n",
        "\n",
        "name[0::3]"
      ]
    },
    {
      "cell_type": "code",
      "execution_count": null,
      "metadata": {
        "colab": {
          "base_uri": "https://localhost:8080/",
          "height": 35
        },
        "id": "N8dbMGbfZY48",
        "outputId": "7d9f155a-8c77-431b-f76b-c8143597d78c"
      },
      "outputs": [
        {
          "data": {
            "application/vnd.google.colaboratory.intrinsic+json": {
              "type": "string"
            },
            "text/plain": [
              "'Sunny Bhaveen Chandra'"
            ]
          },
          "execution_count": 47,
          "metadata": {},
          "output_type": "execute_result"
        }
      ],
      "source": [
        "name = \"Sunny Bhaveen Chandra\"\n",
        "\n",
        "name[::]"
      ]
    },
    {
      "cell_type": "code",
      "execution_count": null,
      "metadata": {
        "colab": {
          "base_uri": "https://localhost:8080/",
          "height": 35
        },
        "id": "JtUd9i4iZbXV",
        "outputId": "f1bc60f2-533b-43e8-d14b-7062cfedee1d"
      },
      "outputs": [
        {
          "data": {
            "application/vnd.google.colaboratory.intrinsic+json": {
              "type": "string"
            },
            "text/plain": [
              "'ardnahC neevahB ynnuS'"
            ]
          },
          "execution_count": 49,
          "metadata": {},
          "output_type": "execute_result"
        }
      ],
      "source": [
        "name = \"Sunny Bhaveen Chandra\"\n",
        "\n",
        "name[::-1] # printing in reverse order"
      ]
    },
    {
      "cell_type": "code",
      "execution_count": null,
      "metadata": {
        "colab": {
          "base_uri": "https://localhost:8080/",
          "height": 35
        },
        "id": "q_XH97_PZo_M",
        "outputId": "d3de9eeb-c59d-40b4-eceb-946960fe43ce"
      },
      "outputs": [
        {
          "data": {
            "application/vnd.google.colaboratory.intrinsic+json": {
              "type": "string"
            },
            "text/plain": [
              "'adaCneaBynS'"
            ]
          },
          "execution_count": 50,
          "metadata": {},
          "output_type": "execute_result"
        }
      ],
      "source": [
        "name = \"Sunny Bhaveen Chandra\"\n",
        "\n",
        "name[::-2] # printing in reverse order with step of 2"
      ]
    },
    {
      "cell_type": "code",
      "execution_count": null,
      "metadata": {
        "colab": {
          "base_uri": "https://localhost:8080/"
        },
        "id": "vlJVCZnVXFGV",
        "outputId": "f9a838fd-52fd-4113-bccc-64cabf17f10d"
      },
      "outputs": [
        {
          "name": "stdout",
          "output_type": "stream",
          "text": [
            "Input a string:radar\n",
            "Input string 'radar'' is palindrome\n"
          ]
        }
      ],
      "source": [
        "# Palindrome Sequence\n",
        "# madam | read from left or right, It will be same\n",
        "# malayalam\n",
        "# nayan \n",
        "# bob\n",
        "# radar\n",
        "\n",
        "data = input(\"Input a string:\")\n",
        "reverse= data[::-1]\n",
        "\n",
        "if data == reverse:\n",
        "  print(f\"Input string '{data}' is palindrome\")\n",
        "else:\n",
        "  print(f\"Input string '{data}' is NOT a palindrome\")\n"
      ]
    },
    {
      "cell_type": "code",
      "execution_count": null,
      "metadata": {
        "colab": {
          "base_uri": "https://localhost:8080/"
        },
        "id": "KvPDx1gvadgi",
        "outputId": "59bca01b-bcf1-4a57-bad7-b1fed7beb6b0"
      },
      "outputs": [
        {
          "name": "stdout",
          "output_type": "stream",
          "text": [
            "Input a string:rajat\n",
            "Input string 'rajat' is NOT a palindrome\n"
          ]
        }
      ],
      "source": [
        "# Palindrome Sequence\n",
        "# madam | read from left or right, It will be same\n",
        "# malayalam\n",
        "# nayan \n",
        "# bob\n",
        "# radar\n",
        "\n",
        "data = input(\"Input a string:\")\n",
        "reverse= data[::-1]\n",
        "\n",
        "if data == reverse:\n",
        "  print(f\"Input string '{data}' is palindrome\")\n",
        "else:\n",
        "  print(f\"Input string '{data}' is NOT a palindrome\")\n"
      ]
    },
    {
      "cell_type": "markdown",
      "metadata": {
        "id": "ZZGim7P4bErp"
      },
      "source": [
        "### Mutability\n",
        "\n",
        "Mutable means subject to change or which can be changed"
      ]
    },
    {
      "cell_type": "code",
      "execution_count": null,
      "metadata": {
        "colab": {
          "base_uri": "https://localhost:8080/",
          "height": 200
        },
        "id": "D4kTtbdrbD6C",
        "outputId": "5435dedf-6387-426b-cdfb-faebdd9d401e"
      },
      "outputs": [
        {
          "ename": "TypeError",
          "evalue": "ignored",
          "output_type": "error",
          "traceback": [
            "\u001b[0;31m---------------------------------------------------------------------------\u001b[0m",
            "\u001b[0;31mTypeError\u001b[0m                                 Traceback (most recent call last)",
            "\u001b[0;32m<ipython-input-57-6097ae1a8d58>\u001b[0m in \u001b[0;36m<module>\u001b[0;34m\u001b[0m\n\u001b[1;32m      3\u001b[0m \u001b[0;31m# Replace S with F?\u001b[0m\u001b[0;34m\u001b[0m\u001b[0;34m\u001b[0m\u001b[0;34m\u001b[0m\u001b[0m\n\u001b[1;32m      4\u001b[0m \u001b[0;34m\u001b[0m\u001b[0m\n\u001b[0;32m----> 5\u001b[0;31m \u001b[0mname\u001b[0m\u001b[0;34m[\u001b[0m\u001b[0;36m0\u001b[0m\u001b[0;34m]\u001b[0m \u001b[0;34m=\u001b[0m \u001b[0;34m\"F\"\u001b[0m \u001b[0;31m# immutablility  # String\u001b[0m\u001b[0;34m\u001b[0m\u001b[0;34m\u001b[0m\u001b[0m\n\u001b[0m",
            "\u001b[0;31mTypeError\u001b[0m: 'str' object does not support item assignment"
          ]
        }
      ],
      "source": [
        "name = \"Sunny\"\n",
        "\n",
        "# Replace S with F?\n",
        "\n",
        "name[0] = \"F\" # immutablility  # String "
      ]
    },
    {
      "cell_type": "code",
      "execution_count": null,
      "metadata": {
        "colab": {
          "base_uri": "https://localhost:8080/",
          "height": 35
        },
        "id": "vf0f60WAc2a2",
        "outputId": "1a3cd5c0-a387-4a77-869b-5a4d94459be2"
      },
      "outputs": [
        {
          "data": {
            "application/vnd.google.colaboratory.intrinsic+json": {
              "type": "string"
            },
            "text/plain": [
              "'unny'"
            ]
          },
          "execution_count": 58,
          "metadata": {},
          "output_type": "execute_result"
        }
      ],
      "source": [
        "name[1:]"
      ]
    },
    {
      "cell_type": "code",
      "execution_count": null,
      "metadata": {
        "colab": {
          "base_uri": "https://localhost:8080/",
          "height": 35
        },
        "id": "3STwx_JNc5z8",
        "outputId": "96f1f38f-12a7-4a4e-ddf8-716eb5d0de58"
      },
      "outputs": [
        {
          "data": {
            "application/vnd.google.colaboratory.intrinsic+json": {
              "type": "string"
            },
            "text/plain": [
              "'Funny'"
            ]
          },
          "execution_count": 59,
          "metadata": {},
          "output_type": "execute_result"
        }
      ],
      "source": [
        "\"F\"+name[1:]"
      ]
    },
    {
      "cell_type": "code",
      "execution_count": null,
      "metadata": {
        "colab": {
          "base_uri": "https://localhost:8080/",
          "height": 35
        },
        "id": "CGa8vn6mc_b5",
        "outputId": "ef04215c-4fcc-488b-84f2-5b6f6ae43829"
      },
      "outputs": [
        {
          "data": {
            "application/vnd.google.colaboratory.intrinsic+json": {
              "type": "string"
            },
            "text/plain": [
              "'Sunny'"
            ]
          },
          "execution_count": 60,
          "metadata": {},
          "output_type": "execute_result"
        }
      ],
      "source": [
        "name"
      ]
    },
    {
      "cell_type": "code",
      "execution_count": null,
      "metadata": {
        "id": "QE13RYTQdFtt"
      },
      "outputs": [],
      "source": [
        "name = \"F\"+name[1:]"
      ]
    },
    {
      "cell_type": "code",
      "execution_count": null,
      "metadata": {
        "colab": {
          "base_uri": "https://localhost:8080/",
          "height": 35
        },
        "id": "E1PlcmiSdKwY",
        "outputId": "8c74fc90-5829-4121-d56a-964ccb6ae3a1"
      },
      "outputs": [
        {
          "data": {
            "application/vnd.google.colaboratory.intrinsic+json": {
              "type": "string"
            },
            "text/plain": [
              "'Funny'"
            ]
          },
          "execution_count": 62,
          "metadata": {},
          "output_type": "execute_result"
        }
      ],
      "source": [
        "name"
      ]
    },
    {
      "cell_type": "code",
      "execution_count": null,
      "metadata": {
        "colab": {
          "base_uri": "https://localhost:8080/",
          "height": 35
        },
        "id": "kgIRSuY-dMSp",
        "outputId": "3ec435b3-e891-43f7-b6e1-1770e2dc20e2"
      },
      "outputs": [
        {
          "data": {
            "application/vnd.google.colaboratory.intrinsic+json": {
              "type": "string"
            },
            "text/plain": [
              "'FunnYYY'"
            ]
          },
          "execution_count": 63,
          "metadata": {},
          "output_type": "execute_result"
        }
      ],
      "source": [
        "name.replace(\"y\",\"YYY\")"
      ]
    },
    {
      "cell_type": "code",
      "execution_count": null,
      "metadata": {
        "colab": {
          "base_uri": "https://localhost:8080/",
          "height": 35
        },
        "id": "QI2YIE7WdVrS",
        "outputId": "20f50bae-0ef7-434d-c832-5f17e3c2ab2e"
      },
      "outputs": [
        {
          "data": {
            "application/vnd.google.colaboratory.intrinsic+json": {
              "type": "string"
            },
            "text/plain": [
              "'Funny'"
            ]
          },
          "execution_count": 64,
          "metadata": {},
          "output_type": "execute_result"
        }
      ],
      "source": [
        "name"
      ]
    },
    {
      "cell_type": "code",
      "execution_count": null,
      "metadata": {
        "colab": {
          "base_uri": "https://localhost:8080/",
          "height": 35
        },
        "id": "1qM1R6g4dZUg",
        "outputId": "37383132-df5e-46aa-b729-af8438f5b34d"
      },
      "outputs": [
        {
          "data": {
            "application/vnd.google.colaboratory.intrinsic+json": {
              "type": "string"
            },
            "text/plain": [
              "'FunnYYY'"
            ]
          },
          "execution_count": 66,
          "metadata": {},
          "output_type": "execute_result"
        }
      ],
      "source": [
        "name = name.replace(\"y\",\"YYY\")\n",
        "name"
      ]
    },
    {
      "cell_type": "code",
      "execution_count": null,
      "metadata": {
        "id": "CSgvC7QSdhWp"
      },
      "outputs": [],
      "source": [
        "name = \"Sunny BHAVEEN CHANDRA\"\n",
        "\n",
        "name = name.replace(\"Sunny\", \"SUNNY\")"
      ]
    },
    {
      "cell_type": "code",
      "execution_count": null,
      "metadata": {
        "colab": {
          "base_uri": "https://localhost:8080/",
          "height": 35
        },
        "id": "q18REvFZdnOh",
        "outputId": "e511e38b-57e3-48c1-d335-e80ecb918d5d"
      },
      "outputs": [
        {
          "data": {
            "application/vnd.google.colaboratory.intrinsic+json": {
              "type": "string"
            },
            "text/plain": [
              "'SUNNY BHAVEEN CHANDRA'"
            ]
          },
          "execution_count": 68,
          "metadata": {},
          "output_type": "execute_result"
        }
      ],
      "source": [
        "name"
      ]
    },
    {
      "cell_type": "code",
      "execution_count": null,
      "metadata": {
        "colab": {
          "base_uri": "https://localhost:8080/",
          "height": 35
        },
        "id": "821cayuad0i0",
        "outputId": "80c7041b-f0cc-4f1b-ed7d-13c68289aa07"
      },
      "outputs": [
        {
          "data": {
            "application/vnd.google.colaboratory.intrinsic+json": {
              "type": "string"
            },
            "text/plain": [
              "'SuNNy BHAVEEN CHANDRA'"
            ]
          },
          "execution_count": 69,
          "metadata": {},
          "output_type": "execute_result"
        }
      ],
      "source": [
        "name = \"Sunny BHAVEEN CHANDRA\"\n",
        "\n",
        "name = name.replace(\"n\", \"N\")\n",
        "name"
      ]
    },
    {
      "cell_type": "markdown",
      "metadata": {
        "id": "LRhirf-neLLx"
      },
      "source": [
        "https://docs.python.org/3/library/string.html"
      ]
    },
    {
      "cell_type": "code",
      "execution_count": null,
      "metadata": {
        "colab": {
          "base_uri": "https://localhost:8080/",
          "height": 35
        },
        "id": "gh_GRtbmeL9K",
        "outputId": "046dd0d5-9e1f-4392-ebec-94b77cc16663"
      },
      "outputs": [
        {
          "data": {
            "application/vnd.google.colaboratory.intrinsic+json": {
              "type": "string"
            },
            "text/plain": [
              "'Sunny_BHAVEEN_CHANDRA'"
            ]
          },
          "execution_count": 70,
          "metadata": {},
          "output_type": "execute_result"
        }
      ],
      "source": [
        "name = \"Sunny BHAVEEN CHANDRA\"\n",
        "\n",
        "name = name.replace(\" \", \"_\")\n",
        "name"
      ]
    },
    {
      "cell_type": "markdown",
      "metadata": {
        "id": "sKIOCiUUeYRg"
      },
      "source": [
        "### length of the string"
      ]
    },
    {
      "cell_type": "code",
      "execution_count": null,
      "metadata": {
        "colab": {
          "base_uri": "https://localhost:8080/"
        },
        "id": "RQXUuQ5KeTj5",
        "outputId": "37b5ebc6-60d7-4190-8575-1158d52ea589"
      },
      "outputs": [
        {
          "data": {
            "text/plain": [
              "21"
            ]
          },
          "execution_count": 71,
          "metadata": {},
          "output_type": "execute_result"
        }
      ],
      "source": [
        "len(name)"
      ]
    },
    {
      "cell_type": "code",
      "execution_count": null,
      "metadata": {
        "colab": {
          "base_uri": "https://localhost:8080/"
        },
        "id": "LWf8JSqpeeSb",
        "outputId": "45a91ff0-0d44-4c7f-cbf2-076e7009c99e"
      },
      "outputs": [
        {
          "data": {
            "text/plain": [
              "5"
            ]
          },
          "execution_count": 72,
          "metadata": {},
          "output_type": "execute_result"
        }
      ],
      "source": [
        "len(\"Sunny\")"
      ]
    },
    {
      "cell_type": "code",
      "execution_count": null,
      "metadata": {
        "colab": {
          "base_uri": "https://localhost:8080/"
        },
        "id": "lfRlcFV3ejsI",
        "outputId": "968be635-0c36-43ee-c49f-c22111a5c68c"
      },
      "outputs": [
        {
          "data": {
            "text/plain": [
              "8"
            ]
          },
          "execution_count": 73,
          "metadata": {},
          "output_type": "execute_result"
        }
      ],
      "source": [
        "len(\"Sunny   \")"
      ]
    },
    {
      "cell_type": "code",
      "execution_count": null,
      "metadata": {
        "colab": {
          "base_uri": "https://localhost:8080/"
        },
        "id": "mGlu7PTNenKy",
        "outputId": "bb777f7c-aced-4be5-8c1d-d39a29965d6d"
      },
      "outputs": [
        {
          "data": {
            "text/plain": [
              "8"
            ]
          },
          "execution_count": 75,
          "metadata": {},
          "output_type": "execute_result"
        }
      ],
      "source": [
        "len(\"Sunny   \"  )"
      ]
    },
    {
      "cell_type": "code",
      "execution_count": 6,
      "metadata": {
        "colab": {
          "base_uri": "https://localhost:8080/"
        },
        "id": "Mh1XPgTTeyTM",
        "outputId": "e0fff6b6-9b8a-4d79-ed04-1e811a4a65a3"
      },
      "outputs": [
        {
          "data": {
            "text/plain": [
              "'Sunny'"
            ]
          },
          "execution_count": 6,
          "metadata": {},
          "output_type": "execute_result"
        }
      ],
      "source": [
        "name = \" Sunny   \"\n",
        "\n",
        "name = name.replace(\" \", \"\")\n",
        "len(name)\n",
        "name"
      ]
    },
    {
      "cell_type": "markdown",
      "metadata": {
        "id": "0k7Lbl263e-S"
      },
      "source": [
        "1. String indexing\n",
        "2. String slicing\n",
        "3. String skipping\n",
        "4. String reversal\n",
        "5. String replace method\n",
        "6. length of the string\n",
        "7. String is immutable because we cannot directly assign any value using indexing"
      ]
    },
    {
      "cell_type": "code",
      "execution_count": null,
      "metadata": {
        "colab": {
          "base_uri": "https://localhost:8080/",
          "height": 35
        },
        "id": "9FYKAaDs3hkc",
        "outputId": "2b5ebab4-93d5-4df7-e461-1b3f12e129ce"
      },
      "outputs": [
        {
          "data": {
            "application/vnd.google.colaboratory.intrinsic+json": {
              "type": "string"
            },
            "text/plain": [
              "'y'"
            ]
          },
          "execution_count": 81,
          "metadata": {},
          "output_type": "execute_result"
        }
      ],
      "source": [
        "name = \"Sunny Bhaveen Chandra\"\n",
        "name[4]"
      ]
    },
    {
      "cell_type": "code",
      "execution_count": null,
      "metadata": {
        "colab": {
          "base_uri": "https://localhost:8080/",
          "height": 35
        },
        "id": "OsR1enNP3o6s",
        "outputId": "540f8cd6-2506-4318-817d-38751981d8c9"
      },
      "outputs": [
        {
          "data": {
            "application/vnd.google.colaboratory.intrinsic+json": {
              "type": "string"
            },
            "text/plain": [
              "'Bhaveen'"
            ]
          },
          "execution_count": 82,
          "metadata": {},
          "output_type": "execute_result"
        }
      ],
      "source": [
        "name = \"Sunny Bhaveen Chandra\"\n",
        "name[6:13]"
      ]
    },
    {
      "cell_type": "code",
      "execution_count": null,
      "metadata": {
        "colab": {
          "base_uri": "https://localhost:8080/",
          "height": 35
        },
        "id": "97BLutXG3q9D",
        "outputId": "b2976491-87a5-4317-f2b9-93a71e5c306a"
      },
      "outputs": [
        {
          "data": {
            "application/vnd.google.colaboratory.intrinsic+json": {
              "type": "string"
            },
            "text/plain": [
              "'SnBvnhd'"
            ]
          },
          "execution_count": 83,
          "metadata": {},
          "output_type": "execute_result"
        }
      ],
      "source": [
        "name = \"Sunny Bhaveen Chandra\"\n",
        "name[::3]"
      ]
    },
    {
      "cell_type": "code",
      "execution_count": null,
      "metadata": {
        "colab": {
          "base_uri": "https://localhost:8080/",
          "height": 35
        },
        "id": "1JxUiWKe3uPX",
        "outputId": "870b90f8-e1e7-4627-cfe6-c323424f256c"
      },
      "outputs": [
        {
          "data": {
            "application/vnd.google.colaboratory.intrinsic+json": {
              "type": "string"
            },
            "text/plain": [
              "'ardnahC neevahB ynnuS'"
            ]
          },
          "execution_count": 84,
          "metadata": {},
          "output_type": "execute_result"
        }
      ],
      "source": [
        "name = \"Sunny Bhaveen Chandra\"\n",
        "name[::-1]"
      ]
    },
    {
      "cell_type": "code",
      "execution_count": null,
      "metadata": {
        "colab": {
          "base_uri": "https://localhost:8080/",
          "height": 35
        },
        "id": "pTiNeyBB3xaJ",
        "outputId": "e1ddb0e9-445b-44a8-8c4f-fbee1555e6da"
      },
      "outputs": [
        {
          "data": {
            "application/vnd.google.colaboratory.intrinsic+json": {
              "type": "string"
            },
            "text/plain": [
              "'Sunny=Bhaveen=Chandra'"
            ]
          },
          "execution_count": 85,
          "metadata": {},
          "output_type": "execute_result"
        }
      ],
      "source": [
        "name.replace(\" \", \"=\")"
      ]
    },
    {
      "cell_type": "code",
      "execution_count": null,
      "metadata": {
        "colab": {
          "base_uri": "https://localhost:8080/"
        },
        "id": "oJFAVDu23yzh",
        "outputId": "f5470d46-3a25-4539-c6f4-c3544fcf6dab"
      },
      "outputs": [
        {
          "data": {
            "text/plain": [
              "21"
            ]
          },
          "execution_count": 86,
          "metadata": {},
          "output_type": "execute_result"
        }
      ],
      "source": [
        "name = \"Sunny Bhaveen Chandra\"\n",
        "len(name)"
      ]
    },
    {
      "cell_type": "code",
      "execution_count": null,
      "metadata": {
        "colab": {
          "base_uri": "https://localhost:8080/",
          "height": 165
        },
        "id": "Oh5xYX4I31ap",
        "outputId": "909557d8-416d-45a9-d74f-77e87b4d3a0e"
      },
      "outputs": [
        {
          "ename": "TypeError",
          "evalue": "ignored",
          "output_type": "error",
          "traceback": [
            "\u001b[0;31m---------------------------------------------------------------------------\u001b[0m",
            "\u001b[0;31mTypeError\u001b[0m                                 Traceback (most recent call last)",
            "\u001b[0;32m<ipython-input-87-8e56d6d4b47d>\u001b[0m in \u001b[0;36m<module>\u001b[0;34m\u001b[0m\n\u001b[0;32m----> 1\u001b[0;31m \u001b[0mname\u001b[0m\u001b[0;34m[\u001b[0m\u001b[0;36m0\u001b[0m\u001b[0;34m]\u001b[0m \u001b[0;34m=\u001b[0m \u001b[0;34m\"F\"\u001b[0m \u001b[0;31m# This is not allowed\u001b[0m\u001b[0;34m\u001b[0m\u001b[0;34m\u001b[0m\u001b[0m\n\u001b[0m",
            "\u001b[0;31mTypeError\u001b[0m: 'str' object does not support item assignment"
          ]
        }
      ],
      "source": [
        "name[0] = \"F\" # This is not allowed"
      ]
    },
    {
      "cell_type": "code",
      "execution_count": null,
      "metadata": {
        "colab": {
          "base_uri": "https://localhost:8080/",
          "height": 35
        },
        "id": "JLJY_-h-34mn",
        "outputId": "020c4489-e553-4d02-9965-10fa09fdf4b3"
      },
      "outputs": [
        {
          "data": {
            "application/vnd.google.colaboratory.intrinsic+json": {
              "type": "string"
            },
            "text/plain": [
              "'adaCneaBynS'"
            ]
          },
          "execution_count": 88,
          "metadata": {},
          "output_type": "execute_result"
        }
      ],
      "source": [
        "name[::-2]"
      ]
    },
    {
      "cell_type": "code",
      "execution_count": null,
      "metadata": {
        "colab": {
          "base_uri": "https://localhost:8080/",
          "height": 35
        },
        "id": "qNltt4cR3_bh",
        "outputId": "e19587c2-0bde-4eaa-9605-e3cd97b74d15"
      },
      "outputs": [
        {
          "data": {
            "application/vnd.google.colaboratory.intrinsic+json": {
              "type": "string"
            },
            "text/plain": [
              "'yhe a'"
            ]
          },
          "execution_count": 89,
          "metadata": {},
          "output_type": "execute_result"
        }
      ],
      "source": [
        "name[4:19:3]"
      ]
    },
    {
      "cell_type": "code",
      "execution_count": null,
      "metadata": {
        "colab": {
          "base_uri": "https://localhost:8080/",
          "height": 35
        },
        "id": "B5eUbDHb4Dzb",
        "outputId": "279139b3-12a6-4222-859c-4ef55e0e041f"
      },
      "outputs": [
        {
          "data": {
            "application/vnd.google.colaboratory.intrinsic+json": {
              "type": "string"
            },
            "text/plain": [
              "''"
            ]
          },
          "execution_count": 90,
          "metadata": {},
          "output_type": "execute_result"
        }
      ],
      "source": [
        "name[-5:-5:]"
      ]
    },
    {
      "cell_type": "markdown",
      "metadata": {
        "id": "QPeJR9hN4JQ5"
      },
      "source": [
        "### Count specific characters in a string"
      ]
    },
    {
      "cell_type": "code",
      "execution_count": null,
      "metadata": {
        "colab": {
          "base_uri": "https://localhost:8080/"
        },
        "id": "UodPT0ny4KMG",
        "outputId": "cafcb807-373b-4504-b477-3539012b1ac1"
      },
      "outputs": [
        {
          "data": {
            "text/plain": [
              "2"
            ]
          },
          "execution_count": 91,
          "metadata": {},
          "output_type": "execute_result"
        }
      ],
      "source": [
        "name = \"Sunny\"\n",
        "\n",
        "name.count(\"n\")"
      ]
    },
    {
      "cell_type": "markdown",
      "metadata": {
        "id": "x7BSxo1Z4QhS"
      },
      "source": [
        "### Split operation"
      ]
    },
    {
      "cell_type": "code",
      "execution_count": null,
      "metadata": {
        "colab": {
          "base_uri": "https://localhost:8080/"
        },
        "id": "1gvla7wJ4M2h",
        "outputId": "cccc3bb7-8f38-4b8a-d9e7-37caadd1619c"
      },
      "outputs": [
        {
          "data": {
            "text/plain": [
              "['Sunny', 'Bhaveen', 'Chandra']"
            ]
          },
          "execution_count": 92,
          "metadata": {},
          "output_type": "execute_result"
        }
      ],
      "source": [
        "name = \"Sunny Bhaveen Chandra\"\n",
        "name.split(\" \")"
      ]
    },
    {
      "cell_type": "code",
      "execution_count": null,
      "metadata": {
        "colab": {
          "base_uri": "https://localhost:8080/"
        },
        "id": "xLkMUl2t4jjY",
        "outputId": "9d6e0571-c5b4-4e0a-beca-bbe903f05185"
      },
      "outputs": [
        {
          "name": "stdout",
          "output_type": "stream",
          "text": [
            "\n",
            "First name: Sunny\n",
            "Middle name: Bhaveen\n",
            "Sir name: Chandra\n",
            "\n"
          ]
        }
      ],
      "source": [
        "first_name, middle_name, sir_name = name.split(\" \")\n",
        "\n",
        "print(f\"\"\"\n",
        "First name: {first_name}\n",
        "Middle name: {middle_name}\n",
        "Sir name: {sir_name}\n",
        "\"\"\")"
      ]
    },
    {
      "cell_type": "code",
      "execution_count": null,
      "metadata": {
        "colab": {
          "base_uri": "https://localhost:8080/"
        },
        "id": "H5aoVcVh4uoZ",
        "outputId": "424b5c32-9bbb-49aa-9e55-2afada2b9cbe"
      },
      "outputs": [
        {
          "name": "stdout",
          "output_type": "stream",
          "text": [
            "enter date of birth in the format DD/MMM/YYYY: 18/05/1998\n",
            "The user was born in the month of 05 in the year: 1998 on date: 18\n"
          ]
        }
      ],
      "source": [
        "# index 0123456789                              012345678\n",
        "data = input(\"enter date of birth in the format DD/MMM/YYYY: \")\n",
        "\n",
        "# today's date, Month and year\n",
        "\n",
        "date, month, year = data.split(\"/\")\n",
        "\n",
        "print(f\"The user was born in the month of {month} in the year: {year} on date: {date}\")"
      ]
    },
    {
      "cell_type": "code",
      "execution_count": null,
      "metadata": {
        "colab": {
          "base_uri": "https://localhost:8080/"
        },
        "id": "KzwXtlv35DFy",
        "outputId": "1039532c-91aa-45b9-a740-3ce997fe9556"
      },
      "outputs": [
        {
          "name": "stdout",
          "output_type": "stream",
          "text": [
            "enter date of birth in the format DD/MMM/YYYY: 18/05/1998\n"
          ]
        },
        {
          "data": {
            "text/plain": [
              "['18', '05', '1998']"
            ]
          },
          "execution_count": 95,
          "metadata": {},
          "output_type": "execute_result"
        }
      ],
      "source": [
        "data = input(\"enter date of birth in the format DD/MMM/YYYY: \")\n",
        "data.split(\"/\")"
      ]
    },
    {
      "cell_type": "code",
      "execution_count": 8,
      "metadata": {
        "colab": {
          "base_uri": "https://localhost:8080/"
        },
        "id": "7STz7Hrk5HIw",
        "outputId": "dd376a88-9034-4548-ed9c-668432bee8f1"
      },
      "outputs": [
        {
          "data": {
            "text/plain": [
              "['Sunny', 'Bhaveen', 'Chandra']"
            ]
          },
          "execution_count": 8,
          "metadata": {},
          "output_type": "execute_result"
        }
      ],
      "source": [
        "name = \"Sunny_Bhaveen_Chandra\"\n",
        "\n",
        "name.split(\"_\")"
      ]
    },
    {
      "cell_type": "code",
      "execution_count": null,
      "metadata": {
        "colab": {
          "base_uri": "https://localhost:8080/"
        },
        "id": "2FpcpqBf5IQp",
        "outputId": "58302358-7bc1-40f3-ef4d-e3e4b1f5e0c0"
      },
      "outputs": [
        {
          "data": {
            "text/plain": [
              "['Su', '', 'y_Bhavee', '_Cha', 'dra']"
            ]
          },
          "execution_count": 101,
          "metadata": {},
          "output_type": "execute_result"
        }
      ],
      "source": [
        "name.split(\"n\")"
      ]
    },
    {
      "cell_type": "code",
      "execution_count": null,
      "metadata": {
        "colab": {
          "base_uri": "https://localhost:8080/"
        },
        "id": "lMb0OzwY5qAh",
        "outputId": "2c02ae72-8e7c-4c5f-f164-f71f5d993e4f"
      },
      "outputs": [
        {
          "data": {
            "text/plain": [
              "['Sunny_Bhaveen_Chandra']"
            ]
          },
          "execution_count": 102,
          "metadata": {},
          "output_type": "execute_result"
        }
      ],
      "source": [
        "name.split(\".\")"
      ]
    },
    {
      "cell_type": "code",
      "execution_count": null,
      "metadata": {
        "colab": {
          "base_uri": "https://localhost:8080/"
        },
        "id": "A5O9nBqN5tpg",
        "outputId": "13a7e92f-2122-4b45-f427-eeb10115b3f8"
      },
      "outputs": [
        {
          "name": "stdout",
          "output_type": "stream",
          "text": [
            "Enter the date in DD/MM/YYYY: 18/March/98\n"
          ]
        },
        {
          "data": {
            "text/plain": [
              "['18', 'March', '98']"
            ]
          },
          "execution_count": 104,
          "metadata": {},
          "output_type": "execute_result"
        }
      ],
      "source": [
        "date = input(\"Enter the date in DD/MM/YYYY: \")\n",
        "date.split(\"/\")"
      ]
    },
    {
      "cell_type": "code",
      "execution_count": null,
      "metadata": {
        "colab": {
          "base_uri": "https://localhost:8080/"
        },
        "id": "AcW3DIXg580u",
        "outputId": "d22b0cad-707e-481e-8a24-e70a5d91485c"
      },
      "outputs": [
        {
          "name": "stdout",
          "output_type": "stream",
          "text": [
            "18 March 98\n"
          ]
        }
      ],
      "source": [
        "A,B,C = date.split(\"/\")\n",
        "\n",
        "print(A, B, C)"
      ]
    },
    {
      "cell_type": "code",
      "execution_count": null,
      "metadata": {
        "colab": {
          "base_uri": "https://localhost:8080/"
        },
        "id": "0JnAEgMy6AHb",
        "outputId": "9fbc20ea-fa25-44d7-c4de-9013474cb682"
      },
      "outputs": [
        {
          "data": {
            "text/plain": [
              "['18', 'March', '98']"
            ]
          },
          "execution_count": 106,
          "metadata": {},
          "output_type": "execute_result"
        }
      ],
      "source": [
        "A = date.split(\"/\")\n",
        "A"
      ]
    },
    {
      "cell_type": "code",
      "execution_count": null,
      "metadata": {
        "colab": {
          "base_uri": "https://localhost:8080/",
          "height": 35
        },
        "id": "MM5DgTF16EBx",
        "outputId": "7b3ee546-48a1-44e3-fde0-e46000d63e5d"
      },
      "outputs": [
        {
          "data": {
            "application/vnd.google.colaboratory.intrinsic+json": {
              "type": "string"
            },
            "text/plain": [
              "'18'"
            ]
          },
          "execution_count": 107,
          "metadata": {},
          "output_type": "execute_result"
        }
      ],
      "source": [
        "A[0]"
      ]
    },
    {
      "cell_type": "code",
      "execution_count": null,
      "metadata": {
        "colab": {
          "base_uri": "https://localhost:8080/",
          "height": 35
        },
        "id": "aNt6bhdA6H_L",
        "outputId": "c2884b80-fbd1-49e3-e5fc-6847cb36134f"
      },
      "outputs": [
        {
          "data": {
            "application/vnd.google.colaboratory.intrinsic+json": {
              "type": "string"
            },
            "text/plain": [
              "'March'"
            ]
          },
          "execution_count": 108,
          "metadata": {},
          "output_type": "execute_result"
        }
      ],
      "source": [
        "A[1]"
      ]
    },
    {
      "cell_type": "code",
      "execution_count": null,
      "metadata": {
        "colab": {
          "base_uri": "https://localhost:8080/",
          "height": 35
        },
        "id": "SkM_eWky6Jd4",
        "outputId": "6d169d1d-7ada-4fcc-c4a0-5f32dfe12531"
      },
      "outputs": [
        {
          "data": {
            "application/vnd.google.colaboratory.intrinsic+json": {
              "type": "string"
            },
            "text/plain": [
              "'98'"
            ]
          },
          "execution_count": 110,
          "metadata": {},
          "output_type": "execute_result"
        }
      ],
      "source": [
        "A[2]"
      ]
    },
    {
      "cell_type": "code",
      "execution_count": null,
      "metadata": {
        "colab": {
          "base_uri": "https://localhost:8080/"
        },
        "id": "Z4yQkijk6O2_",
        "outputId": "d062d3ba-7e9f-4ee9-94f1-c583d6688553"
      },
      "outputs": [
        {
          "data": {
            "text/plain": [
              "3"
            ]
          },
          "execution_count": 111,
          "metadata": {},
          "output_type": "execute_result"
        }
      ],
      "source": [
        "len(A)"
      ]
    },
    {
      "cell_type": "markdown",
      "metadata": {
        "id": "CVhVk3Sw6SoL"
      },
      "source": [
        "### lower upper, title case etc"
      ]
    },
    {
      "cell_type": "code",
      "execution_count": null,
      "metadata": {
        "colab": {
          "base_uri": "https://localhost:8080/",
          "height": 35
        },
        "id": "CVPfBahv6TqW",
        "outputId": "02ae8980-afba-4823-f0e5-a33cb64c0adf"
      },
      "outputs": [
        {
          "data": {
            "application/vnd.google.colaboratory.intrinsic+json": {
              "type": "string"
            },
            "text/plain": [
              "'sunny bhaveen chandra'"
            ]
          },
          "execution_count": 113,
          "metadata": {},
          "output_type": "execute_result"
        }
      ],
      "source": [
        "name = \"Sunny Bhaveen Chandra\"\n",
        "\n",
        "name.lower()"
      ]
    },
    {
      "cell_type": "code",
      "execution_count": null,
      "metadata": {
        "colab": {
          "base_uri": "https://localhost:8080/",
          "height": 35
        },
        "id": "Mu4y0Ikz6cAB",
        "outputId": "c8048bc2-6ae6-4886-fece-9400b17e8469"
      },
      "outputs": [
        {
          "data": {
            "application/vnd.google.colaboratory.intrinsic+json": {
              "type": "string"
            },
            "text/plain": [
              "'SUNNY BHAVEEN CHANDRA'"
            ]
          },
          "execution_count": 115,
          "metadata": {},
          "output_type": "execute_result"
        }
      ],
      "source": [
        "name.upper()"
      ]
    },
    {
      "cell_type": "code",
      "execution_count": null,
      "metadata": {
        "colab": {
          "base_uri": "https://localhost:8080/"
        },
        "id": "mw4Ruycd6fC5",
        "outputId": "62ab6d84-4fda-4551-fa43-7bde9418f70e"
      },
      "outputs": [
        {
          "name": "stdout",
          "output_type": "stream",
          "text": [
            "Enter your name: suNNy BhaVeeN cHAndra\n",
            "user input: suNNy BhaVeeN cHAndra\n",
            "name in upper case: SUNNY BHAVEEN CHANDRA\n",
            "name in lower case: sunny bhaveen chandra\n",
            "name in title case: Sunny Bhaveen Chandra\n",
            "name in capitalize case: Sunny bhaveen chandra\n",
            "name in swapcase case: SUnnY bHAvEEn ChaNDRA\n"
          ]
        }
      ],
      "source": [
        "name = input(\"Enter your name: \")\n",
        "\n",
        "print(f\"user input: {name}\")\n",
        "print(f\"name in upper case: {name.upper()}\")\n",
        "print(f\"name in lower case: {name.lower()}\")\n",
        "print(f\"name in title case: {name.title()}\") # Every Ist letter will be Capital\n",
        "print(f\"name in capitalize case: {name.capitalize()}\") # Only Ist letter will be Capitalized\n",
        "print(f\"name in swapcase case: {name.swapcase()}\") # Swap the entire Input given format"
      ]
    },
    {
      "cell_type": "code",
      "execution_count": null,
      "metadata": {
        "colab": {
          "base_uri": "https://localhost:8080/"
        },
        "id": "kGxNyqr27QFO",
        "outputId": "0a1f48eb-78b7-437f-ae8b-e8ba3e5ff7e5"
      },
      "outputs": [
        {
          "name": "stdout",
          "output_type": "stream",
          "text": [
            "user input: Today is the best DAY of my Life.\n",
            "name in upper case: TODAY IS THE BEST DAY OF MY LIFE.\n",
            "name in lower case: today is the best day of my life.\n",
            "name in title case: Today Is The Best Day Of My Life.\n",
            "name in capitalize case: Today is the best day of my life.\n",
            "name in swapcase case: tODAY IS THE BEST day OF MY lIFE.\n"
          ]
        }
      ],
      "source": [
        "name = \"Today is the best DAY of my Life.\"\n",
        "\n",
        "print(f\"user input: {name}\")\n",
        "print(f\"name in upper case: {name.upper()}\")\n",
        "print(f\"name in lower case: {name.lower()}\")\n",
        "print(f\"name in title case: {name.title()}\") # \n",
        "print(f\"name in capitalize case: {name.capitalize()}\")\n",
        "print(f\"name in swapcase case: {name.swapcase()}\")"
      ]
    },
    {
      "cell_type": "code",
      "execution_count": null,
      "metadata": {
        "colab": {
          "base_uri": "https://localhost:8080/",
          "height": 35
        },
        "id": "Ye5oQJj_7ZTB",
        "outputId": "c8defc80-c695-4095-a6f6-af2e6dfbbf12"
      },
      "outputs": [
        {
          "data": {
            "application/vnd.google.colaboratory.intrinsic+json": {
              "type": "string"
            },
            "text/plain": [
              "'S*u*n*n*y* *B*h*a*v*e*e*n* *C*h*a*n*d*r*a'"
            ]
          },
          "execution_count": 119,
          "metadata": {},
          "output_type": "execute_result"
        }
      ],
      "source": [
        "name = \"Sunny Bhaveen Chandra\"\n",
        "\n",
        "\"*\".join(name)"
      ]
    },
    {
      "cell_type": "code",
      "execution_count": null,
      "metadata": {
        "colab": {
          "base_uri": "https://localhost:8080/",
          "height": 35
        },
        "id": "i7QMxxj_7cdB",
        "outputId": "f2578a79-3fa6-4623-86e0-310c984e5056"
      },
      "outputs": [
        {
          "data": {
            "application/vnd.google.colaboratory.intrinsic+json": {
              "type": "string"
            },
            "text/plain": [
              "'S|u|n|n|y| |B|h|a|v|e|e|n| |C|h|a|n|d|r|a'"
            ]
          },
          "execution_count": 120,
          "metadata": {},
          "output_type": "execute_result"
        }
      ],
      "source": [
        "name = \"Sunny Bhaveen Chandra\"\n",
        "\n",
        "\"|\".join(name)"
      ]
    },
    {
      "cell_type": "code",
      "execution_count": null,
      "metadata": {
        "colab": {
          "base_uri": "https://localhost:8080/",
          "height": 35
        },
        "id": "Whuu_Zh87fXv",
        "outputId": "9e3d1934-6150-4a96-bde9-2db6e8b087e5"
      },
      "outputs": [
        {
          "data": {
            "application/vnd.google.colaboratory.intrinsic+json": {
              "type": "string"
            },
            "text/plain": [
              "'S u n n y   B h a v e e n   C h a n d r a'"
            ]
          },
          "execution_count": 121,
          "metadata": {},
          "output_type": "execute_result"
        }
      ],
      "source": [
        "name = \"Sunny Bhaveen Chandra\"\n",
        "\n",
        "\" \".join(name)"
      ]
    },
    {
      "cell_type": "code",
      "execution_count": null,
      "metadata": {
        "colab": {
          "base_uri": "https://localhost:8080/",
          "height": 35
        },
        "id": "-WHh2vqV7iIi",
        "outputId": "b193ff71-fd14-4a15-f02f-5b0e3d8d46f2"
      },
      "outputs": [
        {
          "data": {
            "application/vnd.google.colaboratory.intrinsic+json": {
              "type": "string"
            },
            "text/plain": [
              "'Sunny|Bhaveen|Chandra'"
            ]
          },
          "execution_count": 124,
          "metadata": {},
          "output_type": "execute_result"
        }
      ],
      "source": [
        "name = \"Sunny Bhaveen Chandra\"\n",
        "\n",
        "name.replace(\" \", \"|\")"
      ]
    },
    {
      "cell_type": "code",
      "execution_count": null,
      "metadata": {
        "colab": {
          "base_uri": "https://localhost:8080/",
          "height": 35
        },
        "id": "jd7ABlm37uGo",
        "outputId": "073c54a3-89e6-4fc1-93fb-1f762ce99454"
      },
      "outputs": [
        {
          "data": {
            "application/vnd.google.colaboratory.intrinsic+json": {
              "type": "string"
            },
            "text/plain": [
              "'Sunny Bhaveen Chandra'"
            ]
          },
          "execution_count": 125,
          "metadata": {},
          "output_type": "execute_result"
        }
      ],
      "source": [
        "name"
      ]
    },
    {
      "cell_type": "code",
      "execution_count": null,
      "metadata": {
        "colab": {
          "base_uri": "https://localhost:8080/",
          "height": 35
        },
        "id": "M3pEvvw07lho",
        "outputId": "8d782573-0b4c-4206-f3b5-32077da94227"
      },
      "outputs": [
        {
          "data": {
            "application/vnd.google.colaboratory.intrinsic+json": {
              "type": "string"
            },
            "text/plain": [
              "'ardnahC neevahB ynnuS'"
            ]
          },
          "execution_count": 123,
          "metadata": {},
          "output_type": "execute_result"
        }
      ],
      "source": [
        "\"\".join(reversed(name))"
      ]
    },
    {
      "cell_type": "code",
      "execution_count": null,
      "metadata": {
        "colab": {
          "base_uri": "https://localhost:8080/",
          "height": 35
        },
        "id": "HykzFQhH72bg",
        "outputId": "32a0b9b6-b7db-4191-b5a4-ea7bbe0f6738"
      },
      "outputs": [
        {
          "data": {
            "application/vnd.google.colaboratory.intrinsic+json": {
              "type": "string"
            },
            "text/plain": [
              "'ardnahC neevahB ynnuS'"
            ]
          },
          "execution_count": 126,
          "metadata": {},
          "output_type": "execute_result"
        }
      ],
      "source": [
        "name[::-1]"
      ]
    },
    {
      "cell_type": "markdown",
      "metadata": {
        "id": "jAWYTwXf8GaU"
      },
      "source": [
        "### remove extra spaces front and back of the string"
      ]
    },
    {
      "cell_type": "code",
      "execution_count": null,
      "metadata": {
        "colab": {
          "base_uri": "https://localhost:8080/",
          "height": 35
        },
        "id": "MRfbzai58G3g",
        "outputId": "ea2af3cc-5ef4-43c0-997e-26eb2cd3814f"
      },
      "outputs": [
        {
          "data": {
            "application/vnd.google.colaboratory.intrinsic+json": {
              "type": "string"
            },
            "text/plain": [
              "'Sunny'"
            ]
          },
          "execution_count": 127,
          "metadata": {},
          "output_type": "execute_result"
        }
      ],
      "source": [
        "name = \"  Sunny   \"\n",
        "\n",
        "name.strip(\" \")"
      ]
    },
    {
      "cell_type": "code",
      "execution_count": null,
      "metadata": {
        "colab": {
          "base_uri": "https://localhost:8080/",
          "height": 35
        },
        "id": "16IPp4zc8L00",
        "outputId": "64f67682-a84d-4ea0-cb31-6be5db43d78c"
      },
      "outputs": [
        {
          "data": {
            "application/vnd.google.colaboratory.intrinsic+json": {
              "type": "string"
            },
            "text/plain": [
              "'Sunny'"
            ]
          },
          "execution_count": 128,
          "metadata": {},
          "output_type": "execute_result"
        }
      ],
      "source": [
        "name = \"  Sunny   \"\n",
        "\n",
        "name.replace(\" \",\"\")"
      ]
    },
    {
      "cell_type": "code",
      "execution_count": null,
      "metadata": {
        "colab": {
          "base_uri": "https://localhost:8080/",
          "height": 35
        },
        "id": "afXQEyoJ8WRn",
        "outputId": "ba0788d3-2cfb-43f6-97cf-eb296b373f3e"
      },
      "outputs": [
        {
          "data": {
            "application/vnd.google.colaboratory.intrinsic+json": {
              "type": "string"
            },
            "text/plain": [
              "'Sunny BhaveenChandra'"
            ]
          },
          "execution_count": 131,
          "metadata": {},
          "output_type": "execute_result"
        }
      ],
      "source": [
        "name = \"Sunny   Bhaveen  Chandra\"\n",
        "\n",
        "name.replace(\"  \",\"\")"
      ]
    },
    {
      "cell_type": "code",
      "execution_count": null,
      "metadata": {
        "colab": {
          "base_uri": "https://localhost:8080/",
          "height": 35
        },
        "id": "dOp6FQBA8q5A",
        "outputId": "d2721a27-53e8-4205-ef85-a266657bcb0d"
      },
      "outputs": [
        {
          "data": {
            "application/vnd.google.colaboratory.intrinsic+json": {
              "type": "string"
            },
            "text/plain": [
              "'Sunny   Bhaveen   Chandra'"
            ]
          },
          "execution_count": 148,
          "metadata": {},
          "output_type": "execute_result"
        }
      ],
      "source": [
        "name = \"Sunny   Bhaveen   Chandra\" # Only for side removal of space or anything inside \"inside\"\n",
        "name.strip(\" \")"
      ]
    },
    {
      "cell_type": "code",
      "execution_count": null,
      "metadata": {
        "colab": {
          "base_uri": "https://localhost:8080/",
          "height": 35
        },
        "id": "PzsBA4Lu9VjY",
        "outputId": "cd0b5ca0-e094-4071-8409-a29dd658ecec"
      },
      "outputs": [
        {
          "data": {
            "application/vnd.google.colaboratory.intrinsic+json": {
              "type": "string"
            },
            "text/plain": [
              "'Sunny   '"
            ]
          },
          "execution_count": 139,
          "metadata": {},
          "output_type": "execute_result"
        }
      ],
      "source": [
        "name = \"  Sunny   \"\n",
        "\n",
        "name.lstrip(\" \")"
      ]
    },
    {
      "cell_type": "code",
      "execution_count": null,
      "metadata": {
        "colab": {
          "base_uri": "https://localhost:8080/",
          "height": 35
        },
        "id": "DC1XAtQX9Wfd",
        "outputId": "a546b865-0bbc-40d3-892c-f247ae5d01ae"
      },
      "outputs": [
        {
          "data": {
            "application/vnd.google.colaboratory.intrinsic+json": {
              "type": "string"
            },
            "text/plain": [
              "'  Sunny'"
            ]
          },
          "execution_count": 141,
          "metadata": {},
          "output_type": "execute_result"
        }
      ],
      "source": [
        "name = \"  Sunny   \"\n",
        "\n",
        "name.rstrip(\" \")"
      ]
    },
    {
      "cell_type": "code",
      "execution_count": null,
      "metadata": {
        "colab": {
          "base_uri": "https://localhost:8080/",
          "height": 35
        },
        "id": "HqiehJhK9c5W",
        "outputId": "a78fd7fe-1559-42ca-d68e-95ab08de76e8"
      },
      "outputs": [
        {
          "data": {
            "application/vnd.google.colaboratory.intrinsic+json": {
              "type": "string"
            },
            "text/plain": [
              "'Sunny Bhaveen Chandra'"
            ]
          },
          "execution_count": 142,
          "metadata": {},
          "output_type": "execute_result"
        }
      ],
      "source": [
        "name = \"  Sunny Bhaveen Chandra  \"\n",
        "\n",
        "name.strip(\" \")"
      ]
    },
    {
      "cell_type": "code",
      "execution_count": null,
      "metadata": {
        "colab": {
          "base_uri": "https://localhost:8080/",
          "height": 35
        },
        "id": "jxGk0jVZ9pzH",
        "outputId": "8f1b1f6b-f4df-415d-edc0-eab6af769d9c"
      },
      "outputs": [
        {
          "data": {
            "application/vnd.google.colaboratory.intrinsic+json": {
              "type": "string"
            },
            "text/plain": [
              "'SunnyBhaveenChandra'"
            ]
          },
          "execution_count": 143,
          "metadata": {},
          "output_type": "execute_result"
        }
      ],
      "source": [
        "name = \"  Sunny Bhaveen Chandra  \"\n",
        "\n",
        "name.replace(\" \",\"\")"
      ]
    },
    {
      "cell_type": "code",
      "execution_count": null,
      "metadata": {
        "colab": {
          "base_uri": "https://localhost:8080/",
          "height": 35
        },
        "id": "RD0XmPQUDCvw",
        "outputId": "49666cc1-510d-404d-e4f0-b0d2882c1b34"
      },
      "outputs": [
        {
          "data": {
            "application/vnd.google.colaboratory.intrinsic+json": {
              "type": "string"
            },
            "text/plain": [
              "'Sunny Bhaveen Chandra'"
            ]
          },
          "execution_count": 144,
          "metadata": {},
          "output_type": "execute_result"
        }
      ],
      "source": [
        "name = \"==Sunny Bhaveen Chandra====\"\n",
        "\n",
        "name.strip(\"=\")"
      ]
    },
    {
      "cell_type": "code",
      "execution_count": null,
      "metadata": {
        "colab": {
          "base_uri": "https://localhost:8080/",
          "height": 35
        },
        "id": "g6_iVfTRDj5G",
        "outputId": "74283ec4-df04-4e14-9083-52f6f0e25dbf"
      },
      "outputs": [
        {
          "data": {
            "application/vnd.google.colaboratory.intrinsic+json": {
              "type": "string"
            },
            "text/plain": [
              "'Sunny Bhaveen Chandra'"
            ]
          },
          "execution_count": 147,
          "metadata": {},
          "output_type": "execute_result"
        }
      ],
      "source": [
        "name = \"   Sunny Bhaveen Chandra   \"\n",
        "\n",
        "name.strip(\" \")"
      ]
    },
    {
      "cell_type": "code",
      "execution_count": null,
      "metadata": {
        "colab": {
          "base_uri": "https://localhost:8080/",
          "height": 35
        },
        "id": "-HMZ-IzKDEJX",
        "outputId": "cffdcfa2-993d-45a8-8960-34f2d9e6b039"
      },
      "outputs": [
        {
          "data": {
            "application/vnd.google.colaboratory.intrinsic+json": {
              "type": "string"
            },
            "text/plain": [
              "'SunnyBhaveenChandra'"
            ]
          },
          "execution_count": 145,
          "metadata": {},
          "output_type": "execute_result"
        }
      ],
      "source": [
        "name = \"  Sunny Bhaveen Chandra  \"\n",
        "\n",
        "name.replace(\" \", \"\")"
      ]
    },
    {
      "cell_type": "markdown",
      "metadata": {
        "id": "PDq5ijqgDM7v"
      },
      "source": [
        "### Fromatting"
      ]
    },
    {
      "cell_type": "code",
      "execution_count": null,
      "metadata": {
        "colab": {
          "base_uri": "https://localhost:8080/",
          "height": 35
        },
        "id": "tUrv7AL5DMa9",
        "outputId": "f6fc4ca5-c470-424d-ae16-2b8fa95b26bf"
      },
      "outputs": [
        {
          "data": {
            "application/vnd.google.colaboratory.intrinsic+json": {
              "type": "string"
            },
            "text/plain": [
              "'#######Sunny########'"
            ]
          },
          "execution_count": 146,
          "metadata": {},
          "output_type": "execute_result"
        }
      ],
      "source": [
        "name = \"Sunny\"\n",
        "\n",
        "name.center(20, \"#\")"
      ]
    },
    {
      "cell_type": "code",
      "execution_count": null,
      "metadata": {
        "colab": {
          "base_uri": "https://localhost:8080/",
          "height": 35
        },
        "id": "nRK5PCVnD2i_",
        "outputId": "dafe55f9-d307-4ddd-8f55-015f5d99bbd2"
      },
      "outputs": [
        {
          "data": {
            "application/vnd.google.colaboratory.intrinsic+json": {
              "type": "string"
            },
            "text/plain": [
              "'##Sunny###'"
            ]
          },
          "execution_count": 149,
          "metadata": {},
          "output_type": "execute_result"
        }
      ],
      "source": [
        "name = \"Sunny\"\n",
        "\n",
        "name.center(10, \"#\")"
      ]
    },
    {
      "cell_type": "code",
      "execution_count": null,
      "metadata": {
        "colab": {
          "base_uri": "https://localhost:8080/",
          "height": 35
        },
        "id": "ck3pw-_2D44b",
        "outputId": "ed0083db-2dfb-4291-f8f3-eae3c4541fcd"
      },
      "outputs": [
        {
          "data": {
            "application/vnd.google.colaboratory.intrinsic+json": {
              "type": "string"
            },
            "text/plain": [
              "'Sunny'"
            ]
          },
          "execution_count": 150,
          "metadata": {},
          "output_type": "execute_result"
        }
      ],
      "source": [
        "name = \"Sunny\"\n",
        "\n",
        "name.center(2, \"#\")"
      ]
    },
    {
      "cell_type": "code",
      "execution_count": null,
      "metadata": {
        "colab": {
          "base_uri": "https://localhost:8080/",
          "height": 35
        },
        "id": "d9OcQy1aD9T7",
        "outputId": "4048f0aa-bae1-43f8-ab9d-7b5eb8c6c7b7"
      },
      "outputs": [
        {
          "data": {
            "application/vnd.google.colaboratory.intrinsic+json": {
              "type": "string"
            },
            "text/plain": [
              "'******sangeeta******'"
            ]
          },
          "execution_count": 151,
          "metadata": {},
          "output_type": "execute_result"
        }
      ],
      "source": [
        "name = \"sangeeta\"\n",
        "\n",
        "name.center(20, \"*\")"
      ]
    },
    {
      "cell_type": "markdown",
      "metadata": {
        "id": "1s_IkWtUECUz"
      },
      "source": [
        "### Checking string cases [imp]"
      ]
    },
    {
      "cell_type": "code",
      "execution_count": null,
      "metadata": {
        "colab": {
          "base_uri": "https://localhost:8080/"
        },
        "id": "X9g7IMABEAXc",
        "outputId": "1c3e261e-2581-47fb-b993-0f0d84a384da"
      },
      "outputs": [
        {
          "data": {
            "text/plain": [
              "True"
            ]
          },
          "execution_count": 152,
          "metadata": {},
          "output_type": "execute_result"
        }
      ],
      "source": [
        "name = \"SUNNY\"\n",
        "\n",
        "name.isupper()"
      ]
    },
    {
      "cell_type": "code",
      "execution_count": null,
      "metadata": {
        "colab": {
          "base_uri": "https://localhost:8080/"
        },
        "id": "c92YBE-1F4Lh",
        "outputId": "9fd67a24-4c24-47bc-91ca-f2c0096135c4"
      },
      "outputs": [
        {
          "data": {
            "text/plain": [
              "False"
            ]
          },
          "execution_count": 153,
          "metadata": {},
          "output_type": "execute_result"
        }
      ],
      "source": [
        "name = \"Sunny\"\n",
        "\n",
        "name.isupper()"
      ]
    },
    {
      "cell_type": "code",
      "execution_count": null,
      "metadata": {
        "colab": {
          "base_uri": "https://localhost:8080/"
        },
        "id": "HLUTdUUoF6AW",
        "outputId": "8533dce9-9842-4ddd-f23d-6dbbf4a4c0c5"
      },
      "outputs": [
        {
          "data": {
            "text/plain": [
              "True"
            ]
          },
          "execution_count": 154,
          "metadata": {},
          "output_type": "execute_result"
        }
      ],
      "source": [
        "name = \"sunny\"\n",
        "\n",
        "name.islower()"
      ]
    },
    {
      "cell_type": "code",
      "execution_count": null,
      "metadata": {
        "colab": {
          "base_uri": "https://localhost:8080/"
        },
        "id": "hA_kx-6OF-Zm",
        "outputId": "dc92f7e9-1451-47ce-e8db-a4068aca1739"
      },
      "outputs": [
        {
          "data": {
            "text/plain": [
              "False"
            ]
          },
          "execution_count": 156,
          "metadata": {},
          "output_type": "execute_result"
        }
      ],
      "source": [
        "name = \"Sunny\"\n",
        "\n",
        "name.islower()"
      ]
    },
    {
      "cell_type": "code",
      "execution_count": null,
      "metadata": {
        "colab": {
          "base_uri": "https://localhost:8080/"
        },
        "id": "-fv7yqAAGK_L",
        "outputId": "2671829b-c770-4391-8f31-f9c2bb51bfdc"
      },
      "outputs": [
        {
          "data": {
            "text/plain": [
              "False"
            ]
          },
          "execution_count": 158,
          "metadata": {},
          "output_type": "execute_result"
        }
      ],
      "source": [
        "name = \"Sunny\"\n",
        "\n",
        "name.isspace()"
      ]
    },
    {
      "cell_type": "code",
      "execution_count": null,
      "metadata": {
        "colab": {
          "base_uri": "https://localhost:8080/"
        },
        "id": "8Jt9qVneHhD8",
        "outputId": "8e37927f-e7a0-4dc9-bfad-4c434430e940"
      },
      "outputs": [
        {
          "data": {
            "text/plain": [
              "True"
            ]
          },
          "execution_count": 161,
          "metadata": {},
          "output_type": "execute_result"
        }
      ],
      "source": [
        "name = \"  \"\n",
        "\n",
        "name.isspace()"
      ]
    },
    {
      "cell_type": "code",
      "execution_count": null,
      "metadata": {
        "colab": {
          "base_uri": "https://localhost:8080/"
        },
        "id": "CReQgPrkfFGb",
        "outputId": "999cdf06-31ea-4d97-93b5-27941fc002cc"
      },
      "outputs": [
        {
          "name": "stdout",
          "output_type": "stream",
          "text": [
            "Enter your name: rajat bisoe\n",
            "user input: rajat bisoe\n",
            "wrong input we need to autocorrect it\n",
            "Correct output: Rajat Bisoe\n"
          ]
        }
      ],
      "source": [
        "name = input(\"Enter your name: \")\n",
        "\n",
        "print(f\"user input: {name}\")\n",
        "\n",
        "if name.istitle():\n",
        "  print(f\"user has given correct input\")\n",
        "else:\n",
        "  print(f\"wrong input we need to autocorrect it\")\n",
        "  name = name.title()\n",
        "  print(f\"Correct output: {name}\")"
      ]
    },
    {
      "cell_type": "code",
      "execution_count": null,
      "metadata": {
        "colab": {
          "base_uri": "https://localhost:8080/"
        },
        "id": "zf85kqV4H9Xr",
        "outputId": "df52ca34-d188-4e6e-b283-a4b2e4e9c292"
      },
      "outputs": [
        {
          "name": "stdout",
          "output_type": "stream",
          "text": [
            "Enter your name: Rajat bisOE\n",
            "user input: Rajat bisOE\n",
            "wrong input we need to autocorrect it\n",
            "Correct output: Rajat Bisoe\n"
          ]
        }
      ],
      "source": [
        "name = input(\"Enter your name: \")\n",
        "\n",
        "print(f\"user input: {name}\")\n",
        "\n",
        "if name.istitle():\n",
        "  print(f\"user has given correct input\")\n",
        "elif name.isspace():\n",
        "  print(f\"Wrong input please try again!!\")\n",
        "else:\n",
        "  print(f\"wrong input we need to autocorrect it\")\n",
        "  name = name.title()\n",
        "  print(f\"Correct output: {name}\")"
      ]
    },
    {
      "cell_type": "code",
      "execution_count": null,
      "metadata": {
        "colab": {
          "base_uri": "https://localhost:8080/"
        },
        "id": "pynCshYlikOg",
        "outputId": "5d8cf7fe-ba38-443b-8c63-d4c69c7f4d88"
      },
      "outputs": [
        {
          "name": "stdout",
          "output_type": "stream",
          "text": [
            "Enter your phone no: 8093740832\n",
            "user input is correct\n"
          ]
        }
      ],
      "source": [
        "phone_number = input(\"Enter your phone no: \")\n",
        "\n",
        "if phone_number.isdigit() and len(phone_number) == 10:\n",
        "  print(f\"user input is correct\")\n",
        "else:\n",
        "  print(\"invalid input\")"
      ]
    },
    {
      "cell_type": "code",
      "execution_count": null,
      "metadata": {
        "colab": {
          "base_uri": "https://localhost:8080/"
        },
        "id": "vkK6aLPQlY2I",
        "outputId": "f6f032c0-5ad4-4547-eba9-7e579bdbef44"
      },
      "outputs": [
        {
          "name": "stdout",
          "output_type": "stream",
          "text": [
            "Enter your phone no: 0000000000\n",
            "invalid input\n"
          ]
        }
      ],
      "source": [
        "phone_number = input(\"Enter your phone no: \")\n",
        "\n",
        "if phone_number.isdigit() and len(phone_number) == 10 and phone_number != \"0000000000\":\n",
        "  print(f\"user input is correct\")\n",
        "else:\n",
        "  print(\"invalid input\")"
      ]
    },
    {
      "cell_type": "code",
      "execution_count": null,
      "metadata": {
        "colab": {
          "base_uri": "https://localhost:8080/"
        },
        "id": "vojfqmvzjmRL",
        "outputId": "1074c5b0-8f4e-47fd-ea01-4fa86a3888bd"
      },
      "outputs": [
        {
          "data": {
            "text/plain": [
              "True"
            ]
          },
          "execution_count": 9,
          "metadata": {},
          "output_type": "execute_result"
        }
      ],
      "source": [
        "phone_number.startswith(\"0\")"
      ]
    },
    {
      "cell_type": "code",
      "execution_count": null,
      "metadata": {
        "colab": {
          "base_uri": "https://localhost:8080/"
        },
        "id": "O_KFOTomlnSm",
        "outputId": "5eecd628-6c9e-4f34-b9a9-216189393471"
      },
      "outputs": [
        {
          "data": {
            "text/plain": [
              "True"
            ]
          },
          "execution_count": 10,
          "metadata": {},
          "output_type": "execute_result"
        }
      ],
      "source": [
        "phone_number.endswith(\"0\")"
      ]
    },
    {
      "cell_type": "code",
      "execution_count": null,
      "metadata": {
        "colab": {
          "base_uri": "https://localhost:8080/"
        },
        "id": "alRJUfDPlrMi",
        "outputId": "6f5333ec-1bf1-487d-e201-d61625c686ae"
      },
      "outputs": [
        {
          "data": {
            "text/plain": [
              "True"
            ]
          },
          "execution_count": 11,
          "metadata": {},
          "output_type": "execute_result"
        }
      ],
      "source": [
        "phone_number = \"+917894561230\"\n",
        "\n",
        "phone_number.startswith(\"+91\")"
      ]
    },
    {
      "cell_type": "code",
      "execution_count": null,
      "metadata": {
        "colab": {
          "base_uri": "https://localhost:8080/",
          "height": 35
        },
        "id": "r9gekpc4mAuC",
        "outputId": "4578c6d0-cbee-4e45-d800-3e01d5c492cc"
      },
      "outputs": [
        {
          "data": {
            "application/vnd.google.colaboratory.intrinsic+json": {
              "type": "string"
            },
            "text/plain": [
              "'917894561230'"
            ]
          },
          "execution_count": 12,
          "metadata": {},
          "output_type": "execute_result"
        }
      ],
      "source": [
        "phone_number[1:]"
      ]
    },
    {
      "cell_type": "code",
      "execution_count": null,
      "metadata": {
        "colab": {
          "base_uri": "https://localhost:8080/"
        },
        "id": "L5lB9hYamD_H",
        "outputId": "e4602571-0ca2-44bc-fbda-4ce20ce57362"
      },
      "outputs": [
        {
          "data": {
            "text/plain": [
              "True"
            ]
          },
          "execution_count": 13,
          "metadata": {},
          "output_type": "execute_result"
        }
      ],
      "source": [
        "phone_number[1:].isdigit()"
      ]
    },
    {
      "cell_type": "code",
      "execution_count": null,
      "metadata": {
        "colab": {
          "base_uri": "https://localhost:8080/"
        },
        "id": "-F2ol7RlmR_3",
        "outputId": "0d913c3b-b26f-4f30-8ec5-25702e9a90f5"
      },
      "outputs": [
        {
          "data": {
            "text/plain": [
              "True"
            ]
          },
          "execution_count": 14,
          "metadata": {},
          "output_type": "execute_result"
        }
      ],
      "source": [
        "len(phone_number)==13"
      ]
    },
    {
      "cell_type": "code",
      "execution_count": null,
      "metadata": {
        "colab": {
          "base_uri": "https://localhost:8080/"
        },
        "id": "omO0YlHVmamo",
        "outputId": "b517f1ab-95f8-41f1-94fb-5d4cf6c33842"
      },
      "outputs": [
        {
          "data": {
            "text/plain": [
              "10"
            ]
          },
          "execution_count": 15,
          "metadata": {},
          "output_type": "execute_result"
        }
      ],
      "source": [
        "phone_number = \"+910000000000\"\n",
        "\n",
        "phone_number.count(\"0\")"
      ]
    },
    {
      "cell_type": "code",
      "execution_count": null,
      "metadata": {
        "colab": {
          "base_uri": "https://localhost:8080/"
        },
        "id": "QOHNwV7emdoY",
        "outputId": "e84831e7-8fb9-49b8-9890-1142cc30cd68"
      },
      "outputs": [
        {
          "name": "stdout",
          "output_type": "stream",
          "text": [
            "Enter your Indian phone no: +918093740832\n",
            "user input is correct\n"
          ]
        }
      ],
      "source": [
        "phone_number = input(\"Enter your Indian phone no: \")\n",
        "\n",
        "if phone_number.startswith(\"+91\") and phone_number[1:].isdigit() and len(phone_number)==13:\n",
        "  print(f\"user input is correct\")\n",
        "else:\n",
        "  print(\"invalid input\")"
      ]
    },
    {
      "cell_type": "code",
      "execution_count": null,
      "metadata": {
        "colab": {
          "base_uri": "https://localhost:8080/"
        },
        "id": "gl8jeURzmoXG",
        "outputId": "ad49da62-8af0-428c-9576-98e1eaf868eb"
      },
      "outputs": [
        {
          "name": "stdout",
          "output_type": "stream",
          "text": [
            "Enter your Indian phone no: 918093708323\n",
            "invalid input\n"
          ]
        }
      ],
      "source": [
        "phone_number = input(\"Enter your Indian phone no: \")\n",
        "\n",
        "if phone_number.startswith(\"+91\") and phone_number[1:].isdigit() and len(phone_number)==13:\n",
        "  print(f\"user input is correct\")\n",
        "else:\n",
        "  print(\"invalid input\")"
      ]
    },
    {
      "cell_type": "code",
      "execution_count": null,
      "metadata": {
        "colab": {
          "base_uri": "https://localhost:8080/"
        },
        "id": "HzxIPTg7m-B1",
        "outputId": "406302fa-8b9c-47aa-b6c0-4abdb79ab7de"
      },
      "outputs": [
        {
          "data": {
            "text/plain": [
              "True"
            ]
          },
          "execution_count": 18,
          "metadata": {},
          "output_type": "execute_result"
        }
      ],
      "source": [
        "PAN_NUMBERS = \"AYEPC5656X\"\n",
        "PAN_NUMBERS.isalnum() # Check for alpha numeric case"
      ]
    },
    {
      "cell_type": "code",
      "execution_count": null,
      "metadata": {
        "colab": {
          "base_uri": "https://localhost:8080/"
        },
        "id": "_d7M3Js2nXVQ",
        "outputId": "af0a7d4c-7c5b-408b-d004-aad6d0372079"
      },
      "outputs": [
        {
          "data": {
            "text/plain": [
              "True"
            ]
          },
          "execution_count": 19,
          "metadata": {},
          "output_type": "execute_result"
        }
      ],
      "source": [
        "PAN_NUMBERS = \"789789789\"\n",
        "PAN_NUMBERS.isalnum() # Check for alphabets or numeric case"
      ]
    },
    {
      "cell_type": "code",
      "execution_count": null,
      "metadata": {
        "colab": {
          "base_uri": "https://localhost:8080/"
        },
        "id": "wMpowfq7naKn",
        "outputId": "2b154896-cf90-4c39-e10b-907d6f191de1"
      },
      "outputs": [
        {
          "data": {
            "text/plain": [
              "True"
            ]
          },
          "execution_count": 20,
          "metadata": {},
          "output_type": "execute_result"
        }
      ],
      "source": [
        "PAN_NUMBERS = \"SUNNY\"\n",
        "PAN_NUMBERS.isalnum() # Check for alphabets or numeric case"
      ]
    },
    {
      "cell_type": "code",
      "execution_count": null,
      "metadata": {
        "colab": {
          "base_uri": "https://localhost:8080/"
        },
        "id": "o1Ske0e_nehv",
        "outputId": "7653b5df-291d-4866-8fc5-5982dd9c7b39"
      },
      "outputs": [
        {
          "data": {
            "text/plain": [
              "False"
            ]
          },
          "execution_count": 21,
          "metadata": {},
          "output_type": "execute_result"
        }
      ],
      "source": [
        "PAN_NUMBERS = \"SUNNY  CHANDRA\" # BECAUSE IT CONTAINS SPACES WHICH IS NOT ALPHBET\n",
        "PAN_NUMBERS.isalnum() # Check for alphabets or numeric case"
      ]
    },
    {
      "cell_type": "code",
      "execution_count": null,
      "metadata": {
        "colab": {
          "base_uri": "https://localhost:8080/"
        },
        "id": "RkjxcDFInii3",
        "outputId": "90cd0851-e5d2-4613-d7a2-fb66d1b1a803"
      },
      "outputs": [
        {
          "data": {
            "text/plain": [
              "False"
            ]
          },
          "execution_count": 22,
          "metadata": {},
          "output_type": "execute_result"
        }
      ],
      "source": [
        "PAN_NUMBERS = \"SUNNY**CHANDRA\"\n",
        "PAN_NUMBERS.isalnum() # Check for alphabets or numeric case"
      ]
    }
  ],
  "metadata": {
    "colab": {
      "collapsed_sections": [],
      "provenance": []
    },
    "kernelspec": {
      "display_name": "Python 3",
      "language": "python",
      "name": "python3"
    },
    "language_info": {
      "codemirror_mode": {
        "name": "ipython",
        "version": 3
      },
      "file_extension": ".py",
      "mimetype": "text/x-python",
      "name": "python",
      "nbconvert_exporter": "python",
      "pygments_lexer": "ipython3",
      "version": "3.11.1"
    },
    "vscode": {
      "interpreter": {
        "hash": "8e5c125784d45a8dea42e807f07f9302b86f571c035b8eb88ba7ceb058367caf"
      }
    }
  },
  "nbformat": 4,
  "nbformat_minor": 0
}
