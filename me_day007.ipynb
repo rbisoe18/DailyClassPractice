{
  "nbformat": 4,
  "nbformat_minor": 0,
  "metadata": {
    "colab": {
      "provenance": [],
      "collapsed_sections": []
    },
    "kernelspec": {
      "name": "python3",
      "display_name": "Python 3"
    },
    "language_info": {
      "name": "python"
    }
  },
  "cells": [
    {
      "cell_type": "markdown",
      "metadata": {
        "id": "B1vlSrtOIKAv"
      },
      "source": [
        "## 6.3.1 Lists\n",
        "\n",
        "Earlier, while discussing introduction to strings we have introduced the concept of a *sequence* in Python. In Python, Lists can be considered as the most general version of a \"sequence\". Unlike strings, they are mutable which means the elements inside a list can be changed!\n",
        "\n",
        "`Lists` are constructed with brackets `[]` and commas separating every element in the list.\n",
        "\n",
        "Let's go ahead and see how we can construct lists!"
      ]
    },
    {
      "cell_type": "code",
      "execution_count": null,
      "metadata": {
        "id": "DCrXeUsIMFKC"
      },
      "outputs": [],
      "source": [
        "# Assign a list to an variable named my_list\n",
        "my_list = [1,2,3]"
      ]
    },
    {
      "cell_type": "markdown",
      "metadata": {
        "id": "nc2Wwy4jIKA0"
      },
      "source": [
        "We just created a list of integers, but lists can actually hold different object types, different data-types. For example:"
      ]
    },
    {
      "cell_type": "code",
      "source": [
        "my_list = ['A string',23,100.232,'o',True]"
      ],
      "metadata": {
        "id": "ckvo8-duMPZd"
      },
      "execution_count": null,
      "outputs": []
    },
    {
      "cell_type": "markdown",
      "metadata": {
        "id": "D20Yf-ZrIKA6"
      },
      "source": [
        "Just like strings, the len() function will tell you how many items are in the sequence of the list."
      ]
    },
    {
      "cell_type": "code",
      "source": [
        "len(my_list)"
      ],
      "metadata": {
        "colab": {
          "base_uri": "https://localhost:8080/"
        },
        "id": "sftWl58UM7Fd",
        "outputId": "c2f7ea87-77fa-431e-9af4-be6ebf1fcb2d"
      },
      "execution_count": null,
      "outputs": [
        {
          "output_type": "execute_result",
          "data": {
            "text/plain": [
              "5"
            ]
          },
          "metadata": {},
          "execution_count": 4
        }
      ]
    },
    {
      "cell_type": "markdown",
      "source": [
        "\n",
        "\n",
        "---\n",
        "\n",
        "\n"
      ],
      "metadata": {
        "id": "ZLFXFcSum8oY"
      }
    },
    {
      "cell_type": "code",
      "source": [
        "A = [1,2,3,4,5]\n",
        "\n",
        "A[0]"
      ],
      "metadata": {
        "colab": {
          "base_uri": "https://localhost:8080/"
        },
        "id": "mo9ZhR1SnBvn",
        "outputId": "0b73ab69-d226-4532-9449-e9c60a87ed46"
      },
      "execution_count": null,
      "outputs": [
        {
          "output_type": "execute_result",
          "data": {
            "text/plain": [
              "1"
            ]
          },
          "metadata": {},
          "execution_count": 1
        }
      ]
    },
    {
      "cell_type": "code",
      "source": [
        "A = [1,2,3,4,5.0, \"Sunny\", 1+2j, True] # \n",
        "\n",
        "type(A)"
      ],
      "metadata": {
        "colab": {
          "base_uri": "https://localhost:8080/"
        },
        "id": "gaq-tO1qnaPP",
        "outputId": "f03cb721-cd12-432b-92ef-35ba4a3079d5"
      },
      "execution_count": null,
      "outputs": [
        {
          "output_type": "execute_result",
          "data": {
            "text/plain": [
              "list"
            ]
          },
          "metadata": {},
          "execution_count": 2
        }
      ]
    },
    {
      "cell_type": "code",
      "source": [
        "for element in A:\n",
        "  print(element)"
      ],
      "metadata": {
        "colab": {
          "base_uri": "https://localhost:8080/"
        },
        "id": "Aq-XVkKanbk5",
        "outputId": "3b1248c9-b585-47fc-acc2-91f2de8618f0"
      },
      "execution_count": null,
      "outputs": [
        {
          "output_type": "stream",
          "name": "stdout",
          "text": [
            "1\n",
            "2\n",
            "3\n",
            "4\n",
            "5.0\n",
            "Sunny\n",
            "(1+2j)\n",
            "True\n"
          ]
        }
      ]
    },
    {
      "cell_type": "code",
      "source": [
        "len(A)"
      ],
      "metadata": {
        "colab": {
          "base_uri": "https://localhost:8080/"
        },
        "id": "4lsyPUslnlSi",
        "outputId": "15025a02-464c-4b07-c933-f4f5054f9548"
      },
      "execution_count": null,
      "outputs": [
        {
          "output_type": "execute_result",
          "data": {
            "text/plain": [
              "8"
            ]
          },
          "metadata": {},
          "execution_count": 4
        }
      ]
    },
    {
      "cell_type": "code",
      "source": [
        "for i in range(len(A)):\n",
        "  print(A[i])"
      ],
      "metadata": {
        "colab": {
          "base_uri": "https://localhost:8080/"
        },
        "id": "WXZf7XXWnoux",
        "outputId": "18e17640-3e69-46b5-89e0-690797dc2fcb"
      },
      "execution_count": null,
      "outputs": [
        {
          "output_type": "stream",
          "name": "stdout",
          "text": [
            "1\n",
            "2\n",
            "3\n",
            "4\n",
            "5.0\n",
            "Sunny\n",
            "(1+2j)\n",
            "True\n"
          ]
        }
      ]
    },
    {
      "cell_type": "code",
      "source": [
        "for i in range(len(A)):\n",
        "  print(f\"i={i}, value={A[i]}, datatype={type(A[i])}\")"
      ],
      "metadata": {
        "colab": {
          "base_uri": "https://localhost:8080/"
        },
        "id": "_BY6L6VBnv-M",
        "outputId": "4995dfea-55c9-4504-a83e-0ec2f91c96a5"
      },
      "execution_count": null,
      "outputs": [
        {
          "output_type": "stream",
          "name": "stdout",
          "text": [
            "i=0, value=1, datatype=<class 'int'>\n",
            "i=1, value=2, datatype=<class 'int'>\n",
            "i=2, value=3, datatype=<class 'int'>\n",
            "i=3, value=4, datatype=<class 'int'>\n",
            "i=4, value=5.0, datatype=<class 'float'>\n",
            "i=5, value=Sunny, datatype=<class 'str'>\n",
            "i=6, value=(1+2j), datatype=<class 'complex'>\n",
            "i=7, value=True, datatype=<class 'bool'>\n"
          ]
        }
      ]
    },
    {
      "cell_type": "markdown",
      "source": [
        "What is the difference between list of python and array of C or C++?\n",
        "\n",
        "Ans In array we will element use only one dataype\n",
        "but in python list ,all elements can be of different or same dataype"
      ],
      "metadata": {
        "id": "ARB-_A5UDYO4"
      }
    },
    {
      "cell_type": "markdown",
      "source": [
        "\n",
        "\n",
        "---\n",
        "\n",
        "\n"
      ],
      "metadata": {
        "id": "Km-h9SPEnArf"
      }
    },
    {
      "cell_type": "markdown",
      "source": [
        "### Indexing and Slicing\n",
        "\n",
        "Indexing and slicing of lists works just like in Strings. Similar to string, list index starts at 0 and it can be sliced and concatenated and all operations. Let's make a new list to remind ourselves of how this works:"
      ],
      "metadata": {
        "id": "TFw6o2vxNlZE"
      }
    },
    {
      "cell_type": "code",
      "source": [
        "my_list = ['one','two','three',4,5,True]"
      ],
      "metadata": {
        "id": "J3zKEZmOM7_F"
      },
      "execution_count": null,
      "outputs": []
    },
    {
      "cell_type": "code",
      "source": [
        "# Grab element at index 0\n",
        "my_list[0]"
      ],
      "metadata": {
        "colab": {
          "base_uri": "https://localhost:8080/",
          "height": 35
        },
        "id": "oxk53vdvNBjM",
        "outputId": "94e9e323-bd6e-424d-9569-f26194c4e369"
      },
      "execution_count": null,
      "outputs": [
        {
          "output_type": "execute_result",
          "data": {
            "text/plain": [
              "'one'"
            ],
            "application/vnd.google.colaboratory.intrinsic+json": {
              "type": "string"
            }
          },
          "metadata": {},
          "execution_count": 6
        }
      ]
    },
    {
      "cell_type": "code",
      "source": [
        "# Grab index 1 and everything past it\n",
        "my_list[1:]"
      ],
      "metadata": {
        "colab": {
          "base_uri": "https://localhost:8080/"
        },
        "id": "03NHSaWWKJvu",
        "outputId": "dcb8546a-55aa-445e-9a8d-b9a4f0a608e1"
      },
      "execution_count": null,
      "outputs": [
        {
          "output_type": "execute_result",
          "data": {
            "text/plain": [
              "['two', 'three', 4, 5, True]"
            ]
          },
          "metadata": {},
          "execution_count": 4
        }
      ]
    },
    {
      "cell_type": "code",
      "source": [
        "# Grab index 1 and everything past it\n",
        "my_list[1:6]"
      ],
      "metadata": {
        "colab": {
          "base_uri": "https://localhost:8080/"
        },
        "id": "Lqp2YOgTNEQL",
        "outputId": "22e2956f-be05-493c-bda8-611316e34f94"
      },
      "execution_count": null,
      "outputs": [
        {
          "output_type": "execute_result",
          "data": {
            "text/plain": [
              "['two', 'three', 4, 5, True]"
            ]
          },
          "metadata": {},
          "execution_count": 3
        }
      ]
    },
    {
      "cell_type": "code",
      "source": [
        "# Grab everything UP TO index (3-1)=2\n",
        "my_list[:3]"
      ],
      "metadata": {
        "colab": {
          "base_uri": "https://localhost:8080/"
        },
        "id": "UWeJpgdXNH3s",
        "outputId": "4091a643-8a5b-4d82-e12f-3e797c88922c"
      },
      "execution_count": null,
      "outputs": [
        {
          "output_type": "execute_result",
          "data": {
            "text/plain": [
              "['one', 'two', 'three']"
            ]
          },
          "metadata": {},
          "execution_count": 8
        }
      ]
    },
    {
      "cell_type": "code",
      "source": [
        "# Negative slicing\n",
        "my_list[-6]"
      ],
      "metadata": {
        "colab": {
          "base_uri": "https://localhost:8080/",
          "height": 35
        },
        "id": "iqwFWlycNQjV",
        "outputId": "ccdb288b-2bda-4949-d693-3aa551641663"
      },
      "execution_count": null,
      "outputs": [
        {
          "output_type": "execute_result",
          "data": {
            "text/plain": [
              "'one'"
            ],
            "application/vnd.google.colaboratory.intrinsic+json": {
              "type": "string"
            }
          },
          "metadata": {},
          "execution_count": 9
        }
      ]
    },
    {
      "cell_type": "code",
      "source": [
        "# Negative slicing\n",
        "my_list[-3]"
      ],
      "metadata": {
        "colab": {
          "base_uri": "https://localhost:8080/"
        },
        "id": "xzCe4cAuNffp",
        "outputId": "33e9a91f-5ff9-443b-a70e-f5ec9867081d"
      },
      "execution_count": null,
      "outputs": [
        {
          "output_type": "execute_result",
          "data": {
            "text/plain": [
              "4"
            ]
          },
          "metadata": {},
          "execution_count": 10
        }
      ]
    },
    {
      "cell_type": "markdown",
      "source": [
        "\n",
        "\n",
        "---\n",
        "\n"
      ],
      "metadata": {
        "id": "3RONHfj9ps85"
      }
    },
    {
      "cell_type": "code",
      "source": [
        "A"
      ],
      "metadata": {
        "colab": {
          "base_uri": "https://localhost:8080/"
        },
        "id": "f_0FOZMDpvP2",
        "outputId": "dd75c113-71fe-4764-8c47-e9ea6e81e401"
      },
      "execution_count": null,
      "outputs": [
        {
          "output_type": "execute_result",
          "data": {
            "text/plain": [
              "[1, 2, 3, 4, 5.0, 'Sunny', (1+2j), True]"
            ]
          },
          "metadata": {},
          "execution_count": 8
        }
      ]
    },
    {
      "cell_type": "code",
      "source": [
        "A[3:]"
      ],
      "metadata": {
        "colab": {
          "base_uri": "https://localhost:8080/"
        },
        "id": "nS__EyqD3pZ3",
        "outputId": "796114e8-7822-4352-9d29-d3eb6eb3b531"
      },
      "execution_count": null,
      "outputs": [
        {
          "output_type": "execute_result",
          "data": {
            "text/plain": [
              "[4, 5.0, 'Sunny', (1+2j), True]"
            ]
          },
          "metadata": {},
          "execution_count": 9
        }
      ]
    },
    {
      "cell_type": "code",
      "source": [
        "A[0::2] # [start index: end index: STEP]"
      ],
      "metadata": {
        "colab": {
          "base_uri": "https://localhost:8080/"
        },
        "id": "g-5cSLro3zAX",
        "outputId": "2c57aed3-e3dd-4676-ecb6-389b1c25aa66"
      },
      "execution_count": null,
      "outputs": [
        {
          "output_type": "execute_result",
          "data": {
            "text/plain": [
              "[1, 3, 5.0, (1+2j)]"
            ]
          },
          "metadata": {},
          "execution_count": 10
        }
      ]
    },
    {
      "cell_type": "code",
      "source": [
        "for i in range(0, 8, 2): # start, end, steps\n",
        "  print(i, A[i])"
      ],
      "metadata": {
        "colab": {
          "base_uri": "https://localhost:8080/"
        },
        "id": "8MQhRz_d32nK",
        "outputId": "1bc3f73d-252d-471b-9979-c819457e3ee1"
      },
      "execution_count": null,
      "outputs": [
        {
          "output_type": "stream",
          "name": "stdout",
          "text": [
            "0 1\n",
            "2 3\n",
            "4 5.0\n",
            "6 (1+2j)\n"
          ]
        }
      ]
    },
    {
      "cell_type": "code",
      "source": [
        "A"
      ],
      "metadata": {
        "colab": {
          "base_uri": "https://localhost:8080/"
        },
        "id": "oOAutHqS4E95",
        "outputId": "745a46fe-822b-4ecb-a537-66d7d61852e1"
      },
      "execution_count": null,
      "outputs": [
        {
          "output_type": "execute_result",
          "data": {
            "text/plain": [
              "[1, 2, 3, 4, 5.0, 'Sunny', (1+2j), True]"
            ]
          },
          "metadata": {},
          "execution_count": 12
        }
      ]
    },
    {
      "cell_type": "code",
      "source": [
        "A[::-1]"
      ],
      "metadata": {
        "colab": {
          "base_uri": "https://localhost:8080/"
        },
        "id": "Qwc-0D4f4H-O",
        "outputId": "de1c3b32-8d1e-45aa-e056-a007d135cdc0"
      },
      "execution_count": null,
      "outputs": [
        {
          "output_type": "execute_result",
          "data": {
            "text/plain": [
              "[True, (1+2j), 'Sunny', 5.0, 4, 3, 2, 1]"
            ]
          },
          "metadata": {},
          "execution_count": 13
        }
      ]
    },
    {
      "cell_type": "code",
      "source": [
        "A[::-2]"
      ],
      "metadata": {
        "colab": {
          "base_uri": "https://localhost:8080/"
        },
        "id": "zTs53dfr4J0r",
        "outputId": "62b93afd-5da5-4c27-c6dd-f37c55292fe6"
      },
      "execution_count": null,
      "outputs": [
        {
          "output_type": "execute_result",
          "data": {
            "text/plain": [
              "[True, 'Sunny', 4, 2]"
            ]
          },
          "metadata": {},
          "execution_count": 14
        }
      ]
    },
    {
      "cell_type": "code",
      "source": [
        "for i in range(0, len(A), 2):\n",
        "  print(i, A[i])"
      ],
      "metadata": {
        "colab": {
          "base_uri": "https://localhost:8080/"
        },
        "id": "WEsgcweT4Lhz",
        "outputId": "7da01534-d275-46b3-8a44-8686eb2caff5"
      },
      "execution_count": null,
      "outputs": [
        {
          "output_type": "stream",
          "name": "stdout",
          "text": [
            "0 1\n",
            "2 3\n",
            "4 5.0\n",
            "6 (1+2j)\n"
          ]
        }
      ]
    },
    {
      "cell_type": "code",
      "source": [
        "for i in range(0, len(A)):\n",
        "  print(i, A[i])"
      ],
      "metadata": {
        "colab": {
          "base_uri": "https://localhost:8080/"
        },
        "id": "eIyre6Km4V7r",
        "outputId": "722d720b-938b-483d-b4e9-f1ca79a06d10"
      },
      "execution_count": null,
      "outputs": [
        {
          "output_type": "stream",
          "name": "stdout",
          "text": [
            "0 1\n",
            "1 2\n",
            "2 3\n",
            "3 4\n",
            "4 5.0\n",
            "5 Sunny\n",
            "6 (1+2j)\n",
            "7 True\n"
          ]
        }
      ]
    },
    {
      "cell_type": "code",
      "source": [
        "for i in range(-1, -len(A) -1, -1):\n",
        "  print(i, A[i])"
      ],
      "metadata": {
        "colab": {
          "base_uri": "https://localhost:8080/"
        },
        "id": "3CMWcT6n4YUB",
        "outputId": "e3433d8e-6d4b-4513-c1ae-7bfdaaa5b9a1"
      },
      "execution_count": null,
      "outputs": [
        {
          "output_type": "stream",
          "name": "stdout",
          "text": [
            "-1 True\n",
            "-2 (1+2j)\n",
            "-3 Sunny\n",
            "-4 5.0\n",
            "-5 4\n",
            "-6 3\n",
            "-7 2\n",
            "-8 1\n"
          ]
        }
      ]
    },
    {
      "cell_type": "code",
      "source": [
        "A[::2]"
      ],
      "metadata": {
        "colab": {
          "base_uri": "https://localhost:8080/"
        },
        "id": "X45j8i4I4amx",
        "outputId": "5807a68f-18c0-4d60-b6f2-fcd410c416d0"
      },
      "execution_count": null,
      "outputs": [
        {
          "output_type": "execute_result",
          "data": {
            "text/plain": [
              "[1, 3, 5.0, (1+2j)]"
            ]
          },
          "metadata": {},
          "execution_count": 25
        }
      ]
    },
    {
      "cell_type": "code",
      "source": [
        "A[1::2]"
      ],
      "metadata": {
        "colab": {
          "base_uri": "https://localhost:8080/"
        },
        "id": "iElWlMj_50AV",
        "outputId": "1c82ba38-3a35-4dfa-a422-4c5f9ffc4f49"
      },
      "execution_count": null,
      "outputs": [
        {
          "output_type": "execute_result",
          "data": {
            "text/plain": [
              "[2, 4, 'Sunny', True]"
            ]
          },
          "metadata": {},
          "execution_count": 26
        }
      ]
    },
    {
      "cell_type": "code",
      "source": [
        "A"
      ],
      "metadata": {
        "colab": {
          "base_uri": "https://localhost:8080/"
        },
        "id": "6pv9_1716EXG",
        "outputId": "922ae3f5-bced-4733-c62f-34db1099a607"
      },
      "execution_count": null,
      "outputs": [
        {
          "output_type": "execute_result",
          "data": {
            "text/plain": [
              "[1, 2, 3, 4, 5.0, 'Sunny', (1+2j), True]"
            ]
          },
          "metadata": {},
          "execution_count": 27
        }
      ]
    },
    {
      "cell_type": "code",
      "source": [
        "for i in [1,5,6,7]:\n",
        "  print(i, A[i])"
      ],
      "metadata": {
        "colab": {
          "base_uri": "https://localhost:8080/"
        },
        "id": "7HBQhILG6GiL",
        "outputId": "b794a64f-826e-4307-ec8b-05ad2a6d6beb"
      },
      "execution_count": null,
      "outputs": [
        {
          "output_type": "stream",
          "name": "stdout",
          "text": [
            "1 2\n",
            "5 Sunny\n",
            "6 (1+2j)\n",
            "7 True\n"
          ]
        }
      ]
    },
    {
      "cell_type": "markdown",
      "source": [
        "\n",
        "\n",
        "---\n",
        "\n"
      ],
      "metadata": {
        "id": "D7q2BMKZps3e"
      }
    },
    {
      "cell_type": "markdown",
      "source": [
        "### Updating list element at specific index"
      ],
      "metadata": {
        "id": "5zNt-421NuQk"
      }
    },
    {
      "cell_type": "code",
      "source": [
        "my_list[5] = 6\n",
        "print(\"New value at index 5: \", my_list[5])"
      ],
      "metadata": {
        "colab": {
          "base_uri": "https://localhost:8080/"
        },
        "id": "GyeDdZUJNu_n",
        "outputId": "e5569606-1d16-4119-b7ff-d52921fc8349"
      },
      "execution_count": null,
      "outputs": [
        {
          "output_type": "stream",
          "name": "stdout",
          "text": [
            "New value at index 5:  6\n"
          ]
        }
      ]
    },
    {
      "cell_type": "markdown",
      "source": [
        "We can also use \"+\" to concatenate lists, just like we did for Strings."
      ],
      "metadata": {
        "id": "bOFRxRBCTd4E"
      }
    },
    {
      "cell_type": "code",
      "source": [
        "my_list + ['new item',5]"
      ],
      "metadata": {
        "colab": {
          "base_uri": "https://localhost:8080/"
        },
        "id": "90aaCyHsTbzB",
        "outputId": "60c5a3bb-813b-449b-a796-91ed9391e527"
      },
      "execution_count": null,
      "outputs": [
        {
          "output_type": "execute_result",
          "data": {
            "text/plain": [
              "['one', 'two', 'three', 4, 5, 6, 'new item', 5]"
            ]
          },
          "metadata": {},
          "execution_count": 35
        }
      ]
    },
    {
      "cell_type": "markdown",
      "source": [
        ">**Note:** This doesn't actually change the original list!"
      ],
      "metadata": {
        "id": "PB1w0IckTnAN"
      }
    },
    {
      "cell_type": "code",
      "source": [
        "my_list"
      ],
      "metadata": {
        "colab": {
          "base_uri": "https://localhost:8080/"
        },
        "id": "jIDezKdETlU9",
        "outputId": "12ddebb5-cc63-44f3-8a08-cbd51e1293b5"
      },
      "execution_count": null,
      "outputs": [
        {
          "output_type": "execute_result",
          "data": {
            "text/plain": [
              "['one', 'two', 'three', 4, 5, 6]"
            ]
          },
          "metadata": {},
          "execution_count": 36
        }
      ]
    },
    {
      "cell_type": "code",
      "source": [
        "# Reassign\n",
        "my_list = my_list + ['add new item permanently']"
      ],
      "metadata": {
        "id": "JjzrCD__Tp0k"
      },
      "execution_count": null,
      "outputs": []
    },
    {
      "cell_type": "code",
      "source": [
        "my_list"
      ],
      "metadata": {
        "colab": {
          "base_uri": "https://localhost:8080/"
        },
        "id": "e6A-fnIXTvNk",
        "outputId": "73db2a58-03d5-4004-a6b5-f3ecca99b20b"
      },
      "execution_count": null,
      "outputs": [
        {
          "output_type": "execute_result",
          "data": {
            "text/plain": [
              "['one', 'two', 'three', 4, 5, 6, 'add new item permanently']"
            ]
          },
          "metadata": {},
          "execution_count": 15
        }
      ]
    },
    {
      "cell_type": "markdown",
      "source": [
        "\n",
        "\n",
        "---\n",
        "\n"
      ],
      "metadata": {
        "id": "E5_tAalc7PTD"
      }
    },
    {
      "cell_type": "code",
      "source": [
        "A"
      ],
      "metadata": {
        "colab": {
          "base_uri": "https://localhost:8080/"
        },
        "id": "C3vJiH0p7Qvj",
        "outputId": "dc639f9c-bd5c-44d8-aff6-fd5b545bf675"
      },
      "execution_count": null,
      "outputs": [
        {
          "output_type": "execute_result",
          "data": {
            "text/plain": [
              "[1, 2, 3, 4, 5.0, 'Sunny', (1+2j), True]"
            ]
          },
          "metadata": {},
          "execution_count": 37
        }
      ]
    },
    {
      "cell_type": "code",
      "source": [
        "A[4] = 999 # mutable operation allowed in list"
      ],
      "metadata": {
        "id": "XqPZBEVi7S13"
      },
      "execution_count": null,
      "outputs": []
    },
    {
      "cell_type": "code",
      "source": [
        "A"
      ],
      "metadata": {
        "colab": {
          "base_uri": "https://localhost:8080/"
        },
        "id": "JxbWdDmM7VXb",
        "outputId": "65d133c2-ca14-4dbf-8cfa-f74952eb0468"
      },
      "execution_count": null,
      "outputs": [
        {
          "output_type": "execute_result",
          "data": {
            "text/plain": [
              "[1, 2, 3, 4, 999, 'Sunny', (1+2j), True]"
            ]
          },
          "metadata": {},
          "execution_count": 39
        }
      ]
    },
    {
      "cell_type": "code",
      "source": [
        "A[-2] = \"iNeuron\""
      ],
      "metadata": {
        "id": "V247N0Zw7ZdQ"
      },
      "execution_count": null,
      "outputs": []
    },
    {
      "cell_type": "code",
      "source": [
        "A"
      ],
      "metadata": {
        "colab": {
          "base_uri": "https://localhost:8080/"
        },
        "id": "5nvxA4el8rGf",
        "outputId": "bf9666dd-e08b-40eb-d7d3-c6b6fb4f9a34"
      },
      "execution_count": null,
      "outputs": [
        {
          "output_type": "execute_result",
          "data": {
            "text/plain": [
              "[1, 2, 3, 4, 999, 'Sunny', 'iNeuron', True]"
            ]
          },
          "metadata": {},
          "execution_count": 41
        }
      ]
    },
    {
      "cell_type": "code",
      "source": [
        "B = [78, 90.22]"
      ],
      "metadata": {
        "id": "VMILiT588tT9"
      },
      "execution_count": null,
      "outputs": []
    },
    {
      "cell_type": "code",
      "source": [
        "A + B"
      ],
      "metadata": {
        "colab": {
          "base_uri": "https://localhost:8080/"
        },
        "id": "SG3ZtimY8wU7",
        "outputId": "94034972-26d4-41d7-91dd-0c5ce63f7c0e"
      },
      "execution_count": null,
      "outputs": [
        {
          "output_type": "execute_result",
          "data": {
            "text/plain": [
              "[1, 2, 3, 4, 999, 'Sunny', 'iNeuron', True, 78, 90.22, 78, 90.22]"
            ]
          },
          "metadata": {},
          "execution_count": 44
        }
      ]
    },
    {
      "cell_type": "code",
      "source": [
        "A = A + B"
      ],
      "metadata": {
        "id": "djtCVuk18zBl"
      },
      "execution_count": null,
      "outputs": []
    },
    {
      "cell_type": "code",
      "source": [
        "A"
      ],
      "metadata": {
        "colab": {
          "base_uri": "https://localhost:8080/"
        },
        "id": "7qDGBj3786k6",
        "outputId": "94c87995-b80f-4c18-f7ef-4636540fa52b"
      },
      "execution_count": null,
      "outputs": [
        {
          "output_type": "execute_result",
          "data": {
            "text/plain": [
              "[1, 2, 3, 4, 999, 'Sunny', 'iNeuron', True, 78, 90.22, 78, 90.22]"
            ]
          },
          "metadata": {},
          "execution_count": 46
        }
      ]
    },
    {
      "cell_type": "code",
      "source": [
        "A - B"
      ],
      "metadata": {
        "colab": {
          "base_uri": "https://localhost:8080/",
          "height": 165
        },
        "id": "-KwDVfCr87O_",
        "outputId": "c1a11db0-b6db-4d95-b4b1-6795804f53eb"
      },
      "execution_count": null,
      "outputs": [
        {
          "output_type": "error",
          "ename": "TypeError",
          "evalue": "ignored",
          "traceback": [
            "\u001b[0;31m---------------------------------------------------------------------------\u001b[0m",
            "\u001b[0;31mTypeError\u001b[0m                                 Traceback (most recent call last)",
            "\u001b[0;32m<ipython-input-47-cb6a01d229b4>\u001b[0m in \u001b[0;36m<module>\u001b[0;34m\u001b[0m\n\u001b[0;32m----> 1\u001b[0;31m \u001b[0mA\u001b[0m \u001b[0;34m-\u001b[0m \u001b[0mB\u001b[0m\u001b[0;34m\u001b[0m\u001b[0;34m\u001b[0m\u001b[0m\n\u001b[0m",
            "\u001b[0;31mTypeError\u001b[0m: unsupported operand type(s) for -: 'list' and 'list'"
          ]
        }
      ]
    },
    {
      "cell_type": "markdown",
      "source": [
        "\n",
        "\n",
        "---\n",
        "\n"
      ],
      "metadata": {
        "id": "YOlMImnU7P5k"
      }
    },
    {
      "cell_type": "markdown",
      "source": [
        "### Repetition of list\n",
        "\n",
        "We can also use the * for a duplication method similar to strings:"
      ],
      "metadata": {
        "id": "GIPqTN10WFKe"
      }
    },
    {
      "cell_type": "code",
      "source": [
        "# Make the list double\n",
        "my_list * 2"
      ],
      "metadata": {
        "colab": {
          "base_uri": "https://localhost:8080/"
        },
        "id": "QDxZKmKQWC2d",
        "outputId": "c8f5fcd5-d11e-4376-e7eb-51ead42066c9"
      },
      "execution_count": null,
      "outputs": [
        {
          "output_type": "execute_result",
          "data": {
            "text/plain": [
              "['one',\n",
              " 'two',\n",
              " 'three',\n",
              " 4,\n",
              " 5,\n",
              " 6,\n",
              " 'add new item permanently',\n",
              " 'one',\n",
              " 'two',\n",
              " 'three',\n",
              " 4,\n",
              " 5,\n",
              " 6,\n",
              " 'add new item permanently']"
            ]
          },
          "metadata": {},
          "execution_count": 16
        }
      ]
    },
    {
      "cell_type": "code",
      "source": [
        "# Again doubling not permanent\n",
        "my_list"
      ],
      "metadata": {
        "colab": {
          "base_uri": "https://localhost:8080/"
        },
        "id": "vu_-iNJsWOB1",
        "outputId": "1e7a453b-ddad-47e5-fd09-0cf86fba1bcc"
      },
      "execution_count": null,
      "outputs": [
        {
          "output_type": "execute_result",
          "data": {
            "text/plain": [
              "['one', 'two', 'three', 4, 5, 6, 'add new item permanently']"
            ]
          },
          "metadata": {},
          "execution_count": 17
        }
      ]
    },
    {
      "cell_type": "code",
      "source": [
        "A * 2"
      ],
      "metadata": {
        "colab": {
          "base_uri": "https://localhost:8080/"
        },
        "id": "cHeFzw2s9Nwy",
        "outputId": "3f8b9ab0-c413-4f48-d965-faab2384fcd7"
      },
      "execution_count": null,
      "outputs": [
        {
          "output_type": "execute_result",
          "data": {
            "text/plain": [
              "[1,\n",
              " 2,\n",
              " 3,\n",
              " 4,\n",
              " 999,\n",
              " 'Sunny',\n",
              " 'iNeuron',\n",
              " True,\n",
              " 78,\n",
              " 90.22,\n",
              " 78,\n",
              " 90.22,\n",
              " 1,\n",
              " 2,\n",
              " 3,\n",
              " 4,\n",
              " 999,\n",
              " 'Sunny',\n",
              " 'iNeuron',\n",
              " True,\n",
              " 78,\n",
              " 90.22,\n",
              " 78,\n",
              " 90.22]"
            ]
          },
          "metadata": {},
          "execution_count": 48
        }
      ]
    },
    {
      "cell_type": "code",
      "source": [
        "A/2"
      ],
      "metadata": {
        "colab": {
          "base_uri": "https://localhost:8080/",
          "height": 165
        },
        "id": "nBkjTH5_9SBw",
        "outputId": "8144debf-3a79-4be9-c8af-527eaaa17b31"
      },
      "execution_count": null,
      "outputs": [
        {
          "output_type": "error",
          "ename": "TypeError",
          "evalue": "ignored",
          "traceback": [
            "\u001b[0;31m---------------------------------------------------------------------------\u001b[0m",
            "\u001b[0;31mTypeError\u001b[0m                                 Traceback (most recent call last)",
            "\u001b[0;32m<ipython-input-49-a9ebcd37f600>\u001b[0m in \u001b[0;36m<module>\u001b[0;34m\u001b[0m\n\u001b[0;32m----> 1\u001b[0;31m \u001b[0mA\u001b[0m\u001b[0;34m/\u001b[0m\u001b[0;36m2\u001b[0m\u001b[0;34m\u001b[0m\u001b[0;34m\u001b[0m\u001b[0m\n\u001b[0m",
            "\u001b[0;31mTypeError\u001b[0m: unsupported operand type(s) for /: 'list' and 'int'"
          ]
        }
      ]
    },
    {
      "cell_type": "code",
      "source": [
        "A*A"
      ],
      "metadata": {
        "colab": {
          "base_uri": "https://localhost:8080/",
          "height": 165
        },
        "id": "F9FcmqyE9UhG",
        "outputId": "f6ccea45-7a7e-4a21-fc02-0811278a814d"
      },
      "execution_count": null,
      "outputs": [
        {
          "output_type": "error",
          "ename": "TypeError",
          "evalue": "ignored",
          "traceback": [
            "\u001b[0;31m---------------------------------------------------------------------------\u001b[0m",
            "\u001b[0;31mTypeError\u001b[0m                                 Traceback (most recent call last)",
            "\u001b[0;32m<ipython-input-50-cd6673b04447>\u001b[0m in \u001b[0;36m<module>\u001b[0;34m\u001b[0m\n\u001b[0;32m----> 1\u001b[0;31m \u001b[0mA\u001b[0m\u001b[0;34m*\u001b[0m\u001b[0mA\u001b[0m\u001b[0;34m\u001b[0m\u001b[0;34m\u001b[0m\u001b[0m\n\u001b[0m",
            "\u001b[0;31mTypeError\u001b[0m: can't multiply sequence by non-int of type 'list'"
          ]
        }
      ]
    },
    {
      "cell_type": "code",
      "source": [
        "A + A"
      ],
      "metadata": {
        "colab": {
          "base_uri": "https://localhost:8080/"
        },
        "id": "34rlPBqH9WOV",
        "outputId": "8b51a411-94dc-4258-e60f-6f3195484fd3"
      },
      "execution_count": null,
      "outputs": [
        {
          "output_type": "execute_result",
          "data": {
            "text/plain": [
              "[1,\n",
              " 2,\n",
              " 3,\n",
              " 4,\n",
              " 999,\n",
              " 'Sunny',\n",
              " 'iNeuron',\n",
              " True,\n",
              " 78,\n",
              " 90.22,\n",
              " 78,\n",
              " 90.22,\n",
              " 1,\n",
              " 2,\n",
              " 3,\n",
              " 4,\n",
              " 999,\n",
              " 'Sunny',\n",
              " 'iNeuron',\n",
              " True,\n",
              " 78,\n",
              " 90.22,\n",
              " 78,\n",
              " 90.22]"
            ]
          },
          "metadata": {},
          "execution_count": 51
        }
      ]
    },
    {
      "cell_type": "code",
      "source": [
        "A + A + A"
      ],
      "metadata": {
        "colab": {
          "base_uri": "https://localhost:8080/"
        },
        "id": "6kIOBngS9acx",
        "outputId": "56f0d740-ec9a-4dcd-866e-2b91c0b0b163"
      },
      "execution_count": null,
      "outputs": [
        {
          "output_type": "execute_result",
          "data": {
            "text/plain": [
              "[1,\n",
              " 2,\n",
              " 3,\n",
              " 4,\n",
              " 999,\n",
              " 'Sunny',\n",
              " 'iNeuron',\n",
              " True,\n",
              " 78,\n",
              " 90.22,\n",
              " 78,\n",
              " 90.22,\n",
              " 1,\n",
              " 2,\n",
              " 3,\n",
              " 4,\n",
              " 999,\n",
              " 'Sunny',\n",
              " 'iNeuron',\n",
              " True,\n",
              " 78,\n",
              " 90.22,\n",
              " 78,\n",
              " 90.22,\n",
              " 1,\n",
              " 2,\n",
              " 3,\n",
              " 4,\n",
              " 999,\n",
              " 'Sunny',\n",
              " 'iNeuron',\n",
              " True,\n",
              " 78,\n",
              " 90.22,\n",
              " 78,\n",
              " 90.22]"
            ]
          },
          "metadata": {},
          "execution_count": 52
        }
      ]
    },
    {
      "cell_type": "code",
      "source": [
        "A * (-1)"
      ],
      "metadata": {
        "colab": {
          "base_uri": "https://localhost:8080/"
        },
        "id": "vYZuy-GJ9ehR",
        "outputId": "fa8495fe-3429-4dd3-9947-61b8c21bc9e6"
      },
      "execution_count": null,
      "outputs": [
        {
          "output_type": "execute_result",
          "data": {
            "text/plain": [
              "[]"
            ]
          },
          "metadata": {},
          "execution_count": 53
        }
      ]
    },
    {
      "cell_type": "code",
      "source": [
        "A * (-2)"
      ],
      "metadata": {
        "colab": {
          "base_uri": "https://localhost:8080/"
        },
        "id": "QClIioHq9bKl",
        "outputId": "64869674-a467-447f-9739-472545c5c839"
      },
      "execution_count": null,
      "outputs": [
        {
          "output_type": "execute_result",
          "data": {
            "text/plain": [
              "[]"
            ]
          },
          "metadata": {},
          "execution_count": 54
        }
      ]
    },
    {
      "cell_type": "code",
      "source": [
        "A + 2 * A"
      ],
      "metadata": {
        "colab": {
          "base_uri": "https://localhost:8080/"
        },
        "id": "BmL5i0jV9iTm",
        "outputId": "c99efb48-e19c-4a09-b0e8-38e0d31d00c0"
      },
      "execution_count": null,
      "outputs": [
        {
          "output_type": "execute_result",
          "data": {
            "text/plain": [
              "[1,\n",
              " 2,\n",
              " 3,\n",
              " 4,\n",
              " 999,\n",
              " 'Sunny',\n",
              " 'iNeuron',\n",
              " True,\n",
              " 78,\n",
              " 90.22,\n",
              " 78,\n",
              " 90.22,\n",
              " 1,\n",
              " 2,\n",
              " 3,\n",
              " 4,\n",
              " 999,\n",
              " 'Sunny',\n",
              " 'iNeuron',\n",
              " True,\n",
              " 78,\n",
              " 90.22,\n",
              " 78,\n",
              " 90.22,\n",
              " 1,\n",
              " 2,\n",
              " 3,\n",
              " 4,\n",
              " 999,\n",
              " 'Sunny',\n",
              " 'iNeuron',\n",
              " True,\n",
              " 78,\n",
              " 90.22,\n",
              " 78,\n",
              " 90.22]"
            ]
          },
          "metadata": {},
          "execution_count": 55
        }
      ]
    },
    {
      "cell_type": "code",
      "source": [
        "A * 0"
      ],
      "metadata": {
        "colab": {
          "base_uri": "https://localhost:8080/"
        },
        "id": "xHBwHgtK9z_b",
        "outputId": "9ec6258b-6d15-469f-9175-cb0fac099d5a"
      },
      "execution_count": null,
      "outputs": [
        {
          "output_type": "execute_result",
          "data": {
            "text/plain": [
              "[]"
            ]
          },
          "metadata": {},
          "execution_count": 56
        }
      ]
    },
    {
      "cell_type": "markdown",
      "source": [
        "\n",
        "\n",
        "---\n",
        "\n"
      ],
      "metadata": {
        "id": "LeZTfkdI91NS"
      }
    },
    {
      "cell_type": "markdown",
      "source": [
        "### Basic List Methods\n",
        "\n",
        "If you are familiar with another programming language, start to draw parallels between lists in Python and arrays in other language. There are two reasons which tells why the lists in Python are more flexible than arrays in other programming language:\n",
        "\n",
        "**a.** They have no fixed size (which means we need not to specify how big the list will be)\n",
        "\n",
        "**b.** They have no fixed type constraint \n",
        "\n",
        "Let's go ahead and explore some more special methods for lists:"
      ],
      "metadata": {
        "id": "tsNqJd9JWXCN"
      }
    },
    {
      "cell_type": "code",
      "source": [],
      "metadata": {
        "id": "KTG2Qk8J9YA-"
      },
      "execution_count": null,
      "outputs": []
    },
    {
      "cell_type": "markdown",
      "source": [
        "### len()\n",
        "\n",
        "length of a list can be calculated using in built `len()`"
      ],
      "metadata": {
        "id": "giRnr2kPWiRD"
      }
    },
    {
      "cell_type": "code",
      "source": [
        "l = [45,6,7,5,\"ineuron\",True,False,35,62.56]\n",
        "len(l)"
      ],
      "metadata": {
        "colab": {
          "base_uri": "https://localhost:8080/"
        },
        "id": "beh8dbD9WR3d",
        "outputId": "b4ffd67d-b9d3-43a9-d723-03d1fea63b15"
      },
      "execution_count": null,
      "outputs": [
        {
          "output_type": "execute_result",
          "data": {
            "text/plain": [
              "9"
            ]
          },
          "metadata": {},
          "execution_count": 59
        }
      ]
    },
    {
      "cell_type": "code",
      "source": [
        "len(A)"
      ],
      "metadata": {
        "colab": {
          "base_uri": "https://localhost:8080/"
        },
        "id": "h68QlR4F-UFq",
        "outputId": "92903719-1745-4e62-d5c2-d87f3fc4c521"
      },
      "execution_count": null,
      "outputs": [
        {
          "output_type": "execute_result",
          "data": {
            "text/plain": [
              "12"
            ]
          },
          "metadata": {},
          "execution_count": 60
        }
      ]
    },
    {
      "cell_type": "code",
      "source": [
        "len(l)"
      ],
      "metadata": {
        "colab": {
          "base_uri": "https://localhost:8080/"
        },
        "id": "0dX-ctQP-ZNz",
        "outputId": "77c4b154-5829-4142-b138-20ce603decef"
      },
      "execution_count": null,
      "outputs": [
        {
          "output_type": "execute_result",
          "data": {
            "text/plain": [
              "9"
            ]
          },
          "metadata": {},
          "execution_count": 61
        }
      ]
    },
    {
      "cell_type": "code",
      "source": [
        "my_list = [] # NOT RECOMMEDED\n",
        "\n",
        "len(my_list)"
      ],
      "metadata": {
        "colab": {
          "base_uri": "https://localhost:8080/"
        },
        "id": "YcDnWbvj-ecR",
        "outputId": "09ab2bd7-6705-4409-dad3-5fce5ce4eac7"
      },
      "execution_count": null,
      "outputs": [
        {
          "output_type": "execute_result",
          "data": {
            "text/plain": [
              "0"
            ]
          },
          "metadata": {},
          "execution_count": 62
        }
      ]
    },
    {
      "cell_type": "code",
      "source": [
        "my_list = list() # RECOMMEDED\n",
        "\n",
        "len(my_list)"
      ],
      "metadata": {
        "colab": {
          "base_uri": "https://localhost:8080/"
        },
        "id": "i2AecvVx-a3c",
        "outputId": "b44c0fe0-eeda-4055-c4b6-8451c60af147"
      },
      "execution_count": null,
      "outputs": [
        {
          "output_type": "execute_result",
          "data": {
            "text/plain": [
              "0"
            ]
          },
          "metadata": {},
          "execution_count": 63
        }
      ]
    },
    {
      "cell_type": "code",
      "source": [
        "list_of_item_to_purchase = list() # empty list\n",
        "\n",
        "N = int(input(\"No of item you want to purchase: \"))\n",
        "for i in range(N):\n",
        "  user_input = input(\"Enter the item that you want to purchase: \")\n",
        "  list_of_item_to_purchase = list_of_item_to_purchase + [user_input]\n",
        "\n",
        "print(list_of_item_to_purchase)"
      ],
      "metadata": {
        "colab": {
          "base_uri": "https://localhost:8080/"
        },
        "id": "Ohdyvkua-iiF",
        "outputId": "9c3c5b61-182b-4233-8a99-1867f13dad40"
      },
      "execution_count": null,
      "outputs": [
        {
          "output_type": "stream",
          "name": "stdout",
          "text": [
            "No of item you want to purchase: 3\n",
            "Enter the item that you want to purchase: pen\n",
            "Enter the item that you want to purchase: paper\n",
            "Enter the item that you want to purchase: plane\n",
            "['pen', 'paper', 'plane']\n"
          ]
        }
      ]
    },
    {
      "cell_type": "code",
      "source": [
        "list_of_item_to_purchase = list() # empty list\n",
        "\n",
        "N = int(input(\"No of item you want to purchase: \"))\n",
        "i = 0\n",
        "while i < N:\n",
        "  user_input = input(\"Enter the item that you want to purchase: \")\n",
        "  list_of_item_to_purchase = list_of_item_to_purchase + [user_input]\n",
        "  i = i + 1\n",
        "  \n",
        "print(list_of_item_to_purchase)"
      ],
      "metadata": {
        "colab": {
          "base_uri": "https://localhost:8080/"
        },
        "id": "mRQZHIN3_Skh",
        "outputId": "b2c0b04e-07c6-465a-e075-83f288ab779b"
      },
      "execution_count": null,
      "outputs": [
        {
          "output_type": "stream",
          "name": "stdout",
          "text": [
            "No of item you want to purchase: 3\n",
            "Enter the item that you want to purchase: pen\n",
            "Enter the item that you want to purchase: paper\n",
            "Enter the item that you want to purchase: plane\n",
            "['pen', 'paper', 'plane']\n"
          ]
        }
      ]
    },
    {
      "cell_type": "code",
      "source": [
        "[1,2] + [34] "
      ],
      "metadata": {
        "colab": {
          "base_uri": "https://localhost:8080/"
        },
        "id": "TZwW70Gn_zMy",
        "outputId": "3b9cecd4-686d-4c48-8223-28010601d800"
      },
      "execution_count": null,
      "outputs": [
        {
          "output_type": "execute_result",
          "data": {
            "text/plain": [
              "[1, 2, 34]"
            ]
          },
          "metadata": {},
          "execution_count": 66
        }
      ]
    },
    {
      "cell_type": "code",
      "source": [
        "list_of_item_to_purchase = list() # empty list\n",
        "\n",
        "N = int(input(\"No of item you want to purchase: \"))\n",
        "i = 0\n",
        "while i < N:\n",
        "  user_input = input(\"Enter the item that you want to purchase: \")\n",
        "  list_of_item_to_purchase = list_of_item_to_purchase + [user_input]\n",
        "  i = i + 1\n",
        "  print(f\"current i: {i}=> Current list: {list_of_item_to_purchase}\")\n",
        "\n",
        "  \n",
        "print(list_of_item_to_purchase)"
      ],
      "metadata": {
        "colab": {
          "base_uri": "https://localhost:8080/"
        },
        "id": "Z0glgg9X_0C9",
        "outputId": "2a8e2daa-b657-44a7-d36a-73af219dfc4d"
      },
      "execution_count": null,
      "outputs": [
        {
          "output_type": "stream",
          "name": "stdout",
          "text": [
            "No of item you want to purchase: 3\n",
            "Enter the item that you want to purchase: pen\n",
            "current i: 1=> Current list: ['pen']\n",
            "Enter the item that you want to purchase: paper\n",
            "current i: 2=> Current list: ['pen', 'paper']\n",
            "Enter the item that you want to purchase: plane\n",
            "current i: 3=> Current list: ['pen', 'paper', 'plane']\n",
            "['pen', 'paper', 'plane']\n"
          ]
        }
      ]
    },
    {
      "cell_type": "code",
      "source": [
        "len(list_of_item_to_purchase)"
      ],
      "metadata": {
        "colab": {
          "base_uri": "https://localhost:8080/"
        },
        "id": "1zGcucAEAj4B",
        "outputId": "41d19723-b9ca-40a3-dccb-c08b9872010b"
      },
      "execution_count": null,
      "outputs": [
        {
          "output_type": "execute_result",
          "data": {
            "text/plain": [
              "3"
            ]
          },
          "metadata": {},
          "execution_count": 68
        }
      ]
    },
    {
      "cell_type": "markdown",
      "source": [
        "### Check membership in a list"
      ],
      "metadata": {
        "id": "AGD9tFF7XBQc"
      }
    },
    {
      "cell_type": "code",
      "source": [
        "# check if 5 exists in list l\n",
        "5 in l"
      ],
      "metadata": {
        "colab": {
          "base_uri": "https://localhost:8080/"
        },
        "id": "nVUKDTaUW8vM",
        "outputId": "0db97795-b04d-40bd-cd7b-8e32b03be838"
      },
      "execution_count": null,
      "outputs": [
        {
          "output_type": "execute_result",
          "data": {
            "text/plain": [
              "True"
            ]
          },
          "metadata": {},
          "execution_count": 69
        }
      ]
    },
    {
      "cell_type": "code",
      "source": [
        "\"Phone cover\" in list_of_item_to_purchase"
      ],
      "metadata": {
        "colab": {
          "base_uri": "https://localhost:8080/"
        },
        "id": "hEdOKYAgAtOh",
        "outputId": "4b45027a-d195-4561-db43-8f102508b9e7"
      },
      "execution_count": null,
      "outputs": [
        {
          "output_type": "execute_result",
          "data": {
            "text/plain": [
              "False"
            ]
          },
          "metadata": {},
          "execution_count": 70
        }
      ]
    },
    {
      "cell_type": "code",
      "source": [
        "\"pen\" in list_of_item_to_purchase"
      ],
      "metadata": {
        "colab": {
          "base_uri": "https://localhost:8080/"
        },
        "id": "hZALCYicAtzH",
        "outputId": "86614c4b-3fae-4427-eff2-0bf41bda4046"
      },
      "execution_count": null,
      "outputs": [
        {
          "output_type": "execute_result",
          "data": {
            "text/plain": [
              "True"
            ]
          },
          "metadata": {},
          "execution_count": 71
        }
      ]
    },
    {
      "cell_type": "code",
      "source": [
        "\"Pen\" in list_of_item_to_purchase # Case sensitive"
      ],
      "metadata": {
        "colab": {
          "base_uri": "https://localhost:8080/"
        },
        "id": "5ah_L7qTAvik",
        "outputId": "b6761727-a4ef-422c-9fed-1d209c5b4637"
      },
      "execution_count": null,
      "outputs": [
        {
          "output_type": "execute_result",
          "data": {
            "text/plain": [
              "False"
            ]
          },
          "metadata": {},
          "execution_count": 72
        }
      ]
    },
    {
      "cell_type": "code",
      "source": [
        "if \"Phone cover\" in list_of_item_to_purchase:\n",
        "  print(\"YES\")\n",
        "else:\n",
        "  print(\"NO, adding into the list\")\n",
        "  list_of_item_to_purchase = list_of_item_to_purchase + [\"Phone cover\"]\n"
      ],
      "metadata": {
        "colab": {
          "base_uri": "https://localhost:8080/"
        },
        "id": "wPzvOmwzAxQU",
        "outputId": "9f7879ee-6fc8-4c4d-ba16-c6eaa6891ac5"
      },
      "execution_count": null,
      "outputs": [
        {
          "output_type": "stream",
          "name": "stdout",
          "text": [
            "NO, adding into the list\n"
          ]
        }
      ]
    },
    {
      "cell_type": "code",
      "source": [
        "list_of_item_to_purchase"
      ],
      "metadata": {
        "colab": {
          "base_uri": "https://localhost:8080/"
        },
        "id": "x_AlrT32A4hm",
        "outputId": "9d077d78-2f2f-40ba-8e4a-6ed4a2a39196"
      },
      "execution_count": null,
      "outputs": [
        {
          "output_type": "execute_result",
          "data": {
            "text/plain": [
              "['pen', 'paper', 'plane', 'Phone cover']"
            ]
          },
          "metadata": {},
          "execution_count": 74
        }
      ]
    },
    {
      "cell_type": "code",
      "source": [
        "if \"Phone cover\" in list_of_item_to_purchase:\n",
        "  print(\"YES\")\n",
        "else:\n",
        "  print(\"NO, adding into the list\")\n",
        "  list_of_item_to_purchase = list_of_item_to_purchase + [\"Phone cover\"]"
      ],
      "metadata": {
        "colab": {
          "base_uri": "https://localhost:8080/"
        },
        "id": "nmPHEIGmA8ey",
        "outputId": "f209e4ef-1aa3-4d7a-f52d-5acae2296a8f"
      },
      "execution_count": null,
      "outputs": [
        {
          "output_type": "stream",
          "name": "stdout",
          "text": [
            "YES\n"
          ]
        }
      ]
    },
    {
      "cell_type": "code",
      "source": [
        "if \"Milk\" not in list_of_item_to_purchase:\n",
        "  print(\"NO, adding into the list\")\n",
        "  list_of_item_to_purchase = list_of_item_to_purchase + [\"Milk\"]\n",
        "list_of_item_to_purchase"
      ],
      "metadata": {
        "colab": {
          "base_uri": "https://localhost:8080/"
        },
        "id": "Ui_50oBQBAec",
        "outputId": "b6d2f921-f23c-4377-859a-fefdc9d0fc11"
      },
      "execution_count": null,
      "outputs": [
        {
          "output_type": "stream",
          "name": "stdout",
          "text": [
            "NO, adding into the list\n"
          ]
        },
        {
          "output_type": "execute_result",
          "data": {
            "text/plain": [
              "['pen', 'paper', 'plane', 'Phone cover', 'Milk']"
            ]
          },
          "metadata": {},
          "execution_count": 77
        }
      ]
    },
    {
      "cell_type": "code",
      "source": [
        "new_item = input(\"Any thing else to add:\")\n",
        "\n",
        "if new_item not in list_of_item_to_purchase:\n",
        "  print(\"NO, adding into the list\")\n",
        "  list_of_item_to_purchase = list_of_item_to_purchase + [new_item]\n",
        "list_of_item_to_purchase"
      ],
      "metadata": {
        "colab": {
          "base_uri": "https://localhost:8080/"
        },
        "id": "rEhQfAIeBEKP",
        "outputId": "c621c0ce-fea7-4f2b-e02d-701f01229076"
      },
      "execution_count": null,
      "outputs": [
        {
          "output_type": "stream",
          "name": "stdout",
          "text": [
            "Any thing else to add:powder\n",
            "NO, adding into the list\n"
          ]
        },
        {
          "output_type": "execute_result",
          "data": {
            "text/plain": [
              "['pen', 'paper', 'plane', 'Phone cover', 'Milk', 'powder']"
            ]
          },
          "metadata": {},
          "execution_count": 78
        }
      ]
    },
    {
      "cell_type": "code",
      "source": [
        "len(list_of_item_to_purchase)"
      ],
      "metadata": {
        "colab": {
          "base_uri": "https://localhost:8080/"
        },
        "id": "CxTZLQ1uB-Sk",
        "outputId": "26169bd3-4c24-4fb0-aa70-9597644227f3"
      },
      "execution_count": null,
      "outputs": [
        {
          "output_type": "execute_result",
          "data": {
            "text/plain": [
              "6"
            ]
          },
          "metadata": {},
          "execution_count": 79
        }
      ]
    },
    {
      "cell_type": "markdown",
      "metadata": {
        "id": "cThvnUczIKB-"
      },
      "source": [
        "### max()\n",
        "\n",
        "We can find max value from a given list"
      ]
    },
    {
      "cell_type": "code",
      "source": [
        "list1 = [\"iNeuron\",\"Datascience\",\"Big-data\",\"Analytics\"]\n",
        "list2 = [5,6,2,9,7,5,0]\n",
        "print(max(list1))\n",
        "print(max(list2))"
      ],
      "metadata": {
        "colab": {
          "base_uri": "https://localhost:8080/"
        },
        "id": "5POndI4LXJtW",
        "outputId": "5de97396-1f83-4ae7-ce00-d26f77a976fd"
      },
      "execution_count": null,
      "outputs": [
        {
          "output_type": "stream",
          "name": "stdout",
          "text": [
            "iNeuron\n",
            "9\n"
          ]
        }
      ]
    },
    {
      "cell_type": "code",
      "source": [
        "example = [1,45,999,10]\n",
        "\n",
        "max(example)"
      ],
      "metadata": {
        "colab": {
          "base_uri": "https://localhost:8080/"
        },
        "id": "8Rld9PQPCEBp",
        "outputId": "e4e932d0-5954-477a-dcf2-1f1de6e11142"
      },
      "execution_count": null,
      "outputs": [
        {
          "output_type": "execute_result",
          "data": {
            "text/plain": [
              "999"
            ]
          },
          "metadata": {},
          "execution_count": 80
        }
      ]
    },
    {
      "cell_type": "code",
      "source": [
        "string_example = [\"b\", \"a\", \"d\", \"c\"]\n",
        "\n",
        "max(string_example)"
      ],
      "metadata": {
        "colab": {
          "base_uri": "https://localhost:8080/",
          "height": 35
        },
        "id": "Dlxoi594CGII",
        "outputId": "e889494f-ebf0-4e89-bc9d-c8fb5ac6d452"
      },
      "execution_count": null,
      "outputs": [
        {
          "output_type": "execute_result",
          "data": {
            "text/plain": [
              "'d'"
            ],
            "application/vnd.google.colaboratory.intrinsic+json": {
              "type": "string"
            }
          },
          "metadata": {},
          "execution_count": 81
        }
      ]
    },
    {
      "cell_type": "markdown",
      "source": [
        "Refer asciicode: http://sticksandstones.kstrom.com/appen.html "
      ],
      "metadata": {
        "id": "Oq-9CtNCW0Ca"
      }
    },
    {
      "cell_type": "code",
      "source": [
        "string_example = [\"b\", \"a\", \"d\", \"c\", \"D\"]\n",
        "\n",
        "max(string_example)"
      ],
      "metadata": {
        "colab": {
          "base_uri": "https://localhost:8080/",
          "height": 35
        },
        "id": "fNM3spxZCIwt",
        "outputId": "c15586c6-712c-44a2-83dc-90d380035f19"
      },
      "execution_count": null,
      "outputs": [
        {
          "output_type": "execute_result",
          "data": {
            "text/plain": [
              "'d'"
            ],
            "application/vnd.google.colaboratory.intrinsic+json": {
              "type": "string"
            }
          },
          "metadata": {},
          "execution_count": 82
        }
      ]
    },
    {
      "cell_type": "code",
      "source": [
        "string_example = [\"bhaveen\", \"abhishek\", \"dew\", \"chalie\", \"Doctor\"]\n",
        "\n",
        "max(string_example)"
      ],
      "metadata": {
        "colab": {
          "base_uri": "https://localhost:8080/",
          "height": 35
        },
        "id": "WIfAPfLACQaB",
        "outputId": "98fbf404-96b9-4e5f-87c9-0f729c63c833"
      },
      "execution_count": null,
      "outputs": [
        {
          "output_type": "execute_result",
          "data": {
            "text/plain": [
              "'dew'"
            ],
            "application/vnd.google.colaboratory.intrinsic+json": {
              "type": "string"
            }
          },
          "metadata": {},
          "execution_count": 83
        }
      ]
    },
    {
      "cell_type": "code",
      "source": [
        "string_example = [\"bhaveen\", \"abhishek\", \"dew\", \"dj\", \"chalie\", \"Doctor\"]\n",
        "\n",
        "max(string_example)"
      ],
      "metadata": {
        "colab": {
          "base_uri": "https://localhost:8080/",
          "height": 35
        },
        "id": "g971YItBC-9M",
        "outputId": "7fef6a5f-bcdc-43ae-ed48-d50996ba0196"
      },
      "execution_count": null,
      "outputs": [
        {
          "output_type": "execute_result",
          "data": {
            "text/plain": [
              "'dj'"
            ],
            "application/vnd.google.colaboratory.intrinsic+json": {
              "type": "string"
            }
          },
          "metadata": {},
          "execution_count": 84
        }
      ]
    },
    {
      "cell_type": "code",
      "source": [
        "string_example = [\"bhaveen\", \"abhishek\", \"dew\", \"dj\", \"chalie\", \"Doctor\"]\n",
        "\n",
        "min(string_example)"
      ],
      "metadata": {
        "colab": {
          "base_uri": "https://localhost:8080/",
          "height": 35
        },
        "id": "lFjt7TivDB9H",
        "outputId": "2f5aeedd-360e-48df-b71a-01f6616db49a"
      },
      "execution_count": null,
      "outputs": [
        {
          "output_type": "execute_result",
          "data": {
            "text/plain": [
              "'Doctor'"
            ],
            "application/vnd.google.colaboratory.intrinsic+json": {
              "type": "string"
            }
          },
          "metadata": {},
          "execution_count": 85
        }
      ]
    },
    {
      "cell_type": "code",
      "source": [
        "string_example = [\"bhaveen\", \"abhishek\", \"dew\", \"dj\", \"chalie\"]\n",
        "\n",
        "min(string_example)"
      ],
      "metadata": {
        "colab": {
          "base_uri": "https://localhost:8080/",
          "height": 35
        },
        "id": "7IVm6FJMDDxI",
        "outputId": "105be1b2-8116-48f6-ab39-6bfd2bbedc8e"
      },
      "execution_count": null,
      "outputs": [
        {
          "output_type": "execute_result",
          "data": {
            "text/plain": [
              "'abhishek'"
            ],
            "application/vnd.google.colaboratory.intrinsic+json": {
              "type": "string"
            }
          },
          "metadata": {},
          "execution_count": 86
        }
      ]
    },
    {
      "cell_type": "code",
      "source": [
        "# print the name with highest no of character -\n",
        "\n",
        "max_len = 0\n",
        "result = \"\"\n",
        "for example in string_example:\n",
        "  print(example, len(example))\n",
        "  if len(example) > max_len:\n",
        "    max_len = len(example)\n",
        "    result = example\n",
        "\n",
        "print(f\"RESULT: max_len: {max_len} name: {result}\")"
      ],
      "metadata": {
        "colab": {
          "base_uri": "https://localhost:8080/"
        },
        "id": "sYzZvosKDFp9",
        "outputId": "6ead1b74-c0ef-4712-e5bc-bbc39dd1c97e"
      },
      "execution_count": null,
      "outputs": [
        {
          "output_type": "stream",
          "name": "stdout",
          "text": [
            "bhaveen 7\n",
            "abhishek 8\n",
            "dew 3\n",
            "dj 2\n",
            "chalie 6\n",
            "RESULT: max_len: 8 name: abhishek\n"
          ]
        }
      ]
    },
    {
      "cell_type": "code",
      "source": [
        "string_example = [\"b\", \"a\", \"d\", \"c\", \"D\", 1, 2]\n",
        "\n",
        "max(string_example)"
      ],
      "metadata": {
        "colab": {
          "base_uri": "https://localhost:8080/",
          "height": 200
        },
        "id": "CE1m6IutDYnt",
        "outputId": "bf0949b6-df85-44f7-a4f9-f707fea5a5df"
      },
      "execution_count": null,
      "outputs": [
        {
          "output_type": "error",
          "ename": "TypeError",
          "evalue": "ignored",
          "traceback": [
            "\u001b[0;31m---------------------------------------------------------------------------\u001b[0m",
            "\u001b[0;31mTypeError\u001b[0m                                 Traceback (most recent call last)",
            "\u001b[0;32m<ipython-input-88-7aca097b5ff2>\u001b[0m in \u001b[0;36m<module>\u001b[0;34m\u001b[0m\n\u001b[1;32m      1\u001b[0m \u001b[0mstring_example\u001b[0m \u001b[0;34m=\u001b[0m \u001b[0;34m[\u001b[0m\u001b[0;34m\"b\"\u001b[0m\u001b[0;34m,\u001b[0m \u001b[0;34m\"a\"\u001b[0m\u001b[0;34m,\u001b[0m \u001b[0;34m\"d\"\u001b[0m\u001b[0;34m,\u001b[0m \u001b[0;34m\"c\"\u001b[0m\u001b[0;34m,\u001b[0m \u001b[0;34m\"D\"\u001b[0m\u001b[0;34m,\u001b[0m \u001b[0;36m1\u001b[0m\u001b[0;34m,\u001b[0m \u001b[0;36m2\u001b[0m\u001b[0;34m]\u001b[0m\u001b[0;34m\u001b[0m\u001b[0;34m\u001b[0m\u001b[0m\n\u001b[1;32m      2\u001b[0m \u001b[0;34m\u001b[0m\u001b[0m\n\u001b[0;32m----> 3\u001b[0;31m \u001b[0mmax\u001b[0m\u001b[0;34m(\u001b[0m\u001b[0mstring_example\u001b[0m\u001b[0;34m)\u001b[0m\u001b[0;34m\u001b[0m\u001b[0;34m\u001b[0m\u001b[0m\n\u001b[0m",
            "\u001b[0;31mTypeError\u001b[0m: '>' not supported between instances of 'int' and 'str'"
          ]
        }
      ]
    },
    {
      "cell_type": "code",
      "source": [
        "example = [1, 2, 99.0]\n",
        "\n",
        "max(example)"
      ],
      "metadata": {
        "colab": {
          "base_uri": "https://localhost:8080/"
        },
        "id": "CZifFimgDasM",
        "outputId": "a674c3ff-9170-4d57-fb2f-1af34da4f05f"
      },
      "execution_count": null,
      "outputs": [
        {
          "output_type": "execute_result",
          "data": {
            "text/plain": [
              "99.0"
            ]
          },
          "metadata": {},
          "execution_count": 89
        }
      ]
    },
    {
      "cell_type": "code",
      "source": [
        "example = [1, 2, 99.0, 1000, -500]\n",
        "\n",
        "max(example)"
      ],
      "metadata": {
        "colab": {
          "base_uri": "https://localhost:8080/"
        },
        "id": "GesmJ5YvDdEz",
        "outputId": "5cb21ca6-9ca8-47cb-9576-6e467979c52e"
      },
      "execution_count": null,
      "outputs": [
        {
          "output_type": "execute_result",
          "data": {
            "text/plain": [
              "1000"
            ]
          },
          "metadata": {},
          "execution_count": 90
        }
      ]
    },
    {
      "cell_type": "code",
      "source": [
        "example = [1, 2, 99.0, 1000, -500]\n",
        "\n",
        "min(example)"
      ],
      "metadata": {
        "colab": {
          "base_uri": "https://localhost:8080/"
        },
        "id": "m7DhUn_mDe_U",
        "outputId": "9e41bb7a-bea3-4637-95f2-298603b58a10"
      },
      "execution_count": null,
      "outputs": [
        {
          "output_type": "execute_result",
          "data": {
            "text/plain": [
              "-500"
            ]
          },
          "metadata": {},
          "execution_count": 91
        }
      ]
    },
    {
      "cell_type": "code",
      "source": [
        "example = [1, 2, 99.0, 1+5j]\n",
        "\n",
        "max(example)"
      ],
      "metadata": {
        "colab": {
          "base_uri": "https://localhost:8080/",
          "height": 200
        },
        "id": "BOHfTuxODhEo",
        "outputId": "b1349065-b3d0-42a5-aa3f-220e67aa7b0a"
      },
      "execution_count": null,
      "outputs": [
        {
          "output_type": "error",
          "ename": "TypeError",
          "evalue": "ignored",
          "traceback": [
            "\u001b[0;31m---------------------------------------------------------------------------\u001b[0m",
            "\u001b[0;31mTypeError\u001b[0m                                 Traceback (most recent call last)",
            "\u001b[0;32m<ipython-input-92-59e8588e6729>\u001b[0m in \u001b[0;36m<module>\u001b[0;34m\u001b[0m\n\u001b[1;32m      1\u001b[0m \u001b[0mexample\u001b[0m \u001b[0;34m=\u001b[0m \u001b[0;34m[\u001b[0m\u001b[0;36m1\u001b[0m\u001b[0;34m,\u001b[0m \u001b[0;36m2\u001b[0m\u001b[0;34m,\u001b[0m \u001b[0;36m99.0\u001b[0m\u001b[0;34m,\u001b[0m \u001b[0;36m1\u001b[0m\u001b[0;34m+\u001b[0m\u001b[0;36m5j\u001b[0m\u001b[0;34m]\u001b[0m\u001b[0;34m\u001b[0m\u001b[0;34m\u001b[0m\u001b[0m\n\u001b[1;32m      2\u001b[0m \u001b[0;34m\u001b[0m\u001b[0m\n\u001b[0;32m----> 3\u001b[0;31m \u001b[0mmax\u001b[0m\u001b[0;34m(\u001b[0m\u001b[0mexample\u001b[0m\u001b[0;34m)\u001b[0m\u001b[0;34m\u001b[0m\u001b[0;34m\u001b[0m\u001b[0m\n\u001b[0m",
            "\u001b[0;31mTypeError\u001b[0m: '>' not supported between instances of 'complex' and 'float'"
          ]
        }
      ]
    },
    {
      "cell_type": "code",
      "source": [
        "example = [1, 2, 99.0, 1000, -500, 200*20]\n",
        "\n",
        "max(example)"
      ],
      "metadata": {
        "colab": {
          "base_uri": "https://localhost:8080/"
        },
        "id": "Od03I0UYDtAL",
        "outputId": "8125aa6e-7c33-47a1-ce40-d9b83d5ab122"
      },
      "execution_count": null,
      "outputs": [
        {
          "output_type": "execute_result",
          "data": {
            "text/plain": [
              "4000"
            ]
          },
          "metadata": {},
          "execution_count": 93
        }
      ]
    },
    {
      "cell_type": "code",
      "source": [
        "# In python 3, you can't find max with different data-types in a list\n",
        "print(max([1,2,\"ineuron\"]))"
      ],
      "metadata": {
        "colab": {
          "base_uri": "https://localhost:8080/",
          "height": 183
        },
        "id": "36oKpra6XMvL",
        "outputId": "4d75a0a4-952c-4901-a6b0-aa35d97fa133"
      },
      "execution_count": null,
      "outputs": [
        {
          "output_type": "error",
          "ename": "TypeError",
          "evalue": "ignored",
          "traceback": [
            "\u001b[0;31m---------------------------------------------------------------------------\u001b[0m",
            "\u001b[0;31mTypeError\u001b[0m                                 Traceback (most recent call last)",
            "\u001b[0;32m<ipython-input-21-65d687d0d615>\u001b[0m in \u001b[0;36m<module>\u001b[0;34m\u001b[0m\n\u001b[1;32m      1\u001b[0m \u001b[0;31m# In python 3, you can't find max with different data-types in a list\u001b[0m\u001b[0;34m\u001b[0m\u001b[0;34m\u001b[0m\u001b[0;34m\u001b[0m\u001b[0m\n\u001b[0;32m----> 2\u001b[0;31m \u001b[0mprint\u001b[0m\u001b[0;34m(\u001b[0m\u001b[0mmax\u001b[0m\u001b[0;34m(\u001b[0m\u001b[0;34m[\u001b[0m\u001b[0;36m1\u001b[0m\u001b[0;34m,\u001b[0m\u001b[0;36m2\u001b[0m\u001b[0;34m,\u001b[0m\u001b[0;34m\"ineuron\"\u001b[0m\u001b[0;34m]\u001b[0m\u001b[0;34m)\u001b[0m\u001b[0;34m)\u001b[0m\u001b[0;34m\u001b[0m\u001b[0;34m\u001b[0m\u001b[0m\n\u001b[0m",
            "\u001b[0;31mTypeError\u001b[0m: '>' not supported between instances of 'str' and 'int'"
          ]
        }
      ]
    },
    {
      "cell_type": "markdown",
      "metadata": {
        "id": "d9uytoaeIKCF"
      },
      "source": [
        "### min()\n",
        "\n",
        "We can find min value from a given list"
      ]
    },
    {
      "cell_type": "code",
      "source": [
        "list1 = [\"iNeuron\",\"Datascience\",\"Big-data\",\"Analytics\"]\n",
        "list2 = [5,6,2,9,7,5,0]\n",
        "print(min(list1))\n",
        "print(min(list2))"
      ],
      "metadata": {
        "colab": {
          "base_uri": "https://localhost:8080/"
        },
        "id": "1GU3vZs-XVut",
        "outputId": "62802a0d-4b30-4c80-cb9d-45ea0e1c5516"
      },
      "execution_count": null,
      "outputs": [
        {
          "output_type": "stream",
          "name": "stdout",
          "text": [
            "Analytics\n",
            "0\n"
          ]
        }
      ]
    },
    {
      "cell_type": "code",
      "source": [
        "# In python 3, you can't find min with different data-types in a list\n",
        "print(min([1,2,\"ineuron\"]))"
      ],
      "metadata": {
        "colab": {
          "base_uri": "https://localhost:8080/",
          "height": 183
        },
        "id": "krpWfZF7XZ4c",
        "outputId": "347b91d1-641c-405c-af49-c64e91e34c6e"
      },
      "execution_count": null,
      "outputs": [
        {
          "output_type": "error",
          "ename": "TypeError",
          "evalue": "ignored",
          "traceback": [
            "\u001b[0;31m---------------------------------------------------------------------------\u001b[0m",
            "\u001b[0;31mTypeError\u001b[0m                                 Traceback (most recent call last)",
            "\u001b[0;32m<ipython-input-23-656f2682acbe>\u001b[0m in \u001b[0;36m<module>\u001b[0;34m\u001b[0m\n\u001b[1;32m      1\u001b[0m \u001b[0;31m# In python 3, you can't find min with different data-types in a list\u001b[0m\u001b[0;34m\u001b[0m\u001b[0;34m\u001b[0m\u001b[0;34m\u001b[0m\u001b[0m\n\u001b[0;32m----> 2\u001b[0;31m \u001b[0mprint\u001b[0m\u001b[0;34m(\u001b[0m\u001b[0mmin\u001b[0m\u001b[0;34m(\u001b[0m\u001b[0;34m[\u001b[0m\u001b[0;36m1\u001b[0m\u001b[0;34m,\u001b[0m\u001b[0;36m2\u001b[0m\u001b[0;34m,\u001b[0m\u001b[0;34m\"ineuron\"\u001b[0m\u001b[0;34m]\u001b[0m\u001b[0;34m)\u001b[0m\u001b[0;34m)\u001b[0m\u001b[0;34m\u001b[0m\u001b[0;34m\u001b[0m\u001b[0m\n\u001b[0m",
            "\u001b[0;31mTypeError\u001b[0m: '<' not supported between instances of 'str' and 'int'"
          ]
        }
      ]
    },
    {
      "cell_type": "markdown",
      "metadata": {
        "id": "rByysld9IKCP"
      },
      "source": [
        "There is another `list()` method which will helpful to convert tuple into list, which we will look when we will talk about tuple section. Just giving a brief idea, tuple is similar to list but tuple are unmutable means we can't change value of elements and they can define using () bracket. We will look into this in future topics."
      ]
    },
    {
      "cell_type": "markdown",
      "metadata": {
        "id": "0FTY73obIKCQ"
      },
      "source": [
        "### Append()"
      ]
    },
    {
      "cell_type": "code",
      "source": [
        "# Create a new list\n",
        "l = [1,2,3]"
      ],
      "metadata": {
        "id": "fEr6cvx3XmoE"
      },
      "execution_count": null,
      "outputs": []
    },
    {
      "cell_type": "markdown",
      "metadata": {
        "id": "Tck66Z0qIKCU"
      },
      "source": [
        "Use the **append** method to permanently add an item to the end of a list:"
      ]
    },
    {
      "cell_type": "code",
      "source": [
        "# Append\n",
        "l.append('append me!')"
      ],
      "metadata": {
        "id": "JtmAfP-HXoNs"
      },
      "execution_count": null,
      "outputs": []
    },
    {
      "cell_type": "code",
      "source": [
        "# Show\n",
        "l"
      ],
      "metadata": {
        "colab": {
          "base_uri": "https://localhost:8080/"
        },
        "id": "0aY_w9LiXuN8",
        "outputId": "18af822c-62c9-401b-c6be-48eb062dbc98"
      },
      "execution_count": null,
      "outputs": [
        {
          "output_type": "execute_result",
          "data": {
            "text/plain": [
              "[1, 2, 3, 'append me!']"
            ]
          },
          "metadata": {},
          "execution_count": 117
        }
      ]
    },
    {
      "cell_type": "code",
      "source": [
        "A = [1,2,77]\n",
        "\n",
        "A = A + [\"new element\"]\n",
        "\n",
        "A"
      ],
      "metadata": {
        "colab": {
          "base_uri": "https://localhost:8080/"
        },
        "id": "D7eH_TrREcfo",
        "outputId": "e2812a97-67b5-4d13-c8d7-a60349e5bc22"
      },
      "execution_count": null,
      "outputs": [
        {
          "output_type": "execute_result",
          "data": {
            "text/plain": [
              "[1, 2, 77, 'new element']"
            ]
          },
          "metadata": {},
          "execution_count": 94
        }
      ]
    },
    {
      "cell_type": "code",
      "source": [
        "A = [1,2,77]\n",
        "\n",
        "A.append(\"new_element\")\n",
        "\n",
        "A"
      ],
      "metadata": {
        "colab": {
          "base_uri": "https://localhost:8080/"
        },
        "id": "nZ25oKFyEfjs",
        "outputId": "5dcd5939-2eba-4048-d6f0-b0ed099867a8"
      },
      "execution_count": null,
      "outputs": [
        {
          "output_type": "execute_result",
          "data": {
            "text/plain": [
              "[1, 2, 77, 'new_element']"
            ]
          },
          "metadata": {},
          "execution_count": 95
        }
      ]
    },
    {
      "cell_type": "code",
      "source": [
        "A.append(\"ROMA\")\n",
        "\n",
        "A"
      ],
      "metadata": {
        "colab": {
          "base_uri": "https://localhost:8080/"
        },
        "id": "oKkiHrxDEhk4",
        "outputId": "816e9785-f08a-4771-8c19-0c8844ca2fd8"
      },
      "execution_count": null,
      "outputs": [
        {
          "output_type": "execute_result",
          "data": {
            "text/plain": [
              "[1, 2, 77, 'new_element', 'ROMA']"
            ]
          },
          "metadata": {},
          "execution_count": 96
        }
      ]
    },
    {
      "cell_type": "code",
      "source": [
        "A.append(\"Sanjay\", \"John\")\n",
        "\n",
        "A"
      ],
      "metadata": {
        "colab": {
          "base_uri": "https://localhost:8080/",
          "height": 200
        },
        "id": "AntrcvyVElxU",
        "outputId": "ea0a20ed-da1d-4cc4-bb54-8d62523d4fba"
      },
      "execution_count": null,
      "outputs": [
        {
          "output_type": "error",
          "ename": "TypeError",
          "evalue": "ignored",
          "traceback": [
            "\u001b[0;31m---------------------------------------------------------------------------\u001b[0m",
            "\u001b[0;31mTypeError\u001b[0m                                 Traceback (most recent call last)",
            "\u001b[0;32m<ipython-input-97-72ea674e3890>\u001b[0m in \u001b[0;36m<module>\u001b[0;34m\u001b[0m\n\u001b[0;32m----> 1\u001b[0;31m \u001b[0mA\u001b[0m\u001b[0;34m.\u001b[0m\u001b[0mappend\u001b[0m\u001b[0;34m(\u001b[0m\u001b[0;34m\"Sanjay\"\u001b[0m\u001b[0;34m,\u001b[0m \u001b[0;34m\"John\"\u001b[0m\u001b[0;34m)\u001b[0m\u001b[0;34m\u001b[0m\u001b[0;34m\u001b[0m\u001b[0m\n\u001b[0m\u001b[1;32m      2\u001b[0m \u001b[0;34m\u001b[0m\u001b[0m\n\u001b[1;32m      3\u001b[0m \u001b[0mA\u001b[0m\u001b[0;34m\u001b[0m\u001b[0;34m\u001b[0m\u001b[0m\n",
            "\u001b[0;31mTypeError\u001b[0m: append() takes exactly one argument (2 given)"
          ]
        }
      ]
    },
    {
      "cell_type": "code",
      "source": [
        "A.append([\"Sanjay\", \"John\"])\n",
        "\n",
        "A"
      ],
      "metadata": {
        "colab": {
          "base_uri": "https://localhost:8080/"
        },
        "id": "Vmy5zs7XEnu4",
        "outputId": "4c1d9794-2d8d-4e9d-b97e-d050770812e4"
      },
      "execution_count": null,
      "outputs": [
        {
          "output_type": "execute_result",
          "data": {
            "text/plain": [
              "[1, 2, 77, 'new_element', 'ROMA', ['Sanjay', 'John']]"
            ]
          },
          "metadata": {},
          "execution_count": 98
        }
      ]
    },
    {
      "cell_type": "code",
      "source": [
        "A.append([\"Sanjay\", \"John\"])\n",
        "\n",
        "A"
      ],
      "metadata": {
        "colab": {
          "base_uri": "https://localhost:8080/"
        },
        "id": "Q_anNW3QEqMJ",
        "outputId": "8d563115-2b0a-42b3-9da9-4d0d78139e3c"
      },
      "execution_count": null,
      "outputs": [
        {
          "output_type": "execute_result",
          "data": {
            "text/plain": [
              "[1, 2, 77, 'new_element', 'ROMA', ['Sanjay', 'John'], ['Sanjay', 'John']]"
            ]
          },
          "metadata": {},
          "execution_count": 99
        }
      ]
    },
    {
      "cell_type": "code",
      "source": [
        "A = A+[\"Sanjay\", \"John\"]\n",
        "\n",
        "A"
      ],
      "metadata": {
        "colab": {
          "base_uri": "https://localhost:8080/"
        },
        "id": "J9NiWeU4EshQ",
        "outputId": "0a0eae54-f81e-404c-8c15-9c74e78b93ff"
      },
      "execution_count": null,
      "outputs": [
        {
          "output_type": "execute_result",
          "data": {
            "text/plain": [
              "[1,\n",
              " 2,\n",
              " 77,\n",
              " 'new_element',\n",
              " 'ROMA',\n",
              " ['Sanjay', 'John'],\n",
              " ['Sanjay', 'John'],\n",
              " 'Sanjay',\n",
              " 'John']"
            ]
          },
          "metadata": {},
          "execution_count": 100
        }
      ]
    },
    {
      "cell_type": "code",
      "source": [
        "list_of_item_to_purchase = list() # empty list\n",
        "\n",
        "N = int(input(\"No of item you want to purchase: \"))\n",
        "for i in range(N):\n",
        "  user_input = input(\"Enter the item that you want to purchase: \")\n",
        "  list_of_item_to_purchase.append(user_input) # RECOMMENDED\n",
        "\n",
        "print(list_of_item_to_purchase)"
      ],
      "metadata": {
        "colab": {
          "base_uri": "https://localhost:8080/"
        },
        "id": "1VVXJ_hSEu_E",
        "outputId": "0a90d17b-e1b1-455e-88e9-08d18e265c7a"
      },
      "execution_count": null,
      "outputs": [
        {
          "output_type": "stream",
          "name": "stdout",
          "text": [
            "No of item you want to purchase: 3\n",
            "Enter the item that you want to purchase: pen\n",
            "Enter the item that you want to purchase: pencil\n",
            "Enter the item that you want to purchase: plane\n",
            "['pen', 'pencil', 'plane']\n"
          ]
        }
      ]
    },
    {
      "cell_type": "markdown",
      "metadata": {
        "id": "I5GdRwi9IKCb"
      },
      "source": [
        "### pop()\n",
        "\n",
        "Use **pop** to \"pop off\" an item from the list. By default pop takes off the last index, but you can also specify which index to pop off. Let's see an example:"
      ]
    },
    {
      "cell_type": "code",
      "source": [
        "A = [6,4,5,7, \"Sunny\"]\n",
        "\n",
        "A.pop()\n",
        "\n",
        "A"
      ],
      "metadata": {
        "colab": {
          "base_uri": "https://localhost:8080/"
        },
        "id": "IZ019Hf7FIGY",
        "outputId": "6fbe4c49-61ba-48d5-dda5-769ace97ff6e"
      },
      "execution_count": null,
      "outputs": [
        {
          "output_type": "execute_result",
          "data": {
            "text/plain": [
              "[6, 4, 5, 7]"
            ]
          },
          "metadata": {},
          "execution_count": 102
        }
      ]
    },
    {
      "cell_type": "code",
      "source": [
        "A = [6,4,5,7, \"Sunny\"]\n",
        "\n",
        "A.pop(0)\n",
        "\n",
        "A"
      ],
      "metadata": {
        "colab": {
          "base_uri": "https://localhost:8080/"
        },
        "id": "nCMUPwlaFnNq",
        "outputId": "4a5c6344-b1a9-4015-b3c0-ab84b0227910"
      },
      "execution_count": null,
      "outputs": [
        {
          "output_type": "execute_result",
          "data": {
            "text/plain": [
              "[4, 5, 7, 'Sunny']"
            ]
          },
          "metadata": {},
          "execution_count": 103
        }
      ]
    },
    {
      "cell_type": "code",
      "source": [
        "A = [6,4,5,7, \"Sunny\"]\n",
        "\n",
        "A.pop(2)\n",
        "\n",
        "A"
      ],
      "metadata": {
        "colab": {
          "base_uri": "https://localhost:8080/"
        },
        "id": "TCjAzJb2Fo91",
        "outputId": "4d824473-3b3b-489a-82bf-538470d43194"
      },
      "execution_count": null,
      "outputs": [
        {
          "output_type": "execute_result",
          "data": {
            "text/plain": [
              "[6, 4, 7, 'Sunny']"
            ]
          },
          "metadata": {},
          "execution_count": 104
        }
      ]
    },
    {
      "cell_type": "code",
      "source": [
        "# Pop off the 0 indexed item\n",
        "A.pop(0)"
      ],
      "metadata": {
        "colab": {
          "base_uri": "https://localhost:8080/"
        },
        "id": "mXIhElE2FqgX",
        "outputId": "f068f582-13e3-438d-f3a4-65d161f3ce24"
      },
      "execution_count": null,
      "outputs": [
        {
          "output_type": "execute_result",
          "data": {
            "text/plain": [
              "6"
            ]
          },
          "metadata": {},
          "execution_count": 105
        }
      ]
    },
    {
      "cell_type": "code",
      "source": [
        "A"
      ],
      "metadata": {
        "colab": {
          "base_uri": "https://localhost:8080/"
        },
        "id": "89NXBPPZFufk",
        "outputId": "e689f320-b916-401f-a0c5-c4c8a2dc3a60"
      },
      "execution_count": null,
      "outputs": [
        {
          "output_type": "execute_result",
          "data": {
            "text/plain": [
              "[4, 7, 'Sunny']"
            ]
          },
          "metadata": {},
          "execution_count": 106
        }
      ]
    },
    {
      "cell_type": "code",
      "source": [
        "removed_item = A.pop(2)\n",
        "\n",
        "removed_item"
      ],
      "metadata": {
        "colab": {
          "base_uri": "https://localhost:8080/",
          "height": 35
        },
        "id": "yAenIZGQFwIt",
        "outputId": "81c7c26e-fa95-46ea-b899-e2e6db69484b"
      },
      "execution_count": null,
      "outputs": [
        {
          "output_type": "execute_result",
          "data": {
            "text/plain": [
              "'Sunny'"
            ],
            "application/vnd.google.colaboratory.intrinsic+json": {
              "type": "string"
            }
          },
          "metadata": {},
          "execution_count": 107
        }
      ]
    },
    {
      "cell_type": "code",
      "source": [
        "A"
      ],
      "metadata": {
        "colab": {
          "base_uri": "https://localhost:8080/"
        },
        "id": "trxh6y4xFyBV",
        "outputId": "2ddd1193-1eba-4c21-b1e8-5c25aa9e7f19"
      },
      "execution_count": null,
      "outputs": [
        {
          "output_type": "execute_result",
          "data": {
            "text/plain": [
              "[4, 7]"
            ]
          },
          "metadata": {},
          "execution_count": 108
        }
      ]
    },
    {
      "cell_type": "code",
      "source": [
        "# print odd nos\n",
        "\n",
        "A = [1, 34, 56, 76, 99]\n",
        "\n",
        "for idx in range(len(A)):\n",
        "  num = A[idx]\n",
        "  print(idx, num)\n",
        "  if num%2 != 0: # odd condition # % gives remainder value\n",
        "    print(f\"odd num: {num}\")\n",
        "  else:\n",
        "    print(f\"even num: {num}\")\n"
      ],
      "metadata": {
        "colab": {
          "base_uri": "https://localhost:8080/"
        },
        "id": "mQ9rRUZWMuNR",
        "outputId": "5f881b1d-cd2c-4033-efbb-133a89edea8c"
      },
      "execution_count": null,
      "outputs": [
        {
          "output_type": "stream",
          "name": "stdout",
          "text": [
            "0 1\n",
            "odd num: 1\n",
            "1 34\n",
            "even num: 34\n",
            "2 56\n",
            "even num: 56\n",
            "3 76\n",
            "even num: 76\n",
            "4 99\n",
            "odd num: 99\n"
          ]
        }
      ]
    },
    {
      "cell_type": "code",
      "source": [
        "# Show\n",
        "l"
      ],
      "metadata": {
        "colab": {
          "base_uri": "https://localhost:8080/"
        },
        "id": "OR5wgvjxMwAl",
        "outputId": "50ef773d-3afe-4eb5-ad74-b0d129fe5ca5"
      },
      "execution_count": null,
      "outputs": [
        {
          "output_type": "execute_result",
          "data": {
            "text/plain": [
              "[1, 2, 3, 'append me!']"
            ]
          },
          "metadata": {},
          "execution_count": 118
        }
      ]
    },
    {
      "cell_type": "code",
      "source": [
        "# Assign the popped element, remember default popped index is -1\n",
        "popped_item = l.pop()"
      ],
      "metadata": {
        "id": "NT1tAJbTM5SW"
      },
      "execution_count": null,
      "outputs": []
    },
    {
      "cell_type": "code",
      "source": [
        "popped_item"
      ],
      "metadata": {
        "colab": {
          "base_uri": "https://localhost:8080/",
          "height": 35
        },
        "id": "Ngs4HOXiNCQe",
        "outputId": "8dcc7d68-ae25-46fa-9d2a-52fcc1e73686"
      },
      "execution_count": null,
      "outputs": [
        {
          "output_type": "execute_result",
          "data": {
            "text/plain": [
              "'append me!'"
            ],
            "application/vnd.google.colaboratory.intrinsic+json": {
              "type": "string"
            }
          },
          "metadata": {},
          "execution_count": 120
        }
      ]
    },
    {
      "cell_type": "code",
      "source": [
        "# Show remaining list\n",
        "l"
      ],
      "metadata": {
        "colab": {
          "base_uri": "https://localhost:8080/"
        },
        "id": "RMp1WHCiNFNO",
        "outputId": "3825ea28-c951-4be1-e9a7-e0b78f39d88d"
      },
      "execution_count": null,
      "outputs": [
        {
          "output_type": "execute_result",
          "data": {
            "text/plain": [
              "[1, 2, 3]"
            ]
          },
          "metadata": {},
          "execution_count": 121
        }
      ]
    },
    {
      "cell_type": "code",
      "source": [
        "# Show remaining list\n",
        "l"
      ],
      "metadata": {
        "colab": {
          "base_uri": "https://localhost:8080/"
        },
        "id": "NJO9ZreyNHE6",
        "outputId": "40cc4d0b-c948-478b-e335-e750dadcd680"
      },
      "execution_count": null,
      "outputs": [
        {
          "output_type": "execute_result",
          "data": {
            "text/plain": [
              "[1, 2, 3]"
            ]
          },
          "metadata": {},
          "execution_count": 122
        }
      ]
    },
    {
      "cell_type": "markdown",
      "metadata": {
        "id": "wIaOW3FMIKCs"
      },
      "source": [
        ">**Note:-** lists indexing will return an error if there is no element at that index. For example:"
      ]
    },
    {
      "cell_type": "code",
      "source": [
        "A"
      ],
      "metadata": {
        "colab": {
          "base_uri": "https://localhost:8080/"
        },
        "id": "-SFfoyyJN3fs",
        "outputId": "2968b51e-5078-412d-cc1b-821930ef9030"
      },
      "execution_count": null,
      "outputs": [
        {
          "output_type": "execute_result",
          "data": {
            "text/plain": [
              "[1, 34, 56, 76, 99]"
            ]
          },
          "metadata": {},
          "execution_count": 123
        }
      ]
    },
    {
      "cell_type": "code",
      "source": [
        "A[1000]"
      ],
      "metadata": {
        "colab": {
          "base_uri": "https://localhost:8080/",
          "height": 165
        },
        "id": "dxPMTGDbN4n5",
        "outputId": "fcf0131c-6da4-4722-d477-fad49269ab99"
      },
      "execution_count": null,
      "outputs": [
        {
          "output_type": "error",
          "ename": "IndexError",
          "evalue": "ignored",
          "traceback": [
            "\u001b[0;31m---------------------------------------------------------------------------\u001b[0m",
            "\u001b[0;31mIndexError\u001b[0m                                Traceback (most recent call last)",
            "\u001b[0;32m<ipython-input-124-b4955082aef8>\u001b[0m in \u001b[0;36m<module>\u001b[0;34m\u001b[0m\n\u001b[0;32m----> 1\u001b[0;31m \u001b[0mA\u001b[0m\u001b[0;34m[\u001b[0m\u001b[0;36m1000\u001b[0m\u001b[0;34m]\u001b[0m\u001b[0;34m\u001b[0m\u001b[0;34m\u001b[0m\u001b[0m\n\u001b[0m",
            "\u001b[0;31mIndexError\u001b[0m: list index out of range"
          ]
        }
      ]
    },
    {
      "cell_type": "markdown",
      "metadata": {
        "id": "_g7wlAyrN-rp"
      },
      "source": [
        "We can use the **sort** method and the **reverse** methods to also effect your lists:"
      ]
    },
    {
      "cell_type": "code",
      "source": [
        "A = [1,45, 67, 98, -34]\n",
        "\n",
        "sorted(A)"
      ],
      "metadata": {
        "colab": {
          "base_uri": "https://localhost:8080/"
        },
        "id": "heYTN9OxN6VR",
        "outputId": "1efe72f4-38fb-4e9f-82d0-61bddc0d291c"
      },
      "execution_count": null,
      "outputs": [
        {
          "output_type": "execute_result",
          "data": {
            "text/plain": [
              "[-34, 1, 45, 67, 98]"
            ]
          },
          "metadata": {},
          "execution_count": 125
        }
      ]
    },
    {
      "cell_type": "code",
      "source": [
        "A"
      ],
      "metadata": {
        "colab": {
          "base_uri": "https://localhost:8080/"
        },
        "id": "r_mPKZloOA-s",
        "outputId": "8b1a3e07-a31e-45b0-b008-a32725c479b0"
      },
      "execution_count": null,
      "outputs": [
        {
          "output_type": "execute_result",
          "data": {
            "text/plain": [
              "[1, 45, 67, 98, -34]"
            ]
          },
          "metadata": {},
          "execution_count": 126
        }
      ]
    },
    {
      "cell_type": "code",
      "source": [
        "A = sorted(A)\n",
        "A"
      ],
      "metadata": {
        "colab": {
          "base_uri": "https://localhost:8080/"
        },
        "id": "KQSB4HxJODF5",
        "outputId": "30cec565-0645-4e3a-b177-946e32f032e6"
      },
      "execution_count": null,
      "outputs": [
        {
          "output_type": "execute_result",
          "data": {
            "text/plain": [
              "[-34, 1, 45, 67, 98]"
            ]
          },
          "metadata": {},
          "execution_count": 127
        }
      ]
    },
    {
      "cell_type": "code",
      "source": [
        "A[::-1]"
      ],
      "metadata": {
        "colab": {
          "base_uri": "https://localhost:8080/"
        },
        "id": "p7-yCXLlOF4h",
        "outputId": "ae6be51e-d6d5-4f9a-e588-39f3a8ece80c"
      },
      "execution_count": null,
      "outputs": [
        {
          "output_type": "execute_result",
          "data": {
            "text/plain": [
              "[98, 67, 45, 1, -34]"
            ]
          },
          "metadata": {},
          "execution_count": 128
        }
      ]
    },
    {
      "cell_type": "code",
      "source": [
        "A = [1,45, 67, 98, -34]\n",
        "\n",
        "A.sort() # permanent change"
      ],
      "metadata": {
        "id": "uKwvD0LBOH1M"
      },
      "execution_count": null,
      "outputs": []
    },
    {
      "cell_type": "code",
      "source": [
        "A"
      ],
      "metadata": {
        "colab": {
          "base_uri": "https://localhost:8080/"
        },
        "id": "7bvpvoKPOJwy",
        "outputId": "328b9faa-210e-4705-cd1c-7f9c8d1b87e4"
      },
      "execution_count": null,
      "outputs": [
        {
          "output_type": "execute_result",
          "data": {
            "text/plain": [
              "[-34, 1, 45, 67, 98]"
            ]
          },
          "metadata": {},
          "execution_count": 130
        }
      ]
    },
    {
      "cell_type": "code",
      "source": [
        "A[::-1]"
      ],
      "metadata": {
        "colab": {
          "base_uri": "https://localhost:8080/"
        },
        "id": "BCFCMdshOMAt",
        "outputId": "56e78572-af4a-4973-b895-52f5f222c44d"
      },
      "execution_count": null,
      "outputs": [
        {
          "output_type": "execute_result",
          "data": {
            "text/plain": [
              "[98, 67, 45, 1, -34]"
            ]
          },
          "metadata": {},
          "execution_count": 131
        }
      ]
    },
    {
      "cell_type": "code",
      "source": [
        "A = [1,45, 67, 98, -34]\n",
        "\n",
        "A.sort(reverse=True) # directly get answer in descending order\n",
        "\n",
        "A"
      ],
      "metadata": {
        "colab": {
          "base_uri": "https://localhost:8080/"
        },
        "id": "jJaf1gq0OOsB",
        "outputId": "86fe4914-de80-4f65-bc2d-b8208f0e5af5"
      },
      "execution_count": null,
      "outputs": [
        {
          "output_type": "execute_result",
          "data": {
            "text/plain": [
              "[98, 67, 45, 1, -34]"
            ]
          },
          "metadata": {},
          "execution_count": 132
        }
      ]
    },
    {
      "cell_type": "code",
      "source": [
        "A"
      ],
      "metadata": {
        "colab": {
          "base_uri": "https://localhost:8080/"
        },
        "id": "mW4kd6TvOQ24",
        "outputId": "5a7d8eb1-92e9-4ba1-dba7-a8ee7454696e"
      },
      "execution_count": null,
      "outputs": [
        {
          "output_type": "execute_result",
          "data": {
            "text/plain": [
              "[98, 67, 45, 1, -34]"
            ]
          },
          "metadata": {},
          "execution_count": 133
        }
      ]
    },
    {
      "cell_type": "code",
      "source": [
        "A.reverse() # inplace solution"
      ],
      "metadata": {
        "id": "TZuPjPjKOT1Q"
      },
      "execution_count": null,
      "outputs": []
    },
    {
      "cell_type": "code",
      "source": [
        "A"
      ],
      "metadata": {
        "colab": {
          "base_uri": "https://localhost:8080/"
        },
        "id": "VBG18sWuOVym",
        "outputId": "f8892759-f7ef-4218-a7ba-0a71d04e67b6"
      },
      "execution_count": null,
      "outputs": [
        {
          "output_type": "execute_result",
          "data": {
            "text/plain": [
              "[-34, 1, 45, 67, 98]"
            ]
          },
          "metadata": {},
          "execution_count": 135
        }
      ]
    },
    {
      "cell_type": "code",
      "source": [
        "A = [1, 23, 45, \"SUnny\", \"iNeuron\"]\n",
        "\n",
        "A = A[::-1]\n",
        "A"
      ],
      "metadata": {
        "colab": {
          "base_uri": "https://localhost:8080/"
        },
        "id": "G8_ck4eMOX9U",
        "outputId": "e8bac5b5-3098-4927-a2ad-2862fbcb2324"
      },
      "execution_count": null,
      "outputs": [
        {
          "output_type": "execute_result",
          "data": {
            "text/plain": [
              "['iNeuron', 'SUnny', 45, 23, 1]"
            ]
          },
          "metadata": {},
          "execution_count": 136
        }
      ]
    },
    {
      "cell_type": "code",
      "source": [
        "A = [1, 23, 45, \"SUnny\", \"iNeuron\"]\n",
        "\n",
        "A.reverse()\n",
        "\n",
        "A"
      ],
      "metadata": {
        "colab": {
          "base_uri": "https://localhost:8080/"
        },
        "id": "UoDrfc1FObnf",
        "outputId": "4c5635b6-f28a-4eb1-eafc-fef4ab1898a7"
      },
      "execution_count": null,
      "outputs": [
        {
          "output_type": "execute_result",
          "data": {
            "text/plain": [
              "['iNeuron', 'SUnny', 45, 23, 1]"
            ]
          },
          "metadata": {},
          "execution_count": 137
        }
      ]
    },
    {
      "cell_type": "code",
      "source": [
        "new_list = ['a','e','x','b','c']"
      ],
      "metadata": {
        "id": "VXVwUb-bOgS6"
      },
      "execution_count": null,
      "outputs": []
    },
    {
      "cell_type": "code",
      "source": [
        "#Show\n",
        "new_list"
      ],
      "metadata": {
        "colab": {
          "base_uri": "https://localhost:8080/"
        },
        "id": "TiVElCd4OtVF",
        "outputId": "d1ce1647-3591-4d59-a47c-2287aca36849"
      },
      "execution_count": null,
      "outputs": [
        {
          "output_type": "execute_result",
          "data": {
            "text/plain": [
              "['a', 'e', 'x', 'b', 'c']"
            ]
          },
          "metadata": {},
          "execution_count": 139
        }
      ]
    },
    {
      "cell_type": "code",
      "source": [
        "# Use reverse to reverse order (this is permanent!)\n",
        "new_list.reverse()"
      ],
      "metadata": {
        "id": "LYxKih1POvA8"
      },
      "execution_count": null,
      "outputs": []
    },
    {
      "cell_type": "code",
      "source": [
        "new_list"
      ],
      "metadata": {
        "colab": {
          "base_uri": "https://localhost:8080/"
        },
        "id": "MPGFcaZrOw5f",
        "outputId": "7ede3e16-5f95-4d5d-9b46-ec9bd2af8651"
      },
      "execution_count": null,
      "outputs": [
        {
          "output_type": "execute_result",
          "data": {
            "text/plain": [
              "['c', 'b', 'x', 'e', 'a']"
            ]
          },
          "metadata": {},
          "execution_count": 141
        }
      ]
    },
    {
      "cell_type": "markdown",
      "source": [
        "\n",
        "\n",
        "--- Till Here\n",
        "\n"
      ],
      "metadata": {
        "id": "58tHFVFxZwCf"
      }
    },
    {
      "cell_type": "code",
      "source": [
        "# Pop off the 0 indexed item\n",
        "l.pop()"
      ],
      "metadata": {
        "colab": {
          "base_uri": "https://localhost:8080/",
          "height": 35
        },
        "id": "kxsF8PjmYKX8",
        "outputId": "15268de1-bc4a-4d03-e3ad-2ff19e1ad489"
      },
      "execution_count": null,
      "outputs": [
        {
          "output_type": "execute_result",
          "data": {
            "text/plain": [
              "'append me!'"
            ],
            "application/vnd.google.colaboratory.intrinsic+json": {
              "type": "string"
            }
          },
          "metadata": {},
          "execution_count": 27
        }
      ]
    },
    {
      "cell_type": "code",
      "source": [
        "# Pop off the 0 indexed item\n",
        "l.pop(0)"
      ],
      "metadata": {
        "colab": {
          "base_uri": "https://localhost:8080/"
        },
        "id": "PkEbF1kRXwGc",
        "outputId": "9e169d87-33cb-48eb-d9ed-a48defaa374c"
      },
      "execution_count": null,
      "outputs": [
        {
          "output_type": "execute_result",
          "data": {
            "text/plain": [
              "45"
            ]
          },
          "metadata": {},
          "execution_count": 26
        }
      ]
    },
    {
      "cell_type": "code",
      "source": [
        "# Show\n",
        "l"
      ],
      "metadata": {
        "colab": {
          "base_uri": "https://localhost:8080/"
        },
        "id": "vAZ403UCYNgL",
        "outputId": "cf4fbe03-bb62-4b1d-99cd-10f3e892646c"
      },
      "execution_count": null,
      "outputs": [
        {
          "output_type": "execute_result",
          "data": {
            "text/plain": [
              "[6, 7, 5, 'ineuron', True, False, 35, 62.56]"
            ]
          },
          "metadata": {},
          "execution_count": 28
        }
      ]
    },
    {
      "cell_type": "code",
      "source": [
        "# Assign the popped element, remember default popped index is -1\n",
        "popped_item = l.pop()"
      ],
      "metadata": {
        "id": "dpKRVzFsYU3X"
      },
      "execution_count": null,
      "outputs": []
    },
    {
      "cell_type": "code",
      "source": [
        "popped_item"
      ],
      "metadata": {
        "colab": {
          "base_uri": "https://localhost:8080/"
        },
        "id": "PdrMrgpDYWST",
        "outputId": "b33bb6fa-4696-4bf8-d7cc-86699c2ad69e"
      },
      "execution_count": null,
      "outputs": [
        {
          "output_type": "execute_result",
          "data": {
            "text/plain": [
              "62.56"
            ]
          },
          "metadata": {},
          "execution_count": 30
        }
      ]
    },
    {
      "cell_type": "code",
      "source": [
        "# Show remaining list\n",
        "l"
      ],
      "metadata": {
        "colab": {
          "base_uri": "https://localhost:8080/"
        },
        "id": "K7vgW7RCYj5s",
        "outputId": "1567d5cb-1918-4138-c9fe-214b4129c79a"
      },
      "execution_count": null,
      "outputs": [
        {
          "output_type": "execute_result",
          "data": {
            "text/plain": [
              "[6, 7, 5, 'ineuron', True, False, 35]"
            ]
          },
          "metadata": {},
          "execution_count": 31
        }
      ]
    },
    {
      "cell_type": "markdown",
      "source": [
        ">**Note:-** lists indexing will return an error if there is no element at that index. For example:"
      ],
      "metadata": {
        "id": "j7pkUYzrYnSO"
      }
    },
    {
      "cell_type": "code",
      "source": [
        "l[100]"
      ],
      "metadata": {
        "colab": {
          "base_uri": "https://localhost:8080/",
          "height": 165
        },
        "id": "QslBdsdWYoJQ",
        "outputId": "d2960d9b-d28a-4954-ef73-c440072dcab8"
      },
      "execution_count": null,
      "outputs": [
        {
          "output_type": "error",
          "ename": "IndexError",
          "evalue": "ignored",
          "traceback": [
            "\u001b[0;31m---------------------------------------------------------------------------\u001b[0m",
            "\u001b[0;31mIndexError\u001b[0m                                Traceback (most recent call last)",
            "\u001b[0;32m<ipython-input-32-e2a0c2623844>\u001b[0m in \u001b[0;36m<module>\u001b[0;34m\u001b[0m\n\u001b[0;32m----> 1\u001b[0;31m \u001b[0ml\u001b[0m\u001b[0;34m[\u001b[0m\u001b[0;36m100\u001b[0m\u001b[0;34m]\u001b[0m\u001b[0;34m\u001b[0m\u001b[0;34m\u001b[0m\u001b[0m\n\u001b[0m",
            "\u001b[0;31mIndexError\u001b[0m: list index out of range"
          ]
        }
      ]
    },
    {
      "cell_type": "markdown",
      "metadata": {
        "id": "tkCXVw8uIKCw"
      },
      "source": [
        "We can use the **sort** method and the **reverse** methods to also effect your lists:"
      ]
    },
    {
      "cell_type": "code",
      "source": [
        "new_list = ['a','e','x','b','c']"
      ],
      "metadata": {
        "id": "gz7_mz_YYvg8"
      },
      "execution_count": null,
      "outputs": []
    },
    {
      "cell_type": "code",
      "source": [
        "#Show\n",
        "new_list"
      ],
      "metadata": {
        "colab": {
          "base_uri": "https://localhost:8080/"
        },
        "id": "AEQvk_mrYyA9",
        "outputId": "9be94f31-221a-4ac6-8960-cbe027425b22"
      },
      "execution_count": null,
      "outputs": [
        {
          "output_type": "execute_result",
          "data": {
            "text/plain": [
              "['a', 'e', 'x', 'b', 'c']"
            ]
          },
          "metadata": {},
          "execution_count": 34
        }
      ]
    },
    {
      "cell_type": "code",
      "source": [
        "# Use reverse to reverse order (this is permanent!)\n",
        "new_list.reverse()"
      ],
      "metadata": {
        "id": "O8MJZy8nZAMX"
      },
      "execution_count": null,
      "outputs": []
    },
    {
      "cell_type": "code",
      "source": [
        "new_list"
      ],
      "metadata": {
        "colab": {
          "base_uri": "https://localhost:8080/"
        },
        "id": "AIAkoV17ZDO8",
        "outputId": "b37485a3-6ff5-41e3-83f1-23e3e319c6fe"
      },
      "execution_count": null,
      "outputs": [
        {
          "output_type": "execute_result",
          "data": {
            "text/plain": [
              "['c', 'b', 'x', 'e', 'a']"
            ]
          },
          "metadata": {},
          "execution_count": 36
        }
      ]
    },
    {
      "cell_type": "code",
      "source": [
        "# Use sort to sort the list (in this case alphabetical order, but for numbers it will go ascending)\n",
        "new_list.sort()"
      ],
      "metadata": {
        "id": "pd1VxjhpZFQ8"
      },
      "execution_count": null,
      "outputs": []
    },
    {
      "cell_type": "code",
      "source": [
        "new_list"
      ],
      "metadata": {
        "colab": {
          "base_uri": "https://localhost:8080/"
        },
        "id": "KicRHshYZHu8",
        "outputId": "bd6b6df5-8f6d-4202-a646-a2b8157820fd"
      },
      "execution_count": null,
      "outputs": [
        {
          "output_type": "execute_result",
          "data": {
            "text/plain": [
              "['a', 'b', 'c', 'e', 'x']"
            ]
          },
          "metadata": {},
          "execution_count": 38
        }
      ]
    },
    {
      "cell_type": "markdown",
      "metadata": {
        "id": "CoDqmSpdIKDC"
      },
      "source": [
        "## 6.3.2 Nesting Lists\n",
        "\n",
        "Nesting Lists is one of the great features in Python data structures. Nesting Lists means we can have data structures within data structures. \n",
        "\n",
        "For example: A list inside a list.\n",
        "\n",
        "Let's see how Nesting lists works!"
      ]
    },
    {
      "cell_type": "code",
      "source": [
        "# Let's make three lists\n",
        "lst_1=[1,2,3]\n",
        "lst_2=[4,5,6]\n",
        "lst_3=[7,8,9]\n",
        "\n",
        "# Make a list of lists to form a matrix\n",
        "matrix = [lst_1,lst_2,lst_3]"
      ],
      "metadata": {
        "id": "yiMohNsRZRVz"
      },
      "execution_count": null,
      "outputs": []
    },
    {
      "cell_type": "code",
      "source": [
        "# Show\n",
        "matrix"
      ],
      "metadata": {
        "colab": {
          "base_uri": "https://localhost:8080/"
        },
        "id": "U2I0GzQ5ZT33",
        "outputId": "238705f0-d175-4730-9f2e-3443152af606"
      },
      "execution_count": null,
      "outputs": [
        {
          "output_type": "execute_result",
          "data": {
            "text/plain": [
              "[[1, 2, 3], [4, 5, 6], [7, 8, 9]]"
            ]
          },
          "metadata": {},
          "execution_count": 4
        }
      ]
    },
    {
      "cell_type": "code",
      "source": [
        "#[    0          1          2    ]\n",
        "#[ 0  1  2    0  1  2    0  1  2 ]\n",
        "#[[1, 2, 3], [4, 5, 6], [7, 8, 9]]\n",
        "\n",
        "matrix[2][1]"
      ],
      "metadata": {
        "colab": {
          "base_uri": "https://localhost:8080/"
        },
        "id": "LB8sTalAZX-2",
        "outputId": "55d6a61e-ea6e-4265-edc4-9093971b60ef"
      },
      "execution_count": null,
      "outputs": [
        {
          "output_type": "execute_result",
          "data": {
            "text/plain": [
              "8"
            ]
          },
          "metadata": {},
          "execution_count": 5
        }
      ]
    },
    {
      "cell_type": "markdown",
      "metadata": {
        "id": "he1JLS7dIKDO"
      },
      "source": [
        "We can re-use indexing to grab elements, but now there are two levels for the index. \n",
        "\n",
        "**a.** The items in the matrix object\n",
        "\n",
        "**b.** The items inside the list"
      ]
    },
    {
      "cell_type": "code",
      "source": [
        "# Grab first item in matrix object\n",
        "\n",
        "#[    0          1          2    ]\n",
        "#[ 0  1  2    0  1  2    0  1  2 ]\n",
        "#[[1, 2, 3], [4, 5, 6], [7, 8, 9]]\n",
        "matrix[0]"
      ],
      "metadata": {
        "colab": {
          "base_uri": "https://localhost:8080/"
        },
        "id": "PlLdly2QaFht",
        "outputId": "02ac2924-a9f7-4c31-a4c9-632ce365ed4d"
      },
      "execution_count": null,
      "outputs": [
        {
          "output_type": "execute_result",
          "data": {
            "text/plain": [
              "[1, 2, 3]"
            ]
          },
          "metadata": {},
          "execution_count": 6
        }
      ]
    },
    {
      "cell_type": "code",
      "source": [
        "# Grab first item of the first item in the matrix object\n",
        "\n",
        "#[    0          1          2    ]\n",
        "#[ 0  1  2    0  1  2    0  1  2 ]\n",
        "#[[1, 2, 3], [4, 5, 6], [7, 8, 9]]\n",
        "matrix[0][0]"
      ],
      "metadata": {
        "colab": {
          "base_uri": "https://localhost:8080/"
        },
        "id": "aX2sg0xhaNEU",
        "outputId": "7f962226-262a-46aa-be9e-c785b4a821e3"
      },
      "execution_count": null,
      "outputs": [
        {
          "output_type": "execute_result",
          "data": {
            "text/plain": [
              "1"
            ]
          },
          "metadata": {},
          "execution_count": 7
        }
      ]
    },
    {
      "cell_type": "markdown",
      "metadata": {
        "id": "RyQ_l6rbIKDb"
      },
      "source": [
        "## 6.3.3 ist Comprehensions\n",
        "\n",
        "Python has an advanced feature called list comprehensions which allows for quick construction of lists. \n",
        "\n",
        "\n",
        "Here are few of our examples which helps you to understand list comprehensions. "
      ]
    },
    {
      "cell_type": "code",
      "source": [
        "# Build a list comprehension by deconstructing a for loop within a []\n",
        "first_col = [row[0] for row in matrix]"
      ],
      "metadata": {
        "id": "LzHkj-oEYiyT"
      },
      "execution_count": null,
      "outputs": []
    },
    {
      "cell_type": "code",
      "source": [
        "first_col"
      ],
      "metadata": {
        "colab": {
          "base_uri": "https://localhost:8080/"
        },
        "id": "ioiSvIz_Y29k",
        "outputId": "9c3b5bc2-4a44-4ba8-dfdf-eb48ccc4c4e6"
      },
      "execution_count": null,
      "outputs": [
        {
          "output_type": "execute_result",
          "data": {
            "text/plain": [
              "[1, 4, 7]"
            ]
          },
          "metadata": {},
          "execution_count": 9
        }
      ]
    },
    {
      "cell_type": "code",
      "source": [
        "matrix"
      ],
      "metadata": {
        "colab": {
          "base_uri": "https://localhost:8080/"
        },
        "id": "dNMaV7zkY9Rr",
        "outputId": "dd784ef0-b206-420b-95ff-ea67d2153ebf"
      },
      "execution_count": null,
      "outputs": [
        {
          "output_type": "execute_result",
          "data": {
            "text/plain": [
              "[[1, 2, 3], [4, 5, 6], [7, 8, 9]]"
            ]
          },
          "metadata": {},
          "execution_count": 10
        }
      ]
    },
    {
      "cell_type": "code",
      "source": [
        "# We can use normal for loop for the above thing and seperate every element in a single list\n",
        "whole_element = []\n",
        "for row in matrix:\n",
        "    for l in row:\n",
        "        whole_element.append(l)\n",
        "        \n",
        "whole_element"
      ],
      "metadata": {
        "colab": {
          "base_uri": "https://localhost:8080/"
        },
        "id": "t3FS-CKYZFgE",
        "outputId": "82e513f8-db33-46d9-e62e-62ceb862e338"
      },
      "execution_count": null,
      "outputs": [
        {
          "output_type": "execute_result",
          "data": {
            "text/plain": [
              "[1, 2, 3, 4, 5, 6, 7, 8, 9]"
            ]
          },
          "metadata": {},
          "execution_count": 11
        }
      ]
    },
    {
      "cell_type": "markdown",
      "metadata": {
        "id": "W2cfzozeIKDs"
      },
      "source": [
        "## 6.3.4 Advanced Lists\n",
        "\n",
        "In this series of lectures, we will be diving a little deeper into all the available methods in a list object. These are just methods that should encountered without some additional exploring. Its pretty likely that you've already encountered some of these yourself!\n",
        "\n",
        "Lets begin!"
      ]
    },
    {
      "cell_type": "code",
      "source": [
        "l = [1,2,3]"
      ],
      "metadata": {
        "id": "QKkdDT0LazSo"
      },
      "execution_count": null,
      "outputs": []
    },
    {
      "cell_type": "markdown",
      "metadata": {
        "id": "Ue4EOqbOIKDw"
      },
      "source": [
        "### append\n",
        "\n",
        "Definitely, You have used this method by now, which merely appends an element to the end of a list:"
      ]
    },
    {
      "cell_type": "code",
      "source": [
        "l.append(4)\n",
        "\n",
        "l"
      ],
      "metadata": {
        "colab": {
          "base_uri": "https://localhost:8080/"
        },
        "id": "RuN1TiOBa0A8",
        "outputId": "a4dff138-f9c9-493a-a704-260256190359"
      },
      "execution_count": null,
      "outputs": [
        {
          "output_type": "execute_result",
          "data": {
            "text/plain": [
              "[1, 2, 3, '45', 4]"
            ]
          },
          "metadata": {},
          "execution_count": 23
        }
      ]
    },
    {
      "cell_type": "markdown",
      "metadata": {
        "id": "Xr3j41PcIKD0"
      },
      "source": [
        "### count\n",
        "We discussed this during the methods lectures, but here it is again. `count()` takes in an element and returns the number of times it occures in your list:"
      ]
    },
    {
      "cell_type": "code",
      "source": [
        "l.count(10)"
      ],
      "metadata": {
        "colab": {
          "base_uri": "https://localhost:8080/"
        },
        "id": "LKRe6LVca4i0",
        "outputId": "588886f5-7b5a-460e-8155-51d364bc059f"
      },
      "execution_count": null,
      "outputs": [
        {
          "output_type": "execute_result",
          "data": {
            "text/plain": [
              "0"
            ]
          },
          "metadata": {},
          "execution_count": 14
        }
      ]
    },
    {
      "cell_type": "code",
      "source": [
        "l.count(2)"
      ],
      "metadata": {
        "colab": {
          "base_uri": "https://localhost:8080/"
        },
        "id": "oD6fVUlGbLCM",
        "outputId": "62477e5d-e9ef-4ca9-d7e8-51febea1cab4"
      },
      "execution_count": null,
      "outputs": [
        {
          "output_type": "execute_result",
          "data": {
            "text/plain": [
              "1"
            ]
          },
          "metadata": {},
          "execution_count": 15
        }
      ]
    },
    {
      "cell_type": "markdown",
      "metadata": {
        "id": "zlNieaAQIKD6"
      },
      "source": [
        "### extend\n",
        "Many times people find the difference between extend and append to be unclear. So note that,\n",
        "\n",
        "**append: Appends object at end**"
      ]
    },
    {
      "cell_type": "code",
      "source": [
        "x = [1, 2, 3]\n",
        "x.append([4, 5])\n",
        "print(x)"
      ],
      "metadata": {
        "colab": {
          "base_uri": "https://localhost:8080/"
        },
        "id": "8hrJAHqtbLvD",
        "outputId": "fa185e25-4444-4dbd-e676-5a25005e4027"
      },
      "execution_count": null,
      "outputs": [
        {
          "output_type": "stream",
          "name": "stdout",
          "text": [
            "[1, 2, 3, [4, 5]]\n"
          ]
        }
      ]
    },
    {
      "cell_type": "markdown",
      "metadata": {
        "id": "BWZ_IjipIKD-"
      },
      "source": [
        "**extend: extends list by appending elements from the iterable. It will append content of list elements to the existing list**"
      ]
    },
    {
      "cell_type": "code",
      "source": [
        "x = [1, 2, 3]\n",
        "x.extend('ty')\n",
        "print(x)"
      ],
      "metadata": {
        "colab": {
          "base_uri": "https://localhost:8080/"
        },
        "id": "6aNjXD4TbWTT",
        "outputId": "52c0dfdd-e604-4979-e4a4-50308216c0d9"
      },
      "execution_count": null,
      "outputs": [
        {
          "output_type": "stream",
          "name": "stdout",
          "text": [
            "[1, 2, 3, 't', 'y']\n"
          ]
        }
      ]
    },
    {
      "cell_type": "code",
      "source": [
        "l1 = [\"ineuron\",\"DS\",\"AI\"]\n",
        "l2 = list(range(5))\n",
        "print(\"extended list\")\n",
        "l1.extend(l2)\n",
        "l1"
      ],
      "metadata": {
        "colab": {
          "base_uri": "https://localhost:8080/"
        },
        "id": "DrsONf26bbRb",
        "outputId": "bc1799a7-45a5-43cf-a731-6a35f4a2ae10"
      },
      "execution_count": null,
      "outputs": [
        {
          "output_type": "stream",
          "name": "stdout",
          "text": [
            "extended list\n"
          ]
        },
        {
          "output_type": "execute_result",
          "data": {
            "text/plain": [
              "['ineuron', 'DS', 'AI', 0, 1, 2, 3, 4]"
            ]
          },
          "metadata": {},
          "execution_count": 18
        }
      ]
    },
    {
      "cell_type": "markdown",
      "metadata": {
        "id": "YyHzfHJsIKEE"
      },
      "source": [
        ">**Note:-** how extend append each element in that iterable. That is the key difference."
      ]
    },
    {
      "cell_type": "markdown",
      "source": [
        "### index\n",
        "\n",
        "`index` returns the lowest index of element placed as an argument. Make a note that if the element is not in the list then it returns an error.\n"
      ],
      "metadata": {
        "id": "YHva__U8bucd"
      }
    },
    {
      "cell_type": "markdown",
      "source": [
        "### insert \n",
        "\n",
        "Two arguments can be placed in insert method. \n",
        "\n",
        "Syntax: insert(index,object) \n",
        "\n",
        "This method places the object at the index supplied. For example:"
      ],
      "metadata": {
        "id": "oYIVQCywcBDb"
      }
    },
    {
      "cell_type": "markdown",
      "source": [
        "### pop\n",
        "You most likely have already seen `pop()`, which allows us to \"pop\" off the last element of a list. "
      ],
      "metadata": {
        "id": "gqbk6Z7UcMyy"
      }
    },
    {
      "cell_type": "markdown",
      "source": [
        "### remove\n",
        "\n",
        "The `remove()` method removes the first occurrence of a value. For example:"
      ],
      "metadata": {
        "id": "bqXdDRGhcQQy"
      }
    },
    {
      "cell_type": "code",
      "source": [
        "l"
      ],
      "metadata": {
        "colab": {
          "base_uri": "https://localhost:8080/"
        },
        "id": "NfBN_z-Vbdx2",
        "outputId": "2deb4886-3b79-4d1b-a700-5ed3eace6616"
      },
      "execution_count": null,
      "outputs": [
        {
          "output_type": "execute_result",
          "data": {
            "text/plain": [
              "[1, 2, 3, '45']"
            ]
          },
          "metadata": {},
          "execution_count": 25
        }
      ]
    },
    {
      "cell_type": "code",
      "source": [
        "l.remove(4)"
      ],
      "metadata": {
        "id": "q-uk2UJAcVs7"
      },
      "execution_count": null,
      "outputs": []
    },
    {
      "cell_type": "code",
      "source": [
        "l = [1,2,3,4,3]"
      ],
      "metadata": {
        "id": "e6RIVndkcWfU"
      },
      "execution_count": null,
      "outputs": []
    },
    {
      "cell_type": "code",
      "source": [
        "# If we have same element coming multiple times, it will remove first occuring element only\n",
        "l.remove(3)"
      ],
      "metadata": {
        "id": "48cNDl5LcqTy"
      },
      "execution_count": null,
      "outputs": []
    },
    {
      "cell_type": "code",
      "source": [
        "l"
      ],
      "metadata": {
        "colab": {
          "base_uri": "https://localhost:8080/",
          "height": 165
        },
        "id": "M0gTrbjLctxc",
        "outputId": "2a80b963-ca88-4831-c945-b521dc67cf26"
      },
      "execution_count": null,
      "outputs": [
        {
          "output_type": "error",
          "ename": "NameError",
          "evalue": "ignored",
          "traceback": [
            "\u001b[0;31m---------------------------------------------------------------------------\u001b[0m",
            "\u001b[0;31mNameError\u001b[0m                                 Traceback (most recent call last)",
            "\u001b[0;32m<ipython-input-1-cde25b5e10ad>\u001b[0m in \u001b[0;36m<module>\u001b[0;34m\u001b[0m\n\u001b[0;32m----> 1\u001b[0;31m \u001b[0ml\u001b[0m\u001b[0;34m\u001b[0m\u001b[0;34m\u001b[0m\u001b[0m\n\u001b[0m",
            "\u001b[0;31mNameError\u001b[0m: name 'l' is not defined"
          ]
        }
      ]
    },
    {
      "cell_type": "markdown",
      "metadata": {
        "id": "4nl3Tt-vIKE5"
      },
      "source": [
        "### reverse\n",
        "\n",
        "As the name suggests, `reverse()` helps you to reverse a list. Note this occurs in place! Meaning it effects your list permanently."
      ]
    },
    {
      "cell_type": "code",
      "source": [
        "l.reverse()"
      ],
      "metadata": {
        "id": "GHuca1v3cwaT"
      },
      "execution_count": null,
      "outputs": []
    },
    {
      "cell_type": "code",
      "source": [
        "l"
      ],
      "metadata": {
        "colab": {
          "base_uri": "https://localhost:8080/"
        },
        "id": "WJ3_sVk6c0cL",
        "outputId": "8284a72e-6ed1-4963-d4e8-48405f6e21f8"
      },
      "execution_count": null,
      "outputs": [
        {
          "output_type": "execute_result",
          "data": {
            "text/plain": [
              "[3, 4, 2, 1]"
            ]
          },
          "metadata": {},
          "execution_count": 30
        }
      ]
    },
    {
      "cell_type": "markdown",
      "metadata": {
        "id": "MloaxG5NIKFB"
      },
      "source": [
        "### sort\n",
        "\n",
        "`sort` will sort your list in place:"
      ]
    },
    {
      "cell_type": "code",
      "source": [
        "l"
      ],
      "metadata": {
        "colab": {
          "base_uri": "https://localhost:8080/"
        },
        "id": "0qNC06qBc4v6",
        "outputId": "322b2ab1-8611-4a1a-a1fd-4bad3b462c79"
      },
      "execution_count": null,
      "outputs": [
        {
          "output_type": "execute_result",
          "data": {
            "text/plain": [
              "[3, 4, 2, 1]"
            ]
          },
          "metadata": {},
          "execution_count": 31
        }
      ]
    },
    {
      "cell_type": "code",
      "source": [
        "l.sort()"
      ],
      "metadata": {
        "id": "3Yshjzbrc7Q9"
      },
      "execution_count": null,
      "outputs": []
    },
    {
      "cell_type": "code",
      "source": [
        "l"
      ],
      "metadata": {
        "colab": {
          "base_uri": "https://localhost:8080/"
        },
        "id": "vFY2_Yo2c9qT",
        "outputId": "d69d15e8-9c8c-4b5a-c992-90348be3155d"
      },
      "execution_count": null,
      "outputs": [
        {
          "output_type": "execute_result",
          "data": {
            "text/plain": [
              "[1, 2, 3, 4]"
            ]
          },
          "metadata": {},
          "execution_count": 34
        }
      ]
    },
    {
      "cell_type": "code",
      "source": [
        "l = [0,1,2,\"abc\",\"DS\",\"ineuron\"]"
      ],
      "metadata": {
        "id": "Xiy6FmgKdAk0"
      },
      "execution_count": null,
      "outputs": []
    },
    {
      "cell_type": "code",
      "source": [
        "# Sorting can be done using same types of data in a list\n",
        "l.sort()"
      ],
      "metadata": {
        "colab": {
          "base_uri": "https://localhost:8080/",
          "height": 183
        },
        "id": "lw80_iX2dDpE",
        "outputId": "5b830218-6d3e-4646-ec28-6bfd8c6041ac"
      },
      "execution_count": null,
      "outputs": [
        {
          "output_type": "error",
          "ename": "TypeError",
          "evalue": "ignored",
          "traceback": [
            "\u001b[0;31m---------------------------------------------------------------------------\u001b[0m",
            "\u001b[0;31mTypeError\u001b[0m                                 Traceback (most recent call last)",
            "\u001b[0;32m<ipython-input-36-631fbafb3af8>\u001b[0m in \u001b[0;36m<module>\u001b[0;34m\u001b[0m\n\u001b[1;32m      1\u001b[0m \u001b[0;31m# Sorting can be done using same types of data in a list\u001b[0m\u001b[0;34m\u001b[0m\u001b[0;34m\u001b[0m\u001b[0;34m\u001b[0m\u001b[0m\n\u001b[0;32m----> 2\u001b[0;31m \u001b[0ml\u001b[0m\u001b[0;34m.\u001b[0m\u001b[0msort\u001b[0m\u001b[0;34m(\u001b[0m\u001b[0;34m)\u001b[0m\u001b[0;34m\u001b[0m\u001b[0;34m\u001b[0m\u001b[0m\n\u001b[0m",
            "\u001b[0;31mTypeError\u001b[0m: '<' not supported between instances of 'str' and 'int'"
          ]
        }
      ]
    },
    {
      "cell_type": "markdown",
      "metadata": {
        "id": "zOcd1ZGrIKFM"
      },
      "source": [
        "### Iterating through a string by using list Comprehension"
      ]
    },
    {
      "cell_type": "code",
      "source": [
        "# Without using list comprehension\n",
        "letter = []\n",
        "for ch in 'iNeuron':\n",
        "    letter.append(ch)\n",
        "letter"
      ],
      "metadata": {
        "colab": {
          "base_uri": "https://localhost:8080/"
        },
        "id": "1Ch0OtcAdSOj",
        "outputId": "f7f75c56-e68e-4521-e605-8437a0df4e46"
      },
      "execution_count": null,
      "outputs": [
        {
          "output_type": "execute_result",
          "data": {
            "text/plain": [
              "['i', 'N', 'e', 'u', 'r', 'o', 'n']"
            ]
          },
          "metadata": {},
          "execution_count": 37
        }
      ]
    },
    {
      "cell_type": "code",
      "source": [
        "# With using list comprehension\n",
        "letter = [ ch for ch in 'iNeuron' ]\n",
        "print(letter)"
      ],
      "metadata": {
        "colab": {
          "base_uri": "https://localhost:8080/"
        },
        "id": "oo_786m0fVS_",
        "outputId": "7408053b-b1c5-4001-8162-3b944c3f2c43"
      },
      "execution_count": null,
      "outputs": [
        {
          "output_type": "stream",
          "name": "stdout",
          "text": [
            "['i', 'N', 'e', 'u', 'r', 'o', 'n']\n"
          ]
        }
      ]
    },
    {
      "cell_type": "markdown",
      "metadata": {
        "id": "USbT73PkIKFQ"
      },
      "source": [
        "Use of conditional statements using list comprehension"
      ]
    },
    {
      "cell_type": "code",
      "source": [
        "#Without list comprehension\n",
        "l=[]\n",
        "for i in range(20):\n",
        "    if i%2 == 0:\n",
        "        l.append(i)\n",
        "l"
      ],
      "metadata": {
        "colab": {
          "base_uri": "https://localhost:8080/"
        },
        "id": "F1Wu-bVJf-tE",
        "outputId": "e440520f-f826-431d-ea57-f302b491fe22"
      },
      "execution_count": null,
      "outputs": [
        {
          "output_type": "execute_result",
          "data": {
            "text/plain": [
              "[0, 2, 4, 6, 8, 10, 12, 14, 16, 18]"
            ]
          },
          "metadata": {},
          "execution_count": 45
        }
      ]
    },
    {
      "cell_type": "code",
      "source": [
        "# With list comprehension\n",
        "number = [ i for i in range(20) if i % 2 == 0]\n",
        "print(number)"
      ],
      "metadata": {
        "colab": {
          "base_uri": "https://localhost:8080/"
        },
        "id": "k8qJos-hgFT0",
        "outputId": "02229afb-4445-4f5e-e2f1-3aac03477ecd"
      },
      "execution_count": null,
      "outputs": [
        {
          "output_type": "stream",
          "name": "stdout",
          "text": [
            "[0, 2, 4, 6, 8, 10, 12, 14, 16, 18]\n"
          ]
        }
      ]
    },
    {
      "cell_type": "code",
      "source": [
        "l = []\n",
        "for i in range(20):\n",
        "    if i%2 != 0:\n",
        "        l.append(\"Odd\")\n",
        "    else:\n",
        "        l.append(\"Even\")\n",
        "l"
      ],
      "metadata": {
        "colab": {
          "base_uri": "https://localhost:8080/"
        },
        "id": "cYh7SMJpgH57",
        "outputId": "5cada2c2-cf32-46ba-ff78-9da53ac5cc03"
      },
      "execution_count": null,
      "outputs": [
        {
          "output_type": "execute_result",
          "data": {
            "text/plain": [
              "['Even',\n",
              " 'Odd',\n",
              " 'Even',\n",
              " 'Odd',\n",
              " 'Even',\n",
              " 'Odd',\n",
              " 'Even',\n",
              " 'Odd',\n",
              " 'Even',\n",
              " 'Odd',\n",
              " 'Even',\n",
              " 'Odd',\n",
              " 'Even',\n",
              " 'Odd',\n",
              " 'Even',\n",
              " 'Odd',\n",
              " 'Even',\n",
              " 'Odd',\n",
              " 'Even',\n",
              " 'Odd']"
            ]
          },
          "metadata": {},
          "execution_count": 43
        }
      ]
    },
    {
      "cell_type": "code",
      "source": [
        "# if else in list comprehension\n",
        "odd_even = [\"Odd\" if i%2!=0 else \"Even\" for i in range(20)]\n",
        "odd_even"
      ],
      "metadata": {
        "colab": {
          "base_uri": "https://localhost:8080/"
        },
        "id": "p1Uh7hl3iqb0",
        "outputId": "2d20ad52-a045-4452-cb02-4db7e7a47b38"
      },
      "execution_count": null,
      "outputs": [
        {
          "output_type": "execute_result",
          "data": {
            "text/plain": [
              "['Even',\n",
              " 'Odd',\n",
              " 'Even',\n",
              " 'Odd',\n",
              " 'Even',\n",
              " 'Odd',\n",
              " 'Even',\n",
              " 'Odd',\n",
              " 'Even',\n",
              " 'Odd',\n",
              " 'Even',\n",
              " 'Odd',\n",
              " 'Even',\n",
              " 'Odd',\n",
              " 'Even',\n",
              " 'Odd',\n",
              " 'Even',\n",
              " 'Odd',\n",
              " 'Even',\n",
              " 'Odd']"
            ]
          },
          "metadata": {},
          "execution_count": 46
        }
      ]
    },
    {
      "cell_type": "code",
      "source": [
        "# Nested for loop without list comprehention\n",
        "matrix = []\n",
        "for i in range(3):\n",
        "    matrix.append([])\n",
        "    for j in range(3):\n",
        "        matrix[i].append(j)\n",
        "\n",
        "matrix"
      ],
      "metadata": {
        "colab": {
          "base_uri": "https://localhost:8080/"
        },
        "id": "725zpjrLixm7",
        "outputId": "2c59be27-9dd4-49f2-a34f-077c7988823c"
      },
      "execution_count": null,
      "outputs": [
        {
          "output_type": "execute_result",
          "data": {
            "text/plain": [
              "[[0, 1, 2], [0, 1, 2], [0, 1, 2]]"
            ]
          },
          "metadata": {},
          "execution_count": 47
        }
      ]
    },
    {
      "cell_type": "code",
      "source": [
        "# Nested for loop with list comprehention\n",
        "matrix_with_List_Comp = [[j for j in range(3)] for i in range(3)]\n",
        "matrix_with_List_Comp"
      ],
      "metadata": {
        "colab": {
          "base_uri": "https://localhost:8080/"
        },
        "id": "fYlJ3AyMi8q1",
        "outputId": "4e7f2c6d-cd84-4e9f-d60d-485c11227443"
      },
      "execution_count": null,
      "outputs": [
        {
          "output_type": "execute_result",
          "data": {
            "text/plain": [
              "[[0, 1, 2], [0, 1, 2], [0, 1, 2]]"
            ]
          },
          "metadata": {},
          "execution_count": 48
        }
      ]
    },
    {
      "cell_type": "code",
      "source": [
        "# Nested conditions\n",
        "[i for i in range(8) if i%2==0 if i%3==0]"
      ],
      "metadata": {
        "colab": {
          "base_uri": "https://localhost:8080/"
        },
        "id": "QwPId9CzjOwr",
        "outputId": "4406a859-9790-44ca-dcbf-af17e920441e"
      },
      "execution_count": null,
      "outputs": [
        {
          "output_type": "execute_result",
          "data": {
            "text/plain": [
              "[0, 6]"
            ]
          },
          "metadata": {},
          "execution_count": 49
        }
      ]
    },
    {
      "cell_type": "code",
      "source": [
        "l = []\n",
        "for i in range(8):\n",
        "    if i%2 ==0:\n",
        "        if i%3 == 0:\n",
        "            l.append(i)\n",
        "l"
      ],
      "metadata": {
        "colab": {
          "base_uri": "https://localhost:8080/"
        },
        "id": "jNRHYscsjUvR",
        "outputId": "1a0836b5-d659-4c57-9cb7-a150d824c400"
      },
      "execution_count": null,
      "outputs": [
        {
          "output_type": "execute_result",
          "data": {
            "text/plain": [
              "[0, 6]"
            ]
          },
          "metadata": {},
          "execution_count": 50
        }
      ]
    },
    {
      "cell_type": "code",
      "source": [
        "# For if elif else\n",
        "l = [1, 2, 3, 4, 5, 6, 7, 8, 9]\n",
        "['yes' if i == 1 else 'no' if i == 2 else 'idle' for i in l]"
      ],
      "metadata": {
        "colab": {
          "base_uri": "https://localhost:8080/"
        },
        "id": "sTD3pPXzjah0",
        "outputId": "6d5c20cb-1927-4957-f188-75f09253042b"
      },
      "execution_count": null,
      "outputs": [
        {
          "output_type": "execute_result",
          "data": {
            "text/plain": [
              "['yes', 'no', 'idle', 'idle', 'idle', 'idle', 'idle', 'idle', 'idle']"
            ]
          },
          "metadata": {},
          "execution_count": 51
        }
      ]
    },
    {
      "cell_type": "code",
      "source": [
        "l = [1, 2, 3, 4, 5, 6, 7, 8, 9]\n",
        "res = []\n",
        "for i in l:\n",
        "    if i == 1:\n",
        "        res.append(\"yes\")\n",
        "    elif i == 2:\n",
        "        res.append(\"no\")\n",
        "    else:\n",
        "        res.append(\"idle\")\n",
        "        \n",
        "res"
      ],
      "metadata": {
        "colab": {
          "base_uri": "https://localhost:8080/"
        },
        "id": "z9y94TqYjfw0",
        "outputId": "cd0f7781-693e-4fbe-a324-2115d0269f24"
      },
      "execution_count": null,
      "outputs": [
        {
          "output_type": "execute_result",
          "data": {
            "text/plain": [
              "['yes', 'no', 'idle', 'idle', 'idle', 'idle', 'idle', 'idle', 'idle']"
            ]
          },
          "metadata": {},
          "execution_count": 52
        }
      ]
    },
    {
      "cell_type": "markdown",
      "source": [
        "\n",
        "\n",
        "---\n",
        "\n",
        "extrass\n",
        "\n",
        "\n",
        "\n",
        "---\n",
        "\n"
      ],
      "metadata": {
        "id": "_qKALQ-GRv66"
      }
    },
    {
      "cell_type": "code",
      "source": [
        "l= []"
      ],
      "metadata": {
        "id": "-Zsvxf2kRAT7"
      },
      "execution_count": null,
      "outputs": []
    },
    {
      "cell_type": "code",
      "source": [
        "l.append(\"1\")"
      ],
      "metadata": {
        "id": "fYXRw9sZREfj"
      },
      "execution_count": null,
      "outputs": []
    },
    {
      "cell_type": "code",
      "source": [
        "l"
      ],
      "metadata": {
        "colab": {
          "base_uri": "https://localhost:8080/"
        },
        "id": "mDkizKxBRIL3",
        "outputId": "a1874989-afe2-41f0-b435-2262af2acf13"
      },
      "execution_count": null,
      "outputs": [
        {
          "output_type": "execute_result",
          "data": {
            "text/plain": [
              "['1']"
            ]
          },
          "metadata": {},
          "execution_count": 7
        }
      ]
    },
    {
      "cell_type": "code",
      "source": [
        "l.append(\"2\")"
      ],
      "metadata": {
        "id": "4zQGnrAaRJ8F"
      },
      "execution_count": null,
      "outputs": []
    },
    {
      "cell_type": "code",
      "source": [
        "l"
      ],
      "metadata": {
        "colab": {
          "base_uri": "https://localhost:8080/"
        },
        "id": "A531thanRM0T",
        "outputId": "8b5afc22-6c0b-439d-9d47-6275d2cd2ff2"
      },
      "execution_count": null,
      "outputs": [
        {
          "output_type": "execute_result",
          "data": {
            "text/plain": [
              "['1', '2']"
            ]
          },
          "metadata": {},
          "execution_count": 9
        }
      ]
    },
    {
      "cell_type": "markdown",
      "source": [
        "\n",
        "\n",
        "---\n",
        "\n"
      ],
      "metadata": {
        "id": "S2XuTQynRBxz"
      }
    }
  ]
}