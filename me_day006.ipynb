{
  "nbformat": 4,
  "nbformat_minor": 0,
  "metadata": {
    "colab": {
      "provenance": [],
      "collapsed_sections": []
    },
    "kernelspec": {
      "name": "python3",
      "display_name": "Python 3"
    },
    "language_info": {
      "name": "python"
    }
  },
  "cells": [
    {
      "cell_type": "markdown",
      "source": [
        "# AGENDA\n",
        "1. Control flow statements\n",
        "- if else\n",
        "- if elif else\n",
        "- Nested if else\n",
        "- Single line if else [Not recommended]\n",
        "2. Loops in python\n",
        "- for\n",
        "- while\n"
      ],
      "metadata": {
        "id": "etTnpSCLZ6Lu"
      }
    },
    {
      "cell_type": "markdown",
      "source": [
        "## if else [Covered]"
      ],
      "metadata": {
        "id": "fFaXaAOoZ7f6"
      }
    },
    {
      "cell_type": "markdown",
      "source": [
        "## If elif \n"
      ],
      "metadata": {
        "id": "K_oMV5ORaAaj"
      }
    },
    {
      "cell_type": "markdown",
      "source": [
        "Online Food orders - Zomato App, Swiggy, Uber Eats\n",
        "\n",
        "- if you order more than Rs.499\n",
        "  - discount = 20%\n",
        "- if you order more than Rs.999\n",
        "  - discount = 30%\n",
        "- if you order more than 1499\n",
        "  - discount = 40%"
      ],
      "metadata": {
        "id": "7YqgJBuJaMlp"
      }
    },
    {
      "cell_type": "code",
      "execution_count": null,
      "metadata": {
        "id": "JvyTbn7QFF_1",
        "colab": {
          "base_uri": "https://localhost:8080/"
        },
        "outputId": "4950aa3e-d725-47b3-802a-e2f302cecb11"
      },
      "outputs": [
        {
          "output_type": "stream",
          "name": "stdout",
          "text": [
            "cart total: 1290\n",
            "Pay amount: 903.0\n"
          ]
        }
      ],
      "source": [
        "total_amount = 90 + 100 + 100 + 1000\n",
        "\n",
        "print(f\"cart total: {total_amount}\")\n",
        "\n",
        "if total_amount > 999:\n",
        "  price_after_discount = total_amount * 70/100\n",
        "  print(f\"Pay amount: {price_after_discount}\")\n",
        "elif total_amount <= 999 and total_amount > 499: #  999 <= price < 499\n",
        "  price_after_discount = total_amount * 80/100\n",
        "  print(f\"Pay amount: {price_after_discount}\")\n",
        "else:\n",
        "  print(f\"Pay amount: {total_amount}\")"
      ]
    },
    {
      "cell_type": "code",
      "source": [
        "total_amount = 90 + 100 #+ 100 + 1000\n",
        "\n",
        "print(f\"cart total: {total_amount}\")\n",
        "\n",
        "if total_amount > 999:\n",
        "  price_after_discount = total_amount * 70/100\n",
        "  print(f\"Pay amount: {price_after_discount}\")\n",
        "elif total_amount <= 999 and total_amount > 499: #  999 <= price < 499\n",
        "  price_after_discount = total_amount * 80/100\n",
        "  print(f\"Pay amount: {price_after_discount}\")\n",
        "else:\n",
        "  print(f\"Pay amount: {total_amount}\")"
      ],
      "metadata": {
        "colab": {
          "base_uri": "https://localhost:8080/"
        },
        "id": "oJsEbQlhk-Io",
        "outputId": "96eb302c-bd97-4afd-cbda-101f31ac3913"
      },
      "execution_count": null,
      "outputs": [
        {
          "output_type": "stream",
          "name": "stdout",
          "text": [
            "cart total: 190\n",
            "Pay amount: 190\n"
          ]
        }
      ]
    },
    {
      "cell_type": "code",
      "source": [
        "total_amount = 90 + 100 + 500\n",
        "\n",
        "print(f\"cart total: {total_amount}\")\n",
        "\n",
        "if total_amount > 999:\n",
        "  price_after_discount = total_amount * 70/100\n",
        "  print(f\"Pay amount: {price_after_discount}\")\n",
        "elif total_amount <= 999 and total_amount > 499: #  999 <= price < 499\n",
        "  price_after_discount = total_amount * 80/100\n",
        "  print(f\"Pay amount: {price_after_discount}\")\n",
        "else:\n",
        "  print(f\"Pay amount: {total_amount}\")"
      ],
      "metadata": {
        "colab": {
          "base_uri": "https://localhost:8080/"
        },
        "id": "D89Vc_nulenY",
        "outputId": "53c44501-d034-4f0a-9012-ceb0324053d7"
      },
      "execution_count": null,
      "outputs": [
        {
          "output_type": "stream",
          "name": "stdout",
          "text": [
            "cart total: 690\n",
            "Pay amount: 552.0\n"
          ]
        }
      ]
    },
    {
      "cell_type": "code",
      "source": [
        "total_amount = 90 + 100 + 500 + 1000\n",
        "\n",
        "print(f\"cart total: {total_amount}\")\n",
        "\n",
        "if total_amount > 1499:\n",
        "  price_after_discount = total_amount * 60/100\n",
        "  print(f\"Pay amount: {price_after_discount}\")\n",
        "elif 999 < total_amount <= 1499:\n",
        "  price_after_discount = total_amount * 70/100\n",
        "  print(f\"Pay amount: {price_after_discount}\")\n",
        "elif 499 < total_amount <= 999: #  999 <= price < 499\n",
        "  price_after_discount = total_amount * 80/100\n",
        "  print(f\"Pay amount: {price_after_discount}\")\n",
        "else:\n",
        "  print(f\"Pay amount: {total_amount}\")"
      ],
      "metadata": {
        "colab": {
          "base_uri": "https://localhost:8080/"
        },
        "id": "EZgtIiOolhtp",
        "outputId": "1c8fa7cc-475a-4880-cdfa-410662a37b09"
      },
      "execution_count": null,
      "outputs": [
        {
          "output_type": "stream",
          "name": "stdout",
          "text": [
            "cart total: 1690\n",
            "Pay amount: 1014.0\n"
          ]
        }
      ]
    },
    {
      "cell_type": "markdown",
      "source": [
        "### Nested if else"
      ],
      "metadata": {
        "id": "xcJM9vo4mCBb"
      }
    },
    {
      "cell_type": "markdown",
      "source": [
        "print if the no is negative or positive"
      ],
      "metadata": {
        "id": "l2h6oXWFmEAe"
      }
    },
    {
      "cell_type": "code",
      "source": [
        "val = float(input(\"Enter a number:\"))\n",
        "if val>=0:\n",
        "  if val == 0:\n",
        "    print(\"Its zero\")\n",
        "  else:\n",
        "    print(\"Its a positive no\")\n",
        "else:\n",
        "  print(\"Negative number\")\n",
        "  "
      ],
      "metadata": {
        "colab": {
          "base_uri": "https://localhost:8080/"
        },
        "id": "a43Jjmkdlq6e",
        "outputId": "501a1531-68a7-4ccf-ebe7-cd3a54f4a8f4"
      },
      "execution_count": null,
      "outputs": [
        {
          "output_type": "stream",
          "name": "stdout",
          "text": [
            "Enter a number:12\n",
            "Its a positive no\n"
          ]
        }
      ]
    },
    {
      "cell_type": "code",
      "source": [
        "val = float(input(\"Enter a number:\"))\n",
        "if val>=0:\n",
        "  if val == 0:\n",
        "    print(\"Its zero\")\n",
        "  else:\n",
        "    print(\"Its a positive no\")\n",
        "else:\n",
        "  print(\"Negative number\")\n",
        "  "
      ],
      "metadata": {
        "colab": {
          "base_uri": "https://localhost:8080/"
        },
        "id": "GLG2EsxOmh84",
        "outputId": "73ad10bb-4278-476a-8f7a-31d9a490ef32"
      },
      "execution_count": null,
      "outputs": [
        {
          "output_type": "stream",
          "name": "stdout",
          "text": [
            "Enter a number:2.5\n",
            "Its a positive no\n"
          ]
        }
      ]
    },
    {
      "cell_type": "code",
      "source": [
        "val = float(input(\"Enter a number:\"))\n",
        "if val>=0:\n",
        "  if val == 0:\n",
        "    print(\"Its zero\")\n",
        "  else:\n",
        "    print(\"Its a positive no\")\n",
        "else:\n",
        "  print(\"Negative number\")\n",
        "  "
      ],
      "metadata": {
        "colab": {
          "base_uri": "https://localhost:8080/"
        },
        "id": "XaDNkvyvmk8t",
        "outputId": "b52ed60f-00e1-4290-e2a7-39c3e8ee07f4"
      },
      "execution_count": null,
      "outputs": [
        {
          "output_type": "stream",
          "name": "stdout",
          "text": [
            "Enter a number:-12.5\n",
            "Negative number\n"
          ]
        }
      ]
    },
    {
      "cell_type": "markdown",
      "source": [
        "### Single line if else\n",
        "\n",
        "NOTE: NOT RECOMMENDED FOR CODING IN PROJECTS OR PRODUCTION\n",
        "\n",
        "but good for competitive programming"
      ],
      "metadata": {
        "id": "-iBiNzZrntBx"
      }
    },
    {
      "cell_type": "markdown",
      "source": [
        "print YES of the no is greater than 99"
      ],
      "metadata": {
        "id": "iNH_d1-zn1nR"
      }
    },
    {
      "cell_type": "code",
      "source": [
        "# OK for competitive program\n",
        "# For production code or in a company its not recommended\n",
        "val = float(input(\"Enter a number\"))\n",
        "\n",
        "if val > 99: print(\"YES\")\n",
        "else: print(\"NO\")"
      ],
      "metadata": {
        "colab": {
          "base_uri": "https://localhost:8080/"
        },
        "id": "GCqZIZH_nwMw",
        "outputId": "07bda3e6-f283-4c24-9bdc-5ed11ce10c95"
      },
      "execution_count": null,
      "outputs": [
        {
          "output_type": "stream",
          "name": "stdout",
          "text": [
            "Enter a number1\n",
            "NO\n"
          ]
        }
      ]
    },
    {
      "cell_type": "code",
      "source": [
        "# OK for competitive program\n",
        "# For production code or in a company its not recommended\n",
        "val = float(input(\"Enter a number\"))\n",
        "\n",
        "if val > 99: print(\"YES\")\n",
        "else: print(\"NO\")"
      ],
      "metadata": {
        "colab": {
          "base_uri": "https://localhost:8080/"
        },
        "id": "vS75bYBYn9y_",
        "outputId": "25eb3646-6a0a-4a10-b771-314f32e8f319"
      },
      "execution_count": null,
      "outputs": [
        {
          "output_type": "stream",
          "name": "stdout",
          "text": [
            "Enter a number100\n",
            "YES\n"
          ]
        }
      ]
    },
    {
      "cell_type": "code",
      "source": [
        "# Recommended approach\n",
        "# Its more readable and clean\n",
        "\n",
        "val = float(input(\"Enter a number\"))\n",
        "\n",
        "if val > 99: \n",
        "  print(\"YES\")\n",
        "else: \n",
        "  print(\"NO\")"
      ],
      "metadata": {
        "colab": {
          "base_uri": "https://localhost:8080/"
        },
        "id": "TH1GAHWnoCE_",
        "outputId": "2ea876b0-0782-47e3-97aa-7c6db1eb288c"
      },
      "execution_count": null,
      "outputs": [
        {
          "output_type": "stream",
          "name": "stdout",
          "text": [
            "Enter a number1\n",
            "NO\n"
          ]
        }
      ]
    },
    {
      "cell_type": "code",
      "source": [
        "# Recommended approach\n",
        "# Its more readable and clean\n",
        "\n",
        "val = float(input(\"Enter a number\"))\n",
        "\n",
        "if val > 99: \n",
        "  print(\"YES\")\n",
        "else: \n",
        "  print(\"NO\")"
      ],
      "metadata": {
        "colab": {
          "base_uri": "https://localhost:8080/"
        },
        "id": "gI0WEL8RoESn",
        "outputId": "b45eb07f-ca28-4ce6-93e9-135a5489f6ec"
      },
      "execution_count": null,
      "outputs": [
        {
          "output_type": "stream",
          "name": "stdout",
          "text": [
            "Enter a number100\n",
            "YES\n"
          ]
        }
      ]
    },
    {
      "cell_type": "code",
      "source": [
        "# only good for competitive programming\n",
        "val = float(input(\"Enter a number: \"))\n",
        "\n",
        "print(\"YES\" if val > 99 else \"NO\")"
      ],
      "metadata": {
        "colab": {
          "base_uri": "https://localhost:8080/"
        },
        "id": "8VdAcbZOoGKI",
        "outputId": "e2adef53-7fde-4940-c7c0-1fc712d866e9"
      },
      "execution_count": null,
      "outputs": [
        {
          "output_type": "stream",
          "name": "stdout",
          "text": [
            "Enter a number: 5\n",
            "NO\n"
          ]
        }
      ]
    },
    {
      "cell_type": "code",
      "source": [
        "# only good for competitive programming\n",
        "val = float(input(\"Enter a number: \"))\n",
        "\n",
        "print(\"YES\" if val > 99 else \"NO\")"
      ],
      "metadata": {
        "colab": {
          "base_uri": "https://localhost:8080/"
        },
        "id": "WYOn2lJPoMaW",
        "outputId": "0d089a74-f004-4618-a6ee-afccf4509b49"
      },
      "execution_count": null,
      "outputs": [
        {
          "output_type": "stream",
          "name": "stdout",
          "text": [
            "Enter a number: 200\n",
            "YES\n"
          ]
        }
      ]
    },
    {
      "cell_type": "markdown",
      "source": [
        "## Loops\n",
        "1. While loop\n",
        "2. For loop\n",
        "3. Loop control\n",
        "  - break\n",
        "  - continue\n",
        "  - pass\n",
        "4. Nested loop"
      ],
      "metadata": {
        "id": "3eRLvGdloTww"
      }
    },
    {
      "cell_type": "markdown",
      "source": [
        "# UPSC, IAS, Goverment exams, Board exams, \n",
        "## Repetive attempts"
      ],
      "metadata": {
        "id": "RbJnty_EoWlH"
      }
    },
    {
      "cell_type": "markdown",
      "source": [
        "while I do not cross the cutoff I will keep on giving my exams\n",
        "\n",
        "```\n",
        "while CONDTION is True:\n",
        "  print()\n",
        "```\n"
      ],
      "metadata": {
        "id": "1nHQA5DVoXdP"
      }
    },
    {
      "cell_type": "code",
      "source": [
        "cutoff = 400\n",
        "scores = [100, 200, 300, 399, 500]\n",
        "\n",
        "# I will keep on attempting until I succeed\n",
        "year = 0 # indexing in python starts with 0\n",
        "\n",
        "while scores[year] < cutoff:\n",
        "  print(f\"Your score is: {scores[year]}, cutoff: {cutoff}\")\n",
        "  print(\"I will attempt next year\")\n",
        "  year = year + 1 # I am adding 1 to current year"
      ],
      "metadata": {
        "colab": {
          "base_uri": "https://localhost:8080/"
        },
        "id": "rIJ-a-_poZrQ",
        "outputId": "27285022-c1c4-4c3d-f8f0-0a99cdb10c45"
      },
      "execution_count": null,
      "outputs": [
        {
          "output_type": "stream",
          "name": "stdout",
          "text": [
            "Your score is: 100, cutoff: 400\n",
            "I will attempt next year\n",
            "Your score is: 200, cutoff: 400\n",
            "I will attempt next year\n",
            "Your score is: 300, cutoff: 400\n",
            "I will attempt next year\n",
            "Your score is: 399, cutoff: 400\n",
            "I will attempt next year\n"
          ]
        }
      ]
    },
    {
      "cell_type": "markdown",
      "source": [
        "## Infinite loop\n",
        "\n",
        "if the CONDITION is always TRUE then you loop will keep on running..."
      ],
      "metadata": {
        "id": "AzH-PjeLsbvV"
      }
    },
    {
      "cell_type": "code",
      "source": [
        "year = 4\n",
        "scores[year]"
      ],
      "metadata": {
        "colab": {
          "base_uri": "https://localhost:8080/"
        },
        "id": "TpA0_E5OsIro",
        "outputId": "a8f0aa15-75da-4d87-9103-53f89030789d"
      },
      "execution_count": null,
      "outputs": [
        {
          "output_type": "execute_result",
          "data": {
            "text/plain": [
              "500"
            ]
          },
          "metadata": {},
          "execution_count": 18
        }
      ]
    },
    {
      "cell_type": "code",
      "source": [
        "# while True:\n",
        "#   print(\"YES\")   # It will print Infinite YES as a loop"
      ],
      "metadata": {
        "id": "-sbhL-KSs50v"
      },
      "execution_count": null,
      "outputs": []
    },
    {
      "cell_type": "code",
      "source": [
        "\"\"\"\n",
        "Child is learning to counting 10 ruppes of note\n",
        "\"\"\"\n",
        "\n",
        "notes = 5\n",
        "i = 1 # 1st note\n",
        "\n",
        "while i <= notes:\n",
        "  print(f\"current sum: {i*10}\")\n",
        "  i = i + 1\n"
      ],
      "metadata": {
        "colab": {
          "base_uri": "https://localhost:8080/"
        },
        "id": "_lY3de2ttGUu",
        "outputId": "55c56828-c24b-4223-82b3-15c1ea082436"
      },
      "execution_count": null,
      "outputs": [
        {
          "output_type": "stream",
          "name": "stdout",
          "text": [
            "current sum: 10\n",
            "current sum: 20\n",
            "current sum: 30\n",
            "current sum: 40\n",
            "current sum: 50\n"
          ]
        }
      ]
    },
    {
      "cell_type": "code",
      "source": [
        "\"\"\"\n",
        "Child is learning to counting 10 ruppes of note\n",
        "\"\"\"\n",
        "\n",
        "notes = 10\n",
        "i = 1 # 1st note\n",
        "\n",
        "while i <= notes:\n",
        "  print(f\"current sum: {i*10}\")\n",
        "  i = i + 1\n"
      ],
      "metadata": {
        "colab": {
          "base_uri": "https://localhost:8080/"
        },
        "id": "3QRMLvNnuGHR",
        "outputId": "e80e288e-bb4f-4b62-d92b-389840beb504"
      },
      "execution_count": null,
      "outputs": [
        {
          "output_type": "stream",
          "name": "stdout",
          "text": [
            "current sum: 10\n",
            "current sum: 20\n",
            "current sum: 30\n",
            "current sum: 40\n",
            "current sum: 50\n",
            "current sum: 60\n",
            "current sum: 70\n",
            "current sum: 80\n",
            "current sum: 90\n",
            "current sum: 100\n"
          ]
        }
      ]
    },
    {
      "cell_type": "code",
      "source": [
        "# Train journey \n",
        "stations = [\"Station 01\", \"Station 02\", \"Station 03\", \"Station 04\"]\n",
        "\n",
        "current_station = 0\n",
        "destination_station = \"Station 03\"\n",
        "\n",
        "while stations[current_station] != destination_station:\n",
        "  print(f\"current station is: {stations[current_station]}\")\n",
        "  print(f\"my destination is: {destination_station}\")\n",
        "  print(\"Continue the journey I haven't reached the destination\")\n",
        "  current_station = current_station + 1\n",
        "  print(f\"Next station is: {stations[current_station]}\")\n",
        "  print(\"-----\")\n"
      ],
      "metadata": {
        "colab": {
          "base_uri": "https://localhost:8080/"
        },
        "id": "VanNXrxBvfNY",
        "outputId": "b541f88a-bb74-457d-ae80-174351558f68"
      },
      "execution_count": null,
      "outputs": [
        {
          "output_type": "stream",
          "name": "stdout",
          "text": [
            "current station is: Station 01\n",
            "my destination is: Station 03\n",
            "Continue the journey I haven't reached the destination\n",
            "Next station is: Station 02\n",
            "-----\n",
            "current station is: Station 02\n",
            "my destination is: Station 03\n",
            "Continue the journey I haven't reached the destination\n",
            "Next station is: Station 03\n",
            "-----\n"
          ]
        }
      ]
    },
    {
      "cell_type": "markdown",
      "source": [
        "## While else:"
      ],
      "metadata": {
        "id": "x0gsCgQUxD7u"
      }
    },
    {
      "cell_type": "code",
      "source": [
        "# Train journey \n",
        "stations = [\"Station 01\", \"Station 02\", \"Station 03\", \"Station 04\"]\n",
        "\n",
        "current_station = 0\n",
        "destination_station = \"Station 03\"\n",
        "\n",
        "while stations[current_station] != destination_station:\n",
        "  print(f\"current station is: {stations[current_station]}\")\n",
        "  print(f\"my destination is: {destination_station}\")\n",
        "  print(\"Continue the journey I haven't reached the destination\")\n",
        "  current_station = current_station + 1\n",
        "  print(f\"Next station is: {stations[current_station]}\")\n",
        "  print(\"-----\")\n",
        "else:\n",
        "  print(f\"I have arrived at: {stations[current_station]}\")  "
      ],
      "metadata": {
        "colab": {
          "base_uri": "https://localhost:8080/"
        },
        "id": "NS5VqoxPwx-3",
        "outputId": "0fc89adb-5052-4a74-a630-2d9f38a7b067"
      },
      "execution_count": null,
      "outputs": [
        {
          "output_type": "stream",
          "name": "stdout",
          "text": [
            "current station is: Station 01\n",
            "my destination is: Station 03\n",
            "Continue the journey I haven't reached the destination\n",
            "Next station is: Station 02\n",
            "-----\n",
            "current station is: Station 02\n",
            "my destination is: Station 03\n",
            "Continue the journey I haven't reached the destination\n",
            "Next station is: Station 03\n",
            "-----\n",
            "I have arrived at: Station 03\n"
          ]
        }
      ]
    },
    {
      "cell_type": "markdown",
      "source": [
        "```\n",
        "while CONDITION is True:\n",
        "  statement \n",
        "else:\n",
        "  statement\n",
        "```"
      ],
      "metadata": {
        "id": "E-ZwXG8xxYGH"
      }
    },
    {
      "cell_type": "code",
      "source": [
        "\"\"\"\n",
        "Child is learning to counting 10 ruppes of note\n",
        "\"\"\"\n",
        "\n",
        "notes = 5\n",
        "i = 1 # 1st note\n",
        "\n",
        "while i <= notes:\n",
        "  print(f\"current sum: {i*10}\")\n",
        "  i = i + 1\n",
        "else:\n",
        "  print(\"No more 10 rupees notes left\")"
      ],
      "metadata": {
        "colab": {
          "base_uri": "https://localhost:8080/"
        },
        "id": "qkttjxduLjLZ",
        "outputId": "d8275480-81a1-488b-836a-af6f20afa705"
      },
      "execution_count": null,
      "outputs": [
        {
          "output_type": "stream",
          "name": "stdout",
          "text": [
            "current sum: 10\n",
            "current sum: 20\n",
            "current sum: 30\n",
            "current sum: 40\n",
            "current sum: 50\n",
            "No more 10 rupees notes left\n"
          ]
        }
      ]
    },
    {
      "cell_type": "code",
      "source": [
        "\"\"\"\n",
        "Child is learning to counting 10 ruppes of note\n",
        "\"\"\"\n",
        "\n",
        "notes = 5\n",
        "i = 1 # 1st note\n",
        "\n",
        "while i <= notes:\n",
        "  print(f\"CONDITION: {i <= notes}\")\n",
        "  print(f\"current sum: {i*10}\")\n",
        "  i = i + 1\n",
        "  print(\"------\")\n",
        "else:\n",
        "  print(f\"CONDITION: {i <= notes}\")\n",
        "  print(\"No more 10 rupees notes left\")"
      ],
      "metadata": {
        "colab": {
          "base_uri": "https://localhost:8080/"
        },
        "id": "V76JkpDzMIlX",
        "outputId": "7db568a4-7dbf-4308-bb55-c370c456fd5e"
      },
      "execution_count": null,
      "outputs": [
        {
          "output_type": "stream",
          "name": "stdout",
          "text": [
            "CONDITION: True\n",
            "current sum: 10\n",
            "------\n",
            "CONDITION: True\n",
            "current sum: 20\n",
            "------\n",
            "CONDITION: True\n",
            "current sum: 30\n",
            "------\n",
            "CONDITION: True\n",
            "current sum: 40\n",
            "------\n",
            "CONDITION: True\n",
            "current sum: 50\n",
            "------\n",
            "CONDITION: False\n",
            "No more 10 rupees notes left\n"
          ]
        }
      ]
    },
    {
      "cell_type": "markdown",
      "source": [
        "## for loop"
      ],
      "metadata": {
        "id": "-m9atSWLMtUn"
      }
    },
    {
      "cell_type": "code",
      "source": [
        "for i in range(0,10):\n",
        "  print(i)"
      ],
      "metadata": {
        "colab": {
          "base_uri": "https://localhost:8080/"
        },
        "id": "OjFY1kz-MvV_",
        "outputId": "3bcaaf76-93c6-48b5-edc9-3b64c3c57792"
      },
      "execution_count": null,
      "outputs": [
        {
          "output_type": "stream",
          "name": "stdout",
          "text": [
            "0\n",
            "1\n",
            "2\n",
            "3\n",
            "4\n",
            "5\n",
            "6\n",
            "7\n",
            "8\n",
            "9\n"
          ]
        }
      ]
    },
    {
      "cell_type": "code",
      "source": [
        "for i in range(10):\n",
        "  print(i)"
      ],
      "metadata": {
        "colab": {
          "base_uri": "https://localhost:8080/"
        },
        "id": "G6hhRyhDNMSg",
        "outputId": "b24db491-2b8c-42d8-d7d1-a1007448e0d2"
      },
      "execution_count": null,
      "outputs": [
        {
          "output_type": "stream",
          "name": "stdout",
          "text": [
            "0\n",
            "1\n",
            "2\n",
            "3\n",
            "4\n",
            "5\n",
            "6\n",
            "7\n",
            "8\n",
            "9\n"
          ]
        }
      ]
    },
    {
      "cell_type": "code",
      "source": [
        "for i in range(0, 10): # (10 here is out of bound)\n",
        "  print(f\"10 X {i} = {10*i}\")"
      ],
      "metadata": {
        "colab": {
          "base_uri": "https://localhost:8080/"
        },
        "id": "KxqQQ3-SNPEg",
        "outputId": "4b246abf-ba63-4af3-c72f-d7bfcd50414b"
      },
      "execution_count": null,
      "outputs": [
        {
          "output_type": "stream",
          "name": "stdout",
          "text": [
            "10 X 0 = 0\n",
            "10 X 1 = 10\n",
            "10 X 2 = 20\n",
            "10 X 3 = 30\n",
            "10 X 4 = 40\n",
            "10 X 5 = 50\n",
            "10 X 6 = 60\n",
            "10 X 7 = 70\n",
            "10 X 8 = 80\n",
            "10 X 9 = 90\n"
          ]
        }
      ]
    },
    {
      "cell_type": "code",
      "source": [
        "for i in range(0, 10): # (10 here is out of bound)\n",
        "  print(f\"10 X {i + 1} = {10*(i+1)}\")"
      ],
      "metadata": {
        "colab": {
          "base_uri": "https://localhost:8080/"
        },
        "id": "OMJVjvSAVymO",
        "outputId": "0e509932-0c7d-43af-dbe4-6f3cdd3407eb"
      },
      "execution_count": null,
      "outputs": [
        {
          "output_type": "stream",
          "name": "stdout",
          "text": [
            "10 X 1 = 10\n",
            "10 X 2 = 20\n",
            "10 X 3 = 30\n",
            "10 X 4 = 40\n",
            "10 X 5 = 50\n",
            "10 X 6 = 60\n",
            "10 X 7 = 70\n",
            "10 X 8 = 80\n",
            "10 X 9 = 90\n",
            "10 X 10 = 100\n"
          ]
        }
      ]
    },
    {
      "cell_type": "code",
      "source": [
        "for i in range(1, 11): # (11 here is out of bound)\n",
        "  print(f\"10 X {i} = {10*i}\")"
      ],
      "metadata": {
        "colab": {
          "base_uri": "https://localhost:8080/"
        },
        "id": "Ycxt2rOFV3Hs",
        "outputId": "b9a8bc23-2c58-4b3c-e75b-725d253fae15"
      },
      "execution_count": null,
      "outputs": [
        {
          "output_type": "stream",
          "name": "stdout",
          "text": [
            "10 X 1 = 10\n",
            "10 X 2 = 20\n",
            "10 X 3 = 30\n",
            "10 X 4 = 40\n",
            "10 X 5 = 50\n",
            "10 X 6 = 60\n",
            "10 X 7 = 70\n",
            "10 X 8 = 80\n",
            "10 X 9 = 90\n",
            "10 X 10 = 100\n"
          ]
        }
      ]
    },
    {
      "cell_type": "code",
      "source": [
        "for i in range(1, 11): # (11 here is out of bound)\n",
        "  print(\"*\"*i)"
      ],
      "metadata": {
        "colab": {
          "base_uri": "https://localhost:8080/"
        },
        "id": "GLy6zurPWKxE",
        "outputId": "5cbb1671-f64d-480c-de85-482c47f34390"
      },
      "execution_count": null,
      "outputs": [
        {
          "output_type": "stream",
          "name": "stdout",
          "text": [
            "*\n",
            "**\n",
            "***\n",
            "****\n",
            "*****\n",
            "******\n",
            "*******\n",
            "********\n",
            "*********\n",
            "**********\n"
          ]
        }
      ]
    },
    {
      "cell_type": "code",
      "source": [
        "\"Sunny\"*10"
      ],
      "metadata": {
        "colab": {
          "base_uri": "https://localhost:8080/",
          "height": 35
        },
        "id": "ns5CnDCaWamQ",
        "outputId": "b1de6c61-8444-45bb-a087-4ff91772e995"
      },
      "execution_count": null,
      "outputs": [
        {
          "output_type": "execute_result",
          "data": {
            "text/plain": [
              "'SunnySunnySunnySunnySunnySunnySunnySunnySunnySunny'"
            ],
            "application/vnd.google.colaboratory.intrinsic+json": {
              "type": "string"
            }
          },
          "metadata": {},
          "execution_count": 13
        }
      ]
    },
    {
      "cell_type": "code",
      "source": [
        "\"Sunny\" + \"Sunny\""
      ],
      "metadata": {
        "colab": {
          "base_uri": "https://localhost:8080/",
          "height": 35
        },
        "id": "nbgu9QNeWbu1",
        "outputId": "c68041cf-9695-444b-dc25-5a2c46b24502"
      },
      "execution_count": null,
      "outputs": [
        {
          "output_type": "execute_result",
          "data": {
            "text/plain": [
              "'SunnySunny'"
            ],
            "application/vnd.google.colaboratory.intrinsic+json": {
              "type": "string"
            }
          },
          "metadata": {},
          "execution_count": 14
        }
      ]
    },
    {
      "cell_type": "code",
      "source": [
        "\"*\"*10"
      ],
      "metadata": {
        "colab": {
          "base_uri": "https://localhost:8080/",
          "height": 35
        },
        "id": "rNeCT7M7Wc6c",
        "outputId": "b89f9b31-ff9a-46fd-81f1-0f1524f9c904"
      },
      "execution_count": null,
      "outputs": [
        {
          "output_type": "execute_result",
          "data": {
            "text/plain": [
              "'**********'"
            ],
            "application/vnd.google.colaboratory.intrinsic+json": {
              "type": "string"
            }
          },
          "metadata": {},
          "execution_count": 15
        }
      ]
    },
    {
      "cell_type": "code",
      "source": [
        "## i is not neccessary to use\n",
        "\n",
        "for sunny in range(1, 11): # (11 here is out of bound)\n",
        "  print(\"*\"*sunny)"
      ],
      "metadata": {
        "colab": {
          "base_uri": "https://localhost:8080/"
        },
        "id": "j2naWMMnWi3s",
        "outputId": "6d3252d4-553f-43b7-8101-82f3644c052e"
      },
      "execution_count": null,
      "outputs": [
        {
          "output_type": "stream",
          "name": "stdout",
          "text": [
            "*\n",
            "**\n",
            "***\n",
            "****\n",
            "*****\n",
            "******\n",
            "*******\n",
            "********\n",
            "*********\n",
            "**********\n"
          ]
        }
      ]
    },
    {
      "cell_type": "code",
      "source": [
        "Cost_of_items = [100, 200, 129, 456]\n",
        "#                 0    1    2    3\n",
        "\n",
        "total_sum = 0\n",
        "\n",
        "for i in range(0, 4): # 0,1,2,3 \n",
        "  print(f\"{total_sum} = {total_sum} + {Cost_of_items[i]}\")\n",
        "  total_sum = total_sum + Cost_of_items[i]\n",
        "  print(f\"after adding total_sum={total_sum}\")\n",
        "  print(\"---\")\n",
        "print(f\"Total amount to be paid: {total_sum}\")"
      ],
      "metadata": {
        "colab": {
          "base_uri": "https://localhost:8080/"
        },
        "id": "lkLs6OgfWmvm",
        "outputId": "577c3dbe-897d-42b5-d61e-8a0abd844f43"
      },
      "execution_count": null,
      "outputs": [
        {
          "output_type": "stream",
          "name": "stdout",
          "text": [
            "0 = 0 + 100\n",
            "after adding total_sum=100\n",
            "---\n",
            "100 = 100 + 200\n",
            "after adding total_sum=300\n",
            "---\n",
            "300 = 300 + 129\n",
            "after adding total_sum=429\n",
            "---\n",
            "429 = 429 + 456\n",
            "after adding total_sum=885\n",
            "---\n",
            "Total amount to be paid: 885\n"
          ]
        }
      ]
    },
    {
      "cell_type": "code",
      "source": [
        "Cost_of_items = [100, 200, 129, 456]\n",
        "#                 0    1    2    3\n",
        "\n",
        "total_sum = 0\n",
        "\n",
        "for i in range(0, 3): # 0,1,2,3 \n",
        "  print(f\"{total_sum} = {total_sum} + {Cost_of_items[i]}\")\n",
        "  total_sum = total_sum + Cost_of_items[i]\n",
        "  print(f\"after adding total_sum={total_sum}\")\n",
        "  print(\"---\")\n",
        "print(f\"Total amount to be paid: {total_sum}\")"
      ],
      "metadata": {
        "colab": {
          "base_uri": "https://localhost:8080/"
        },
        "id": "PafDno8eX-Pb",
        "outputId": "792a82c3-0e29-4160-cabf-d320d613eec3"
      },
      "execution_count": null,
      "outputs": [
        {
          "output_type": "stream",
          "name": "stdout",
          "text": [
            "0 = 0 + 100\n",
            "after adding total_sum=100\n",
            "---\n",
            "100 = 100 + 200\n",
            "after adding total_sum=300\n",
            "---\n",
            "300 = 300 + 129\n",
            "after adding total_sum=429\n",
            "---\n",
            "Total amount to be paid: 429\n"
          ]
        }
      ]
    },
    {
      "cell_type": "code",
      "source": [
        "len(Cost_of_items)"
      ],
      "metadata": {
        "colab": {
          "base_uri": "https://localhost:8080/"
        },
        "id": "4FaHy_HuYD1D",
        "outputId": "ac0e78ac-fb59-4dde-a4fe-2d658446aa05"
      },
      "execution_count": null,
      "outputs": [
        {
          "output_type": "execute_result",
          "data": {
            "text/plain": [
              "4"
            ]
          },
          "metadata": {},
          "execution_count": 19
        }
      ]
    },
    {
      "cell_type": "code",
      "source": [
        "Cost_of_items = [100, 200, 129, 456, 1000]\n",
        "#                 0    1    2    3\n",
        "\n",
        "total_sum = 0\n",
        "N = len(Cost_of_items)\n",
        "\n",
        "for i in range(0, N): # 0,1,2,3 \n",
        "  print(f\"{total_sum} = {total_sum} + {Cost_of_items[i]}\")\n",
        "  total_sum = total_sum + Cost_of_items[i]\n",
        "  print(f\"after adding total_sum={total_sum}\")\n",
        "  print(\"---\")\n",
        "print(f\"Total amount to be paid: {total_sum}\")"
      ],
      "metadata": {
        "colab": {
          "base_uri": "https://localhost:8080/"
        },
        "id": "9ttdKMl9YGX-",
        "outputId": "c8edd893-8f07-4c08-902e-7eadd5a281e1"
      },
      "execution_count": null,
      "outputs": [
        {
          "output_type": "stream",
          "name": "stdout",
          "text": [
            "0 = 0 + 100\n",
            "after adding total_sum=100\n",
            "---\n",
            "100 = 100 + 200\n",
            "after adding total_sum=300\n",
            "---\n",
            "300 = 300 + 129\n",
            "after adding total_sum=429\n",
            "---\n",
            "429 = 429 + 456\n",
            "after adding total_sum=885\n",
            "---\n",
            "885 = 885 + 1000\n",
            "after adding total_sum=1885\n",
            "---\n",
            "Total amount to be paid: 1885\n"
          ]
        }
      ]
    },
    {
      "cell_type": "code",
      "source": [
        "Cost_of_items = [100, 200, 129, 456, 1000]\n",
        "#                 0    1    2    3\n",
        "\n",
        "total_sum = 0\n",
        "\n",
        "for cost in Cost_of_items:\n",
        "  print(f\"{total_sum} = {total_sum} + {cost}\")\n",
        "  total_sum = total_sum + cost\n",
        "  print(f\"after adding total_sum={total_sum}\")\n",
        "  print(\"---\")\n",
        "print(f\"Total amount to be paid: {total_sum}\")"
      ],
      "metadata": {
        "colab": {
          "base_uri": "https://localhost:8080/"
        },
        "id": "5pcj3h8jYJIk",
        "outputId": "35cad2b6-2c14-4c29-ced0-9297a736e8c4"
      },
      "execution_count": null,
      "outputs": [
        {
          "output_type": "stream",
          "name": "stdout",
          "text": [
            "0 = 0 + 100\n",
            "after adding total_sum=100\n",
            "---\n",
            "100 = 100 + 200\n",
            "after adding total_sum=300\n",
            "---\n",
            "300 = 300 + 129\n",
            "after adding total_sum=429\n",
            "---\n",
            "429 = 429 + 456\n",
            "after adding total_sum=885\n",
            "---\n",
            "885 = 885 + 1000\n",
            "after adding total_sum=1885\n",
            "---\n",
            "Total amount to be paid: 1885\n"
          ]
        }
      ]
    },
    {
      "cell_type": "code",
      "source": [
        "Cost_of_items = [100, 200, 129, 456, 1000]\n",
        "#                 0    1    2    3\n",
        "total_sum = 0\n",
        "for cost in Cost_of_items:\n",
        "  print(cost)\n"
      ],
      "metadata": {
        "colab": {
          "base_uri": "https://localhost:8080/"
        },
        "id": "plIwVtB1ZZD8",
        "outputId": "f339957a-8114-4e8f-d9c9-04c15024c66b"
      },
      "execution_count": null,
      "outputs": [
        {
          "output_type": "stream",
          "name": "stdout",
          "text": [
            "100\n",
            "200\n",
            "129\n",
            "456\n",
            "1000\n"
          ]
        }
      ]
    },
    {
      "cell_type": "code",
      "source": [
        "Cost_of_items = [100, 200, 129, 456, 1000]\n",
        "#                 0    1    2    3\n",
        "total_sum = 0\n",
        "N = len(Cost_of_items)\n",
        "for i in range(0, N): # 0,1,2,3 \n",
        "  print(Cost_of_items[i])"
      ],
      "metadata": {
        "colab": {
          "base_uri": "https://localhost:8080/"
        },
        "id": "6tBhXitKZdXS",
        "outputId": "05cfcf19-89c1-4ae8-9015-f91ef087cc89"
      },
      "execution_count": null,
      "outputs": [
        {
          "output_type": "stream",
          "name": "stdout",
          "text": [
            "100\n",
            "200\n",
            "129\n",
            "456\n",
            "1000\n"
          ]
        }
      ]
    },
    {
      "cell_type": "code",
      "source": [
        "# Train journey \n",
        "stations = [\"Station 01\", \"Station 02\", \"Station 03\", \"Station 04\"]\n",
        "\n",
        "for current_station in stations:\n",
        "  print(f\"Current station is: {current_station}\")"
      ],
      "metadata": {
        "colab": {
          "base_uri": "https://localhost:8080/"
        },
        "id": "4mGh5RnCan8b",
        "outputId": "1f3d7b52-6027-4fef-8cf2-5efda04c4521"
      },
      "execution_count": null,
      "outputs": [
        {
          "output_type": "stream",
          "name": "stdout",
          "text": [
            "Current station is: Station 01\n",
            "Current station is: Station 02\n",
            "Current station is: Station 03\n",
            "Current station is: Station 04\n"
          ]
        }
      ]
    },
    {
      "cell_type": "code",
      "source": [
        "# Train journey \n",
        "stations = [\"Station 01\", \"Station 02\", \"Station 03\", \"Station 04\"]\n",
        "\n",
        "for sunny in stations:\n",
        "  print(f\"Current station is: {sunny}\")"
      ],
      "metadata": {
        "colab": {
          "base_uri": "https://localhost:8080/"
        },
        "id": "eKh2tm9larSv",
        "outputId": "c74b4c37-6d11-499a-c78f-7b406e8f38ab"
      },
      "execution_count": null,
      "outputs": [
        {
          "output_type": "stream",
          "name": "stdout",
          "text": [
            "Current station is: Station 01\n",
            "Current station is: Station 02\n",
            "Current station is: Station 03\n",
            "Current station is: Station 04\n"
          ]
        }
      ]
    },
    {
      "cell_type": "markdown",
      "source": [
        "### break and continue"
      ],
      "metadata": {
        "id": "QCCkSrqAbKUx"
      }
    },
    {
      "cell_type": "code",
      "source": [
        "cost_of_items = [100, 200, 129, 456, 1000, 199, 299]\n",
        "#                 0    1    2    3\n",
        "\n",
        "total_sum = 0\n",
        "budget = 2000\n",
        "\n",
        "for cost in cost_of_items:\n",
        "  total_sum = total_sum + cost\n",
        "  print(f\"current total: {total_sum}\")\n",
        "  if total_sum > budget:\n",
        "    print(f\"since current total is more than my budget: {budget}\")\n",
        "    print(\"please remove the last item\")\n",
        "    total_sum = total_sum - cost\n",
        "    break\n",
        "\n",
        "print(f'total amount to be paid: {total_sum}')"
      ],
      "metadata": {
        "colab": {
          "base_uri": "https://localhost:8080/"
        },
        "id": "rV5aLJqRaxoW",
        "outputId": "10eb3281-82f3-47af-ee91-afa74418d47a"
      },
      "execution_count": null,
      "outputs": [
        {
          "output_type": "stream",
          "name": "stdout",
          "text": [
            "current total: 100\n",
            "current total: 300\n",
            "current total: 429\n",
            "current total: 885\n",
            "current total: 1885\n",
            "current total: 2084\n",
            "since current total is more than my budget: 2000\n",
            "please remove the last item\n",
            "total amount to be paid: 1885\n"
          ]
        }
      ]
    },
    {
      "cell_type": "code",
      "source": [
        "for i in range(1, 100):\n",
        "  print(i)\n",
        "  if i > 50:\n",
        "    break\n"
      ],
      "metadata": {
        "colab": {
          "base_uri": "https://localhost:8080/"
        },
        "id": "HScWZTaMfH49",
        "outputId": "081d2d75-e244-4ceb-e024-6657cbad056d"
      },
      "execution_count": null,
      "outputs": [
        {
          "output_type": "stream",
          "name": "stdout",
          "text": [
            "1\n",
            "2\n",
            "3\n",
            "4\n",
            "5\n",
            "6\n",
            "7\n",
            "8\n",
            "9\n",
            "10\n",
            "11\n",
            "12\n",
            "13\n",
            "14\n",
            "15\n",
            "16\n",
            "17\n",
            "18\n",
            "19\n",
            "20\n",
            "21\n",
            "22\n",
            "23\n",
            "24\n",
            "25\n",
            "26\n",
            "27\n",
            "28\n",
            "29\n",
            "30\n",
            "31\n",
            "32\n",
            "33\n",
            "34\n",
            "35\n",
            "36\n",
            "37\n",
            "38\n",
            "39\n",
            "40\n",
            "41\n",
            "42\n",
            "43\n",
            "44\n",
            "45\n",
            "46\n",
            "47\n",
            "48\n",
            "49\n",
            "50\n",
            "51\n"
          ]
        }
      ]
    },
    {
      "cell_type": "code",
      "source": [
        "for i in range(1, 100):\n",
        "  print(i)\n",
        "  if i >= 50:\n",
        "    break\n"
      ],
      "metadata": {
        "colab": {
          "base_uri": "https://localhost:8080/"
        },
        "id": "AU1VChGtfLu8",
        "outputId": "32e0133f-ff09-4161-c526-997016b4c5bc"
      },
      "execution_count": null,
      "outputs": [
        {
          "output_type": "stream",
          "name": "stdout",
          "text": [
            "1\n",
            "2\n",
            "3\n",
            "4\n",
            "5\n",
            "6\n",
            "7\n",
            "8\n",
            "9\n",
            "10\n",
            "11\n",
            "12\n",
            "13\n",
            "14\n",
            "15\n",
            "16\n",
            "17\n",
            "18\n",
            "19\n",
            "20\n",
            "21\n",
            "22\n",
            "23\n",
            "24\n",
            "25\n",
            "26\n",
            "27\n",
            "28\n",
            "29\n",
            "30\n",
            "31\n",
            "32\n",
            "33\n",
            "34\n",
            "35\n",
            "36\n",
            "37\n",
            "38\n",
            "39\n",
            "40\n",
            "41\n",
            "42\n",
            "43\n",
            "44\n",
            "45\n",
            "46\n",
            "47\n",
            "48\n",
            "49\n",
            "50\n"
          ]
        }
      ]
    },
    {
      "cell_type": "code",
      "source": [
        "for i in range(1, 100):\n",
        "  if i > 50:\n",
        "    break\n",
        "  print(i)\n",
        "  "
      ],
      "metadata": {
        "colab": {
          "base_uri": "https://localhost:8080/"
        },
        "id": "WjFoSqVbgAmj",
        "outputId": "e5f99d73-405b-49ca-aa2d-490387de3227"
      },
      "execution_count": null,
      "outputs": [
        {
          "output_type": "stream",
          "name": "stdout",
          "text": [
            "1\n",
            "2\n",
            "3\n",
            "4\n",
            "5\n",
            "6\n",
            "7\n",
            "8\n",
            "9\n",
            "10\n",
            "11\n",
            "12\n",
            "13\n",
            "14\n",
            "15\n",
            "16\n",
            "17\n",
            "18\n",
            "19\n",
            "20\n",
            "21\n",
            "22\n",
            "23\n",
            "24\n",
            "25\n",
            "26\n",
            "27\n",
            "28\n",
            "29\n",
            "30\n",
            "31\n",
            "32\n",
            "33\n",
            "34\n",
            "35\n",
            "36\n",
            "37\n",
            "38\n",
            "39\n",
            "40\n",
            "41\n",
            "42\n",
            "43\n",
            "44\n",
            "45\n",
            "46\n",
            "47\n",
            "48\n",
            "49\n",
            "50\n"
          ]
        }
      ]
    },
    {
      "cell_type": "code",
      "source": [
        "for i in range(1, 20):\n",
        "  if i%2==0: # if no is even then start the loop again\n",
        "    continue\n",
        "  print(i)\n",
        "  "
      ],
      "metadata": {
        "colab": {
          "base_uri": "https://localhost:8080/"
        },
        "id": "ccy4WZ-lgjfz",
        "outputId": "07aa58b0-9432-4ca0-c966-66a7e5478fe5"
      },
      "execution_count": null,
      "outputs": [
        {
          "output_type": "stream",
          "name": "stdout",
          "text": [
            "1\n",
            "3\n",
            "5\n",
            "7\n",
            "9\n",
            "11\n",
            "13\n",
            "15\n",
            "17\n",
            "19\n"
          ]
        }
      ]
    },
    {
      "cell_type": "code",
      "source": [
        "for i in range(1, 20):\n",
        "  if i%2 !=0: # if no is odd then start the loop again\n",
        "    continue\n",
        "  print(i)\n",
        "  "
      ],
      "metadata": {
        "colab": {
          "base_uri": "https://localhost:8080/"
        },
        "id": "uEFmcQ56goEV",
        "outputId": "c767dfee-4012-4aa5-c24b-c7ccae5298ed"
      },
      "execution_count": null,
      "outputs": [
        {
          "output_type": "stream",
          "name": "stdout",
          "text": [
            "2\n",
            "4\n",
            "6\n",
            "8\n",
            "10\n",
            "12\n",
            "14\n",
            "16\n",
            "18\n"
          ]
        }
      ]
    },
    {
      "cell_type": "code",
      "source": [
        "for i in range(1, 20):\n",
        "  if i%2==0: # if no is even then start the loop again\n",
        "    break\n",
        "  print(i)\n",
        "  "
      ],
      "metadata": {
        "colab": {
          "base_uri": "https://localhost:8080/"
        },
        "id": "aBHVAeWJgtQz",
        "outputId": "42e6f62e-1a0b-48fb-83a6-47e4db18e0b1"
      },
      "execution_count": null,
      "outputs": [
        {
          "output_type": "stream",
          "name": "stdout",
          "text": [
            "1\n"
          ]
        }
      ]
    },
    {
      "cell_type": "code",
      "source": [
        "for i in range(1, 20):\n",
        "  if i%2!=0: #\n",
        "    break # STOP THE LOOP DON't proceed at all\n",
        "  print(i)"
      ],
      "metadata": {
        "id": "Ly3eC6YFhFP8"
      },
      "execution_count": null,
      "outputs": []
    },
    {
      "cell_type": "code",
      "source": [
        "# Train journey \n",
        "stations = [\"Station 01\", \"Station 02\", \"Station 03\", \"Station 04\"]\n",
        "\n",
        "for current_station in stations:\n",
        "  print(f\"Current station is: {current_station}\")\n",
        "  if current_station == \"Station 03\":\n",
        "    break"
      ],
      "metadata": {
        "colab": {
          "base_uri": "https://localhost:8080/"
        },
        "id": "KksjX9NRhHWq",
        "outputId": "663a57e5-92c3-49e1-91b6-5f6a0fe2f669"
      },
      "execution_count": null,
      "outputs": [
        {
          "output_type": "stream",
          "name": "stdout",
          "text": [
            "Current station is: Station 01\n",
            "Current station is: Station 02\n",
            "Current station is: Station 03\n"
          ]
        }
      ]
    },
    {
      "cell_type": "code",
      "source": [
        "# Train journey \n",
        "stations = [\"Station 01\", \"Station 02\", \"Station 03\", \"Station 04\"]\n",
        "\n",
        "for current_station in stations:\n",
        "  print(f\"Current station is: {current_station}\")\n",
        "  if current_station == \"Station 02\":\n",
        "    break"
      ],
      "metadata": {
        "colab": {
          "base_uri": "https://localhost:8080/"
        },
        "id": "u4AGPyFBhtgX",
        "outputId": "08081ec6-ce35-4027-b9b4-18ff7903b81e"
      },
      "execution_count": null,
      "outputs": [
        {
          "output_type": "stream",
          "name": "stdout",
          "text": [
            "Current station is: Station 01\n",
            "Current station is: Station 02\n"
          ]
        }
      ]
    },
    {
      "cell_type": "code",
      "source": [
        "# Train journey \n",
        "stations = [\"Station 01\", \"Station 02\", \"Station 03\", \"Station 04\"]\n",
        "\n",
        "for current_station in stations:\n",
        "  if current_station == \"Station 02\":\n",
        "    continue\n",
        "  print(f\"Current station is: {current_station}\")\n",
        "  "
      ],
      "metadata": {
        "colab": {
          "base_uri": "https://localhost:8080/"
        },
        "id": "-iQT_UbTh5GN",
        "outputId": "8d00cc0e-2f16-40a9-9ff1-429d387cd806"
      },
      "execution_count": null,
      "outputs": [
        {
          "output_type": "stream",
          "name": "stdout",
          "text": [
            "Current station is: Station 01\n",
            "Current station is: Station 03\n",
            "Current station is: Station 04\n"
          ]
        }
      ]
    },
    {
      "cell_type": "markdown",
      "source": [
        "- break: it completely stops the loop\n",
        "- continue: it skips the current loop or it skips all the statement after `continue` keyword"
      ],
      "metadata": {
        "id": "dHge8zemiBzu"
      }
    },
    {
      "cell_type": "code",
      "source": [
        "for i in range(1, 10):\n",
        "  pass # I want to write code later"
      ],
      "metadata": {
        "id": "mXgpfRO-iATX"
      },
      "execution_count": null,
      "outputs": []
    },
    {
      "cell_type": "code",
      "source": [
        "# Train journey \n",
        "stations = [\"Station 01\", \"Station 02\", \"Station 03\", \"Station 04\"]\n",
        "\n",
        "for current_station in stations:\n",
        "  if current_station == \"Station 02\":\n",
        "    pass # doesn't let you stop on cureent station\n",
        "  print(f\"Current station is: {current_station}\")"
      ],
      "metadata": {
        "colab": {
          "base_uri": "https://localhost:8080/"
        },
        "id": "Qm_eM10Qig1e",
        "outputId": "ba10d160-feb3-4bfd-f77a-17254acdace6"
      },
      "execution_count": null,
      "outputs": [
        {
          "output_type": "stream",
          "name": "stdout",
          "text": [
            "Current station is: Station 01\n",
            "Current station is: Station 02\n",
            "Current station is: Station 03\n",
            "Current station is: Station 04\n"
          ]
        }
      ]
    },
    {
      "cell_type": "markdown",
      "source": [],
      "metadata": {
        "id": "Ed_TEKg_iy2w"
      }
    },
    {
      "cell_type": "markdown",
      "source": [
        "# REVISION"
      ],
      "metadata": {
        "id": "mM4bDZjPizTN"
      }
    },
    {
      "cell_type": "code",
      "source": [
        "num = 100\n",
        "\n",
        "if num%2 == 0:\n",
        "  print(\"The no is even\")\n",
        "else:\n",
        "  print(\"The no is odd\")\n"
      ],
      "metadata": {
        "colab": {
          "base_uri": "https://localhost:8080/"
        },
        "id": "1SQzPYZPi0PD",
        "outputId": "b98b5623-786b-46ba-effa-bbb2ae1c3127"
      },
      "execution_count": null,
      "outputs": [
        {
          "output_type": "stream",
          "name": "stdout",
          "text": [
            "The no is even\n"
          ]
        }
      ]
    },
    {
      "cell_type": "code",
      "source": [
        "num = 99\n",
        "\n",
        "if num%2 == 0:\n",
        "  print(\"The no is even\")\n",
        "else:\n",
        "  print(\"The no is odd\")"
      ],
      "metadata": {
        "colab": {
          "base_uri": "https://localhost:8080/"
        },
        "id": "PEDnnDDJj78j",
        "outputId": "d15310fd-b3a4-4be7-b35f-caeef1396ed5"
      },
      "execution_count": null,
      "outputs": [
        {
          "output_type": "stream",
          "name": "stdout",
          "text": [
            "The no is odd\n"
          ]
        }
      ]
    },
    {
      "cell_type": "code",
      "source": [
        "num = 89\n",
        "\n",
        "if num > 100:\n",
        "  print(\"the no. is greater than 100\")\n",
        "elif 80 < num <= 100:\n",
        "  print(\"the no. is in range 80 to 100\")\n",
        "\n",
        "elif 60 < num <= 80:\n",
        "  print(\"the no. is in range 60 to 80\")\n",
        "\n",
        "elif 40 < num <= 60:\n",
        "  print(\"the no. is in range 40 to 60\")\n",
        "\n",
        "else:\n",
        "  print(\"The no is less than 40\")"
      ],
      "metadata": {
        "colab": {
          "base_uri": "https://localhost:8080/"
        },
        "id": "d5TLLLyoj90U",
        "outputId": "1df54c4d-8f53-4014-cdba-ed36d2b3ee64"
      },
      "execution_count": null,
      "outputs": [
        {
          "output_type": "stream",
          "name": "stdout",
          "text": [
            "the no. is in range 80 to 100\n"
          ]
        }
      ]
    },
    {
      "cell_type": "code",
      "source": [
        "num = 100\n",
        "\n",
        "if 80 < num <= 100:\n",
        "  print(\"grade A\")\n",
        "elif 60 < num <= 80:\n",
        "  print(\"grade B\")\n",
        "elif 40 < num <= 60:\n",
        "  print(\"grade C\")\n",
        "else:\n",
        "  print(\"Failed\")"
      ],
      "metadata": {
        "colab": {
          "base_uri": "https://localhost:8080/"
        },
        "id": "FpVS57zokaI2",
        "outputId": "9310b079-df72-4f7f-c9cf-a881a1a9aba7"
      },
      "execution_count": null,
      "outputs": [
        {
          "output_type": "stream",
          "name": "stdout",
          "text": [
            "grade A\n"
          ]
        }
      ]
    },
    {
      "cell_type": "markdown",
      "source": [
        "## nested if else:"
      ],
      "metadata": {
        "id": "wNQkpLRHkfBn"
      }
    },
    {
      "cell_type": "code",
      "source": [
        "a, b, c = 120, 13, 15\n",
        "\n",
        "if a > b:\n",
        "  if a > c:\n",
        "    print(f\"a is greater than all 3 nos: {a}\")"
      ],
      "metadata": {
        "id": "_06_R_Cekft-"
      },
      "execution_count": null,
      "outputs": []
    },
    {
      "cell_type": "code",
      "source": [],
      "metadata": {
        "id": "RBZ3--J-khts"
      },
      "execution_count": null,
      "outputs": []
    }
  ]
}