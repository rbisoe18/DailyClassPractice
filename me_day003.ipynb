{
  "nbformat": 4,
  "nbformat_minor": 0,
  "metadata": {
    "colab": {
      "provenance": [],
      "collapsed_sections": []
    },
    "kernelspec": {
      "name": "python3",
      "display_name": "Python 3"
    },
    "language_info": {
      "name": "python"
    }
  },
  "cells": [
    {
      "cell_type": "markdown",
      "source": [
        "# AGENDA\n",
        "1. Variable Case senstivity [clear]\n",
        "2. Reserved words in Python [clear]\n",
        "3. Multi assignment of variables [clear]\n",
        "4. User input [clear]\n",
        "5. type casting | type conversion [Doubt at the end]\n",
        "6. Memory block []\n",
        "7. Operators\n",
        "  - Logical\n",
        "  - Equality\n",
        "  - Comparision\n",
        "  - Arthimatic\n",
        "  - Bitwise [Advance classes]\n",
        "  - Operators for sets and dictionary [Advance classes]\n",
        "\n",
        "8. String methods"
      ],
      "metadata": {
        "id": "tIrLM0jkB2z6"
      }
    },
    {
      "cell_type": "markdown",
      "source": [
        "## Variable Case senstivity"
      ],
      "metadata": {
        "id": "vRVyAbBnCA14"
      }
    },
    {
      "cell_type": "code",
      "execution_count": null,
      "metadata": {
        "id": "ehcsDUAbduUr"
      },
      "outputs": [],
      "source": [
        "TEN = 10\n",
        "ten = 20\n",
        "# TEN and ten both are different in terms of lowercase and uppercase letter"
      ]
    },
    {
      "cell_type": "code",
      "source": [
        "print(Ten)"
      ],
      "metadata": {
        "colab": {
          "base_uri": "https://localhost:8080/",
          "height": 165
        },
        "id": "oSwvWYO_Ca0Q",
        "outputId": "658fa487-8081-490f-d451-6f5950f940b7"
      },
      "execution_count": null,
      "outputs": [
        {
          "output_type": "error",
          "ename": "NameError",
          "evalue": "ignored",
          "traceback": [
            "\u001b[0;31m---------------------------------------------------------------------------\u001b[0m",
            "\u001b[0;31mNameError\u001b[0m                                 Traceback (most recent call last)",
            "\u001b[0;32m<ipython-input-2-102da4055415>\u001b[0m in \u001b[0;36m<module>\u001b[0;34m\u001b[0m\n\u001b[0;32m----> 1\u001b[0;31m \u001b[0mprint\u001b[0m\u001b[0;34m(\u001b[0m\u001b[0mTen\u001b[0m\u001b[0;34m)\u001b[0m\u001b[0;34m\u001b[0m\u001b[0;34m\u001b[0m\u001b[0m\n\u001b[0m",
            "\u001b[0;31mNameError\u001b[0m: name 'Ten' is not defined"
          ]
        }
      ]
    },
    {
      "cell_type": "code",
      "source": [
        "TEN"
      ],
      "metadata": {
        "colab": {
          "base_uri": "https://localhost:8080/"
        },
        "id": "jPjRHUBzCcaA",
        "outputId": "a2cb4d2d-9419-449c-d20b-fc2d0bce42a7"
      },
      "execution_count": null,
      "outputs": [
        {
          "output_type": "execute_result",
          "data": {
            "text/plain": [
              "10"
            ]
          },
          "metadata": {},
          "execution_count": 3
        }
      ]
    },
    {
      "cell_type": "markdown",
      "source": [
        "## Reserved words in Python\n",
        "\n",
        "https://docs.python.org/2.5/ref/keywords.html"
      ],
      "metadata": {
        "id": "epKznGF2CgoG"
      }
    },
    {
      "cell_type": "markdown",
      "source": [
        "1. We should not use reserved words as variable names\n",
        "2. Also python doesn't restrict the user to use reserved keywords as variable names"
      ],
      "metadata": {
        "id": "Ry7KXjxVCvG6"
      }
    },
    {
      "cell_type": "code",
      "source": [
        "print(\"Hi there\")"
      ],
      "metadata": {
        "colab": {
          "base_uri": "https://localhost:8080/"
        },
        "id": "5FaEvxJ4Chdt",
        "outputId": "eb4f8454-5161-4509-864e-cd5e00802844"
      },
      "execution_count": null,
      "outputs": [
        {
          "output_type": "stream",
          "name": "stdout",
          "text": [
            "Hi there\n"
          ]
        }
      ]
    },
    {
      "cell_type": "code",
      "source": [
        "print = \"Hi there\" # as a variable\n",
        "type(print)"
      ],
      "metadata": {
        "colab": {
          "base_uri": "https://localhost:8080/"
        },
        "id": "z8DT_LOPDWGE",
        "outputId": "3b665b9f-10ab-42d3-caae-4807c2255006"
      },
      "execution_count": null,
      "outputs": [
        {
          "output_type": "execute_result",
          "data": {
            "text/plain": [
              "str"
            ]
          },
          "metadata": {},
          "execution_count": 11
        }
      ]
    },
    {
      "cell_type": "code",
      "source": [
        "del print # used to delete the variable print as print word is reserved in python and it would be applied once"
      ],
      "metadata": {
        "id": "94xAXO67DyBF"
      },
      "execution_count": null,
      "outputs": []
    },
    {
      "cell_type": "code",
      "source": [
        "print(\"Hi there\")"
      ],
      "metadata": {
        "colab": {
          "base_uri": "https://localhost:8080/"
        },
        "id": "eU-GhGFFDZJJ",
        "outputId": "e8aa2762-8cb0-4bf3-8a6d-ad174ea8e9a0"
      },
      "execution_count": null,
      "outputs": [
        {
          "output_type": "stream",
          "name": "stdout",
          "text": [
            "Hi there\n"
          ]
        }
      ]
    },
    {
      "cell_type": "code",
      "source": [
        "Print = \"Hi there\" # as a variable\n",
        "type(Print)"
      ],
      "metadata": {
        "colab": {
          "base_uri": "https://localhost:8080/"
        },
        "id": "Rdf-I28HDh6t",
        "outputId": "2e7402a1-6503-4994-fbf8-fe464ef13972"
      },
      "execution_count": null,
      "outputs": [
        {
          "output_type": "execute_result",
          "data": {
            "text/plain": [
              "str"
            ]
          },
          "metadata": {},
          "execution_count": 13
        }
      ]
    },
    {
      "cell_type": "code",
      "source": [
        "print(\"Hi there\")"
      ],
      "metadata": {
        "colab": {
          "base_uri": "https://localhost:8080/"
        },
        "id": "P6l503KNEinG",
        "outputId": "f00e1d99-5dc8-4ff3-db0b-362f03eb0c33"
      },
      "execution_count": null,
      "outputs": [
        {
          "output_type": "stream",
          "name": "stdout",
          "text": [
            "Hi there\n"
          ]
        }
      ]
    },
    {
      "cell_type": "code",
      "source": [
        "print = 12 # as a variable\n",
        "type(print)"
      ],
      "metadata": {
        "colab": {
          "base_uri": "https://localhost:8080/"
        },
        "id": "0FS3XriCE4dw",
        "outputId": "b783b9dc-cf7b-4506-9a36-28458610222c"
      },
      "execution_count": null,
      "outputs": [
        {
          "output_type": "execute_result",
          "data": {
            "text/plain": [
              "int"
            ]
          },
          "metadata": {},
          "execution_count": 15
        }
      ]
    },
    {
      "cell_type": "code",
      "source": [
        "print(\"Hi there\")"
      ],
      "metadata": {
        "colab": {
          "base_uri": "https://localhost:8080/",
          "height": 165
        },
        "id": "0c9XLkr5E9bg",
        "outputId": "aea399b8-2490-4441-cf0b-f347ba0657b3"
      },
      "execution_count": null,
      "outputs": [
        {
          "output_type": "error",
          "ename": "TypeError",
          "evalue": "ignored",
          "traceback": [
            "\u001b[0;31m---------------------------------------------------------------------------\u001b[0m",
            "\u001b[0;31mTypeError\u001b[0m                                 Traceback (most recent call last)",
            "\u001b[0;32m<ipython-input-16-67ee3d3b1c34>\u001b[0m in \u001b[0;36m<module>\u001b[0;34m\u001b[0m\n\u001b[0;32m----> 1\u001b[0;31m \u001b[0mprint\u001b[0m\u001b[0;34m(\u001b[0m\u001b[0;34m\"Hi there\"\u001b[0m\u001b[0;34m)\u001b[0m\u001b[0;34m\u001b[0m\u001b[0;34m\u001b[0m\u001b[0m\n\u001b[0m",
            "\u001b[0;31mTypeError\u001b[0m: 'int' object is not callable"
          ]
        }
      ]
    },
    {
      "cell_type": "code",
      "source": [
        "del print"
      ],
      "metadata": {
        "id": "u2pgZ37SFooY"
      },
      "execution_count": null,
      "outputs": []
    },
    {
      "cell_type": "markdown",
      "source": [
        "# Multi assignment Variables"
      ],
      "metadata": {
        "id": "RczCyDImF-9w"
      }
    },
    {
      "cell_type": "code",
      "source": [
        "a ,b ,c , yes = 10 , 20, \"Rajat\", True"
      ],
      "metadata": {
        "id": "yTPzg3g5GFW_"
      },
      "execution_count": null,
      "outputs": []
    },
    {
      "cell_type": "code",
      "source": [
        "c= 'rahul'"
      ],
      "metadata": {
        "id": "uRsHNcIHOJq_"
      },
      "execution_count": null,
      "outputs": []
    },
    {
      "cell_type": "code",
      "source": [
        "c"
      ],
      "metadata": {
        "colab": {
          "base_uri": "https://localhost:8080/",
          "height": 35
        },
        "id": "yXRm8IbqON3l",
        "outputId": "922bff9a-3644-432c-a953-460118b71188"
      },
      "execution_count": null,
      "outputs": [
        {
          "output_type": "execute_result",
          "data": {
            "text/plain": [
              "'rahul'"
            ],
            "application/vnd.google.colaboratory.intrinsic+json": {
              "type": "string"
            }
          },
          "metadata": {},
          "execution_count": 3
        }
      ]
    },
    {
      "cell_type": "code",
      "source": [
        "type(a)"
      ],
      "metadata": {
        "colab": {
          "base_uri": "https://localhost:8080/"
        },
        "id": "bf4vsG8dG8eZ",
        "outputId": "c4b6d046-ca11-4576-cb53-a5dfe622c06d"
      },
      "execution_count": null,
      "outputs": [
        {
          "output_type": "execute_result",
          "data": {
            "text/plain": [
              "int"
            ]
          },
          "metadata": {},
          "execution_count": 19
        }
      ]
    },
    {
      "cell_type": "code",
      "source": [
        "print(type(b))"
      ],
      "metadata": {
        "colab": {
          "base_uri": "https://localhost:8080/"
        },
        "id": "sNawBMdEG_nZ",
        "outputId": "4be3f463-966d-4c04-fbea-51254c54320a"
      },
      "execution_count": null,
      "outputs": [
        {
          "output_type": "stream",
          "name": "stdout",
          "text": [
            "<class 'int'>\n"
          ]
        },
        {
          "output_type": "execute_result",
          "data": {
            "text/plain": [
              "int"
            ]
          },
          "metadata": {},
          "execution_count": 32
        }
      ]
    },
    {
      "cell_type": "code",
      "source": [
        "print(type(c))"
      ],
      "metadata": {
        "colab": {
          "base_uri": "https://localhost:8080/"
        },
        "id": "9uSx-ZGdHDGe",
        "outputId": "3dd5854a-9d59-4551-c376-daa9cbcb9d2a"
      },
      "execution_count": null,
      "outputs": [
        {
          "output_type": "stream",
          "name": "stdout",
          "text": [
            "<class 'str'>\n"
          ]
        }
      ]
    },
    {
      "cell_type": "code",
      "source": [
        "print(type(yes))"
      ],
      "metadata": {
        "colab": {
          "base_uri": "https://localhost:8080/"
        },
        "id": "6V505XYYHUp3",
        "outputId": "d607f545-da53-4e61-d735-b9499bf13920"
      },
      "execution_count": null,
      "outputs": [
        {
          "output_type": "stream",
          "name": "stdout",
          "text": [
            "<class 'bool'>\n"
          ]
        }
      ]
    },
    {
      "cell_type": "code",
      "source": [
        "print(type(a,b,c,yes))"
      ],
      "metadata": {
        "colab": {
          "base_uri": "https://localhost:8080/",
          "height": 165
        },
        "id": "PKmVhW3rHvPl",
        "outputId": "b7befb4c-dba4-4013-f53a-a586d0430bd9"
      },
      "execution_count": null,
      "outputs": [
        {
          "output_type": "error",
          "ename": "TypeError",
          "evalue": "ignored",
          "traceback": [
            "\u001b[0;31m---------------------------------------------------------------------------\u001b[0m",
            "\u001b[0;31mTypeError\u001b[0m                                 Traceback (most recent call last)",
            "\u001b[0;32m<ipython-input-25-6137716185ba>\u001b[0m in \u001b[0;36m<module>\u001b[0;34m\u001b[0m\n\u001b[0;32m----> 1\u001b[0;31m \u001b[0mprint\u001b[0m\u001b[0;34m(\u001b[0m\u001b[0mtype\u001b[0m\u001b[0;34m(\u001b[0m\u001b[0ma\u001b[0m\u001b[0;34m,\u001b[0m\u001b[0mb\u001b[0m\u001b[0;34m,\u001b[0m\u001b[0mc\u001b[0m\u001b[0;34m,\u001b[0m\u001b[0myes\u001b[0m\u001b[0;34m)\u001b[0m\u001b[0;34m)\u001b[0m\u001b[0;34m\u001b[0m\u001b[0;34m\u001b[0m\u001b[0m\n\u001b[0m",
            "\u001b[0;31mTypeError\u001b[0m: type() takes 1 or 3 arguments"
          ]
        }
      ]
    },
    {
      "cell_type": "code",
      "source": [
        "print(type(a,b,c))"
      ],
      "metadata": {
        "colab": {
          "base_uri": "https://localhost:8080/",
          "height": 165
        },
        "id": "_hfDJYjMHzaO",
        "outputId": "2e0da68f-8688-41f9-9922-1fdd0ad913a6"
      },
      "execution_count": null,
      "outputs": [
        {
          "output_type": "error",
          "ename": "TypeError",
          "evalue": "ignored",
          "traceback": [
            "\u001b[0;31m---------------------------------------------------------------------------\u001b[0m",
            "\u001b[0;31mTypeError\u001b[0m                                 Traceback (most recent call last)",
            "\u001b[0;32m<ipython-input-26-168b0c388ea4>\u001b[0m in \u001b[0;36m<module>\u001b[0;34m\u001b[0m\n\u001b[0;32m----> 1\u001b[0;31m \u001b[0mprint\u001b[0m\u001b[0;34m(\u001b[0m\u001b[0mtype\u001b[0m\u001b[0;34m(\u001b[0m\u001b[0ma\u001b[0m\u001b[0;34m,\u001b[0m\u001b[0mb\u001b[0m\u001b[0;34m,\u001b[0m\u001b[0mc\u001b[0m\u001b[0;34m)\u001b[0m\u001b[0;34m)\u001b[0m\u001b[0;34m\u001b[0m\u001b[0;34m\u001b[0m\u001b[0m\n\u001b[0m",
            "\u001b[0;31mTypeError\u001b[0m: type.__new__() argument 1 must be str, not int"
          ]
        }
      ]
    },
    {
      "cell_type": "code",
      "source": [
        "print(type(a,c))"
      ],
      "metadata": {
        "colab": {
          "base_uri": "https://localhost:8080/",
          "height": 165
        },
        "id": "9Wp3UGHcH6Ri",
        "outputId": "5bd00143-50f6-4a0f-9c7b-21bea5970c1e"
      },
      "execution_count": null,
      "outputs": [
        {
          "output_type": "error",
          "ename": "TypeError",
          "evalue": "ignored",
          "traceback": [
            "\u001b[0;31m---------------------------------------------------------------------------\u001b[0m",
            "\u001b[0;31mTypeError\u001b[0m                                 Traceback (most recent call last)",
            "\u001b[0;32m<ipython-input-30-631279c48678>\u001b[0m in \u001b[0;36m<module>\u001b[0;34m\u001b[0m\n\u001b[0;32m----> 1\u001b[0;31m \u001b[0mprint\u001b[0m\u001b[0;34m(\u001b[0m\u001b[0mtype\u001b[0m\u001b[0;34m(\u001b[0m\u001b[0ma\u001b[0m\u001b[0;34m,\u001b[0m\u001b[0mc\u001b[0m\u001b[0;34m)\u001b[0m\u001b[0;34m)\u001b[0m\u001b[0;34m\u001b[0m\u001b[0;34m\u001b[0m\u001b[0m\n\u001b[0m",
            "\u001b[0;31mTypeError\u001b[0m: type() takes 1 or 3 arguments"
          ]
        }
      ]
    },
    {
      "cell_type": "code",
      "source": [
        "a,b,c = 10"
      ],
      "metadata": {
        "colab": {
          "base_uri": "https://localhost:8080/",
          "height": 165
        },
        "id": "kehqLM7UN1Oz",
        "outputId": "c93d4185-6d90-4996-8ba2-a0896e923768"
      },
      "execution_count": null,
      "outputs": [
        {
          "output_type": "error",
          "ename": "TypeError",
          "evalue": "ignored",
          "traceback": [
            "\u001b[0;31m---------------------------------------------------------------------------\u001b[0m",
            "\u001b[0;31mTypeError\u001b[0m                                 Traceback (most recent call last)",
            "\u001b[0;32m<ipython-input-47-2ddb65653bd1>\u001b[0m in \u001b[0;36m<module>\u001b[0;34m\u001b[0m\n\u001b[0;32m----> 1\u001b[0;31m \u001b[0ma\u001b[0m\u001b[0;34m,\u001b[0m\u001b[0mb\u001b[0m\u001b[0;34m,\u001b[0m\u001b[0mc\u001b[0m \u001b[0;34m=\u001b[0m \u001b[0;36m10\u001b[0m\u001b[0;34m\u001b[0m\u001b[0;34m\u001b[0m\u001b[0m\n\u001b[0m",
            "\u001b[0;31mTypeError\u001b[0m: cannot unpack non-iterable int object"
          ]
        }
      ]
    },
    {
      "cell_type": "code",
      "source": [
        "type(a)\n",
        "type(b)\n",
        "type(c)\n",
        "type(yes)"
      ],
      "metadata": {
        "colab": {
          "base_uri": "https://localhost:8080/"
        },
        "id": "8W9iGCqcIg7j",
        "outputId": "363086bc-8985-4189-9c9b-28908ae2a0ef"
      },
      "execution_count": null,
      "outputs": [
        {
          "output_type": "execute_result",
          "data": {
            "text/plain": [
              "bool"
            ]
          },
          "metadata": {},
          "execution_count": 50
        }
      ]
    },
    {
      "cell_type": "code",
      "source": [
        "print(type(a))\n",
        "print(type(b))\n",
        "print(type(c))\n",
        "print(type(yes))"
      ],
      "metadata": {
        "colab": {
          "base_uri": "https://localhost:8080/"
        },
        "id": "mXr9VU0SIrzr",
        "outputId": "2321f76d-83bd-4461-d0ee-07eabb3f3ce8"
      },
      "execution_count": null,
      "outputs": [
        {
          "output_type": "stream",
          "name": "stdout",
          "text": [
            "<class 'int'>\n",
            "<class 'int'>\n",
            "<class 'str'>\n",
            "<class 'bool'>\n"
          ]
        }
      ]
    },
    {
      "cell_type": "code",
      "source": [
        "a, A, c, C= 10, 20.2, \"Rajat\", True"
      ],
      "metadata": {
        "id": "7awTRDWoOXGx"
      },
      "execution_count": null,
      "outputs": []
    },
    {
      "cell_type": "code",
      "source": [
        "print(a,A,c,C)"
      ],
      "metadata": {
        "colab": {
          "base_uri": "https://localhost:8080/"
        },
        "id": "TUk9y-A7OlXG",
        "outputId": "0ae4d13b-6eeb-4660-cf55-ce9b79198ce3"
      },
      "execution_count": null,
      "outputs": [
        {
          "output_type": "stream",
          "name": "stdout",
          "text": [
            "10 20.2 Rajat True\n"
          ]
        }
      ]
    },
    {
      "cell_type": "code",
      "source": [
        "a=b=c= 10"
      ],
      "metadata": {
        "id": "7krDghSaO0QR"
      },
      "execution_count": null,
      "outputs": []
    },
    {
      "cell_type": "code",
      "source": [
        "print(a,b,c)"
      ],
      "metadata": {
        "colab": {
          "base_uri": "https://localhost:8080/"
        },
        "id": "ciilso7SO3-x",
        "outputId": "9c7d2e83-d8f9-45bb-a237-1787c8a8a539"
      },
      "execution_count": null,
      "outputs": [
        {
          "output_type": "stream",
          "name": "stdout",
          "text": [
            "10 10 10\n"
          ]
        }
      ]
    },
    {
      "cell_type": "code",
      "source": [
        "a,b,c"
      ],
      "metadata": {
        "colab": {
          "base_uri": "https://localhost:8080/"
        },
        "id": "kBXgDeqQO_Ei",
        "outputId": "887e1ed5-4fb2-4b41-ad09-e3683771708a"
      },
      "execution_count": null,
      "outputs": [
        {
          "output_type": "execute_result",
          "data": {
            "text/plain": [
              "(10, 10, 10)"
            ]
          },
          "metadata": {},
          "execution_count": 55
        }
      ]
    },
    {
      "cell_type": "code",
      "source": [
        "firstName, middleName, sirName = \"Sunny\", \"Bhaveen\", \"Chandra\""
      ],
      "metadata": {
        "id": "-ujAE2oLYr4F"
      },
      "execution_count": null,
      "outputs": []
    },
    {
      "cell_type": "code",
      "source": [
        "name, place, year_of_birth, weight = \"RAJAT\", \"cuttack\", 1998, 80.5"
      ],
      "metadata": {
        "id": "JPsN7oxOZB7U"
      },
      "execution_count": null,
      "outputs": []
    },
    {
      "cell_type": "code",
      "source": [
        "print(name, place, year_of_birth, weight)"
      ],
      "metadata": {
        "colab": {
          "base_uri": "https://localhost:8080/"
        },
        "id": "GvShTRtQZPAM",
        "outputId": "0652a60d-6381-44a3-9264-43747560faa7"
      },
      "execution_count": null,
      "outputs": [
        {
          "output_type": "stream",
          "name": "stdout",
          "text": [
            "RAJAT cuttack 1998 80.5\n"
          ]
        }
      ]
    },
    {
      "cell_type": "code",
      "source": [
        "print(f\"\"\"\n",
        "My Name is : {name}\n",
        "I live at : {place}\n",
        "Year of Birth : {year_of_birth}\n",
        "My weight is : {weight}\"\"\")"
      ],
      "metadata": {
        "colab": {
          "base_uri": "https://localhost:8080/"
        },
        "id": "LfEKQpo5ZdOz",
        "outputId": "1082d058-b893-4c58-f191-5c8b4460254a"
      },
      "execution_count": null,
      "outputs": [
        {
          "output_type": "stream",
          "name": "stdout",
          "text": [
            "\n",
            "My Name is : RAJAT\n",
            "I live at : cuttack\n",
            "Date of Birth : 1998\n",
            "My weight is : 80.5\n"
          ]
        }
      ]
    },
    {
      "cell_type": "code",
      "source": [
        "name = input(\"Name: \")\n",
        "place= input(\"Place: \")\n",
        "year_of_birth = input(\"YOB: \")\n",
        "weight= input(\"weight: \")"
      ],
      "metadata": {
        "colab": {
          "base_uri": "https://localhost:8080/"
        },
        "id": "IQJEejOubJqR",
        "outputId": "73f755fd-52e4-4b91-f0d0-42c3a56ecbb1"
      },
      "execution_count": null,
      "outputs": [
        {
          "name": "stdout",
          "output_type": "stream",
          "text": [
            "Name: RAJAT\n",
            "Place: CUTTACK\n",
            "YOB: 1998\n",
            "weight: 80.5\n"
          ]
        }
      ]
    },
    {
      "cell_type": "code",
      "source": [
        "name = input(\"Name: \")\n",
        "place= input(\"Place: \")\n",
        "year_of_birth = input(\"YOB: \")\n",
        "weight= input(\"weight: \")\n",
        "\n",
        "print(f\"\"\"\n",
        "My Name is : {name}\n",
        "I live at : {place}\n",
        "Year of Birth : {year_of_birth}\n",
        "My weight is : {weight}\"\"\")"
      ],
      "metadata": {
        "colab": {
          "base_uri": "https://localhost:8080/"
        },
        "id": "jHlclUqTbt7Q",
        "outputId": "2f9f2515-70d9-45dc-a6db-336e142e38af"
      },
      "execution_count": null,
      "outputs": [
        {
          "output_type": "stream",
          "name": "stdout",
          "text": [
            "Name: RAJAT\n",
            "Place: CUTTACK\n",
            "YOB: 1998\n",
            "weight: 80.8\n",
            "\n",
            "My Name is : RAJAT\n",
            "I live at : CUTTACK\n",
            "Year of Birth : 1998\n",
            "My weight is : 80.8\n"
          ]
        }
      ]
    },
    {
      "cell_type": "code",
      "source": [
        "# Calculate the age of the user\n",
        "\n",
        "name = input(\"Name: \") # Always gives you string value\n",
        "place= input(\"Place: \")\n",
        "year_of_birth = input(\"YOB: \")\n",
        "weight= input(\"weight: \")\n",
        "\n",
        "current_year=input(\"Current year: \")\n",
        "age=(current_year-year_of_birth)\n",
        "\n",
        "print(f\"\"\"\n",
        "My Name is : {name}\n",
        "I live at : {place}\n",
        "Year of Birth : {year_of_birth}\n",
        "My weight is : {weight}\n",
        "{name} is of age {age}\"\"\")"
      ],
      "metadata": {
        "colab": {
          "base_uri": "https://localhost:8080/",
          "height": 321
        },
        "id": "oepFGMjEcDe0",
        "outputId": "07c1e874-ba7d-406f-be09-00abd533d02c"
      },
      "execution_count": null,
      "outputs": [
        {
          "name": "stdout",
          "output_type": "stream",
          "text": [
            "Name: RAJAT\n",
            "Place: CUTTACK\n",
            "YOB: 1998\n",
            "weight: 80\n",
            "Current year: 2022\n"
          ]
        },
        {
          "output_type": "error",
          "ename": "TypeError",
          "evalue": "ignored",
          "traceback": [
            "\u001b[0;31m---------------------------------------------------------------------------\u001b[0m",
            "\u001b[0;31mTypeError\u001b[0m                                 Traceback (most recent call last)",
            "\u001b[0;32m<ipython-input-49-413bd2aee07d>\u001b[0m in \u001b[0;36m<module>\u001b[0;34m\u001b[0m\n\u001b[1;32m      7\u001b[0m \u001b[0;34m\u001b[0m\u001b[0m\n\u001b[1;32m      8\u001b[0m \u001b[0mcurrent_year\u001b[0m\u001b[0;34m=\u001b[0m\u001b[0minput\u001b[0m\u001b[0;34m(\u001b[0m\u001b[0;34m\"Current year: \"\u001b[0m\u001b[0;34m)\u001b[0m\u001b[0;34m\u001b[0m\u001b[0;34m\u001b[0m\u001b[0m\n\u001b[0;32m----> 9\u001b[0;31m \u001b[0mage\u001b[0m\u001b[0;34m=\u001b[0m\u001b[0;34m(\u001b[0m\u001b[0mcurrent_year\u001b[0m\u001b[0;34m-\u001b[0m\u001b[0myear_of_birth\u001b[0m\u001b[0;34m)\u001b[0m\u001b[0;34m\u001b[0m\u001b[0;34m\u001b[0m\u001b[0m\n\u001b[0m\u001b[1;32m     10\u001b[0m \u001b[0;34m\u001b[0m\u001b[0m\n\u001b[1;32m     11\u001b[0m print(f\"\"\"\n",
            "\u001b[0;31mTypeError\u001b[0m: unsupported operand type(s) for -: 'str' and 'str'"
          ]
        }
      ]
    },
    {
      "cell_type": "code",
      "source": [
        "# Calculate the age of the user\n",
        "\n",
        "name = input(\"Name: \") # Always gives you string value\n",
        "place= input(\"Place: \")\n",
        "year_of_birth = int(input(\"YOB: \")) #Convert this to integer\n",
        "weight= input(\"weight: \")\n",
        "\n",
        "current_year=int(input(\"Current year: \")) #Convert this to integer\n",
        "age=(current_year-year_of_birth)\n",
        "\n",
        "print(f\"\"\"\n",
        "My Name is : {name}\n",
        "I live at : {place}\n",
        "Year of Birth : {year_of_birth}\n",
        "My weight is : {weight}\n",
        "{name} is of age {age}\"\"\")"
      ],
      "metadata": {
        "colab": {
          "base_uri": "https://localhost:8080/"
        },
        "id": "jLR6NMB7g-is",
        "outputId": "7929f0ec-ea59-42e3-915e-e63617c63c09"
      },
      "execution_count": null,
      "outputs": [
        {
          "output_type": "stream",
          "name": "stdout",
          "text": [
            "Name: RAJAT\n",
            "Place: CUTTACK\n",
            "YOB: 1998\n",
            "weight: 80\n",
            "Current year: 2022\n",
            "\n",
            "My Name is : RAJAT\n",
            "I live at : CUTTACK\n",
            "Year of Birth : 1998\n",
            "My weight is : 80\n",
            "RAJAT is of age 24\n"
          ]
        }
      ]
    },
    {
      "cell_type": "code",
      "source": [
        "# Calculate the age of the user\n",
        "\n",
        "name = input(\"Name: \") # Always gives you string value\n",
        "place= input(\"Place: \")\n",
        "year_of_birth = input(\"YOB: \") \n",
        "weight= input(\"weight: \")\n",
        "\n",
        "current_year=2022\n",
        "age=current_year-int(year_of_birth) #Convert this to integer\n",
        "\n",
        "print(f\"\"\"\n",
        "My Name is : {name}\n",
        "I live at : {place}\n",
        "Year of Birth : {year_of_birth}\n",
        "My weight is : {weight}\n",
        "{name} is of age {age}\"\"\")"
      ],
      "metadata": {
        "colab": {
          "base_uri": "https://localhost:8080/"
        },
        "id": "wTG6eKsuhrTP",
        "outputId": "543e7c0e-2c0f-4595-b337-917a54c9371b"
      },
      "execution_count": null,
      "outputs": [
        {
          "output_type": "stream",
          "name": "stdout",
          "text": [
            "Name: RAJAT\n",
            "Place: CUTTACK\n",
            "YOB: 1998\n",
            "weight: 80\n",
            "\n",
            "My Name is : RAJAT\n",
            "I live at : CUTTACK\n",
            "Year of Birth : 1998\n",
            "My weight is : 80\n",
            "RAJAT is of age 24\n"
          ]
        }
      ]
    },
    {
      "cell_type": "markdown",
      "source": [
        "# NOTE: Before can i use? Please try in colab or jupyter notebook once"
      ],
      "metadata": {
        "id": "e960bFpw11nA"
      }
    },
    {
      "cell_type": "markdown",
      "source": [
        "User Input"
      ],
      "metadata": {
        "id": "6SAMghIT3SVH"
      }
    },
    {
      "cell_type": "code",
      "source": [
        "name = input(\"Enter you Name : \")\n",
        "\n",
        "print(f\"You have entered: {name}\")"
      ],
      "metadata": {
        "colab": {
          "base_uri": "https://localhost:8080/"
        },
        "id": "UdifIMoY27yo",
        "outputId": "9c711dda-1e38-421e-a56e-aec657839bf2"
      },
      "execution_count": null,
      "outputs": [
        {
          "output_type": "stream",
          "name": "stdout",
          "text": [
            "Enter you Name : Rajat\n",
            "You have entered: Rajat\n"
          ]
        }
      ]
    },
    {
      "cell_type": "code",
      "source": [
        "A= input(\"Enter the value of A: \")\n",
        "B= input(\"Enter the value of B: \")\n",
        "\n",
        "print(f\"Sume of A and B is : {A+B}\")"
      ],
      "metadata": {
        "colab": {
          "base_uri": "https://localhost:8080/"
        },
        "id": "KRfOEs623sxZ",
        "outputId": "71da9416-5193-42ac-b055-67e5bf04c692"
      },
      "execution_count": null,
      "outputs": [
        {
          "output_type": "stream",
          "name": "stdout",
          "text": [
            "Enter the value of A: 12\n",
            "Enter the value of B: 10\n",
            "Sume of A and B is : 1210\n"
          ]
        }
      ]
    },
    {
      "cell_type": "code",
      "source": [
        "print(\"Sume of A and B is : {A+B}\")"
      ],
      "metadata": {
        "colab": {
          "base_uri": "https://localhost:8080/"
        },
        "id": "f9nxF0VZ4kVu",
        "outputId": "18cbe58b-c410-4e5c-bfdd-442d4641c9df"
      },
      "execution_count": null,
      "outputs": [
        {
          "output_type": "stream",
          "name": "stdout",
          "text": [
            "Sume of A and B is : {A+B}\n"
          ]
        }
      ]
    },
    {
      "cell_type": "markdown",
      "source": [
        "## Type conversion\n",
        "\n",
        "We can convert the data type of one variable into another if it is allowed"
      ],
      "metadata": {
        "id": "swdYqT0e-gmI"
      }
    },
    {
      "cell_type": "code",
      "source": [
        "A= input(\"Enter the value of A: \")\n",
        "B= input(\"Enter the value of B: \")\n",
        "\n",
        "print(type(A) , type(B))"
      ],
      "metadata": {
        "colab": {
          "base_uri": "https://localhost:8080/"
        },
        "id": "MfGcXxTs5z3Q",
        "outputId": "647a82c6-1764-4b15-a1e0-603e6a65d517"
      },
      "execution_count": null,
      "outputs": [
        {
          "output_type": "stream",
          "name": "stdout",
          "text": [
            "Enter the value of A: 12\n",
            "Enter the value of B: 10\n",
            "<class 'str'> <class 'str'>\n"
          ]
        }
      ]
    },
    {
      "cell_type": "code",
      "source": [
        "A= int(input(\"Enter the value of A: \"))\n",
        "B= int(input(\"Enter the value of B: \"))\n",
        "\n",
        "print(type(A) , type(B))"
      ],
      "metadata": {
        "colab": {
          "base_uri": "https://localhost:8080/"
        },
        "id": "102vFtpm5DOy",
        "outputId": "869d0846-d05b-4898-ce76-783414cbfbcb"
      },
      "execution_count": null,
      "outputs": [
        {
          "output_type": "stream",
          "name": "stdout",
          "text": [
            "Enter the value of A: 12\n",
            "Enter the value of B: 10\n",
            "<class 'int'> <class 'int'>\n"
          ]
        }
      ]
    },
    {
      "cell_type": "code",
      "source": [
        "A= int(input(\"Enter the value of A: \"))\n",
        "B= int(input(\"Enter the value of B: \"))\n",
        "\n",
        "print(f\"Sume of A and B is : {A+B}\")"
      ],
      "metadata": {
        "colab": {
          "base_uri": "https://localhost:8080/"
        },
        "id": "kaIUv9GI5pXR",
        "outputId": "e079ae7e-d09d-4d26-fbcb-fdf79d9d200a"
      },
      "execution_count": null,
      "outputs": [
        {
          "output_type": "stream",
          "name": "stdout",
          "text": [
            "Enter the value of A: 12\n",
            "Enter the value of B: 10\n",
            "Sume of A and B is : 22\n"
          ]
        }
      ]
    },
    {
      "cell_type": "code",
      "source": [
        "print(f\"Sume of A and B is : {A+B}\")"
      ],
      "metadata": {
        "colab": {
          "base_uri": "https://localhost:8080/"
        },
        "id": "Tjb-Wn2H6Jfq",
        "outputId": "6628be96-83f1-4758-92a3-51e9d1ababc5"
      },
      "execution_count": null,
      "outputs": [
        {
          "output_type": "stream",
          "name": "stdout",
          "text": [
            "Sume of A and B is : 22\n"
          ]
        }
      ]
    },
    {
      "cell_type": "code",
      "source": [
        "A= int(input(\"Enter the value of A: \"))\n",
        "B= int(input(\"Enter the value of B: \"))\n",
        "\n",
        "print(f\"Sume of A and B is : {A+B}\")"
      ],
      "metadata": {
        "colab": {
          "base_uri": "https://localhost:8080/",
          "height": 235
        },
        "id": "uzH6YfKB6b2L",
        "outputId": "6b8b54db-ec50-4073-851c-4cc4ba86197a"
      },
      "execution_count": null,
      "outputs": [
        {
          "name": "stdout",
          "output_type": "stream",
          "text": [
            "Enter the value of A: 12.2\n"
          ]
        },
        {
          "output_type": "error",
          "ename": "ValueError",
          "evalue": "ignored",
          "traceback": [
            "\u001b[0;31m---------------------------------------------------------------------------\u001b[0m",
            "\u001b[0;31mValueError\u001b[0m                                Traceback (most recent call last)",
            "\u001b[0;32m<ipython-input-8-74b5730dc262>\u001b[0m in \u001b[0;36m<module>\u001b[0;34m\u001b[0m\n\u001b[0;32m----> 1\u001b[0;31m \u001b[0mA\u001b[0m\u001b[0;34m=\u001b[0m \u001b[0mint\u001b[0m\u001b[0;34m(\u001b[0m\u001b[0minput\u001b[0m\u001b[0;34m(\u001b[0m\u001b[0;34m\"Enter the value of A: \"\u001b[0m\u001b[0;34m)\u001b[0m\u001b[0;34m)\u001b[0m\u001b[0;34m\u001b[0m\u001b[0;34m\u001b[0m\u001b[0m\n\u001b[0m\u001b[1;32m      2\u001b[0m \u001b[0mB\u001b[0m\u001b[0;34m=\u001b[0m \u001b[0mint\u001b[0m\u001b[0;34m(\u001b[0m\u001b[0minput\u001b[0m\u001b[0;34m(\u001b[0m\u001b[0;34m\"Enter the value of B: \"\u001b[0m\u001b[0;34m)\u001b[0m\u001b[0;34m)\u001b[0m\u001b[0;34m\u001b[0m\u001b[0;34m\u001b[0m\u001b[0m\n\u001b[1;32m      3\u001b[0m \u001b[0;34m\u001b[0m\u001b[0m\n\u001b[1;32m      4\u001b[0m \u001b[0mprint\u001b[0m\u001b[0;34m(\u001b[0m\u001b[0;34mf\"Sume of A and B is : {A+B}\"\u001b[0m\u001b[0;34m)\u001b[0m\u001b[0;34m\u001b[0m\u001b[0;34m\u001b[0m\u001b[0m\n",
            "\u001b[0;31mValueError\u001b[0m: invalid literal for int() with base 10: '12.2'"
          ]
        }
      ]
    },
    {
      "cell_type": "code",
      "source": [
        "A= float(input(\"Enter the value of A: \"))\n",
        "B= float(input(\"Enter the value of B: \"))\n",
        "\n",
        "print(f\"Sume of A and B is : {A+B}\")"
      ],
      "metadata": {
        "colab": {
          "base_uri": "https://localhost:8080/"
        },
        "id": "XQDqCIQ_6glu",
        "outputId": "584d954f-0485-4827-b389-d4278dd18709"
      },
      "execution_count": null,
      "outputs": [
        {
          "output_type": "stream",
          "name": "stdout",
          "text": [
            "Enter the value of A: 12.2\n",
            "Enter the value of B: 20.2\n",
            "Sume of A and B is : 32.4\n"
          ]
        }
      ]
    },
    {
      "cell_type": "code",
      "source": [
        "A= float(input(\"Enter the value of A: \"))\n",
        "B= int(input(\"Enter the value of B: \"))\n",
        "\n",
        "print(f\"Sume of A and B is : {A+B}\")"
      ],
      "metadata": {
        "colab": {
          "base_uri": "https://localhost:8080/"
        },
        "id": "C5_UG4Sq6p0R",
        "outputId": "d50429f8-9b8d-4bce-ac01-7b24308659f2"
      },
      "execution_count": null,
      "outputs": [
        {
          "output_type": "stream",
          "name": "stdout",
          "text": [
            "Enter the value of A: 12.2\n",
            "Enter the value of B: 20\n",
            "Sume of A and B is : 32.2\n"
          ]
        }
      ]
    },
    {
      "cell_type": "code",
      "source": [
        "A= float(input(\"Enter the value of A: \"))\n",
        "B= int(input(\"Enter the value of B: \")) # 10.2 is float but converting to Integer which is not possible\n",
        "\n",
        "print(f\"Sume of A and B is : {A+B}\")"
      ],
      "metadata": {
        "colab": {
          "base_uri": "https://localhost:8080/",
          "height": 252
        },
        "id": "4nrMCl0YkWYH",
        "outputId": "46dea4bd-33e1-4ce6-e77b-8e84f8a30757"
      },
      "execution_count": null,
      "outputs": [
        {
          "name": "stdout",
          "output_type": "stream",
          "text": [
            "Enter the value of A: 20.2\n",
            "Enter the value of B: 10.2\n"
          ]
        },
        {
          "output_type": "error",
          "ename": "ValueError",
          "evalue": "ignored",
          "traceback": [
            "\u001b[0;31m---------------------------------------------------------------------------\u001b[0m",
            "\u001b[0;31mValueError\u001b[0m                                Traceback (most recent call last)",
            "\u001b[0;32m<ipython-input-54-19afc06b2bec>\u001b[0m in \u001b[0;36m<module>\u001b[0;34m\u001b[0m\n\u001b[1;32m      1\u001b[0m \u001b[0mA\u001b[0m\u001b[0;34m=\u001b[0m \u001b[0mfloat\u001b[0m\u001b[0;34m(\u001b[0m\u001b[0minput\u001b[0m\u001b[0;34m(\u001b[0m\u001b[0;34m\"Enter the value of A: \"\u001b[0m\u001b[0;34m)\u001b[0m\u001b[0;34m)\u001b[0m\u001b[0;34m\u001b[0m\u001b[0;34m\u001b[0m\u001b[0m\n\u001b[0;32m----> 2\u001b[0;31m \u001b[0mB\u001b[0m\u001b[0;34m=\u001b[0m \u001b[0mint\u001b[0m\u001b[0;34m(\u001b[0m\u001b[0minput\u001b[0m\u001b[0;34m(\u001b[0m\u001b[0;34m\"Enter the value of B: \"\u001b[0m\u001b[0;34m)\u001b[0m\u001b[0;34m)\u001b[0m\u001b[0;34m\u001b[0m\u001b[0;34m\u001b[0m\u001b[0m\n\u001b[0m\u001b[1;32m      3\u001b[0m \u001b[0;34m\u001b[0m\u001b[0m\n\u001b[1;32m      4\u001b[0m \u001b[0mprint\u001b[0m\u001b[0;34m(\u001b[0m\u001b[0;34mf\"Sume of A and B is : {A+B}\"\u001b[0m\u001b[0;34m)\u001b[0m\u001b[0;34m\u001b[0m\u001b[0;34m\u001b[0m\u001b[0m\n",
            "\u001b[0;31mValueError\u001b[0m: invalid literal for int() with base 10: '10.2'"
          ]
        }
      ]
    },
    {
      "cell_type": "code",
      "source": [
        "# STring to Integer\n",
        "A=\"50\"\n",
        "print(f\"Data type before : {type(A)}\")\n",
        "A=int(A)\n",
        "print(f\"Data type after : {type(A)}\")"
      ],
      "metadata": {
        "colab": {
          "base_uri": "https://localhost:8080/"
        },
        "id": "UqHIAh-A-865",
        "outputId": "14286daa-3c2b-41b0-c7e6-cdfb167b28dd"
      },
      "execution_count": null,
      "outputs": [
        {
          "output_type": "stream",
          "name": "stdout",
          "text": [
            "Data type before : <class 'str'>\n",
            "Data type after : <class 'int'>\n"
          ]
        }
      ]
    },
    {
      "cell_type": "code",
      "source": [
        "# STring to Integer\n",
        "A=\"50.22\" # Entering Floating Value\n",
        "print(f\"Data type before : {type(A)}\")\n",
        "A=int(A) # Trying to convert into Integer\n",
        "print(f\"Data type after : {type(A)}\")"
      ],
      "metadata": {
        "colab": {
          "base_uri": "https://localhost:8080/",
          "height": 235
        },
        "id": "gSluYSz5_azG",
        "outputId": "7ad69434-3fb1-4ada-f839-f3149d650808"
      },
      "execution_count": null,
      "outputs": [
        {
          "output_type": "stream",
          "name": "stdout",
          "text": [
            "Data type before : <class 'str'>\n"
          ]
        },
        {
          "output_type": "error",
          "ename": "ValueError",
          "evalue": "ignored",
          "traceback": [
            "\u001b[0;31m---------------------------------------------------------------------------\u001b[0m",
            "\u001b[0;31mValueError\u001b[0m                                Traceback (most recent call last)",
            "\u001b[0;32m<ipython-input-12-bb6d0fdc3485>\u001b[0m in \u001b[0;36m<module>\u001b[0;34m\u001b[0m\n\u001b[1;32m      2\u001b[0m \u001b[0mA\u001b[0m\u001b[0;34m=\u001b[0m\u001b[0;34m\"50.22\"\u001b[0m\u001b[0;34m\u001b[0m\u001b[0;34m\u001b[0m\u001b[0m\n\u001b[1;32m      3\u001b[0m \u001b[0mprint\u001b[0m\u001b[0;34m(\u001b[0m\u001b[0;34mf\"Data type before : {type(A)}\"\u001b[0m\u001b[0;34m)\u001b[0m\u001b[0;34m\u001b[0m\u001b[0;34m\u001b[0m\u001b[0m\n\u001b[0;32m----> 4\u001b[0;31m \u001b[0mA\u001b[0m\u001b[0;34m=\u001b[0m\u001b[0mint\u001b[0m\u001b[0;34m(\u001b[0m\u001b[0mA\u001b[0m\u001b[0;34m)\u001b[0m\u001b[0;34m\u001b[0m\u001b[0;34m\u001b[0m\u001b[0m\n\u001b[0m\u001b[1;32m      5\u001b[0m \u001b[0mprint\u001b[0m\u001b[0;34m(\u001b[0m\u001b[0;34mf\"Data type after : {type(A)}\"\u001b[0m\u001b[0;34m)\u001b[0m\u001b[0;34m\u001b[0m\u001b[0;34m\u001b[0m\u001b[0m\n",
            "\u001b[0;31mValueError\u001b[0m: invalid literal for int() with base 10: '50.22'"
          ]
        }
      ]
    },
    {
      "cell_type": "code",
      "source": [
        "# Float to Integer\n",
        "A= 50.22\n",
        "print(f\"Data type before : {type(A)}\")\n",
        "A=int(A)\n",
        "print(f\"Data type after : {type(A)}\")\n",
        "print(A)"
      ],
      "metadata": {
        "colab": {
          "base_uri": "https://localhost:8080/"
        },
        "id": "SD_9ued__18d",
        "outputId": "3e67ccd6-6b96-4472-dacc-514a57d8ecb0"
      },
      "execution_count": null,
      "outputs": [
        {
          "output_type": "stream",
          "name": "stdout",
          "text": [
            "Data type before : <class 'float'>\n",
            "Data type after : <class 'int'>\n",
            "50\n"
          ]
        }
      ]
    },
    {
      "cell_type": "code",
      "source": [
        "# Float to Integer\n",
        "A= 50.22\n",
        "print(f\"Data type before : {type(A)}, value of A : {A}\")\n",
        "A=int(A)\n",
        "print(f\"Data type after : {type(A)}, value of A: {A}\")"
      ],
      "metadata": {
        "colab": {
          "base_uri": "https://localhost:8080/"
        },
        "id": "girZU7VTAZWA",
        "outputId": "fccf46f9-98dd-434a-a1d0-87613bd47d74"
      },
      "execution_count": null,
      "outputs": [
        {
          "output_type": "stream",
          "name": "stdout",
          "text": [
            "Data type before : <class 'float'>, value of A : 50.22\n",
            "Data type after : <class 'int'>, value of A: 50\n"
          ]
        }
      ]
    },
    {
      "cell_type": "code",
      "source": [
        "# Integer to Float\n",
        "A= 50\n",
        "print(f\"Data type before : {type(A)}\")\n",
        "A=float(A)\n",
        "print(f\"Data type after : {type(A)}\")\n",
        "print(A)"
      ],
      "metadata": {
        "colab": {
          "base_uri": "https://localhost:8080/"
        },
        "id": "mGppRGGLAnzU",
        "outputId": "a40bb511-dc43-4743-ae6f-303bf7ccc324"
      },
      "execution_count": null,
      "outputs": [
        {
          "output_type": "stream",
          "name": "stdout",
          "text": [
            "Data type before : <class 'int'>\n",
            "Data type after : <class 'float'>\n",
            "50.0\n"
          ]
        }
      ]
    },
    {
      "cell_type": "code",
      "source": [
        "# Float to Integer\n",
        "A= 50\n",
        "print(f\"Data type before : {type(A)}, value of A : {A}\")\n",
        "A=float(A)\n",
        "print(f\"Data type after : {type(A)}, value of A: {A}\")"
      ],
      "metadata": {
        "colab": {
          "base_uri": "https://localhost:8080/"
        },
        "outputId": "917263e8-36d8-4a90-e437-d341934c41ce",
        "id": "jQTVTdOzA0hw"
      },
      "execution_count": null,
      "outputs": [
        {
          "output_type": "stream",
          "name": "stdout",
          "text": [
            "Data type before : <class 'int'>, value of A : 50\n",
            "Data type after : <class 'float'>, value of A: 50.0\n"
          ]
        }
      ]
    },
    {
      "cell_type": "markdown",
      "source": [
        "* True in binary - 1 \n",
        "* False in binary - 0 "
      ],
      "metadata": {
        "id": "EyMYdCQov_B6"
      }
    },
    {
      "cell_type": "code",
      "source": [
        "# Integer to Boolean\n",
        "A= 10\n",
        "print(f\"Data type before : {type(A)}, value of A : {A}\")\n",
        "A=bool(A)\n",
        "print(f\"Data type after : {type(A)}, value of A: {A}\")"
      ],
      "metadata": {
        "colab": {
          "base_uri": "https://localhost:8080/"
        },
        "outputId": "344212b1-dbc7-4b17-b195-0accf65e0e21",
        "id": "GR4vxkS0BCmS"
      },
      "execution_count": null,
      "outputs": [
        {
          "output_type": "stream",
          "name": "stdout",
          "text": [
            "Data type before : <class 'int'>, value of A : 10\n",
            "Data type after : <class 'bool'>, value of A: True\n"
          ]
        }
      ]
    },
    {
      "cell_type": "code",
      "source": [
        "# Integer to Boolean\n",
        "A= 0\n",
        "print(f\"Data type before : {type(A)}, value of A : {A}\")\n",
        "A=bool(A)\n",
        "print(f\"Data type after : {type(A)}, value of A: {A}\")"
      ],
      "metadata": {
        "colab": {
          "base_uri": "https://localhost:8080/"
        },
        "outputId": "da079221-5a9a-4642-dcec-246dd58172bb",
        "id": "83z7ZgG1BVLH"
      },
      "execution_count": null,
      "outputs": [
        {
          "output_type": "stream",
          "name": "stdout",
          "text": [
            "Data type before : <class 'int'>, value of A : 0\n",
            "Data type after : <class 'bool'>, value of A: False\n"
          ]
        }
      ]
    },
    {
      "cell_type": "code",
      "source": [
        "# Integer to Boolean\n",
        "A= 1\n",
        "print(f\"Data type before : {type(A)}, value of A : {A}\")\n",
        "A=bool(A)\n",
        "print(f\"Data type after : {type(A)}, value of A: {A}\")"
      ],
      "metadata": {
        "colab": {
          "base_uri": "https://localhost:8080/"
        },
        "id": "FlG3QiCxwUtC",
        "outputId": "3c703ff7-c5c1-4510-f771-6b45533266ca"
      },
      "execution_count": null,
      "outputs": [
        {
          "output_type": "stream",
          "name": "stdout",
          "text": [
            "Data type before : <class 'int'>, value of A : 1\n",
            "Data type after : <class 'bool'>, value of A: True\n"
          ]
        }
      ]
    },
    {
      "cell_type": "markdown",
      "source": [
        "> NOTE: Converting any non zero number and string values into boolean will give True as an answer\n",
        "\n",
        "> NOTE: Empty string \"\" will give False as an answer after converting from string to boolean"
      ],
      "metadata": {
        "id": "PIJrGck3xA4s"
      }
    },
    {
      "cell_type": "code",
      "source": [
        "# Integer to Boolean\n",
        "A= -5\n",
        "print(f\"Data type before : {type(A)}, value of A : {A}\")\n",
        "A=bool(A)\n",
        "print(f\"Data type after : {type(A)}, value of A: {A}\")"
      ],
      "metadata": {
        "colab": {
          "base_uri": "https://localhost:8080/"
        },
        "id": "m3GDQynpBo62",
        "outputId": "927e9765-d766-492a-f42c-693db2fba1fe"
      },
      "execution_count": null,
      "outputs": [
        {
          "output_type": "stream",
          "name": "stdout",
          "text": [
            "Data type before : <class 'int'>, value of A : -5\n",
            "Data type after : <class 'bool'>, value of A: True\n"
          ]
        }
      ]
    },
    {
      "cell_type": "code",
      "source": [
        "# String to Boolean\n",
        "A= \"10\"\n",
        "print(f\"Data type before : {type(A)}, value of A : {A}\")\n",
        "A=bool(A)\n",
        "print(f\"Data type after : {type(A)}, value of A: {A}\")"
      ],
      "metadata": {
        "colab": {
          "base_uri": "https://localhost:8080/"
        },
        "id": "1VuSmRLOB1l0",
        "outputId": "cb00e7d1-d505-455d-82da-845ef546d997"
      },
      "execution_count": null,
      "outputs": [
        {
          "output_type": "stream",
          "name": "stdout",
          "text": [
            "Data type before : <class 'str'>, value of A : 10\n",
            "Data type after : <class 'bool'>, value of A: True\n"
          ]
        }
      ]
    },
    {
      "cell_type": "code",
      "source": [
        "# String to Boolean\n",
        "A= \"True\"\n",
        "print(f\"Data type before : {type(A)}, value of A : {A}\")\n",
        "A=bool(A)\n",
        "print(f\"Data type after : {type(A)}, value of A: {A}\")"
      ],
      "metadata": {
        "colab": {
          "base_uri": "https://localhost:8080/"
        },
        "id": "YQyIKN39IcPQ",
        "outputId": "2ca1dada-14e0-42ab-8aec-a80dbe94e51d"
      },
      "execution_count": null,
      "outputs": [
        {
          "output_type": "stream",
          "name": "stdout",
          "text": [
            "Data type before : <class 'str'>, value of A : True\n",
            "Data type after : <class 'bool'>, value of A: True\n"
          ]
        }
      ]
    },
    {
      "cell_type": "code",
      "source": [
        "# String to Boolean\n",
        "A= \"False\"\n",
        "print(f\"Data type before : {type(A)}, value of A : {A}\")\n",
        "A=bool(A)\n",
        "print(f\"Data type after : {type(A)}, value of A: {A}\")"
      ],
      "metadata": {
        "colab": {
          "base_uri": "https://localhost:8080/"
        },
        "id": "jmd7dXHhIlFo",
        "outputId": "e0d39d6c-6eff-4ffa-b58a-9990c71d4bfc"
      },
      "execution_count": null,
      "outputs": [
        {
          "output_type": "stream",
          "name": "stdout",
          "text": [
            "Data type before : <class 'str'>, value of A : False\n",
            "Data type after : <class 'bool'>, value of A: True\n"
          ]
        }
      ]
    },
    {
      "cell_type": "code",
      "source": [
        "# Empty String to Boolean\n",
        "A= \"\"\n",
        "print(f\"Data type before : {type(A)}, value of A : {A}\")\n",
        "A=bool(A)\n",
        "print(f\"Data type after : {type(A)}, value of A: {A}\")"
      ],
      "metadata": {
        "colab": {
          "base_uri": "https://localhost:8080/"
        },
        "id": "WK3AZPFxIvNq",
        "outputId": "1fa23f78-f723-4183-c1e2-6349599e49b2"
      },
      "execution_count": null,
      "outputs": [
        {
          "output_type": "stream",
          "name": "stdout",
          "text": [
            "Data type before : <class 'str'>, value of A : \n",
            "Data type after : <class 'bool'>, value of A: False\n"
          ]
        }
      ]
    },
    {
      "cell_type": "code",
      "source": [
        "# \" \" String to Boolean\n",
        "A= \" \"\n",
        "print(f\"Data type before : {type(A)}, value of A : {A}\")\n",
        "A=bool(A)\n",
        "print(f\"Data type after : {type(A)}, value of A: {A}\")"
      ],
      "metadata": {
        "colab": {
          "base_uri": "https://localhost:8080/"
        },
        "id": "b1-sfU2rI67V",
        "outputId": "b4ac85c8-2284-41d0-aac3-bb8b1bdcb461"
      },
      "execution_count": null,
      "outputs": [
        {
          "output_type": "stream",
          "name": "stdout",
          "text": [
            "Data type before : <class 'str'>, value of A :  \n",
            "Data type after : <class 'bool'>, value of A: True\n"
          ]
        }
      ]
    },
    {
      "cell_type": "code",
      "source": [
        "# String to Boolean\n",
        "A= \"\"\n",
        "print(f\"Data type before : {type(A)}, value of A : {A}\")\n",
        "A=int(A)\n",
        "print(f\"Data type after : {type(A)}, value of A: {A}\")"
      ],
      "metadata": {
        "colab": {
          "base_uri": "https://localhost:8080/",
          "height": 235
        },
        "id": "vVVG-eROJCQz",
        "outputId": "b0c3cd5f-746e-442f-fa2f-06c19b476a60"
      },
      "execution_count": null,
      "outputs": [
        {
          "output_type": "stream",
          "name": "stdout",
          "text": [
            "Data type before : <class 'str'>, value of A : \n"
          ]
        },
        {
          "output_type": "error",
          "ename": "ValueError",
          "evalue": "ignored",
          "traceback": [
            "\u001b[0;31m---------------------------------------------------------------------------\u001b[0m",
            "\u001b[0;31mValueError\u001b[0m                                Traceback (most recent call last)",
            "\u001b[0;32m<ipython-input-16-28b2c88c3c12>\u001b[0m in \u001b[0;36m<module>\u001b[0;34m\u001b[0m\n\u001b[1;32m      2\u001b[0m \u001b[0mA\u001b[0m\u001b[0;34m=\u001b[0m \u001b[0;34m\"\"\u001b[0m\u001b[0;34m\u001b[0m\u001b[0;34m\u001b[0m\u001b[0m\n\u001b[1;32m      3\u001b[0m \u001b[0mprint\u001b[0m\u001b[0;34m(\u001b[0m\u001b[0;34mf\"Data type before : {type(A)}, value of A : {A}\"\u001b[0m\u001b[0;34m)\u001b[0m\u001b[0;34m\u001b[0m\u001b[0;34m\u001b[0m\u001b[0m\n\u001b[0;32m----> 4\u001b[0;31m \u001b[0mA\u001b[0m\u001b[0;34m=\u001b[0m\u001b[0mint\u001b[0m\u001b[0;34m(\u001b[0m\u001b[0mA\u001b[0m\u001b[0;34m)\u001b[0m\u001b[0;34m\u001b[0m\u001b[0;34m\u001b[0m\u001b[0m\n\u001b[0m\u001b[1;32m      5\u001b[0m \u001b[0mprint\u001b[0m\u001b[0;34m(\u001b[0m\u001b[0;34mf\"Data type after : {type(A)}, value of A: {A}\"\u001b[0m\u001b[0;34m)\u001b[0m\u001b[0;34m\u001b[0m\u001b[0;34m\u001b[0m\u001b[0m\n",
            "\u001b[0;31mValueError\u001b[0m: invalid literal for int() with base 10: ''"
          ]
        }
      ]
    },
    {
      "cell_type": "markdown",
      "source": [
        "## Memory block\n",
        "memory is assigned to the value of the variable passed not variable name"
      ],
      "metadata": {
        "id": "lC6Ih_wYWMmN"
      }
    },
    {
      "cell_type": "code",
      "source": [
        "a= 22\n",
        "b=56\n",
        "c=22"
      ],
      "metadata": {
        "id": "t0xu0lk3WPC2"
      },
      "execution_count": null,
      "outputs": []
    },
    {
      "cell_type": "code",
      "source": [
        "id(a) # memory address of a"
      ],
      "metadata": {
        "colab": {
          "base_uri": "https://localhost:8080/"
        },
        "id": "hLM9NCgwWbaR",
        "outputId": "4402c806-7d88-4c8d-df84-eaf2fea79014"
      },
      "execution_count": null,
      "outputs": [
        {
          "output_type": "execute_result",
          "data": {
            "text/plain": [
              "11123264"
            ]
          },
          "metadata": {},
          "execution_count": 2
        }
      ]
    },
    {
      "cell_type": "code",
      "source": [
        "id(b)"
      ],
      "metadata": {
        "colab": {
          "base_uri": "https://localhost:8080/"
        },
        "id": "qzAzsqDOWuA8",
        "outputId": "90992e59-dd5c-4a6c-9b61-cbe22162b34a"
      },
      "execution_count": null,
      "outputs": [
        {
          "output_type": "execute_result",
          "data": {
            "text/plain": [
              "11124352"
            ]
          },
          "metadata": {},
          "execution_count": 3
        }
      ]
    },
    {
      "cell_type": "code",
      "source": [
        "id(c)"
      ],
      "metadata": {
        "colab": {
          "base_uri": "https://localhost:8080/"
        },
        "id": "RsEckNY8WvmN",
        "outputId": "d64f2443-1934-4515-f779-15a1cc6dce0e"
      },
      "execution_count": null,
      "outputs": [
        {
          "output_type": "execute_result",
          "data": {
            "text/plain": [
              "11123264"
            ]
          },
          "metadata": {},
          "execution_count": 4
        }
      ]
    },
    {
      "cell_type": "code",
      "source": [
        "c=22+b"
      ],
      "metadata": {
        "id": "Spx-KArxXBmm"
      },
      "execution_count": null,
      "outputs": []
    },
    {
      "cell_type": "code",
      "source": [
        "id(c)"
      ],
      "metadata": {
        "colab": {
          "base_uri": "https://localhost:8080/"
        },
        "id": "t_iGK0-qXENw",
        "outputId": "57b3149f-e9ea-4d08-abf3-caf3246e6a41"
      },
      "execution_count": null,
      "outputs": [
        {
          "output_type": "execute_result",
          "data": {
            "text/plain": [
              "11125056"
            ]
          },
          "metadata": {},
          "execution_count": 6
        }
      ]
    },
    {
      "cell_type": "code",
      "source": [
        "a=22\n",
        "id(a)"
      ],
      "metadata": {
        "colab": {
          "base_uri": "https://localhost:8080/"
        },
        "id": "xWAzgsK6XPXH",
        "outputId": "5be53bec-3a59-4b60-b590-f613314789c6"
      },
      "execution_count": null,
      "outputs": [
        {
          "output_type": "execute_result",
          "data": {
            "text/plain": [
              "11123264"
            ]
          },
          "metadata": {},
          "execution_count": 8
        }
      ]
    },
    {
      "cell_type": "code",
      "source": [
        "a=99\n",
        "id(a)"
      ],
      "metadata": {
        "colab": {
          "base_uri": "https://localhost:8080/"
        },
        "id": "aZjhQJ4wXI-W",
        "outputId": "4ad94b54-8083-4ca2-dbc6-2349b9bca6ee"
      },
      "execution_count": null,
      "outputs": [
        {
          "output_type": "execute_result",
          "data": {
            "text/plain": [
              "11125728"
            ]
          },
          "metadata": {},
          "execution_count": 9
        }
      ]
    },
    {
      "cell_type": "code",
      "source": [
        "a=22\n",
        "b=56\n",
        "c=22\n",
        "\n",
        "print(id(a),id(b),id(c))"
      ],
      "metadata": {
        "colab": {
          "base_uri": "https://localhost:8080/"
        },
        "id": "9awgKGv3YMK4",
        "outputId": "7e441699-5e7b-4130-f508-94cd17f9fe9c"
      },
      "execution_count": null,
      "outputs": [
        {
          "output_type": "stream",
          "name": "stdout",
          "text": [
            "11123264 11124352 11123264\n"
          ]
        }
      ]
    },
    {
      "cell_type": "code",
      "source": [
        "a=\"RAJAT\"\n",
        "b=56\n",
        "c=\"RAJAT\"\n",
        "\n",
        "print(id(a),id(b),id(c))"
      ],
      "metadata": {
        "colab": {
          "base_uri": "https://localhost:8080/"
        },
        "id": "a0qgEK3PXv8K",
        "outputId": "d85fa7ae-4740-495b-ba18-241fe59380cf"
      },
      "execution_count": null,
      "outputs": [
        {
          "output_type": "stream",
          "name": "stdout",
          "text": [
            "139967179746288 11124352 139967179746288\n"
          ]
        }
      ]
    },
    {
      "cell_type": "code",
      "source": [
        "a,b,c= 22,56,22\n",
        "\n",
        "print(id(a),(b),(c))"
      ],
      "metadata": {
        "colab": {
          "base_uri": "https://localhost:8080/"
        },
        "id": "2MxyYdO2YcI3",
        "outputId": "f56dde83-9f46-488c-aa8a-da18a3d0a000"
      },
      "execution_count": null,
      "outputs": [
        {
          "output_type": "stream",
          "name": "stdout",
          "text": [
            "11123264 56 22\n"
          ]
        }
      ]
    },
    {
      "cell_type": "code",
      "source": [
        "a=\"R\"\n",
        "b=56\n",
        "c=\"R\"\n",
        "\n",
        "print(id(a),id(b),id(c))"
      ],
      "metadata": {
        "colab": {
          "base_uri": "https://localhost:8080/"
        },
        "id": "n2ISCb1YY6YQ",
        "outputId": "a4229c87-9391-4726-87d0-28155694b526"
      },
      "execution_count": null,
      "outputs": [
        {
          "output_type": "stream",
          "name": "stdout",
          "text": [
            "139967720273456 11124352 139967720273456\n"
          ]
        }
      ]
    },
    {
      "cell_type": "code",
      "source": [
        "a=22\n",
        "b=56\n",
        "c=22.0\n",
        "\n",
        "print(id(a),id(b),id(c))"
      ],
      "metadata": {
        "colab": {
          "base_uri": "https://localhost:8080/"
        },
        "id": "p8gkELKiZJtW",
        "outputId": "f0658ba0-f19a-4285-e877-863eb6ea06b5"
      },
      "execution_count": null,
      "outputs": [
        {
          "output_type": "stream",
          "name": "stdout",
          "text": [
            "11123264 11124352 139967385854256\n"
          ]
        }
      ]
    }
  ]
}