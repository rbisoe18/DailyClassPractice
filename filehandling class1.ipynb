{
 "cells": [
  {
   "cell_type": "code",
   "execution_count": 1,
   "metadata": {},
   "outputs": [
    {
     "name": "stdout",
     "output_type": "stream",
     "text": [
      " Volume in drive D is Local Disk\n",
      " Volume Serial Number is BC69-0898\n",
      "\n",
      " Directory of d:\\Pycharm\\myproject\\DailyClassPractice\n",
      "\n",
      "20-02-2023  12:17    <DIR>          .\n",
      "20-02-2023  12:17    <DIR>          ..\n",
      "19-02-2023  13:33             6,826 errors.ipynb\n",
      "20-02-2023  12:16            31,254 exception handling 01.ipynb\n",
      "19-02-2023  18:57            38,477 exceptional handling class1.ipynb\n",
      "20-02-2023  12:16            10,915 file handling.ipynb\n",
      "20-02-2023  12:16                 0 filehandling class1.ipynb\n",
      "20-02-2023  12:17            23,433 iterator and generator.ipynb\n",
      "20-01-2023  14:19            58,317 me_day002.ipynb\n",
      "20-01-2023  14:19            65,279 me_day003.ipynb\n",
      "20-01-2023  14:19            51,449 me_Day004.ipynb\n",
      "20-01-2023  14:19            60,946 me_day006.ipynb\n",
      "20-01-2023  14:19           148,388 me_day007.ipynb\n",
      "20-01-2023  14:19            94,326 me_day008.ipynb\n",
      "20-01-2023  14:19            22,731 me_day009.ipynb\n",
      "27-01-2023  15:35            19,901 me_day010 .ipynb\n",
      "23-01-2023  12:08           100,546 me_Day05.ipynb\n",
      "27-01-2023  16:15             2,230 Practice.ipynb\n",
      "20-01-2023  14:19                49 README.md\n",
      "              17 File(s)        735,067 bytes\n",
      "               2 Dir(s)  43,441,623,040 bytes free\n"
     ]
    }
   ],
   "source": [
    "%ls"
   ]
  },
  {
   "cell_type": "code",
   "execution_count": 2,
   "metadata": {},
   "outputs": [
    {
     "data": {
      "text/plain": [
       "'d:\\\\Pycharm\\\\myproject\\\\DailyClassPractice'"
      ]
     },
     "execution_count": 2,
     "metadata": {},
     "output_type": "execute_result"
    }
   ],
   "source": [
    "pwd() # Present working directory"
   ]
  },
  {
   "attachments": {},
   "cell_type": "markdown",
   "metadata": {},
   "source": [
    "------\n",
    "### How to open folder"
   ]
  },
  {
   "cell_type": "code",
   "execution_count": 4,
   "metadata": {},
   "outputs": [],
   "source": [
    "f = open(\"test.txt\")"
   ]
  },
  {
   "cell_type": "code",
   "execution_count": 6,
   "metadata": {},
   "outputs": [
    {
     "data": {
      "text/plain": [
       "_io.TextIOWrapper"
      ]
     },
     "execution_count": 6,
     "metadata": {},
     "output_type": "execute_result"
    }
   ],
   "source": [
    "type(f)"
   ]
  },
  {
   "cell_type": "code",
   "execution_count": 7,
   "metadata": {},
   "outputs": [],
   "source": [
    "f.close()"
   ]
  },
  {
   "attachments": {},
   "cell_type": "markdown",
   "metadata": {},
   "source": [
    "-----\n",
    "### How to read a file"
   ]
  },
  {
   "cell_type": "code",
   "execution_count": null,
   "metadata": {},
   "outputs": [],
   "source": [
    "# f = open(r\"D:/Pycharm/myproject/DailyClassPractice/test.txt\",'r')"
   ]
  },
  {
   "cell_type": "code",
   "execution_count": 8,
   "metadata": {},
   "outputs": [],
   "source": [
    "f = open(\"test.txt\")"
   ]
  },
  {
   "cell_type": "code",
   "execution_count": 9,
   "metadata": {},
   "outputs": [
    {
     "data": {
      "text/plain": [
       "'i write code\\nfirst line\\nsecond linethird\\nineuron\\nbdjghdj\\njhsugsa\\n'"
      ]
     },
     "execution_count": 9,
     "metadata": {},
     "output_type": "execute_result"
    }
   ],
   "source": [
    "f.read()"
   ]
  },
  {
   "cell_type": "code",
   "execution_count": 10,
   "metadata": {},
   "outputs": [
    {
     "data": {
      "text/plain": [
       "''"
      ]
     },
     "execution_count": 10,
     "metadata": {},
     "output_type": "execute_result"
    }
   ],
   "source": [
    "f.read()"
   ]
  },
  {
   "cell_type": "code",
   "execution_count": 12,
   "metadata": {},
   "outputs": [],
   "source": [
    "f = open(\"test.txt\")"
   ]
  },
  {
   "cell_type": "code",
   "execution_count": 18,
   "metadata": {},
   "outputs": [
    {
     "data": {
      "text/plain": [
       "'i wr'"
      ]
     },
     "execution_count": 18,
     "metadata": {},
     "output_type": "execute_result"
    }
   ],
   "source": [
    "f.read(4) # read upto 4 data"
   ]
  },
  {
   "cell_type": "code",
   "execution_count": 19,
   "metadata": {},
   "outputs": [
    {
     "data": {
      "text/plain": [
       "'ite c'"
      ]
     },
     "execution_count": 19,
     "metadata": {},
     "output_type": "execute_result"
    }
   ],
   "source": [
    "f.read(5) # read upto 5 data"
   ]
  },
  {
   "cell_type": "code",
   "execution_count": 20,
   "metadata": {},
   "outputs": [
    {
     "data": {
      "text/plain": [
       "9"
      ]
     },
     "execution_count": 20,
     "metadata": {},
     "output_type": "execute_result"
    }
   ],
   "source": [
    "f.tell() # Tell the cursor position of the data"
   ]
  },
  {
   "cell_type": "code",
   "execution_count": 16,
   "metadata": {},
   "outputs": [
    {
     "data": {
      "text/plain": [
       "0"
      ]
     },
     "execution_count": 16,
     "metadata": {},
     "output_type": "execute_result"
    }
   ],
   "source": [
    "f.seek(0) # make the default cursor position to zero"
   ]
  },
  {
   "cell_type": "code",
   "execution_count": 17,
   "metadata": {},
   "outputs": [
    {
     "data": {
      "text/plain": [
       "0"
      ]
     },
     "execution_count": 17,
     "metadata": {},
     "output_type": "execute_result"
    }
   ],
   "source": [
    "f.tell()"
   ]
  },
  {
   "cell_type": "code",
   "execution_count": 22,
   "metadata": {},
   "outputs": [
    {
     "data": {
      "text/plain": [
       "['ode\\n',\n",
       " 'first line\\n',\n",
       " 'second linethird\\n',\n",
       " 'ineuron\\n',\n",
       " 'bdjghdj\\n',\n",
       " 'jhsugsa\\n']"
      ]
     },
     "execution_count": 22,
     "metadata": {},
     "output_type": "execute_result"
    }
   ],
   "source": [
    "f.readlines()"
   ]
  },
  {
   "cell_type": "code",
   "execution_count": 23,
   "metadata": {},
   "outputs": [],
   "source": [
    "try:\n",
    "    f = open(\"test.txt\")\n",
    "finally:\n",
    "    f.close()"
   ]
  },
  {
   "cell_type": "code",
   "execution_count": 24,
   "metadata": {},
   "outputs": [],
   "source": [
    "with open(\"test.txt\") as f:\n",
    "    # file operation\n",
    "    pass"
   ]
  },
  {
   "attachments": {},
   "cell_type": "markdown",
   "metadata": {},
   "source": [
    "---\n",
    "### How to write a file"
   ]
  },
  {
   "cell_type": "code",
   "execution_count": 25,
   "metadata": {},
   "outputs": [
    {
     "name": "stdout",
     "output_type": "stream",
     "text": [
      "done\n"
     ]
    }
   ],
   "source": [
    "data = \"ineuron\"\n",
    "f = open(\"test1.txt\",'w')\n",
    "f.write(data)\n",
    "print(\"done\")\n",
    "f.close()"
   ]
  },
  {
   "attachments": {},
   "cell_type": "markdown",
   "metadata": {},
   "source": [
    "#### OR"
   ]
  },
  {
   "cell_type": "code",
   "execution_count": 26,
   "metadata": {},
   "outputs": [
    {
     "name": "stdout",
     "output_type": "stream",
     "text": [
      "Done\n"
     ]
    }
   ],
   "source": [
    "data = \"rajat\"\n",
    "with open(\"test2.txt\",'w') as f:\n",
    "    f.write(data)\n",
    "    print(\"Done\")\n",
    "    pass # No need to use f.close() in it"
   ]
  },
  {
   "cell_type": "code",
   "execution_count": 27,
   "metadata": {},
   "outputs": [],
   "source": [
    "with open (\"test3.txt\",'w') as f:\n",
    "    f.write(\"ineuron\\n\")\n",
    "    f.write(\"ineuron line\\n\")"
   ]
  },
  {
   "cell_type": "code",
   "execution_count": 28,
   "metadata": {},
   "outputs": [
    {
     "name": "stdout",
     "output_type": "stream",
     "text": [
      "This will execute once try is success\n"
     ]
    }
   ],
   "source": [
    "try:\n",
    "    a = int(input(\"Enter the First number:\"))\n",
    "    b = int(input(\"Enter the Second number:\"))\n",
    "    c = a/b\n",
    "except ArithmeticError as e:\n",
    "    print(\"There is some issue with my code\")\n",
    "    f = open(\"ineuron.txt\",'w')\n",
    "    f.read()\n",
    "else:\n",
    "    print(\"This will execute once try is success\")\n",
    "    try:\n",
    "        f = open(\"test4.txt\",'w')\n",
    "    except:\n",
    "        print(\"This is end issue with try block\")\n"
   ]
  },
  {
   "cell_type": "code",
   "execution_count": 40,
   "metadata": {},
   "outputs": [
    {
     "name": "stdout",
     "output_type": "stream",
     "text": [
      "There is some issue with my code\n"
     ]
    }
   ],
   "source": [
    "try:\n",
    "    a = int(input(\"Enter the First number:\"))\n",
    "    b = int(input(\"Enter the Second number:\"))\n",
    "    c = a/b\n",
    "except ArithmeticError as e:\n",
    "    print(\"There is some issue with my code\")\n",
    "    f = open(\"ineuron.txt\",'w+')\n",
    "    f.write(\"Hi\\n\")\n",
    "    f.write(str(e))\n",
    "    #f.write(e) # need to put e in str format\n",
    "    f.read()\n",
    "else:\n",
    "    print(\"This will execute once try is success\")\n",
    "    try:\n",
    "        f = open(\"test4.txt\",'w+')\n",
    "    except:\n",
    "        print(\"This is end issue with try block\")\n"
   ]
  },
  {
   "attachments": {},
   "cell_type": "markdown",
   "metadata": {},
   "source": [
    "# r = open a filefor reading\n",
    "# w = opens a file for writing and creates a new file if its does not exits or tructaes the file if exitss\n",
    "# x = opens a file for exclustive creation if the file already exits operations\n",
    "# a = open a file for appending at ethe ned of file\n",
    "# + = opens a file for updating (reading a dwriting)"
   ]
  },
  {
   "attachments": {},
   "cell_type": "markdown",
   "metadata": {},
   "source": [
    "-----\n",
    "### Check the file Exist"
   ]
  },
  {
   "cell_type": "code",
   "execution_count": null,
   "metadata": {},
   "outputs": [],
   "source": []
  }
 ],
 "metadata": {
  "kernelspec": {
   "display_name": "Python 3",
   "language": "python",
   "name": "python3"
  },
  "language_info": {
   "codemirror_mode": {
    "name": "ipython",
    "version": 3
   },
   "file_extension": ".py",
   "mimetype": "text/x-python",
   "name": "python",
   "nbconvert_exporter": "python",
   "pygments_lexer": "ipython3",
   "version": "3.11.1"
  },
  "orig_nbformat": 4,
  "vscode": {
   "interpreter": {
    "hash": "8e5c125784d45a8dea42e807f07f9302b86f571c035b8eb88ba7ceb058367caf"
   }
  }
 },
 "nbformat": 4,
 "nbformat_minor": 2
}
