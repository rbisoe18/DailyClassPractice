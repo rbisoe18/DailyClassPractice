{
  "nbformat": 4,
  "nbformat_minor": 0,
  "metadata": {
    "colab": {
      "provenance": [],
      "collapsed_sections": []
    },
    "kernelspec": {
      "name": "python3",
      "display_name": "Python 3"
    },
    "language_info": {
      "name": "python"
    }
  },
  "cells": [
    {
      "cell_type": "markdown",
      "source": [
        "# AGENDA\n",
        "\n",
        "0. Glimpse of conditional statements -\n",
        "  - if-else condtions\n",
        "1. Operators\n",
        "  - Logical\n",
        "  - Equality\n",
        "  - Comparision\n",
        "  - Arthimatic\n",
        "  - Bitwise [Advance classes]\n",
        "  - Operators for sets and dictionary [Advance classes]\n",
        "\n",
        "2. String methods\n",
        "3. Control Flow Statements"
      ],
      "metadata": {
        "id": "r1zOC9C95qnO"
      }
    },
    {
      "cell_type": "markdown",
      "source": [
        "## CONDITIONAL STATMENT (IF ELSE)\n",
        "\n",
        "```python\n",
        "if condition:\n",
        "    print(\"execute this statement\")\n",
        "else:\n",
        "    print(\"if condition is not True\")\n",
        "```"
      ],
      "metadata": {
        "id": "boARiY69WisC"
      }
    },
    {
      "cell_type": "markdown",
      "source": [
        "if its is raining then let's work from home else let's go to office"
      ],
      "metadata": {
        "id": "cym5DTSFbl2Q"
      }
    },
    {
      "cell_type": "code",
      "source": [
        "raining=True\n",
        "\n",
        "if raining:\n",
        "  print(\"Let's do work from home\")\n",
        "else:\n",
        "  print(\"Let's go to office\")"
      ],
      "metadata": {
        "colab": {
          "base_uri": "https://localhost:8080/"
        },
        "id": "pyk1nULAWnrq",
        "outputId": "baf7acfc-7e88-4dd9-9ce7-c4a99f9884f9"
      },
      "execution_count": null,
      "outputs": [
        {
          "output_type": "stream",
          "name": "stdout",
          "text": [
            "Let's do work from home\n"
          ]
        }
      ]
    },
    {
      "cell_type": "code",
      "source": [
        "raining=False\n",
        "\n",
        "if raining:\n",
        "  print(\"Let's do work from home\")\n",
        "else:\n",
        "  print(\"Let's go to office\")"
      ],
      "metadata": {
        "colab": {
          "base_uri": "https://localhost:8080/"
        },
        "id": "FF4Fu4iwXPmg",
        "outputId": "34df3759-ae9b-4ce7-abe8-6dfc0ccc8e19"
      },
      "execution_count": null,
      "outputs": [
        {
          "output_type": "stream",
          "name": "stdout",
          "text": [
            "Let's go to office\n"
          ]
        }
      ]
    },
    {
      "cell_type": "markdown",
      "source": [
        "### use of indentation"
      ],
      "metadata": {
        "id": "OsMMqT5ucSZG"
      }
    },
    {
      "cell_type": "code",
      "source": [
        "raining = True\n",
        "\n",
        "if raining: # TRUE CONDITION \n",
        "print(\"Lets do work from home\") # This statemen exectuted\n",
        "else:\n",
        "    print(\"Lets go to office\")"
      ],
      "metadata": {
        "colab": {
          "base_uri": "https://localhost:8080/",
          "height": 130
        },
        "id": "3uE1iSOUyEh_",
        "outputId": "64f601a6-7621-4b2f-ec1f-9cd86b664413"
      },
      "execution_count": null,
      "outputs": [
        {
          "output_type": "error",
          "ename": "IndentationError",
          "evalue": "ignored",
          "traceback": [
            "\u001b[0;36m  File \u001b[0;32m\"<ipython-input-8-a554f40c389a>\"\u001b[0;36m, line \u001b[0;32m4\u001b[0m\n\u001b[0;31m    print(\"Lets do work from home\") # This statemen exectuted\u001b[0m\n\u001b[0m        ^\u001b[0m\n\u001b[0;31mIndentationError\u001b[0m\u001b[0;31m:\u001b[0m expected an indented block\n"
          ]
        }
      ]
    },
    {
      "cell_type": "code",
      "source": [
        "raining = True\n",
        "\n",
        "if raining: # TRUE CONDITION \n",
        "    print(\"Since its raining...\")\n",
        "    print(\"Lets do work from home\") # This statement exectuted\n",
        "else:\n",
        "    print(\"Since its not raining...\")\n",
        "    print(\"Lets go to office\")"
      ],
      "metadata": {
        "colab": {
          "base_uri": "https://localhost:8080/"
        },
        "id": "FVto2B-3yaN_",
        "outputId": "082f1126-a0a5-4528-db6e-2c2bc3b2a527"
      },
      "execution_count": null,
      "outputs": [
        {
          "output_type": "stream",
          "name": "stdout",
          "text": [
            "Since its raining...\n",
            "Lets do work from home\n"
          ]
        }
      ]
    },
    {
      "cell_type": "code",
      "source": [
        "raining = False\n",
        "\n",
        "if raining: # TRUE CONDITION \n",
        "    print(\"Since its raining...\")\n",
        "    print(\"Lets do work from home\") # This statement exectuted\n",
        "else:\n",
        "    print(\"Since its not raining...\")\n",
        "    print(\"Lets go to office\")"
      ],
      "metadata": {
        "colab": {
          "base_uri": "https://localhost:8080/"
        },
        "id": "lvq9f0ewyeqY",
        "outputId": "fd16452b-a57b-4c32-95b0-ccb43c0841a7"
      },
      "execution_count": null,
      "outputs": [
        {
          "output_type": "stream",
          "name": "stdout",
          "text": [
            "Since its not raining...\n",
            "Lets go to office\n"
          ]
        }
      ]
    },
    {
      "cell_type": "markdown",
      "source": [
        "if it's NOT raining then let's let's go to office ELSE let's work from home"
      ],
      "metadata": {
        "id": "aWzigaTMBEtL"
      }
    },
    {
      "cell_type": "code",
      "source": [
        "raining = True\n",
        "\n",
        "if not raining: # False CONDITION \n",
        "    print(\"Since its not raining...\")\n",
        "    print(\"Lets go to office\")    \n",
        "else:\n",
        "    print(\"Since its raining...\")\n",
        "    print(\"Lets do work from home\") # This statemen exectuted"
      ],
      "metadata": {
        "colab": {
          "base_uri": "https://localhost:8080/"
        },
        "id": "cCKybCYyzrPo",
        "outputId": "b6911349-ffc0-4a5e-e042-2621f1cad039"
      },
      "execution_count": null,
      "outputs": [
        {
          "output_type": "stream",
          "name": "stdout",
          "text": [
            "Since its raining...\n",
            "Lets do work from home\n"
          ]
        }
      ]
    },
    {
      "cell_type": "code",
      "source": [
        "raining = False\n",
        "\n",
        "if not raining: # False CONDITION \n",
        "    print(\"Since its not raining...\")\n",
        "    print(\"Lets go to office\")    \n",
        "else:\n",
        "    print(\"Since its raining...\")\n",
        "    print(\"Lets do work from home\") # This statemen exectuted"
      ],
      "metadata": {
        "colab": {
          "base_uri": "https://localhost:8080/"
        },
        "id": "U0URXnozA8wp",
        "outputId": "f7cc1130-6598-465a-c82f-18aa0dd8f6eb"
      },
      "execution_count": null,
      "outputs": [
        {
          "output_type": "stream",
          "name": "stdout",
          "text": [
            "Since its not raining...\n",
            "Lets go to office\n"
          ]
        }
      ]
    },
    {
      "cell_type": "code",
      "source": [
        "class_started = False\n",
        "\n",
        "if class_started:\n",
        "    print(\"Lets concentrate\")\n",
        "else:\n",
        "    print(\"Lets revise previous class\")"
      ],
      "metadata": {
        "colab": {
          "base_uri": "https://localhost:8080/"
        },
        "id": "wGU-HKmhz0YJ",
        "outputId": "d760a0e9-bd34-4d43-fe9c-eed085a05da6"
      },
      "execution_count": null,
      "outputs": [
        {
          "output_type": "stream",
          "name": "stdout",
          "text": [
            "Lets revise previous class\n"
          ]
        }
      ]
    },
    {
      "cell_type": "markdown",
      "source": [
        "# Logical Operators\n",
        "\n",
        "Keywords | Meaning\n",
        "- | - \n",
        "not | unary negation\n",
        "and | conditional AND\n",
        "or | conditional OR"
      ],
      "metadata": {
        "id": "e2AWYx7fT_9x"
      }
    },
    {
      "cell_type": "markdown",
      "source": [
        "if class started then let's concentrate else revise the previous class"
      ],
      "metadata": {
        "id": "hoDuBcILCDkb"
      }
    },
    {
      "cell_type": "code",
      "source": [
        "class_started=True\n",
        "\n",
        "if class_started:\n",
        "  print(\"Since the class started...\")\n",
        "  print(\"Let's Concentrate\")\n",
        "else:\n",
        "  print(\"Since the class is not started...\")\n",
        "  print(\"Let's revise previous class\")"
      ],
      "metadata": {
        "colab": {
          "base_uri": "https://localhost:8080/"
        },
        "id": "pY6lboTaUxQq",
        "outputId": "2de4978d-a46a-4099-9b70-aeff33864a94"
      },
      "execution_count": null,
      "outputs": [
        {
          "output_type": "stream",
          "name": "stdout",
          "text": [
            "Since the class started...\n",
            "Let's Concentrate\n"
          ]
        }
      ]
    },
    {
      "cell_type": "code",
      "source": [
        "class_started=False\n",
        "\n",
        "if class_started:\n",
        "  print(\"Since the class started...\")\n",
        "  print(\"Let's Concentrate\")\n",
        "else:\n",
        "  print(\"Since the class is not started...\")\n",
        "  print(\"Let's revise previous class\")"
      ],
      "metadata": {
        "colab": {
          "base_uri": "https://localhost:8080/"
        },
        "id": "LRwlXmmPCZyP",
        "outputId": "baf22306-f57f-43ac-e5ae-d9179a5271a7"
      },
      "execution_count": null,
      "outputs": [
        {
          "output_type": "stream",
          "name": "stdout",
          "text": [
            "Since the class is not started...\n",
            "Let's revise previous class\n"
          ]
        }
      ]
    },
    {
      "cell_type": "markdown",
      "source": [
        "if class NOT started then let's revise else let's concentrate class\n"
      ],
      "metadata": {
        "id": "bqDA9STACRM8"
      }
    },
    {
      "cell_type": "code",
      "source": [
        "class_started = True\n",
        "\n",
        "if not class_started:\n",
        "    print(\"Since class is not started...\")\n",
        "    print(\"let's revise\")\n",
        "else:\n",
        "    print(\"Since class started...\")\n",
        "    print(\"Lets concentrate\")"
      ],
      "metadata": {
        "colab": {
          "base_uri": "https://localhost:8080/"
        },
        "id": "h64PnTjIC4Yk",
        "outputId": "f566a384-3467-4afc-e1c5-b62a2498c175"
      },
      "execution_count": null,
      "outputs": [
        {
          "output_type": "stream",
          "name": "stdout",
          "text": [
            "Since class started...\n",
            "Lets concentrate\n"
          ]
        }
      ]
    },
    {
      "cell_type": "code",
      "source": [
        "class_started = False\n",
        "\n",
        "if not class_started:\n",
        "    print(\"Since class is not started...\")\n",
        "    print(\"let's revise\")\n",
        "else:\n",
        "    print(\"Since class started...\")\n",
        "    print(\"Lets concentrate\")"
      ],
      "metadata": {
        "colab": {
          "base_uri": "https://localhost:8080/"
        },
        "id": "XbKggS6lDx0d",
        "outputId": "fc20302e-e9b1-4fa6-cf2c-0616f10b09b2"
      },
      "execution_count": null,
      "outputs": [
        {
          "output_type": "stream",
          "name": "stdout",
          "text": [
            "Since class is not started...\n",
            "let's revise\n"
          ]
        }
      ]
    },
    {
      "cell_type": "code",
      "source": [
        "# statements not alligned properly will give indentation error\n",
        "class_started = False\n",
        "\n",
        "if not class_started:\n",
        " print(\"Since class is not started...\")\n",
        "  print(\"let's revise\")\n",
        "else:\n",
        "print(\"Since class started...\")\n",
        "    print(\"Lets concentrate\")"
      ],
      "metadata": {
        "colab": {
          "base_uri": "https://localhost:8080/",
          "height": 130
        },
        "id": "C7XKGrlkEFkc",
        "outputId": "e0a8187a-eabc-4eb6-d718-42409ecc1970"
      },
      "execution_count": null,
      "outputs": [
        {
          "output_type": "error",
          "ename": "IndentationError",
          "evalue": "ignored",
          "traceback": [
            "\u001b[0;36m  File \u001b[0;32m\"<ipython-input-19-635b63b5518f>\"\u001b[0;36m, line \u001b[0;32m6\u001b[0m\n\u001b[0;31m    print(\"let's revise\")\u001b[0m\n\u001b[0m    ^\u001b[0m\n\u001b[0;31mIndentationError\u001b[0m\u001b[0;31m:\u001b[0m unexpected indent\n"
          ]
        }
      ]
    },
    {
      "cell_type": "code",
      "source": [
        "# statements not alligned properly will give indentation error\n",
        "class_started = False\n",
        "\n",
        "if not class_started:\n",
        "    print(\"Since class is not started...\")\n",
        "    print(\"let's revise\")\n",
        "else:\n",
        "    print(\"Since class started...\")\n",
        "    print(\"Lets concentrate\")"
      ],
      "metadata": {
        "colab": {
          "base_uri": "https://localhost:8080/"
        },
        "id": "mB1T95cEFePM",
        "outputId": "2a6945e2-8e31-4c64-8668-ab271103653a"
      },
      "execution_count": null,
      "outputs": [
        {
          "output_type": "stream",
          "name": "stdout",
          "text": [
            "Since class is not started...\n",
            "let's revise\n"
          ]
        }
      ]
    },
    {
      "cell_type": "code",
      "source": [
        "class_started = bool(int(input(\"Hey friend, is class started?: [0-False/1-True]\")))\n",
        "\n",
        "if class_started:\n",
        "    print(\"Since class started...\")\n",
        "    print(\"Lets concentrate\")\n",
        "else:\n",
        "    print(\"Since class is not started...\")\n",
        "    print(\"let's revise\")"
      ],
      "metadata": {
        "colab": {
          "base_uri": "https://localhost:8080/"
        },
        "id": "iGUXLRLFFeFE",
        "outputId": "594ca52e-56e2-4279-9e42-add709999862"
      },
      "execution_count": null,
      "outputs": [
        {
          "output_type": "stream",
          "name": "stdout",
          "text": [
            "Hey friend, is class started?: [0-False/1-True]0\n",
            "Since class is not started...\n",
            "let's revise\n"
          ]
        }
      ]
    },
    {
      "cell_type": "code",
      "source": [
        "class_started = bool(int(input(\"Hey friend, is class started?: [0-False/1-True]\")))\n",
        "\n",
        "if class_started:\n",
        "    print(\"Since class started...\")\n",
        "    print(\"Lets concentrate\")\n",
        "else:\n",
        "    print(\"Since class is not started...\")\n",
        "    print(\"let's revise\")"
      ],
      "metadata": {
        "colab": {
          "base_uri": "https://localhost:8080/"
        },
        "id": "-hyYcWPWGpB9",
        "outputId": "9f395064-ad3f-4423-f7d9-4f742865a254"
      },
      "execution_count": null,
      "outputs": [
        {
          "output_type": "stream",
          "name": "stdout",
          "text": [
            "Hey friend, is class started?: [0-False/1-True]1\n",
            "Since class started...\n",
            "Lets concentrate\n"
          ]
        }
      ]
    },
    {
      "cell_type": "markdown",
      "source": [
        "### and\t - conditional AND"
      ],
      "metadata": {
        "id": "wdjEOsg-HGJp"
      }
    },
    {
      "cell_type": "markdown",
      "source": [
        "Vegetable | Salt | Dish\n",
        "- | - | -\n",
        "False | False | False\n",
        "False | True | False\n",
        "True | False | False\n",
        "True | True | True"
      ],
      "metadata": {
        "id": "zUEuBAiNHHD1"
      }
    },
    {
      "cell_type": "code",
      "source": [
        "vegetable_present = False\n",
        "salt_present = False\n",
        "\n",
        "if vegetable_present and salt_present:\n",
        "    print(\"Its a good dish\")\n",
        "else:\n",
        "    print(\"Its a bad dish\")\n",
        "    print(f\"because vegetable present: {vegetable_present}\")\n",
        "    print(f\"and salt present: {salt_present}\")"
      ],
      "metadata": {
        "colab": {
          "base_uri": "https://localhost:8080/"
        },
        "id": "MkqSLlfTHCeA",
        "outputId": "46cc647c-bb9b-4d10-a668-a5e920814147"
      },
      "execution_count": null,
      "outputs": [
        {
          "output_type": "stream",
          "name": "stdout",
          "text": [
            "Its a bad dish\n",
            "because vegetable present: False\n",
            "and salt present: False\n"
          ]
        }
      ]
    },
    {
      "cell_type": "code",
      "source": [
        "vegetable_present = True\n",
        "salt_present = False\n",
        "\n",
        "if vegetable_present and salt_present:\n",
        "    print(\"Its a good dish\")\n",
        "else:\n",
        "    print(\"Its a bad dish\")\n",
        "    print(f\"because vegetable present: {vegetable_present}\")\n",
        "    print(f\"and salt present: {salt_present}\")"
      ],
      "metadata": {
        "colab": {
          "base_uri": "https://localhost:8080/"
        },
        "id": "P4fCX25SKPfx",
        "outputId": "b6f80aca-e17e-460d-94bc-8b78c42ed779"
      },
      "execution_count": null,
      "outputs": [
        {
          "output_type": "stream",
          "name": "stdout",
          "text": [
            "Its a bad dish\n",
            "because vegetable present: True\n",
            "and salt present: False\n"
          ]
        }
      ]
    },
    {
      "cell_type": "code",
      "source": [
        "vegetable_present = False\n",
        "salt_present = True\n",
        "\n",
        "if vegetable_present and salt_present:\n",
        "    print(\"Its a good dish\")\n",
        "else:\n",
        "    print(\"Its a bad dish\")\n",
        "    print(f\"because vegetable present: {vegetable_present}\")\n",
        "    print(f\"and salt present: {salt_present}\")"
      ],
      "metadata": {
        "colab": {
          "base_uri": "https://localhost:8080/"
        },
        "id": "2UZ6NhkKKh_I",
        "outputId": "c59d2245-073a-414a-a41f-eb3597768465"
      },
      "execution_count": null,
      "outputs": [
        {
          "output_type": "stream",
          "name": "stdout",
          "text": [
            "Its a bad dish\n",
            "because vegetable present: False\n",
            "and salt present: True\n"
          ]
        }
      ]
    },
    {
      "cell_type": "markdown",
      "source": [
        "if vegetable and salt both are present in my dish then only my dish is good."
      ],
      "metadata": {
        "id": "lOsaZQ7xKlFP"
      }
    },
    {
      "cell_type": "code",
      "source": [
        "vegetable_present = True\n",
        "salt_present = True\n",
        "\n",
        "if vegetable_present and salt_present: # this condition was true as both the sub conditions are true\n",
        "    print(\"Its a good dish\")\n",
        "else:\n",
        "    print(\"Its a bad dish\")\n",
        "    print(f\"because vegetable present: {vegetable_present}\")\n",
        "    print(f\"and salt present: {salt_present}\")"
      ],
      "metadata": {
        "colab": {
          "base_uri": "https://localhost:8080/"
        },
        "id": "c_D3muOPKn56",
        "outputId": "194f4c46-3fe1-4ad9-cadd-6ad475dd4b71"
      },
      "execution_count": null,
      "outputs": [
        {
          "output_type": "stream",
          "name": "stdout",
          "text": [
            "Its a good dish\n"
          ]
        }
      ]
    },
    {
      "cell_type": "markdown",
      "source": [
        "### or conditional OR\n",
        "\n",
        "if I have a car or bike then I can travel 100kms in a day\n",
        "\n",
        "Car | Bike | Travel_100_kms\n",
        "- | - | -\n",
        "False | False | False\n",
        "False | True | True\n",
        "True | False | True\n",
        "True | True | True\n"
      ],
      "metadata": {
        "id": "To3vs7O-K0ha"
      }
    },
    {
      "cell_type": "code",
      "source": [
        "i_own_car = False\n",
        "i_own_bike = False\n",
        "\n",
        "if i_own_car or i_own_bike:\n",
        "    print(\"I can travel 100 kms in a day!\")\n",
        "else:\n",
        "    print(\"I am stuck as I don't have car or bike!\")\n"
      ],
      "metadata": {
        "colab": {
          "base_uri": "https://localhost:8080/"
        },
        "id": "zNogt1PVKvNY",
        "outputId": "9b83b6ef-bb7e-45d1-e500-cc62e4a39625"
      },
      "execution_count": null,
      "outputs": [
        {
          "output_type": "stream",
          "name": "stdout",
          "text": [
            "I am stuck as I don't have car or bike!\n"
          ]
        }
      ]
    },
    {
      "cell_type": "code",
      "source": [
        "i_own_car = False\n",
        "i_own_bike = True\n",
        "\n",
        "if i_own_car or i_own_bike:\n",
        "    print(\"I can travel 100 kms in a day!\")\n",
        "else:\n",
        "    print(\"I am stuck as I don't have car or bike!\")"
      ],
      "metadata": {
        "colab": {
          "base_uri": "https://localhost:8080/"
        },
        "id": "0CJZrXUlK5dA",
        "outputId": "529dd10f-50d2-402d-dc55-b9ed0e604b86"
      },
      "execution_count": null,
      "outputs": [
        {
          "output_type": "stream",
          "name": "stdout",
          "text": [
            "I can travel 100 kms in a day!\n"
          ]
        }
      ]
    },
    {
      "cell_type": "code",
      "source": [
        "i_own_car = True\n",
        "i_own_bike = False\n",
        "\n",
        "if i_own_car or i_own_bike:\n",
        "    print(\"I can travel 100 kms in a day!\")\n",
        "else:\n",
        "    print(\"I am stuck as I don't have car or bike!\")"
      ],
      "metadata": {
        "colab": {
          "base_uri": "https://localhost:8080/"
        },
        "id": "2eGc-erZPEfy",
        "outputId": "57c7dad8-7a30-438f-ddf2-bc15dda0b004"
      },
      "execution_count": null,
      "outputs": [
        {
          "output_type": "stream",
          "name": "stdout",
          "text": [
            "I can travel 100 kms in a day!\n"
          ]
        }
      ]
    },
    {
      "cell_type": "code",
      "source": [
        "i_own_car = True\n",
        "i_own_bike = True\n",
        "\n",
        "if i_own_car or i_own_bike:\n",
        "    print(\"I can travel 100 kms in a day!\")\n",
        "else:\n",
        "    print(\"I am stuck as I don't have car or bike!\")"
      ],
      "metadata": {
        "colab": {
          "base_uri": "https://localhost:8080/"
        },
        "id": "n7vIffTQPMRm",
        "outputId": "266562f4-79ca-4e07-941d-21a26488d8cf"
      },
      "execution_count": null,
      "outputs": [
        {
          "output_type": "stream",
          "name": "stdout",
          "text": [
            "I can travel 100 kms in a day!\n"
          ]
        }
      ]
    },
    {
      "cell_type": "markdown",
      "source": [
        "## Conclusion - \n",
        "1. use and operator when you want all the condition to be true\n",
        "2. use or operator if anyone of the condition you want to be true \n"
      ],
      "metadata": {
        "id": "YbmFHczpPOIR"
      }
    },
    {
      "cell_type": "markdown",
      "source": [
        "### example-\n",
        "\n",
        "attendance | assignment | eligible_for_exam\n",
        "- | - | -\n",
        ">=75% | >=70% | True"
      ],
      "metadata": {
        "id": "V326cpH6PWKp"
      }
    },
    {
      "cell_type": "code",
      "source": [
        "attendance = 70\n",
        "assignment_submitted = 40\n",
        "\n",
        "print(f\"attendence criteria met? : {attendance >= 75}\")\n",
        "print(f\"assignment criteria met? : {assignment_submitted >= 70}\")\n",
        "\n",
        "if attendance >= 75 and assignment_submitted >= 70:\n",
        "    print(\"The student is eligible to appear in final exam\")\n",
        "else:\n",
        "    print(\"The student is not eligible\")"
      ],
      "metadata": {
        "colab": {
          "base_uri": "https://localhost:8080/"
        },
        "id": "D9UCRrtmPRFq",
        "outputId": "ebc7d57e-91a3-4329-e98f-b6776b546f31"
      },
      "execution_count": null,
      "outputs": [
        {
          "output_type": "stream",
          "name": "stdout",
          "text": [
            "attendence criteria met? : False\n",
            "assignment criteria met? : False\n",
            "The student is not eligible\n"
          ]
        }
      ]
    },
    {
      "cell_type": "code",
      "source": [
        "attendance = 90\n",
        "assignment_submitted = 40\n",
        "\n",
        "print(f\"attendence criteria met? : {attendance >=75}\")\n",
        "print(f\"assignment criteria met? : {assignment_submitted >= 70}\")\n",
        "\n",
        "if attendance >= 75 and assignment_submitted >= 70:\n",
        "    print(\"The student is eligible to appear in final exam\")\n",
        "else:\n",
        "    print(\"The student is not eligible\")"
      ],
      "metadata": {
        "colab": {
          "base_uri": "https://localhost:8080/"
        },
        "id": "lqdPrANWQNpt",
        "outputId": "c2c519ab-74c0-4d56-ca28-fc47a052be45"
      },
      "execution_count": null,
      "outputs": [
        {
          "output_type": "stream",
          "name": "stdout",
          "text": [
            "attendence criteria met? : True\n",
            "assignment criteria met? : False\n",
            "The student is not eligible\n"
          ]
        }
      ]
    },
    {
      "cell_type": "code",
      "source": [
        "attendance = 90\n",
        "assignment_submitted = 90\n",
        "\n",
        "print(f\"attendence criteria met? : {attendance >= 75}\")\n",
        "print(f\"assignment criteria met? : {assignment_submitted >= 70}\")\n",
        "\n",
        "if attendance >= 75 and assignment_submitted >= 70:\n",
        "    print(\"The student is eligible to appear in final exam\")\n",
        "else:\n",
        "    print(\"The student is not eligible\")"
      ],
      "metadata": {
        "colab": {
          "base_uri": "https://localhost:8080/"
        },
        "id": "IRXhDTNTygmL",
        "outputId": "73279d46-6273-4efa-bb57-ee998ed7c8db"
      },
      "execution_count": null,
      "outputs": [
        {
          "output_type": "stream",
          "name": "stdout",
          "text": [
            "attendence criteria met? : True\n",
            "assignment criteria met? : True\n",
            "The student is eligible to appear in final exam\n"
          ]
        }
      ]
    },
    {
      "cell_type": "markdown",
      "source": [
        "\n",
        "credit_card | debit_card | purchase_book_from_amazon\n",
        "- | - | -\n",
        "True | True | True\n",
        "False | False | True"
      ],
      "metadata": {
        "id": "Z-yVSPZB5OHX"
      }
    },
    {
      "cell_type": "code",
      "source": [
        "own_credit_card = False\n",
        "own_debit_card = False\n",
        "\n",
        "if own_credit_card or own_debit_card:\n",
        "    print(\"proceed further for payment\")\n",
        "else:\n",
        "    print(\"Ask from a dad for debit or credit card?\")\n",
        "    print(\"cash on delivery?\")"
      ],
      "metadata": {
        "colab": {
          "base_uri": "https://localhost:8080/"
        },
        "id": "mMEN-zdI5PDV",
        "outputId": "25d14e06-7b57-467b-9986-dc5d14ca1b29"
      },
      "execution_count": null,
      "outputs": [
        {
          "output_type": "stream",
          "name": "stdout",
          "text": [
            "Ask from a dad for debit or credit card?\n",
            "cash on delivery?\n"
          ]
        }
      ]
    },
    {
      "cell_type": "code",
      "source": [
        "own_credit_card = False\n",
        "own_debit_card = True\n",
        "\n",
        "if own_credit_card or own_debit_card:\n",
        "    print(\"proceed further for payment\")\n",
        "else:\n",
        "    print(\"Ask from a dad for debit or credit card?\")\n",
        "    print(\"cash on delivery?\")"
      ],
      "metadata": {
        "colab": {
          "base_uri": "https://localhost:8080/"
        },
        "id": "PbKQu6y15T3d",
        "outputId": "e223cfc4-45c0-4ba4-ecde-ca2904fb1f17"
      },
      "execution_count": null,
      "outputs": [
        {
          "output_type": "stream",
          "name": "stdout",
          "text": [
            "proceed further for payment\n"
          ]
        }
      ]
    },
    {
      "cell_type": "code",
      "source": [
        "own_credit_card = False\n",
        "own_debit_card = False\n",
        "Net_banking = True\n",
        "\n",
        "if own_credit_card or own_debit_card or Net_banking:\n",
        "    print(\"proceed further for payment\")\n",
        "else:\n",
        "    print(\"Ask from a dad for debit or credit card?\")\n",
        "    print(\"cash on delivery?\")"
      ],
      "metadata": {
        "colab": {
          "base_uri": "https://localhost:8080/"
        },
        "id": "W81DQt9PLUu8",
        "outputId": "850bac1b-b259-443e-b3ab-0ad8ec4afc5a"
      },
      "execution_count": null,
      "outputs": [
        {
          "output_type": "stream",
          "name": "stdout",
          "text": [
            "proceed further for payment\n"
          ]
        }
      ]
    },
    {
      "cell_type": "markdown",
      "source": [
        "## and or together\n",
        "\n",
        "attendance | assignment | sports_player | eligible_for_exam\n",
        "- | - | - | -\n",
        ">=75% | >=70% | False | True\n",
        ">=75% | >=70% | True | True"
      ],
      "metadata": {
        "id": "WoG0yEAd6if-"
      }
    },
    {
      "cell_type": "code",
      "source": [
        "attendance = 70\n",
        "assignment_submitted = 40\n",
        "sports_player = True\n",
        "\n",
        "print(f\"attendence criteria met? : {attendance >= 75}\")\n",
        "print(f\"assignment criteria met? : {assignment_submitted >= 70}\")\n",
        "print(f\"sports criteria met? : {sports_player}\")\n",
        "\n",
        "if attendance >= 75 and assignment_submitted >= 70:\n",
        "    if sports_player:\n",
        "        print(\"The student is eligible to appear in final exam\")\n",
        "    else:\n",
        "        print(\"The student is eligible to appear in final exam\")\n",
        "else:\n",
        "    print(\"The student is not eligible\")"
      ],
      "metadata": {
        "id": "WYfrOPLH6jkS",
        "outputId": "0923fed4-2929-4d5e-ed78-176b01fddcb9",
        "colab": {
          "base_uri": "https://localhost:8080/"
        }
      },
      "execution_count": null,
      "outputs": [
        {
          "output_type": "stream",
          "name": "stdout",
          "text": [
            "attendence criteria met? : False\n",
            "assignment criteria met? : False\n",
            "sports criteria met? : True\n",
            "The student is not eligible\n"
          ]
        }
      ]
    },
    {
      "cell_type": "markdown",
      "source": [
        "if attendence is more than 75% and assignment completed more than 70% OR the student is sports player then only the student is eligible for exam\n",
        "\n",
        "if you are sports player then you will get grace marks = +10"
      ],
      "metadata": {
        "id": "f1f3If4j6od1"
      }
    },
    {
      "cell_type": "code",
      "source": [
        "# complex conditional casses as mentioned above -\n",
        "attendance = 90 # mendatory\n",
        "assignment_submitted = 75 # mendatory\n",
        "sports_player = False # not mendatory\n",
        "\n",
        "print(f\"attendence criteria met? : {attendance >= 75}\")\n",
        "print(f\"assignment criteria met? : {assignment_submitted >= 70}\")\n",
        "print(f\"sports criteria met? : {sports_player}\")\n",
        "\n",
        "if attendance >= 75 and assignment_submitted >= 70:\n",
        "    if sports_player:\n",
        "        print(\"The student is can get grace marks = +10\")\n",
        "    else:\n",
        "        print(\"The student is eligible to appear in final exam but not extra grace marks\")\n",
        "else:\n",
        "    print(\"The student is not eligible\")"
      ],
      "metadata": {
        "id": "si1sdx_b6maX",
        "colab": {
          "base_uri": "https://localhost:8080/"
        },
        "outputId": "b85543ee-ba77-4ffc-848a-948e2454ebd0"
      },
      "execution_count": null,
      "outputs": [
        {
          "output_type": "stream",
          "name": "stdout",
          "text": [
            "attendence criteria met? : True\n",
            "assignment criteria met? : True\n",
            "sports criteria met? : False\n",
            "The student is eligible to appear in final exam but not extra grace marks\n"
          ]
        }
      ]
    },
    {
      "cell_type": "markdown",
      "source": [
        "## Equality Operators"
      ],
      "metadata": {
        "id": "buLf2YffSwvf"
      }
    },
    {
      "cell_type": "markdown",
      "source": [
        "Operator | uses | Meaning\n",
        "- | - | -\n",
        "is | A is B=> | return True if A and B points to the same object   \n",
        "is not | A is not B | returns True if A and B do not points to the same object\n",
        "== | A == B | A is equal to B\n",
        "!= | A != B | A is not equal to B\n",
        "\n",
        "When using `is` then we are also comparing memory location\n",
        "When using `is not` then we are also comparing memory location\n",
        "\n",
        "== and != is only checking value of the variables [Used more offently or frequently]"
      ],
      "metadata": {
        "id": "wQ82kVc_725i"
      }
    },
    {
      "cell_type": "code",
      "source": [
        "A = 1\n",
        "B = 1\n",
        "\n",
        "if A is B:\n",
        "    print(\"A and B are same\")\n",
        "else:\n",
        "    print(\"A and B are not same\")"
      ],
      "metadata": {
        "id": "r7de4C8a76ZS",
        "colab": {
          "base_uri": "https://localhost:8080/"
        },
        "outputId": "d3e72c11-428e-452e-c0f8-455ccd82ce3c"
      },
      "execution_count": null,
      "outputs": [
        {
          "output_type": "stream",
          "name": "stdout",
          "text": [
            "A and B are same\n"
          ]
        }
      ]
    },
    {
      "cell_type": "code",
      "source": [
        "id(A)"
      ],
      "metadata": {
        "colab": {
          "base_uri": "https://localhost:8080/"
        },
        "id": "mKncb3cB0czR",
        "outputId": "d1035ead-faaf-4955-e6f1-907a59569c66"
      },
      "execution_count": null,
      "outputs": [
        {
          "output_type": "execute_result",
          "data": {
            "text/plain": [
              "11122592"
            ]
          },
          "metadata": {},
          "execution_count": 2
        }
      ]
    },
    {
      "cell_type": "code",
      "source": [
        "id(B)"
      ],
      "metadata": {
        "colab": {
          "base_uri": "https://localhost:8080/"
        },
        "id": "7-f809u30yQt",
        "outputId": "2731a301-fd94-4f03-811f-5f52b26aa980"
      },
      "execution_count": null,
      "outputs": [
        {
          "output_type": "execute_result",
          "data": {
            "text/plain": [
              "11122592"
            ]
          },
          "metadata": {},
          "execution_count": 3
        }
      ]
    },
    {
      "cell_type": "code",
      "source": [
        "A = 1\n",
        "B = 2\n",
        "\n",
        "if A is B:\n",
        "    print(\"A and B are same\")\n",
        "else:\n",
        "    print(\"A and B are not same\")"
      ],
      "metadata": {
        "colab": {
          "base_uri": "https://localhost:8080/"
        },
        "id": "I0rIXaf101UK",
        "outputId": "8e3939b1-7050-46fc-916d-91ea4bac632f"
      },
      "execution_count": null,
      "outputs": [
        {
          "output_type": "stream",
          "name": "stdout",
          "text": [
            "A and B are not same\n"
          ]
        }
      ]
    },
    {
      "cell_type": "code",
      "source": [
        "A = 1\n",
        "B = 2\n",
        "\n",
        "if A is not B:\n",
        "    print(\"A and B are not same\")\n",
        "else:\n",
        "    print(\"A and B are same\")"
      ],
      "metadata": {
        "colab": {
          "base_uri": "https://localhost:8080/"
        },
        "id": "ZG3LCT4906bG",
        "outputId": "57a654eb-48cc-4a3e-e486-e197de29eb26"
      },
      "execution_count": null,
      "outputs": [
        {
          "output_type": "stream",
          "name": "stdout",
          "text": [
            "A and B are not same\n"
          ]
        }
      ]
    },
    {
      "cell_type": "code",
      "source": [
        "A = 1\n",
        "B = 1\n",
        "\n",
        "if A == B: # A and B are having same value\n",
        "    print(\"A and B are same\")\n",
        "else:\n",
        "    print(\"A and B are not same\")"
      ],
      "metadata": {
        "id": "CuE_T4XIHCRd",
        "colab": {
          "base_uri": "https://localhost:8080/"
        },
        "outputId": "5a1b97d8-a8fa-4150-cdc9-e9cf7db5111d"
      },
      "execution_count": null,
      "outputs": [
        {
          "output_type": "stream",
          "name": "stdout",
          "text": [
            "A and B are same\n"
          ]
        }
      ]
    },
    {
      "cell_type": "code",
      "source": [
        "A = 1\n",
        "B = 2\n",
        "\n",
        "if A != B:\n",
        "    print(\"A and B are not same\")\n",
        "else:\n",
        "    print(\"A and B are same\")"
      ],
      "metadata": {
        "colab": {
          "base_uri": "https://localhost:8080/"
        },
        "id": "jxeVxnGd1HAN",
        "outputId": "f75eaccd-9bd4-4c12-fc3b-f4650aac6837"
      },
      "execution_count": null,
      "outputs": [
        {
          "output_type": "stream",
          "name": "stdout",
          "text": [
            "A and B are not same\n"
          ]
        }
      ]
    },
    {
      "cell_type": "code",
      "source": [
        "A = \"Sunny\"\n",
        "B = \"Sunny\"\n",
        "\n",
        "A is B"
      ],
      "metadata": {
        "colab": {
          "base_uri": "https://localhost:8080/"
        },
        "id": "5jChn3yI1FJu",
        "outputId": "6d95d696-1e0b-4841-f5ca-3ced03fb67bb"
      },
      "execution_count": null,
      "outputs": [
        {
          "output_type": "execute_result",
          "data": {
            "text/plain": [
              "True"
            ]
          },
          "metadata": {},
          "execution_count": 8
        }
      ]
    },
    {
      "cell_type": "code",
      "source": [
        "A = [\"Sunny\", \"Rishav\"]  # list data structure # array in other language\n",
        "B = [\"Sunny\", \"Rishav\"]  # list data structure\n",
        "\n",
        "A is B"
      ],
      "metadata": {
        "colab": {
          "base_uri": "https://localhost:8080/"
        },
        "id": "ytXuw9pw1Tvd",
        "outputId": "c5d4ddfe-498c-4b7b-c153-4afec99c6045"
      },
      "execution_count": null,
      "outputs": [
        {
          "output_type": "execute_result",
          "data": {
            "text/plain": [
              "False"
            ]
          },
          "metadata": {},
          "execution_count": 9
        }
      ]
    },
    {
      "cell_type": "code",
      "source": [
        "A == B"
      ],
      "metadata": {
        "colab": {
          "base_uri": "https://localhost:8080/"
        },
        "id": "cGPJ88jQ1Jkt",
        "outputId": "bb538424-949c-49a2-ea01-0737ed1ef1ec"
      },
      "execution_count": null,
      "outputs": [
        {
          "output_type": "execute_result",
          "data": {
            "text/plain": [
              "True"
            ]
          },
          "metadata": {},
          "execution_count": 10
        }
      ]
    },
    {
      "cell_type": "code",
      "source": [
        "id(A)"
      ],
      "metadata": {
        "colab": {
          "base_uri": "https://localhost:8080/"
        },
        "id": "-GUGelAw1agO",
        "outputId": "d9834e3d-361b-43b2-cb6f-5fb88a64ab94"
      },
      "execution_count": null,
      "outputs": [
        {
          "output_type": "execute_result",
          "data": {
            "text/plain": [
              "139730614255280"
            ]
          },
          "metadata": {},
          "execution_count": 11
        }
      ]
    },
    {
      "cell_type": "code",
      "source": [
        "id(B)"
      ],
      "metadata": {
        "colab": {
          "base_uri": "https://localhost:8080/"
        },
        "id": "Xln9q3nM1X1u",
        "outputId": "b21e23ba-6aa4-4bd1-ec75-de5f69851c9f"
      },
      "execution_count": null,
      "outputs": [
        {
          "output_type": "execute_result",
          "data": {
            "text/plain": [
              "139730614236576"
            ]
          },
          "metadata": {},
          "execution_count": 12
        }
      ]
    },
    {
      "cell_type": "code",
      "source": [
        "A = int(input(\"Enter the value of A: \"))\n",
        "B = int(input(\"Enter the value of B: \"))\n",
        "\n",
        "A is B"
      ],
      "metadata": {
        "colab": {
          "base_uri": "https://localhost:8080/"
        },
        "id": "5dUMDYyr1dQd",
        "outputId": "153a73b8-d5bf-4979-ffa5-32d9061fe81a"
      },
      "execution_count": null,
      "outputs": [
        {
          "name": "stdout",
          "output_type": "stream",
          "text": [
            "Enter the value of A: 1\n",
            "Enter the value of B: 1\n"
          ]
        },
        {
          "output_type": "execute_result",
          "data": {
            "text/plain": [
              "True"
            ]
          },
          "metadata": {},
          "execution_count": 13
        }
      ]
    },
    {
      "cell_type": "code",
      "source": [
        "A = 1\n",
        "B = int(input(\"Enter the value of B: \"))\n",
        "\n",
        "A is B"
      ],
      "metadata": {
        "colab": {
          "base_uri": "https://localhost:8080/"
        },
        "id": "BSIAgo211zau",
        "outputId": "51bf197f-f4fb-4d3f-89eb-ff7157904bb8"
      },
      "execution_count": null,
      "outputs": [
        {
          "name": "stdout",
          "output_type": "stream",
          "text": [
            "Enter the value of B: 1\n"
          ]
        },
        {
          "output_type": "execute_result",
          "data": {
            "text/plain": [
              "True"
            ]
          },
          "metadata": {},
          "execution_count": 14
        }
      ]
    },
    {
      "cell_type": "code",
      "source": [
        "name = input(\"Enter your name: \")\n",
        "\n",
        "if name == \"Sunny Bhaveen Chandra\":\n",
        "    print(f\"He is the mentor\")\n",
        "else:\n",
        "    print(f\"Its possible that he/she is a student\")"
      ],
      "metadata": {
        "colab": {
          "base_uri": "https://localhost:8080/"
        },
        "id": "xbBB4CY316p9",
        "outputId": "bc26cf53-16d3-40f2-d820-5a6e276c20fc"
      },
      "execution_count": null,
      "outputs": [
        {
          "output_type": "stream",
          "name": "stdout",
          "text": [
            "Enter your name: Sunny Bhaveen Chandra\n",
            "He is the mentor\n"
          ]
        }
      ]
    },
    {
      "cell_type": "code",
      "source": [
        "name = input(\"Enter your name: \")\n",
        "\n",
        "if name == \"Sunny Bhaveen Chandra\":\n",
        "    print(f\"He is the mentor\")\n",
        "else:\n",
        "    print(f\"Its possible that he/she is a student\")"
      ],
      "metadata": {
        "colab": {
          "base_uri": "https://localhost:8080/"
        },
        "id": "V_dczOLS2s0d",
        "outputId": "ee487c87-4e07-4658-a235-b70e719ae0d6"
      },
      "execution_count": null,
      "outputs": [
        {
          "output_type": "stream",
          "name": "stdout",
          "text": [
            "Enter your name: Rajat\n",
            "Its possible that he/she is a student\n"
          ]
        }
      ]
    },
    {
      "cell_type": "code",
      "source": [
        "name = input(\"Enter your name: \")\n",
        "\n",
        "if name == \"Sunny Bhaveen Chandra\":\n",
        "    print(\"He is the mentor\")\n",
        "else:\n",
        "    print(\"Its possible that he/she is a student\")"
      ],
      "metadata": {
        "colab": {
          "base_uri": "https://localhost:8080/"
        },
        "id": "3TdAlHNe24al",
        "outputId": "f2dc9525-2119-4465-b07a-f5d764075a9d"
      },
      "execution_count": null,
      "outputs": [
        {
          "output_type": "stream",
          "name": "stdout",
          "text": [
            "Enter your name: Sunny Chandra\n",
            "Its possible that he/she is a student\n"
          ]
        }
      ]
    },
    {
      "cell_type": "code",
      "source": [
        "name = input(\"Enter your name: \")\n",
        "\n",
        "if name == \"Sunny Bhaveen Chandra\":\n",
        "    print(f\"He is the mentor\")\n",
        "else:\n",
        "    print(f\"Its possible that he/she is a student\")"
      ],
      "metadata": {
        "colab": {
          "base_uri": "https://localhost:8080/"
        },
        "id": "-SMfQYfy3Kh1",
        "outputId": "2016eb5c-e4d6-47b8-9d0b-334f5c33d46b"
      },
      "execution_count": null,
      "outputs": [
        {
          "output_type": "stream",
          "name": "stdout",
          "text": [
            "Enter your name: sunny bhaveen chandra\n",
            "Its possible that he/she is a student\n"
          ]
        }
      ]
    },
    {
      "cell_type": "markdown",
      "source": [
        "### Comparision\n",
        "\n",
        "Operation | Meaning\n",
        "- | -\n",
        "< | A < B \n",
        "<= | A <= B\n",
        "> | A > B \n",
        ">= | A >= B"
      ],
      "metadata": {
        "id": "ZatlsrUZ3Znv"
      }
    },
    {
      "cell_type": "code",
      "source": [],
      "metadata": {
        "id": "tykgcctw3HXe"
      },
      "execution_count": null,
      "outputs": []
    },
    {
      "cell_type": "code",
      "source": [],
      "metadata": {
        "id": "9t2d-3Yu3WfH"
      },
      "execution_count": null,
      "outputs": []
    },
    {
      "cell_type": "code",
      "source": [
        "START=True\n",
        "print(START)"
      ],
      "metadata": {
        "colab": {
          "base_uri": "https://localhost:8080/"
        },
        "id": "ootiF7iQS03u",
        "outputId": "3d3c78b6-eb20-43a5-d004-0f671459356a"
      },
      "execution_count": null,
      "outputs": [
        {
          "output_type": "stream",
          "name": "stdout",
          "text": [
            "True\n"
          ]
        }
      ]
    },
    {
      "cell_type": "code",
      "source": [
        "START=True\n",
        "print(not START)"
      ],
      "metadata": {
        "colab": {
          "base_uri": "https://localhost:8080/"
        },
        "id": "yph0wDNFUrEL",
        "outputId": "1667cb81-9a91-4ef0-e4ef-e3a10adde530"
      },
      "execution_count": null,
      "outputs": [
        {
          "output_type": "stream",
          "name": "stdout",
          "text": [
            "False\n"
          ]
        }
      ]
    },
    {
      "cell_type": "code",
      "execution_count": null,
      "metadata": {
        "colab": {
          "base_uri": "https://localhost:8080/"
        },
        "id": "wcwdcr-7ty8y",
        "outputId": "2f3b1d50-0ed2-48ff-d484-d7a5663f1e99"
      },
      "outputs": [
        {
          "output_type": "stream",
          "name": "stdout",
          "text": [
            "We can Travel 100Kms :\n"
          ]
        }
      ],
      "source": [
        "car = False\n",
        "bike= True\n",
        " \n",
        "if car or bike:\n",
        "  print(\"We can Travel 100Kms :\")\n",
        "else:\n",
        "  print(\"We can't\")"
      ]
    }
  ]
}