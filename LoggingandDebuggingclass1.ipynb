{
 "cells": [
  {
   "cell_type": "code",
   "execution_count": 1,
   "metadata": {},
   "outputs": [
    {
     "name": "stdout",
     "output_type": "stream",
     "text": [
      "30\n",
      "_____\n",
      "10\n",
      "____\n",
      "200\n",
      "_____\n",
      "2.0\n"
     ]
    }
   ],
   "source": [
    "def add(x,y):\n",
    "    return x+y\n",
    "\n",
    "def subtract(x,y):\n",
    "    return x-y\n",
    "\n",
    "def multiply(x,y):\n",
    "    return x*y\n",
    "\n",
    "def divide(x,y):\n",
    "    return x/y\n",
    "\n",
    "num_1 = 20\n",
    "num_2 = 10\n",
    "\n",
    "add_result = add(num_1,num_2)\n",
    "print(add_result)\n",
    "print(\"_____\")\n",
    "sub_result = subtract(num_1,num_2)\n",
    "print(sub_result)\n",
    "print(\"____\")\n",
    "mul_result = multiply(num_1,num_2)\n",
    "print(mul_result)\n",
    "print(\"_____\")\n",
    "div_result = divide(num_1,num_2)\n",
    "print(div_result)"
   ]
  },
  {
   "cell_type": "code",
   "execution_count": 2,
   "metadata": {},
   "outputs": [],
   "source": [
    "import logging\n",
    "\n",
    "def add(x,y):\n",
    "    return x+y\n",
    "\n",
    "def subtract(x,y):\n",
    "    return x-y\n",
    "\n",
    "def multiply(x,y):\n",
    "    return x*y\n",
    "\n",
    "def divide(x,y):\n",
    "    return x/y\n",
    "\n",
    "num_1 = 20\n",
    "num_2 = 10\n",
    "\n",
    "add_result = add(num_1,num_2)\n",
    "logging.debug(add_result)\n",
    "\n",
    "sub_result = subtract(num_1,num_2)\n",
    "logging.debug(sub_result)\n",
    "\n",
    "mul_result = multiply(num_1,num_2)\n",
    "logging.debug(mul_result)\n",
    "\n",
    "div_result = divide(num_1,num_2)\n",
    "logging.debug(div_result)\n"
   ]
  },
  {
   "cell_type": "code",
   "execution_count": 3,
   "metadata": {},
   "outputs": [],
   "source": [
    "import logging"
   ]
  },
  {
   "cell_type": "code",
   "execution_count": 4,
   "metadata": {},
   "outputs": [],
   "source": [
    "logging.info(\"This is info\")"
   ]
  },
  {
   "cell_type": "code",
   "execution_count": 5,
   "metadata": {},
   "outputs": [],
   "source": [
    "import logging\n",
    "\n",
    "logging.basicConfig(level = logging.debug) # basicConfig: Configure the logging\n",
    "\n",
    "def add(x,y):\n",
    "    return x+y\n",
    "\n",
    "def subtract(x,y):\n",
    "    return x-y\n",
    "\n",
    "def multiply(x,y):\n",
    "    return x*y\n",
    "\n",
    "def divide(x,y):\n",
    "    return x/y\n",
    "\n",
    "num_1 = 20\n",
    "num_2 = 10\n",
    "\n",
    "add_result = add(num_1,num_2)\n",
    "logging.debug(add_result)\n",
    "\n",
    "sub_result = subtract(num_1,num_2)\n",
    "logging.info(sub_result)\n",
    "\n",
    "mul_result = multiply(num_1,num_2)\n",
    "logging.debug(mul_result)\n",
    "\n",
    "div_result = divide(num_1,num_2)\n",
    "logging.debug(div_result)\n"
   ]
  },
  {
   "cell_type": "code",
   "execution_count": 6,
   "metadata": {},
   "outputs": [
    {
     "name": "stderr",
     "output_type": "stream",
     "text": [
      "WARNING:root:200\n",
      "CRITICAL:root:2.0\n"
     ]
    }
   ],
   "source": [
    "import logging\n",
    "\n",
    "logging.basicConfig(filename = 'test1.log',level = logging.INFO) # basicConfig: Configure the logging\n",
    "\n",
    "def add(x,y):\n",
    "    return x+y\n",
    "\n",
    "def subtract(x,y):\n",
    "    return x-y\n",
    "\n",
    "def multiply(x,y):\n",
    "    return x*y\n",
    "\n",
    "def divide(x,y):\n",
    "    return x/y\n",
    "\n",
    "num_1 = 20\n",
    "num_2 = 10\n",
    "\n",
    "add_result = add(num_1,num_2)\n",
    "logging.debug(add_result)\n",
    "\n",
    "sub_result = subtract(num_1,num_2)\n",
    "logging.info(sub_result)\n",
    "\n",
    "mul_result = multiply(num_1,num_2)\n",
    "logging.warning(mul_result)\n",
    "\n",
    "div_result = divide(num_1,num_2)\n",
    "logging.critical(div_result)\n"
   ]
  },
  {
   "attachments": {},
   "cell_type": "markdown",
   "metadata": {},
   "source": [
    "### Check name"
   ]
  },
  {
   "cell_type": "code",
   "execution_count": 7,
   "metadata": {},
   "outputs": [],
   "source": [
    "import logging\n",
    "\n",
    "logging.basicConfig(level = logging.DEBUG)\n",
    "\n",
    "def namecheck(name):\n",
    "    if len(name) < 2:\n",
    "        print(\"Check for name length\")\n",
    "        return \"Invalid Name\"\n",
    "    elif name.isspace():\n",
    "        print(\"Check for name space\")\n",
    "        return \"Invalid Name\"\n",
    "    elif name.isalpha():\n",
    "        print(\"Check for name is alphabet\")\n",
    "        return \"Valid Name\"\n",
    "    elif name.replace(' ','').isalpha():\n",
    "        print(\"Check for full name\")\n",
    "        return \"Valid Name\"\n",
    "    else:\n",
    "        print(\"Failed all Checks\")\n",
    "        return \"Invalid name\""
   ]
  },
  {
   "cell_type": "code",
   "execution_count": 8,
   "metadata": {},
   "outputs": [
    {
     "name": "stdout",
     "output_type": "stream",
     "text": [
      "Check for name is alphabet\n",
      "Valid Name\n"
     ]
    }
   ],
   "source": [
    "print(namecheck('rajat'))"
   ]
  },
  {
   "cell_type": "code",
   "execution_count": 9,
   "metadata": {},
   "outputs": [
    {
     "name": "stdout",
     "output_type": "stream",
     "text": [
      "Check for full name\n",
      "Valid Name\n"
     ]
    }
   ],
   "source": [
    "print(namecheck('rajat bisoe'))"
   ]
  },
  {
   "cell_type": "code",
   "execution_count": 10,
   "metadata": {},
   "outputs": [
    {
     "name": "stdout",
     "output_type": "stream",
     "text": [
      "Failed all Checks\n",
      "Invalid name\n"
     ]
    }
   ],
   "source": [
    "print(namecheck('rajat123'))"
   ]
  },
  {
   "attachments": {},
   "cell_type": "markdown",
   "metadata": {},
   "source": [
    "### Different Format"
   ]
  },
  {
   "cell_type": "code",
   "execution_count": 11,
   "metadata": {},
   "outputs": [
    {
     "name": "stderr",
     "output_type": "stream",
     "text": [
      "WARNING:root:200\n",
      "CRITICAL:root:2.0\n"
     ]
    }
   ],
   "source": [
    "import logging\n",
    "\n",
    "logging.basicConfig(filename = 'test22.log',level = logging.INFO,format = '%(asctime)s - %(levelname)s - %(message)s') \n",
    "\n",
    "def add(x,y):\n",
    "    return x+y\n",
    "\n",
    "def subtract(x,y):\n",
    "    return x-y\n",
    "\n",
    "def multiply(x,y):\n",
    "    return x*y\n",
    "\n",
    "def divide(x,y):\n",
    "    return x/y\n",
    "\n",
    "num_1 = 20\n",
    "num_2 = 10\n",
    "\n",
    "add_result = add(num_1,num_2)\n",
    "logging.debug(add_result)\n",
    "\n",
    "sub_result = subtract(num_1,num_2)\n",
    "logging.info(sub_result)\n",
    "\n",
    "mul_result = multiply(num_1,num_2)\n",
    "logging.warning(mul_result)\n",
    "\n",
    "div_result = divide(num_1,num_2)\n",
    "logging.critical(div_result)\n"
   ]
  },
  {
   "cell_type": "code",
   "execution_count": null,
   "metadata": {},
   "outputs": [],
   "source": []
  }
 ],
 "metadata": {
  "kernelspec": {
   "display_name": "Python 3",
   "language": "python",
   "name": "python3"
  },
  "language_info": {
   "codemirror_mode": {
    "name": "ipython",
    "version": 3
   },
   "file_extension": ".py",
   "mimetype": "text/x-python",
   "name": "python",
   "nbconvert_exporter": "python",
   "pygments_lexer": "ipython3",
   "version": "3.11.1"
  },
  "orig_nbformat": 4,
  "vscode": {
   "interpreter": {
    "hash": "8e5c125784d45a8dea42e807f07f9302b86f571c035b8eb88ba7ceb058367caf"
   }
  }
 },
 "nbformat": 4,
 "nbformat_minor": 2
}
